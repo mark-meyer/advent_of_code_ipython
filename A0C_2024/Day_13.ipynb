{
 "cells": [
  {
   "cell_type": "code",
   "execution_count": 1,
   "id": "5ba1178b-f2f4-4424-b8a1-ca091a008425",
   "metadata": {},
   "outputs": [],
   "source": [
    "import re\n",
    "from typing import NamedTuple\n",
    "import numpy as np\n"
   ]
  },
  {
   "cell_type": "code",
   "execution_count": 2,
   "id": "41e5d869-4d18-4009-ac6c-ca4a12a841d8",
   "metadata": {},
   "outputs": [],
   "source": [
    "# 3 tokens for A, 1 token for B\n",
    "def parse(s):\n",
    "    groups = s.split('\\n\\n')\n",
    "    machines = [re.findall(r'(\\d+).*?(\\d+)', machine) for machine in groups]\n",
    "    return np.array( [\n",
    "        [[int(a), int(b)] for a,b in line]\n",
    "    for line in machines\n",
    "    ])\n"
   ]
  },
  {
   "cell_type": "markdown",
   "id": "8bfdf3c3-3fe7-486a-a7ee-5319fa4d141b",
   "metadata": {},
   "source": [
    "## Part One\n",
    "\n",
    "Solve the linear equation throwing out any that are not close enough to integers."
   ]
  },
  {
   "cell_type": "code",
   "execution_count": 3,
   "id": "62591114-0eb7-4343-9471-bf3b55ebe908",
   "metadata": {},
   "outputs": [],
   "source": [
    "def np_solve(v1, v2, B):\n",
    "    A = np.column_stack((v1, v2))    \n",
    "    n = np.linalg.solve(A, B)\n",
    "    \n",
    "    c_final = n[0] * v1 + n[1] * v2\n",
    "    \n",
    "    if np.allclose(n, n.round()):\n",
    "        n = n.round().astype(int)\n",
    "        return  3*n[0] + n[1]\n",
    "    else:\n",
    "        return 0"
   ]
  },
  {
   "cell_type": "code",
   "execution_count": 4,
   "id": "88381323-b3f1-49b5-bc8c-6cc5a66edb2f",
   "metadata": {},
   "outputs": [
    {
     "data": {
      "text/plain": [
       "480"
      ]
     },
     "execution_count": 4,
     "metadata": {},
     "output_type": "execute_result"
    }
   ],
   "source": [
    "sample = '''Button A: X+94, Y+34\n",
    "Button B: X+22, Y+67\n",
    "Prize: X=8400, Y=5400\n",
    "\n",
    "Button A: X+26, Y+66\n",
    "Button B: X+67, Y+21\n",
    "Prize: X=12748, Y=12176\n",
    "\n",
    "Button A: X+17, Y+86\n",
    "Button B: X+84, Y+37\n",
    "Prize: X=7870, Y=6450\n",
    "\n",
    "Button A: X+69, Y+23\n",
    "Button B: X+27, Y+71\n",
    "Prize: X=18641, Y=10279'''\n",
    "\n",
    "sample_machines = parse(sample)\n",
    "sum(np_solve(*machine) for machine in sample_machines)"
   ]
  },
  {
   "cell_type": "code",
   "execution_count": 5,
   "id": "d4b705b5-28e7-4dd9-961f-e3dc298575d3",
   "metadata": {},
   "outputs": [],
   "source": [
    "with open('input_files/13.txt') as f:\n",
    "    raw_inpit = f.read()\n",
    "\n",
    "machines = parse(raw_inpit)"
   ]
  },
  {
   "cell_type": "code",
   "execution_count": 6,
   "id": "200dbb98-6fb7-472d-a09d-97f82f80af19",
   "metadata": {},
   "outputs": [
    {
     "data": {
      "text/plain": [
       "35729"
      ]
     },
     "execution_count": 6,
     "metadata": {},
     "output_type": "execute_result"
    }
   ],
   "source": [
    "sum(np_solve(*machine) for machine in machines)"
   ]
  },
  {
   "cell_type": "markdown",
   "id": "7639aca4-1a61-4ff7-9375-aa189455fff9",
   "metadata": {},
   "source": [
    "## Part Two\n",
    "\n",
    "Well…the above won't work for part two because of precision issues with the huge numbers and numerical solutions using np.linalg.solve().\n",
    "\n",
    "The buttons A and B always have linearly independent vectors. This should simplify things since it means there is one integer solution — it's basically skewed manhattan distance (we don't need to even look for the minimum).\n"
   ]
  },
  {
   "cell_type": "code",
   "execution_count": 7,
   "id": "9920181c-4e89-4967-a639-8b24b7a4424f",
   "metadata": {},
   "outputs": [],
   "source": [
    "big_machines = machines.copy()\n",
    "big_machines[:,2] += np.array([10000000000000, 10000000000000])"
   ]
  },
  {
   "cell_type": "markdown",
   "id": "80e22fe8-9b79-471d-8671-33a4ff76a9e1",
   "metadata": {},
   "source": [
    "The plan is to view this as aA + bB = C for buttons A, B, and destination C. We can solve the congruence for a or b and use that to identify the unique solution for b. The input is desgined in a _very_ specific way to allow this. \n",
    "\n",
    "See also: https://en.wikipedia.org/wiki/Extended_Euclidean_algorithm\n",
    "\n"
   ]
  },
  {
   "cell_type": "code",
   "execution_count": 8,
   "id": "33da2fbc-84d5-4ba3-907b-e920fa79cf5b",
   "metadata": {},
   "outputs": [],
   "source": [
    "def coef_gcd(a, b):\n",
    "    '''\n",
    "    Need a little more than math.gcd gives. To solve equations below we need x and y\n",
    "    that allows xa + yb = gcd(a,b) where a and b are a column of the button vectors\n",
    "    '''\n",
    "    if b == 0:\n",
    "        return (a, 1, 0)\n",
    "    else:\n",
    "        g, x, y = coef_gcd(b, a % b)\n",
    "        return (g, y, x - (a // b) * y)\n",
    "\n",
    "def solve_linear_congruence(A, B, C):\n",
    "    \"\"\"\n",
    "    Solves the congruence a * A.row ≡ C.row (mod B.row):\n",
    "    \"\"\"\n",
    "    g, x, y = coef_gcd(A[0], B[0])\n",
    "\n",
    "    # if c is not divisible by g there's no solution\n",
    "    if C[0] % g != 0:\n",
    "        return None  \n",
    "    \n",
    "    x *= C[0] // g\n",
    "    base = B[0] // g\n",
    "    x = x % base\n",
    "    return (g, x, base)\n",
    "\n",
    "def part_two(machine):\n",
    "    A, B, C = machine\n",
    "    \n",
    "    cong_sol = solve_linear_congruence(A, B, C)\n",
    "\n",
    "    if cong_sol is None: # No solution if the dest is not divisible by gcd a,b\n",
    "        return None\n",
    "    \n",
    "    g, x, base = cong_sol\n",
    "\n",
    "    # we know the buttons are independent and the determinants\n",
    "    # will be not be zero. Otherwise there would be infinite (or no) solutions.\n",
    "    D = A[1] * B[0] - A[0] * B[1]\n",
    "    E = C[1] * B[0] - C[0] * B[1]\n",
    "\n",
    "    # We want z where z = (E - x * D) / (base * D)\n",
    "    # Not sure this is guaranteed to work in general …🤞\n",
    "    numerator = E - x * D\n",
    "    denom = base * D\n",
    "    \n",
    "    # Solution is only possible if numerator is divisible by denominator \n",
    "    if numerator % denom != 0:\n",
    "        return None\n",
    "\n",
    "    k = numerator // denom\n",
    "        \n",
    "    a = x + k * base\n",
    "    b = (C[0] - a * A[0]) // B[0]\n",
    "            \n",
    "    return 3 * a + b\n"
   ]
  },
  {
   "cell_type": "code",
   "execution_count": 9,
   "id": "e309dd58-c485-4676-817b-94af1eb9e299",
   "metadata": {},
   "outputs": [
    {
     "name": "stdout",
     "output_type": "stream",
     "text": [
      "Part two: 88584689879723\n"
     ]
    }
   ],
   "source": [
    "min_cost = sum(filter(None, (part_two(machine) for machine in big_machines)))\n",
    "\n",
    "print(\"Part two:\", min_cost)"
   ]
  },
  {
   "cell_type": "code",
   "execution_count": null,
   "id": "247ef68a-a3ed-402f-b2e9-2fea0e8daed5",
   "metadata": {},
   "outputs": [],
   "source": []
  }
 ],
 "metadata": {
  "kernelspec": {
   "display_name": "Python 3 (ipykernel)",
   "language": "python",
   "name": "python3"
  },
  "language_info": {
   "codemirror_mode": {
    "name": "ipython",
    "version": 3
   },
   "file_extension": ".py",
   "mimetype": "text/x-python",
   "name": "python",
   "nbconvert_exporter": "python",
   "pygments_lexer": "ipython3",
   "version": "3.10.12"
  }
 },
 "nbformat": 4,
 "nbformat_minor": 5
}
