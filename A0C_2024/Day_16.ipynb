{
 "cells": [
  {
   "cell_type": "code",
   "execution_count": 1,
   "id": "f7a06e15-08c3-4227-bb7f-0bd54924f035",
   "metadata": {},
   "outputs": [],
   "source": [
    "from typing import NamedTuple\n",
    "from heapq import heappop, heappush\n"
   ]
  },
  {
   "cell_type": "code",
   "execution_count": 2,
   "id": "73b6b9df-97d6-4970-a1a3-c29bb7ea9eaf",
   "metadata": {},
   "outputs": [],
   "source": [
    "sample='''#################\n",
    "#...#...#...#..E#\n",
    "#.#.#.#.#.#.#.#.#\n",
    "#.#.#.#...#...#.#\n",
    "#.#.#.#.###.#.#.#\n",
    "#...#.#.#.....#.#\n",
    "#.#.#.#.#.#####.#\n",
    "#.#...#.#.#.....#\n",
    "#.#.#####.#.###.#\n",
    "#.#.#.......#...#\n",
    "#.#.###.#####.###\n",
    "#.#.#...#.....#.#\n",
    "#.#.#.#####.###.#\n",
    "#.#.#.........#.#\n",
    "#.#.#.#########.#\n",
    "#S#.............#\n",
    "#################'''.split('\\n')\n"
   ]
  },
  {
   "cell_type": "code",
   "execution_count": 32,
   "id": "4e820528-d193-4320-a967-f9cf16c3668a",
   "metadata": {},
   "outputs": [],
   "source": [
    "\n",
    "class Point(NamedTuple):\n",
    "    row: int\n",
    "    col: int\n",
    "\n",
    "    def __add__(self, other):\n",
    "        return Point(self.row + other.row, self.col + other.col)\n",
    "    \n",
    "\n",
    "class GraphNode(NamedTuple):\n",
    "    location: Point\n",
    "    direction: Point\n",
    "\n",
    "class Map:\n",
    "    directions = [\n",
    "        Point(0, 1),\n",
    "        Point(0, -1),\n",
    "        Point(-1, 0),\n",
    "        Point(1, 0)\n",
    "    ]   \n",
    "    \n",
    "    def __init__(self, s):\n",
    "        self.map = s\n",
    "        for row, line in enumerate(s):\n",
    "            for col, c in enumerate(line):\n",
    "                if c == '#':\n",
    "                    continue\n",
    "                if c == 'S':\n",
    "                    self.start = GraphNode(Point(row, col), Point(0, 1)) # facing east\n",
    "                if c == 'E':\n",
    "                    self.end = Point(row, col)\n",
    "                    \n",
    "\n",
    "    def path(self, start):\n",
    "        '''\n",
    "        Rock on Dijkstra!\n",
    "        '''\n",
    "            \n",
    "        h = [(0, start, set(m.start))] # min heap cost, graph_node, history\n",
    "        distances = {start: 0}         # {GraphNode: (cost)}\n",
    "\n",
    "        min_cost = float('inf')\n",
    "\n",
    "        # store best seats for part 2\n",
    "        visited = set()\n",
    "        \n",
    "        while len(h):\n",
    "            cost, current_node, history = heappop(h)\n",
    "            if current_node.location == self.end:\n",
    "                if cost <= min_cost:\n",
    "                    visited.update(history)\n",
    "                    min_cost = cost\n",
    "                else:\n",
    "                    return min_cost, visited\n",
    "    \n",
    "            for direction in Map.directions:\n",
    "                propsed_point = current_node.location + direction\n",
    "                if self.map[propsed_point.row][propsed_point.col] == '#':\n",
    "                    continue\n",
    "\n",
    "                # Add turn nodes\n",
    "                if direction != current_node.direction:\n",
    "                    next_cost  = 1000 + cost\n",
    "                    next_node = GraphNode(current_node.location, direction)\n",
    "                else:\n",
    "                    next_cost = 1 + cost\n",
    "                    next_node = GraphNode(propsed_point, current_node.direction)\n",
    "                    \n",
    "                if next_cost <= distances.setdefault(next_node, float('inf')):\n",
    "                    heappush(h, (next_cost, next_node, history | set([current_node.location])))\n",
    "                    distances[next_node] = next_cost\n",
    "                    \n",
    "        \n",
    "        return \"solution not found\"\n"
   ]
  },
  {
   "cell_type": "code",
   "execution_count": 34,
   "id": "4eb10877-5cdd-4563-9e7c-dc43d7664441",
   "metadata": {},
   "outputs": [
    {
     "data": {
      "text/plain": [
       "(11048, 64)"
      ]
     },
     "execution_count": 34,
     "metadata": {},
     "output_type": "execute_result"
    }
   ],
   "source": [
    "m = Map(sample)\n",
    "cost, visited = m.path(m.start)\n",
    "cost, len(visited)"
   ]
  },
  {
   "cell_type": "code",
   "execution_count": 25,
   "id": "8b4e6344-d007-47c4-9121-24deac79c317",
   "metadata": {},
   "outputs": [],
   "source": [
    "with open('input_files/16.txt') as f:\n",
    "    raw = f.read().splitlines()"
   ]
  },
  {
   "cell_type": "code",
   "execution_count": 36,
   "id": "eca19082-ac51-4e82-b524-39933bd7214c",
   "metadata": {},
   "outputs": [
    {
     "name": "stdout",
     "output_type": "stream",
     "text": [
      "part one: 109516\n",
      "part two: 568\n"
     ]
    }
   ],
   "source": [
    "m = Map(raw)\n",
    "cost, visited = m.path(m.start)\n",
    "\n",
    "print(\"part one:\", cost) \n",
    "print(\"part two:\", len(visited))"
   ]
  },
  {
   "cell_type": "code",
   "execution_count": null,
   "id": "2d81e284-a1c6-4174-a470-f81abb910733",
   "metadata": {},
   "outputs": [],
   "source": []
  }
 ],
 "metadata": {
  "kernelspec": {
   "display_name": "Python 3 (ipykernel)",
   "language": "python",
   "name": "python3"
  },
  "language_info": {
   "codemirror_mode": {
    "name": "ipython",
    "version": 3
   },
   "file_extension": ".py",
   "mimetype": "text/x-python",
   "name": "python",
   "nbconvert_exporter": "python",
   "pygments_lexer": "ipython3",
   "version": "3.10.12"
  }
 },
 "nbformat": 4,
 "nbformat_minor": 5
}
