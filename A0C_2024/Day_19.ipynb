{
 "cells": [
  {
   "cell_type": "code",
   "execution_count": 65,
   "id": "5c34e65d-05cd-4dad-80ee-8396aee7d10f",
   "metadata": {},
   "outputs": [],
   "source": [
    "from functools import cache"
   ]
  },
  {
   "cell_type": "code",
   "execution_count": 66,
   "id": "bdb43a13-3049-4646-a674-4f08789dd61f",
   "metadata": {},
   "outputs": [],
   "source": [
    "def parse(inp):\n",
    "    stripes, towels = inp.split('\\n\\n')\n",
    "    stripes = stripes.split(', ')\n",
    "    towels = towels.split('\\n')\n",
    "    return stripes, towels"
   ]
  },
  {
   "cell_type": "markdown",
   "id": "80261bd3-5113-4dcf-b3cb-fe0c3049d87f",
   "metadata": {},
   "source": [
    "## Prefix Tree\n",
    "\n",
    "Maybe overkill, but lets do a trie to lookup the prefixes. Uses `word` as a sentinel value for the end of strings."
   ]
  },
  {
   "cell_type": "code",
   "execution_count": 83,
   "id": "52d85cea-8b4f-41bd-893c-23a0cbca6ca5",
   "metadata": {},
   "outputs": [],
   "source": [
    "class Tri:\n",
    "    def __init__(self):\n",
    "        self.tri = {}\n",
    "\n",
    "    def insert(self, word):\n",
    "        current = self.tri\n",
    "        for letter in word:\n",
    "            if letter not in current:\n",
    "                current[letter] = {}\n",
    "            current = current[letter]\n",
    "                \n",
    "        current['word'] = True\n",
    "\n",
    "    def get_prefixes(self, word):\n",
    "        prefix = ''\n",
    "        current = self.tri\n",
    "        for l in word:\n",
    "            current = current.get(l)\n",
    "            if current:\n",
    "                prefix = prefix + l\n",
    "                if 'word' in current:\n",
    "                    yield prefix\n",
    "            else:\n",
    "                return\n",
    "\n",
    "    @cache\n",
    "    def possible(self, word):\n",
    "        '''Find prefixes and recurse on remainder'''\n",
    "        if word == '':\n",
    "            return True\n",
    "        prefixes = self.get_prefixes(word)\n",
    "        return any(self.possible(word[len(p):]) for p in prefixes)\n",
    "\n",
    "    @cache\n",
    "    def count(self, word):\n",
    "        '''\n",
    "        Pretty much the same as above but count. \n",
    "        If there are no prefixes, you can't make the towel\n",
    "        this way. \n",
    "        '''\n",
    "        if word == '':\n",
    "            return 1\n",
    "        prefixes = self.get_prefixes(word)\n",
    "        if prefixes:\n",
    "            return sum(self.count(word[len(p):]) for p in prefixes)\n",
    "        return 0\n"
   ]
  },
  {
   "cell_type": "code",
   "execution_count": 84,
   "id": "19353c71-00bc-4f73-a1c2-9a01a09cba0a",
   "metadata": {},
   "outputs": [
    {
     "data": {
      "text/plain": [
       "(6, 16)"
      ]
     },
     "execution_count": 84,
     "metadata": {},
     "output_type": "execute_result"
    }
   ],
   "source": [
    "s='''r, wr, b, g, bwu, rb, gb, br\n",
    "\n",
    "brwrr\n",
    "bggr\n",
    "gbbr\n",
    "rrbgbr\n",
    "ubwu\n",
    "bwurrg\n",
    "brgr\n",
    "bbrgwb'''\n",
    "\n",
    "stripes, towels = parse(s)\n",
    "stripes, towels\n",
    "\n",
    "t = Tri()\n",
    "for stripe in stripes:\n",
    "    t.insert(stripe)\n",
    "\n",
    "\n",
    "sum([t.possible(towel) for towel in towels]), sum(t.count(towel) for towel in towels)\n"
   ]
  },
  {
   "cell_type": "code",
   "execution_count": 91,
   "id": "cc502618-34c0-4f86-906a-b2deef1d881c",
   "metadata": {},
   "outputs": [
    {
     "name": "stdout",
     "output_type": "stream",
     "text": [
      "Part one: 327\n"
     ]
    }
   ],
   "source": [
    "with open('input_files/19.txt') as f:\n",
    "    raw = f.read()\n",
    "\n",
    "stripes, towels = parse(raw)\n",
    "\n",
    "t = Tri()\n",
    "for stripe in stripes:\n",
    "    t.insert(stripe)\n",
    "    \n",
    "print(\"Part one:\", sum([t.possible(towel) for towel in towels]))"
   ]
  },
  {
   "cell_type": "code",
   "execution_count": 90,
   "id": "cd5c0247-e39f-4060-b92d-f5f6e21e897b",
   "metadata": {},
   "outputs": [
    {
     "name": "stdout",
     "output_type": "stream",
     "text": [
      "Part two: 772696486795255\n"
     ]
    }
   ],
   "source": [
    "print(\"Part two:\", sum(t.count(towel) for towel in towels))"
   ]
  },
  {
   "cell_type": "code",
   "execution_count": null,
   "id": "93675a7c-97d4-45e3-aa2f-a37606eb7b72",
   "metadata": {},
   "outputs": [],
   "source": []
  }
 ],
 "metadata": {
  "kernelspec": {
   "display_name": "Python 3 (ipykernel)",
   "language": "python",
   "name": "python3"
  },
  "language_info": {
   "codemirror_mode": {
    "name": "ipython",
    "version": 3
   },
   "file_extension": ".py",
   "mimetype": "text/x-python",
   "name": "python",
   "nbconvert_exporter": "python",
   "pygments_lexer": "ipython3",
   "version": "3.10.12"
  }
 },
 "nbformat": 4,
 "nbformat_minor": 5
}
