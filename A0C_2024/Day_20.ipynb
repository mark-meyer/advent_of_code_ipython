{
 "cells": [
  {
   "cell_type": "code",
   "execution_count": 1,
   "id": "1c3a1398-fd42-4bf7-a2f4-30a4f4b3702a",
   "metadata": {},
   "outputs": [],
   "source": [
    "from typing import NamedTuple\n",
    "from collections import deque, Counter\n",
    "from itertools import combinations"
   ]
  },
  {
   "cell_type": "markdown",
   "id": "8c5345c0-d6be-4b64-bae1-ada9838f139b",
   "metadata": {},
   "source": [
    "### Part One\n",
    "\n",
    "The plan is to perform a breadth-first search from the end and note the distance of every point on the map. Points that are not reachable from the end, or are blocks will have a distance of `inf` just to keep things simple. Also save a set of the block locations to make it easy to iterate over them.\n",
    "\n",
    "In part one, for each block, look at its neighbor points and their distance to the end. If the difference of these distances is greater than two, you can save time, but removing the blocks. This should run in reasonable linear time (not counting the BFS).\n",
    "\n",
    "### Part Two\n",
    "This worked, but is slow.\n",
    "For each path point A, compare it with all points B that are withing a manhattan distance of 20. If the A's distance to the end it longer than walking the manattan distance plus B's distance, then it's a better path and saves the difference. Could be sped up a bit by caching the the comparison since we compare A and B and later compare B and A. \n",
    "\n",
    "It seems like the input allows for some sloppiness. There are no edge cases where there is more than one path between start and end going through the same point. IOW - no branching. 🤷 I guess we should take it!\n",
    "\n"
   ]
  },
  {
   "cell_type": "code",
   "execution_count": 2,
   "id": "01b65d6b-dbde-4fd1-9d47-8ecca202620d",
   "metadata": {},
   "outputs": [],
   "source": [
    "class Point(NamedTuple):\n",
    "    row: int\n",
    "    col: int\n",
    "\n",
    "    def __add__(self, other):\n",
    "        return Point(self.row + other.row, self.col + other.col)\n",
    "\n",
    "    def m_dist(self, other):\n",
    "        '''Manhattan Distance'''\n",
    "        return abs(self.col - other.col) + abs(self.row - other.row)\n",
    "    \n",
    "\n",
    "class Map:\n",
    "    directions = [Point(0, 1),Point(0, -1),Point(-1, 0),Point(1, 0)] \n",
    "    \n",
    "    def __init__(self, s):\n",
    "        self.map = s\n",
    "\n",
    "        self.start = None\n",
    "        self.end = None\n",
    "        self.w = len(s[0])\n",
    "        self.h = len(s)\n",
    "        self.blocks = set()\n",
    "        self.distances = {}\n",
    "        \n",
    "        for row, line in enumerate(s):\n",
    "            for col, c in enumerate(line):\n",
    "                if c == '#':\n",
    "                    self.blocks.add(Point(row, col))\n",
    "                if c == 'S':\n",
    "                    self.start = Point(row, col)\n",
    "                if c == 'E':\n",
    "                    self.end = Point(row, col)\n",
    "\n",
    "    def neighbors(self, point):\n",
    "        for d in Map.directions:\n",
    "            p = point + d\n",
    "            if 0 <= p.row < self.h and 0 <= p.col < self.w and self.map[p.row][p.col] != '#':\n",
    "                yield p\n",
    "                        \n",
    "        \n",
    "    def bfs(self, start, stop):\n",
    "        seen = set([start])\n",
    "        d = deque([(start, 0)])\n",
    "        dist = None\n",
    "        while d:\n",
    "            loc, distance = d.popleft()\n",
    "\n",
    "            # Keep track of distances of every findable point\n",
    "            self.distances[loc] = distance\n",
    "            \n",
    "            if loc == stop:\n",
    "                dist =  distance\n",
    "            \n",
    "            for n in self.neighbors(loc):\n",
    "                if n in self.blocks or n in seen:\n",
    "                    continue\n",
    "                d.append((n, distance + 1))\n",
    "                seen.add(n)\n",
    "        \n",
    "        return dist\n",
    "        \n",
    "    def cheat(self, block):\n",
    "        '''return savings if the block is removed'''    \n",
    "        for a, b in (combinations(filter(lambda p: p in m.distances, self.neighbors(block)), r=2)):\n",
    "            savings = abs(self.distances[a] -  self.distances[b]) - 2\n",
    "            if savings >= 2: \n",
    "                return savings\n",
    "        return 0\n",
    "\n",
    "    def points_at_distance(self, point, d):\n",
    "        # Return all points within a manahattan distance of d from p\n",
    "        for row in range(max(0, point.row - d), min(self.h, point.row + d + 1)):\n",
    "            offset = d - abs(row - point.row)\n",
    "            for col in range(max(0, point.col - offset), min(self.w,  point.col + offset + 1)):\n",
    "                dest = Point(row, col)\n",
    "                if dest != point and dest in self.distances:\n",
    "                    yield Point(row, col)\n",
    "   \n",
    "    def cheat2(self):\n",
    "        # Find point within a 20 step manhattan distance walk \n",
    "        # if that point + the walk are closer, it's a better path\n",
    "        counts = Counter()\n",
    "        for source, dist in self.distances.items():\n",
    "            for dest in self.points_at_distance(source, 20):\n",
    "                m_dist = source.m_dist(dest)\n",
    "                if dist > self.distances[dest] + m_dist:\n",
    "                    savings = dist - (self.distances[dest] + m_dist)\n",
    "                    counts[savings] += 1\n",
    "                         \n",
    "        return counts\n",
    "\n"
   ]
  },
  {
   "cell_type": "code",
   "execution_count": 3,
   "id": "140cf1d7-ed3b-4953-abbd-801f0e9c60ca",
   "metadata": {},
   "outputs": [
    {
     "name": "stdout",
     "output_type": "stream",
     "text": [
      "14 that save 2\n",
      "14 that save 4\n",
      "2 that save 6\n",
      "4 that save 8\n",
      "2 that save 10\n",
      "3 that save 12\n",
      "1 that save 20\n",
      "1 that save 36\n",
      "1 that save 38\n",
      "1 that save 40\n",
      "1 that save 64\n"
     ]
    }
   ],
   "source": [
    "s='''###############\n",
    "#...#...#.....#\n",
    "#.#.#.#.#.###.#\n",
    "#S#...#.#.#...#\n",
    "#######.#.#.###\n",
    "#######.#.#...#\n",
    "#######.#.###.#\n",
    "###..E#...#...#\n",
    "###.#######.###\n",
    "#...###...#...#\n",
    "#.#####.#.###.#\n",
    "#.#...#.#.#...#\n",
    "#.#.#.#.#.#.###\n",
    "#...#...#...###\n",
    "###############'''.split('\\n')\n",
    "\n",
    "\n",
    "m = Map(s)\n",
    "m.bfs(m.end, m.start)\n",
    "\n",
    "from collections import Counter\n",
    "counts = Counter()\n",
    "for b in m.blocks:\n",
    "    savings =  m.cheat(b)\n",
    "    if savings:\n",
    "       counts[savings] += 1\n",
    "\n",
    "for d, count in sorted(counts.items(), key=lambda i: i[0]):\n",
    "    print(f\"{count} that save {d}\")\n"
   ]
  },
  {
   "cell_type": "code",
   "execution_count": 4,
   "id": "75d33c81-3508-40d2-817c-275d5d78b76d",
   "metadata": {},
   "outputs": [
    {
     "name": "stdout",
     "output_type": "stream",
     "text": [
      "32 that save 50\n",
      "31 that save 52\n",
      "29 that save 54\n",
      "39 that save 56\n",
      "25 that save 58\n",
      "23 that save 60\n",
      "20 that save 62\n",
      "19 that save 64\n",
      "12 that save 66\n",
      "14 that save 68\n",
      "12 that save 70\n",
      "22 that save 72\n",
      "4 that save 74\n",
      "3 that save 76\n"
     ]
    }
   ],
   "source": [
    "counts2 = m.cheat2()\n",
    "\n",
    "for d, count in sorted(counts2.items(), key=lambda i: i[0]):\n",
    "    if d >= 50:\n",
    "        print(f\"{count} that save {d}\")"
   ]
  },
  {
   "cell_type": "code",
   "execution_count": 5,
   "id": "dde0b581-512e-4348-a850-c56c4172b527",
   "metadata": {},
   "outputs": [
    {
     "name": "stdout",
     "output_type": "stream",
     "text": [
      "part one: 1426\n"
     ]
    }
   ],
   "source": [
    "with open('input_files/20.txt') as f:\n",
    "    raw = f.read().splitlines()\n",
    "\n",
    "m = Map(raw)\n",
    "m.bfs(m.end, m.start)\n",
    "count = 0\n",
    "for b in m.blocks:\n",
    "    savings = m.cheat(b)\n",
    "    if savings and savings >= 100:\n",
    "       count += 1\n",
    "\n",
    "print(\"part one:\", count)\n"
   ]
  },
  {
   "cell_type": "code",
   "execution_count": 6,
   "id": "9c89dbd7-9d45-4089-989d-7df7d48eb3a4",
   "metadata": {},
   "outputs": [],
   "source": [
    "counts2 = m.cheat2()"
   ]
  },
  {
   "cell_type": "code",
   "execution_count": 7,
   "id": "f1f52aa9-c0bb-4407-97b9-d1bd424ea186",
   "metadata": {},
   "outputs": [
    {
     "name": "stdout",
     "output_type": "stream",
     "text": [
      "part two: 1000697\n"
     ]
    }
   ],
   "source": [
    "total = 0\n",
    "for d, count in counts2.items():\n",
    "    if d >= 100:\n",
    "        total += count\n",
    "print(\"part two:\", total)"
   ]
  },
  {
   "cell_type": "code",
   "execution_count": null,
   "id": "dfac5817-21cd-452c-81e0-48700cea3e7d",
   "metadata": {},
   "outputs": [],
   "source": []
  }
 ],
 "metadata": {
  "kernelspec": {
   "display_name": "Python 3 (ipykernel)",
   "language": "python",
   "name": "python3"
  },
  "language_info": {
   "codemirror_mode": {
    "name": "ipython",
    "version": 3
   },
   "file_extension": ".py",
   "mimetype": "text/x-python",
   "name": "python",
   "nbconvert_exporter": "python",
   "pygments_lexer": "ipython3",
   "version": "3.10.12"
  }
 },
 "nbformat": 4,
 "nbformat_minor": 5
}
