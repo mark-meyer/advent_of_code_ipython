{
 "cells": [
  {
   "cell_type": "code",
   "execution_count": 1,
   "id": "527e1f28-0282-400a-be57-84aafbb20c57",
   "metadata": {},
   "outputs": [],
   "source": [
    "import re\n",
    "from operator import or_, and_, xor\n",
    "from collections import defaultdict\n",
    "from math import log2"
   ]
  },
  {
   "cell_type": "code",
   "execution_count": 2,
   "id": "1b8f473e-c0fc-43fe-ae53-cce232a010d7",
   "metadata": {},
   "outputs": [],
   "source": [
    "with open('input_files/24.txt') as f:\n",
    "    raw = f.read()\n",
    "    wires, gates = raw.split('\\n\\n')\n",
    "    wires = {k: int(v)  for (k, v) in (wire.split(': ') for wire in wires.split('\\n'))}\n",
    "\n",
    "    gates = [re.findall(r'(\\w+) (\\w+) (\\w+) -> (\\w+)', line)[0] for line in gates.split('\\n')]\n",
    "    \n",
    "G = {c:(a, b, op) for a, op, b, c in gates}"
   ]
  },
  {
   "cell_type": "code",
   "execution_count": 3,
   "id": "b9c9e486-1f04-4c13-ac06-88fea254ab14",
   "metadata": {},
   "outputs": [
    {
     "name": "stdout",
     "output_type": "stream",
     "text": [
      "Part one: 46463754151024\n"
     ]
    }
   ],
   "source": [
    "def top_sort(gates, wires):\n",
    "    '''topological sort of gates and wires'''\n",
    "    s = set(wires)\n",
    "    ordered = []\n",
    "\n",
    "    while s:\n",
    "        n = s.pop()\n",
    "\n",
    "        ordered.append(n)\n",
    "        for k, edges in gates.items():\n",
    "            if n in edges:\n",
    "                edges.remove(n)\n",
    "                if len(edges) == 0:\n",
    "                    s.add(k)      \n",
    "    return ordered\n",
    "    \n",
    "def run_graph(G, wires, debug=False):\n",
    "\n",
    "    wires = wires.copy()\n",
    "    \n",
    "    connection_graph = defaultdict(set)\n",
    "    for k, (a, b, op) in G.items():\n",
    "        connection_graph[k].update([a, b])\n",
    "        \n",
    "    order = top_sort(connection_graph, wires)\n",
    "\n",
    "    ops = {\n",
    "        'OR': or_,\n",
    "        'AND': and_,\n",
    "        'XOR': xor\n",
    "    }\n",
    "    \n",
    "    for k in order:\n",
    "        if k in wires:\n",
    "            continue\n",
    "        else: \n",
    "            a, b, op = G[k]\n",
    "            wires[k] = ops[op](wires[a], wires[b])\n",
    "    \n",
    "    zs = sorted([(wire, value) for wire, value in wires.items() if wire.startswith('z')], reverse=True)\n",
    "    xs = sorted([(wire, value) for wire, value in wires.items() if wire.startswith('x')], reverse=True)\n",
    "    ys = sorted([(wire, value) for wire, value in wires.items() if wire.startswith('y')], reverse=True)\n",
    "\n",
    "    xs = '0' + ''.join(str(n) for k, n in xs)\n",
    "    ys = '0' + ''.join(str(n) for k, n in ys)\n",
    "    zs = ''.join(str(n) for k, n in zs)\n",
    "\n",
    "    if debug:\n",
    "        return xs, ys, zs, wires\n",
    "    else:\n",
    "        return xs, ys, zs\n",
    "\n",
    "G = {c:(a, b, op) for a, op, b, c in gates}\n",
    "\n",
    "xs, ys, zs = run_graph(G, wires)\n",
    "print(\"Part one:\", int(zs, 2))"
   ]
  },
  {
   "cell_type": "markdown",
   "id": "404af622-8d3e-4a14-bb8a-ddc02a8364b1",
   "metadata": {},
   "source": [
    "### Part Two\n",
    "\n",
    "This is a binary adder. It's broken. Not sure how to do this as a programming excercies, but it's solvable as an engineering problem."
   ]
  },
  {
   "cell_type": "code",
   "execution_count": 4,
   "id": "2a79f753-776b-4535-a718-49296be00099",
   "metadata": {},
   "outputs": [
    {
     "name": "stdout",
     "output_type": "stream",
     "text": [
      "correct 1010100011110111101111011100000010010001110000\n",
      "not:    1010100100001000101111100011111010010001110000\n"
     ]
    }
   ],
   "source": [
    "G = {c:(a, b, op) for a, op, b, c in gates}\n",
    "\n",
    "xs, ys, zs = run_graph(G, wires)\n",
    "\n",
    "correct_sum = int(xs, 2) + int(ys, 2)\n",
    "correct_bin = bin(correct_sum)[2:]\n",
    "\n",
    "print(f\"correct {bin(correct_sum)[2:]:>45}\")\n",
    "print(f\"not: {zs:>49}\")\n"
   ]
  },
  {
   "cell_type": "markdown",
   "id": "af8f3991-ba92-4a7e-92ba-b83128756bcd",
   "metadata": {},
   "source": [
    "### Identify bad bits\n",
    "It's clear the problem starts with bit 15. Since this is an adder, changnig the gates contributing to bit 15 should not effect earlier bits but might change later ones. So fix from right to left."
   ]
  },
  {
   "cell_type": "code",
   "execution_count": 5,
   "id": "3ca84cb2-4497-45c1-b40f-5dba1a7533db",
   "metadata": {},
   "outputs": [
    {
     "name": "stdout",
     "output_type": "stream",
     "text": [
      "Incorrect addition of a single bit:\n",
      "15: 0000000000000000000000000000010000000000000000\n",
      "21: 0000000000000000000000010000000000000000000000\n",
      "30: 0000000000000010000000000000000000000000000000\n",
      "34: 0000000000100000000000000000000000000000000000\n",
      "Incorrect addition of multiple bits:\n",
      "15: 0000000000000000000000000000010000000000000000\n",
      "16: 0000000000000000000000000000001000000000000000\n",
      "17: 0000000000000000000000000000011000000000000000\n",
      "18: 0000000000000000000000000000111000000000000000\n",
      "19: 0000000000000000000000000001111000000000000000\n",
      "20: 0000000000000000000000000011111000000000000000\n",
      "21: 0000000000000000000000000111111000000000000000\n",
      "22: 0000000000000000000000010111111000000000000000\n",
      "23: 0000000000000000000000100111111000000000000000\n",
      "24: 0000000000000000000001000111111000000000000000\n",
      "25: 0000000000000000000010000111111000000000000000\n",
      "26: 0000000000000000000100000111111000000000000000\n",
      "27: 0000000000000000001000000111111000000000000000\n",
      "28: 0000000000000000010000000111111000000000000000\n",
      "29: 0000000000000000100000000111111000000000000000\n",
      "30: 0000000000000001000000000111111000000000000000\n",
      "31: 0000000000000011000000000111111000000000000000\n",
      "32: 0000000000000101000000000111111000000000000000\n",
      "33: 0000000000001001000000000111111000000000000000\n",
      "34: 0000000000100001000000000111111000000000000000\n",
      "35: 0000000000010001000000000111111000000000000000\n",
      "36: 0000000000110001000000000111111000000000000000\n",
      "37: 0000000001110001000000000111111000000000000000\n",
      "38: 0000000011110001000000000111111000000000000000\n",
      "39: 0000000111110001000000000111111000000000000000\n",
      "40: 0000001111110001000000000111111000000000000000\n",
      "41: 0000011111110001000000000111111000000000000000\n",
      "42: 0000111111110001000000000111111000000000000000\n",
      "43: 0001111111110001000000000111111000000000000000\n",
      "44: 0011111111110001000000000111111000000000000000\n"
     ]
    }
   ],
   "source": [
    "def make_wire(x, y):\n",
    "    '''\n",
    "    Turn a decimal number into wires dict with  x00 - x44 & y00 - y44\n",
    "    so they can be added\n",
    "    '''\n",
    "    length = 45\n",
    "    binary_string = bin(x)[2:].zfill(length)[::-1]\n",
    "    x =  {f'x{i:02}': int(bit) for i, bit in enumerate(binary_string)}\n",
    "    binary_string = bin(y)[2:].zfill(length)[::-1]\n",
    "    y =  {f'y{i:02}': int(bit) for i, bit in enumerate(binary_string)}\n",
    "    \n",
    "    return x | y\n",
    "\n",
    "print(\"Incorrect addition of a single bit:\")\n",
    "for n in range(45):\n",
    "    single_bit = make_wire(0, 2**n)\n",
    "    xs, ys, zs = run_graph(G, single_bit)\n",
    "    if int(zs, 2) != 2**n:\n",
    "        print(f\"{n}:\",  zs)\n",
    "\n",
    "print(\"Incorrect addition of multiple bits:\")\n",
    "for n in range(45):\n",
    "    single_bit = make_wire(1, 2**n-1)\n",
    "    xs, ys, zs = run_graph(G, single_bit)\n",
    "    if int(zs, 2) != 2**n:\n",
    "        print(f\"{n}:\",  zs)\n",
    "\n"
   ]
  },
  {
   "cell_type": "markdown",
   "id": "3c64f50a-e290-4859-8269-366de8030e86",
   "metadata": {},
   "source": [
    "### Isolate the gates for a specific bit\n",
    "Find all the parents in the graph contributing to a particular bit.\n",
    "To isolate just thos contibuting to the broken bit, remove the parents of the earlier bit."
   ]
  },
  {
   "cell_type": "code",
   "execution_count": 6,
   "id": "5ac0e83c-b0ca-45f8-bed7-e998514600d6",
   "metadata": {},
   "outputs": [
    {
     "name": "stdout",
     "output_type": "stream",
     "text": [
      "snp ('hhw', 'ccp', 'AND')\n",
      "hhw ('x15', 'y15', 'XOR')\n",
      "ccp ('gnp', 'qgm', 'OR')\n",
      "z15 ('snp', 'mnh', 'OR')\n",
      "qgm ('y14', 'x14', 'AND')\n",
      "mnh ('x15', 'y15', 'AND')\n",
      "gnp ('shm', 'kds', 'AND')\n",
      "y15 y15\n",
      "x15 x15\n"
     ]
    }
   ],
   "source": [
    "def find_parents(G, node):\n",
    "    stack = [node]\n",
    "    trace = set()\n",
    "    while stack:\n",
    "        key = stack.pop()\n",
    "        trace.add(key)\n",
    "        if key not in G:\n",
    "            continue\n",
    "        a, b, op = G[key]\n",
    "        stack.append(a)\n",
    "        stack.append(b)\n",
    "    return trace\n",
    "\n",
    "G = {c:(a, b, op) for a, op, b, c in gates}\n",
    "parents_15 = find_parents(G, 'z15') - find_parents(G, 'z14')\n",
    "\n",
    "for node in parents_15:\n",
    "    print(node, G.get(node, node))"
   ]
  },
  {
   "attachments": {
    "51d2a178-032d-4c41-9e63-39934d7cba12.png": {
     "image/png": "[encoded data removed]"
    }
   },
   "cell_type": "markdown",
   "id": "4ed3fd7f-c432-47bb-8a46-3f591122df75",
   "metadata": {},
   "source": [
    "#### Good node\n",
    "\n",
    "Good nodes all have the same structure, which is a [fuller adder](https://en.wikipedia.org/wiki/Adder_(electronics)#Full_adder) with 1 OR, 2, AND, and 2 XOR gates.\n",
    "\n",
    "![adder](attachment:51d2a178-032d-4c41-9e63-39934d7cba12.png)\n",
    "\n",
    "**We can see this in the good node below:**   \n",
    "- 2 inputs entering an XOR (shm: y14, x14 XOR)\n",
    "- The output coming from the second XOR (z14)\n",
    "- AND gate taking inputs from previous node to the carry (vnf)\n",
    "- etc.\n"
   ]
  },
  {
   "cell_type": "code",
   "execution_count": 7,
   "id": "2c22b842-d3b8-4f72-aa0c-082c6bce8fbc",
   "metadata": {},
   "outputs": [
    {
     "name": "stdout",
     "output_type": "stream",
     "text": [
      "vnf ('x13', 'y13', 'AND')\n",
      "kds ('vnf', 'wmm', 'OR')\n",
      "y14 y14\n",
      "wmm ('fpk', 'bkq', 'AND')\n",
      "shm ('y14', 'x14', 'XOR')\n",
      "z14 ('shm', 'kds', 'XOR')\n",
      "x14 x14\n"
     ]
    }
   ],
   "source": [
    "parents_14 = find_parents(G, 'z14') - find_parents(G, 'z13')\n",
    "\n",
    "for node in parents_14:\n",
    "    print(node, G.get(node, node))"
   ]
  },
  {
   "cell_type": "markdown",
   "id": "50b70685-dd72-4ad8-9e71-da0876c3c1a3",
   "metadata": {},
   "source": [
    "#### Bad node at bit 15\n",
    "\n",
    "The node outputting `z15` is broken, and we can see where by isolating it. z15 should be the output of an XOR gate combining the other XOR and the othre OR. \n",
    "\n",
    "Ultimatley we are only lloking for four pairs; we can search the input for gates with `hhw` as part of an XOR. There's only one.\n",
    "\n",
    "```\n",
    "ccp XOR hhw -> fph\n",
    "```\n",
    "\n",
    "Swapping this fixes this output:"
   ]
  },
  {
   "cell_type": "code",
   "execution_count": 8,
   "id": "a30d9387-1a01-428b-a888-991f955d8f07",
   "metadata": {},
   "outputs": [
    {
     "name": "stdout",
     "output_type": "stream",
     "text": [
      "snp ('hhw', 'ccp', 'AND')\n",
      "hhw ('x15', 'y15', 'XOR')\n",
      "ccp ('gnp', 'qgm', 'OR')\n",
      "z15 ('snp', 'mnh', 'OR')\n",
      "qgm ('y14', 'x14', 'AND')\n",
      "mnh ('x15', 'y15', 'AND')\n",
      "gnp ('shm', 'kds', 'AND')\n",
      "y15 y15\n",
      "x15 x15\n",
      "\n",
      "Incorrect addition of a single bit with change:\n",
      "21: 0000000000000000000000010000000000000000000000\n",
      "30: 0000000000000010000000000000000000000000000000\n",
      "34: 0000000000100000000000000000000000000000000000\n"
     ]
    }
   ],
   "source": [
    "parents_15 = find_parents(G, 'z15') - find_parents(G, 'z14')\n",
    "\n",
    "for node in parents_15:\n",
    "    print(node, G.get(node, node))\n",
    "\n",
    "G = {c:(a, b, op) for a, op, b, c in gates}\n",
    "G['fph'], G['z15'] = G['z15'], G['fph']\n",
    "\n",
    "print(\"\\nIncorrect addition of a single bit with change:\")\n",
    "for n in range(45):\n",
    "    single_bit = make_wire(0, 2**n)\n",
    "    xs, ys, zs = run_graph(G, single_bit)\n",
    "    if int(zs, 2) != 2**n:\n",
    "        print(f\"{n}:\",  zs)"
   ]
  },
  {
   "cell_type": "markdown",
   "id": "30c54643-a47b-46da-b1f9-723b525fdfaf",
   "metadata": {},
   "source": [
    "#### Bad node at bit 21\n",
    "\n",
    "This one is not as simple since the node is not connected to other nodes. We don't get the proper parent nodes. So we can look at the previous node and find how the carry bit should come over. In a correct bit, the carry comes over from the previous. Between 19 and 20 we see:\n",
    "\n",
    "```\n",
    "nsq ('mch', 'hwf', 'AND')\n",
    "```\n",
    "\n",
    "`mch` and `whf` come over from 19:  \n",
    "`mch ('vsk', 'hpw', 'OR')`  \n",
    "`hwf ('x19', 'y19', 'XOR')`  \n",
    "\n",
    "Suggesting the broken node should be linked to \n",
    "\n",
    "```\n",
    "sbs ('x20', 'y20', 'XOR')\n",
    "fjh ('fcw', 'nsq', 'OR')\n",
    "```\n",
    "\n",
    "We can find that node and work backword to reassemble the node: \n",
    "\n",
    "```\n",
    "fjh AND sbs -> pvq\n",
    "pvq OR frw -> nsp\n",
    "nsp XOR tqh -> gds  <-- this is our missing node\n",
    "```\n",
    "\n",
    "Swapping this fixes the second bit. Now just do this two more times:\n"
   ]
  },
  {
   "cell_type": "code",
   "execution_count": 9,
   "id": "8ca5b439-435a-4ae8-94f4-ca5f0e8e5948",
   "metadata": {},
   "outputs": [
    {
     "name": "stdout",
     "output_type": "stream",
     "text": [
      "Not much here to work with\n",
      "z21 ('x21', 'y21', 'AND')\n",
      "x21 x21\n",
      "y21 y21\n",
      "\n",
      "Previous node:\n",
      "nsq ('mch', 'hwf', 'AND')\n",
      "x20 x20\n",
      "y20 y20\n",
      "fcw ('x19', 'y19', 'AND')\n",
      "sbs ('x20', 'y20', 'XOR')\n",
      "fjh ('fcw', 'nsq', 'OR')\n",
      "z20 ('fjh', 'sbs', 'XOR')\n",
      "\n",
      "Previous node parent:\n",
      "vsk ('sgs', 'qcf', 'AND')\n",
      "mch ('vsk', 'hpw', 'OR')\n",
      "z19 ('mch', 'hwf', 'XOR')\n",
      "hwf ('x19', 'y19', 'XOR')\n",
      "hpw ('x18', 'y18', 'AND')\n",
      "y19 y19\n",
      "x19 x19\n",
      "\n",
      "Incorrect addition of a single bit with change:\n",
      "30: 0000000000000010000000000000000000000000000000\n",
      "34: 0000000000100000000000000000000000000000000000\n"
     ]
    }
   ],
   "source": [
    "G = {c:(a, b, op) for a, op, b, c in gates}\n",
    "G['fph'], G['z15'] = G['z15'], G['fph']\n",
    "\n",
    "parents_21 = find_parents(G, 'z21') - find_parents(G, 'z20')\n",
    "\n",
    "print(\"Not much here to work with\")\n",
    "for node in parents_21:\n",
    "    print(node, G.get(node, node))\n",
    "\n",
    "print('\\nPrevious node:')\n",
    "parents_20 = find_parents(G, 'z20') - find_parents(G, 'z19')\n",
    "for node in parents_20:\n",
    "    print(node, G.get(node, node))\n",
    "\n",
    "print('\\nPrevious node parent:')\n",
    "parents_19 = find_parents(G, 'z19') - find_parents(G, 'z18')\n",
    "for node in parents_19:\n",
    "    print(node, G.get(node, node))\n",
    "\n",
    "G = {c:(a, b, op) for a, op, b, c in gates}\n",
    "# Swapp both nodes\n",
    "G['fph'], G['z15'] = G['z15'], G['fph']\n",
    "G['gds'], G['z21'] = G['z21'], G['gds']\n",
    "\n",
    "print(\"\\nIncorrect addition of a single bit with change:\")\n",
    "for n in range(45):\n",
    "    single_bit = make_wire(0, 2**n)\n",
    "    xs, ys, zs = run_graph(G, single_bit)\n",
    "    if int(zs, 2) != 2**n:\n",
    "        print(f\"{n}:\",  zs)"
   ]
  },
  {
   "cell_type": "markdown",
   "id": "84861fba-e396-4eb5-90cc-9db931079efd",
   "metadata": {},
   "source": [
    "### After all swaps:\n",
    "\n",
    "No more incorrect bits:"
   ]
  },
  {
   "cell_type": "code",
   "execution_count": 10,
   "id": "f8fc68e3-dcdd-4252-a8f0-1a01f1fc3cae",
   "metadata": {},
   "outputs": [
    {
     "name": "stdout",
     "output_type": "stream",
     "text": [
      "\n",
      "Incorrect addition of a single bit with change:\n",
      "Incorrect addition of multiple bits:\n"
     ]
    }
   ],
   "source": [
    "G = {c:(a, b, op) for a, op, b, c in gates}\n",
    "G['fph'], G['z15'] = G['z15'], G['fph']\n",
    "G['gds'], G['z21'] = G['z21'], G['gds']\n",
    "G['wrk'], G['jrs'] = G['jrs'], G['wrk']\n",
    "G['cqk'], G['z34'] = G['z34'], G['cqk']\n",
    "\n",
    "print(\"\\nIncorrect addition of a single bit with change:\")\n",
    "for n in range(45):\n",
    "    single_bit = make_wire(0, 2**n)\n",
    "    xs, ys, zs = run_graph(G, single_bit)\n",
    "    if int(zs, 2) != 2**n:\n",
    "        print(f\"{n}:\",  zs)\n",
    "\n",
    "print(\"Incorrect addition of multiple bits:\")\n",
    "for n in range(45):\n",
    "    single_bit = make_wire(1, 2**n-1)\n",
    "    xs, ys, zs = run_graph(G, single_bit)\n",
    "    if int(zs, 2) != 2**n:\n",
    "        print(f\"{n}:\",  zs)\n"
   ]
  },
  {
   "cell_type": "code",
   "execution_count": 11,
   "id": "17121ec6-23c7-40d5-95e1-7a00d185ef29",
   "metadata": {},
   "outputs": [
    {
     "name": "stdout",
     "output_type": "stream",
     "text": [
      "correct 1010100011110111101111011100000010010001110000\n",
      "correct 1010100011110111101111011100000010010001110000\n"
     ]
    },
    {
     "data": {
      "text/plain": [
       "(46445498475632, 46445498475632)"
      ]
     },
     "execution_count": 11,
     "metadata": {},
     "output_type": "execute_result"
    }
   ],
   "source": [
    "xs, ys, zs = run_graph(G, wires)\n",
    "\n",
    "correct_sum = int(xs, 2) + int(ys, 2)\n",
    "correct_bin = bin(correct_sum)[2:]\n",
    "\n",
    "calculated_sum = int(zs, 2)\n",
    "\n",
    "print(f\"correct {bin(correct_sum)[2:]:>45}\")\n",
    "print(f\"correct {zs:>45}\")\n",
    "\n",
    "correct_sum, calculated_sum"
   ]
  },
  {
   "cell_type": "code",
   "execution_count": 1207,
   "id": "0797c2e1-e121-4fb7-b0c7-ba57307436e4",
   "metadata": {},
   "outputs": [
    {
     "data": {
      "text/plain": [
       "'cqk,fph,gds,jrs,wrk,z15,z21,z34'"
      ]
     },
     "execution_count": 1207,
     "metadata": {},
     "output_type": "execute_result"
    }
   ],
   "source": [
    "','.join(sorted(['cqk','fph','gds','jrs', 'wrk', 'z15', 'z21','z34']))"
   ]
  },
  {
   "cell_type": "code",
   "execution_count": null,
   "id": "1e3b634e-2f4d-48f5-8bc6-00b70561e29a",
   "metadata": {},
   "outputs": [],
   "source": []
  }
 ],
 "metadata": {
  "kernelspec": {
   "display_name": "Python 3 (ipykernel)",
   "language": "python",
   "name": "python3"
  },
  "language_info": {
   "codemirror_mode": {
    "name": "ipython",
    "version": 3
   },
   "file_extension": ".py",
   "mimetype": "text/x-python",
   "name": "python",
   "nbconvert_exporter": "python",
   "pygments_lexer": "ipython3",
   "version": "3.10.12"
  }
 },
 "nbformat": 4,
 "nbformat_minor": 5
}
