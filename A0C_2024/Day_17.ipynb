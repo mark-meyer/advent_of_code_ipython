{
 "cells": [
  {
   "cell_type": "code",
   "execution_count": 1,
   "id": "8f54bccc-289e-4a85-8e9a-ed119d2561a6",
   "metadata": {},
   "outputs": [],
   "source": [
    "sample_register = {\n",
    "    \"A\": 729,\n",
    "    \"B\": 4,\n",
    "    \"C\": 0\n",
    "}\n",
    "\n",
    "sample_program = [0,1,5,4,3,0]"
   ]
  },
  {
   "cell_type": "code",
   "execution_count": 2,
   "id": "d1534756-e053-4b50-9b5a-cdef1f1815b3",
   "metadata": {},
   "outputs": [],
   "source": [
    "registers = {\n",
    "    \"A\": 65804993,\n",
    "    \"B\": 4,\n",
    "    \"C\": 0\n",
    "}\n",
    "\n",
    "program = [2,4,1,1,7,5,1,4,0,3,4,5,5,5,3,0]"
   ]
  },
  {
   "cell_type": "code",
   "execution_count": 3,
   "id": "1f21fd85-6f80-4d8a-80ae-350759a86256",
   "metadata": {},
   "outputs": [],
   "source": [
    "def combo(n):\n",
    "    if n > 6:\n",
    "        raise ValueError(f\"Bad Combo:{n}\")\n",
    "    if n <= 3:\n",
    "        return n\n",
    "    return REGISTER['ABC'[n-4]]"
   ]
  },
  {
   "cell_type": "code",
   "execution_count": 4,
   "id": "010b151f-0906-4628-8ea8-9b030e6524c6",
   "metadata": {},
   "outputs": [],
   "source": [
    "REGISTER = None\n",
    "INST = 0\n",
    "OUTPUT = []\n",
    "\n",
    "def adv(n):\n",
    "    REGISTER['A'] = REGISTER['A'] // (2 ** combo(n)) \n",
    "\n",
    "def bxl(n):\n",
    "    REGISTER['B'] = REGISTER['B'] ^ n\n",
    "\n",
    "def bst(n):\n",
    "    REGISTER['B'] = combo(n) % 8\n",
    "\n",
    "def jnz(n):\n",
    "    global INST\n",
    "    # how to handle when running\n",
    "    # to avoid moving the INST after the jump\n",
    "    if REGISTER['A'] != 0:\n",
    "        INST = n\n",
    "\n",
    "def bxc(n):\n",
    "    REGISTER['B'] = REGISTER['B'] ^ REGISTER['C']\n",
    "\n",
    "def out(n):\n",
    "    global OUTPUT\n",
    "    OUTPUT.append(combo(n) % 8)\n",
    "\n",
    "def bdv(n):\n",
    "    REGISTER['B'] = REGISTER['A'] // (2 ** combo(n)) \n",
    "\n",
    "def cdv(n):\n",
    "    REGISTER['C'] = REGISTER['A'] // (2 ** combo(n)) \n",
    "\n",
    "def init(registers):\n",
    "    global REGISTER\n",
    "    global INST\n",
    "    global OUTPUT\n",
    "    REGISTER = registers.copy()\n",
    "    INST = 0\n",
    "    OUTPUT = []\n",
    "    \n",
    "opcodes = [\n",
    "    adv,\n",
    "    bxl,\n",
    "    bst,\n",
    "    jnz,\n",
    "    bxc,\n",
    "    out,\n",
    "    bdv,\n",
    "    cdv\n",
    "]\n",
    "\n",
    "def run(program, registers):\n",
    "    global INST\n",
    "    init(registers)\n",
    "    while INST < len(program):\n",
    "        op = opcodes[program[INST]]\n",
    "        INST += 1\n",
    "        arg = program[INST]\n",
    "        INST += 1\n",
    "\n",
    "        op(arg)\n",
    "    return OUTPUT\n",
    "    #return ','.join(OUTPUT)\n"
   ]
  },
  {
   "cell_type": "code",
   "execution_count": 5,
   "id": "f3a5f37f-54a8-4832-ad99-b4eb80c6cb0d",
   "metadata": {},
   "outputs": [
    {
     "data": {
      "text/plain": [
       "[4, 6, 3, 5, 6, 3, 5, 2, 1, 0]"
      ]
     },
     "execution_count": 5,
     "metadata": {},
     "output_type": "execute_result"
    }
   ],
   "source": [
    "run(sample_program, sample_register)"
   ]
  },
  {
   "cell_type": "code",
   "execution_count": 6,
   "id": "c8fb2b96-f00f-479f-b9af-af93b4a37559",
   "metadata": {},
   "outputs": [
    {
     "data": {
      "text/plain": [
       "[5, 1, 4, 0, 5, 1, 0, 2, 6]"
      ]
     },
     "execution_count": 6,
     "metadata": {},
     "output_type": "execute_result"
    }
   ],
   "source": [
    "run(program, registers)"
   ]
  },
  {
   "cell_type": "markdown",
   "id": "b5f58005-714c-4cdd-a172-5cf403228675",
   "metadata": {},
   "source": [
    "### Part Two\n",
    "Not sure what the *right* way to do this is, but it's clear the program output grows with input. It also outputs base 8 numbers from base 8 input. \n",
    "\n",
    "And it's relatively predicatble:\n",
    "\n",
    "```\n",
    "175921860444160 (5 * 8 ** 15) -> first 0 ending = [5, 5, 5, 5, 5, 5, 5, 5, 5, 5, 5, 5, 5, 5, 1, 0]\n",
    "```\n",
    "\n",
    "It's a little manual, but starting with the most significant digit we can work backward gradually to a more accurate number until we have the whole thin. The search space shrinks exponentially this way.\n",
    "\n",
    "For example just by iterating 64 numbers you can identify:\n",
    "\n",
    "`[5, 6]` as the two most siginifacnt digits in the solution\n",
    "\n",
    "`5 * (8 ** 15) + 6 * (6 ** 14) = 202322936867370`\n",
    "\n",
    "Plugging this in to the register outputs:\n",
    "\n",
    "\n",
    "```\n",
    "with the correct right-most digits      v  v  v  \n",
    "[5, 5, 5, 5, 5, 5, 5, 5, 5, 5, 5, 5, 7, 5, 3, 0]\n",
    "``` \n",
    "\n",
    "Continuing you find `[5,6,0,0,1]` which as the first 5 digits of a 16-digit 8 bit number equalling `202322219106304`.\n",
    "\n",
    "Pluggin this in to the register gives:\n",
    "\n",
    "```\n",
    "with more correct digits       v  v  v  v  v  v      \n",
    "[5, 5, 5, 5, 5, 5, 5, 5, 5, 4, 4, 5, 5, 5, 3, 0]\n",
    "\n",
    "```\n",
    "\n",
    "Iterating over one 8-bit number are a time, did not really work — it doesn't always find the next digit, but iterating over a few and taking the most significant bit from the first match did. "
   ]
  },
  {
   "cell_type": "code",
   "execution_count": 7,
   "id": "1540e68d-09bf-41c6-a5b3-1e41464202a6",
   "metadata": {},
   "outputs": [
    {
     "data": {
      "text/plain": [
       "'373015301'"
      ]
     },
     "execution_count": 7,
     "metadata": {},
     "output_type": "execute_result"
    }
   ],
   "source": [
    "# Some helper functions when exploring the problem space\n",
    "\n",
    "def to_base_8(n):\n",
    "    s = \"\"\n",
    "    while n:\n",
    "        s = str(n % 8) + s\n",
    "        n //= 8\n",
    "    return s\n",
    "    \n",
    "def from_base_8_l(l):\n",
    "    s = ''.join(map(str, b[::-1]))\n",
    "    return int(s, 8)\n",
    "    \n",
    "def from_base_8(n):\n",
    "    return int(n, 8)\n",
    "\n",
    "to_base_8(65804993)  # original register a in base-8\n"
   ]
  },
  {
   "cell_type": "code",
   "execution_count": 8,
   "id": "50e37549-8752-4f29-bc80-43722ff75824",
   "metadata": {},
   "outputs": [],
   "source": [
    "# the original program input\n",
    "to_match = [2, 4, 1, 1, 7, 5, 1, 4, 0, 3, 4, 5, 5, 5, 3, 0]\n",
    "\n",
    "def solve(to_match):\n",
    "    # get the first 15 digits - we learned it will start with 5 above\n",
    "    # so give it a head start\n",
    "    bases = [5]\n",
    "    for i in range(1, 14):\n",
    "        bases, match = get_digit(bases[:i], to_match)\n",
    "        if match:\n",
    "            return match\n",
    "    return bases\n",
    "\n",
    "\n",
    "def get_digit(bases, to_match):\n",
    "    # Take three bits at a time\n",
    "    # to avoid missing the digit\n",
    "    for i in range(8):\n",
    "        for j in range(8):\n",
    "            for k in range(8):\n",
    "                if len(bases)<14:\n",
    "                    base_plus =  bases + [i, j, k]\n",
    "                else:\n",
    "                    base_plus =  bases + [i]\n",
    "\n",
    "                r = sum(n * 8 ** (15 - i) for i, n in enumerate(base_plus))\n",
    "\n",
    "                count_registers = {\n",
    "                                'A': r,\n",
    "                                'B': 0,\n",
    "                                'C': 0,\n",
    "                            }\n",
    "                \n",
    "                window = -len(base_plus) + 1\n",
    "                try:\n",
    "                    b = run(program, count_registers)\n",
    "                except:\n",
    "                    continue\n",
    "                if b == to_match:\n",
    "                    return None, r\n",
    "                if b[window:] == to_match[window:]:\n",
    "                    return bases + [i, j], None\n",
    "\n"
   ]
  },
  {
   "cell_type": "code",
   "execution_count": 9,
   "id": "4f63f0d6-07c4-44fd-a08a-8d6167202528",
   "metadata": {},
   "outputs": [
    {
     "name": "stdout",
     "output_type": "stream",
     "text": [
      "All but last bit: [5, 6, 0, 0, 1, 3, 7, 2, 6, 2, 0, 2, 5, 0, 5]\n",
      "Solution bits: [5, 6, 0, 0, 1, 3, 7, 2, 6, 2, 0, 2, 5, 0, 5, 2]\n",
      "solution: 202322936867370\n"
     ]
    },
    {
     "data": {
      "text/plain": [
       "202322936867370"
      ]
     },
     "execution_count": 9,
     "metadata": {},
     "output_type": "execute_result"
    }
   ],
   "source": [
    "first_bits = solve(to_match)\n",
    "print(\"All but last bit:\", first_bits)\n",
    "\n",
    "# this fails on the last digit, so just find it out of the eight left:\n",
    "\n",
    "for i in range(8):\n",
    "    r = sum(n * 8 ** (15 - i) for i, n in enumerate(first_bits + [i]))\n",
    "    \n",
    "    count_registers = {\n",
    "        'A': r,\n",
    "        'B': 0,\n",
    "        'C': 0,\n",
    "    }\n",
    "    \n",
    "    b = run(program, count_registers) \n",
    "    \n",
    "    if b == to_match:\n",
    "        print(\"Solution bits:\",  first_bits + [i])\n",
    "        print(\"solution:\", r)\n",
    "        break\n",
    "\n",
    "202322936867370"
   ]
  }
 ],
 "metadata": {
  "kernelspec": {
   "display_name": "Python 3 (ipykernel)",
   "language": "python",
   "name": "python3"
  },
  "language_info": {
   "codemirror_mode": {
    "name": "ipython",
    "version": 3
   },
   "file_extension": ".py",
   "mimetype": "text/x-python",
   "name": "python",
   "nbconvert_exporter": "python",
   "pygments_lexer": "ipython3",
   "version": "3.10.12"
  }
 },
 "nbformat": 4,
 "nbformat_minor": 5
}
