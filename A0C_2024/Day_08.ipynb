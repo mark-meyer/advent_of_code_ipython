{
 "cells": [
  {
   "cell_type": "code",
   "execution_count": 1,
   "id": "660dbbb8-c503-4776-92ae-b7dd66c26856",
   "metadata": {},
   "outputs": [],
   "source": [
    "from collections import defaultdict\n",
    "from itertools import combinations"
   ]
  },
  {
   "cell_type": "markdown",
   "id": "deb74acb-e668-4dc8-8a53-600d6fea0546",
   "metadata": {},
   "source": [
    "## Part One"
   ]
  },
  {
   "cell_type": "code",
   "execution_count": 2,
   "id": "0be326b4-2b52-4b98-b1cb-7d6f3cae2f3a",
   "metadata": {},
   "outputs": [],
   "source": [
    "def parse_input(s):\n",
    "    h = len(s)\n",
    "    w = len(s[0])\n",
    "    antennas = defaultdict(list)\n",
    "\n",
    "    for row, line in enumerate(s):\n",
    "        for col, letter in enumerate(line):\n",
    "            if letter != '.':\n",
    "               antennas[letter].append((row, col)) \n",
    "\n",
    "    return antennas, h, w\n",
    "\n",
    "def in_bounds(p,  h, w):\n",
    "    return 0 <= p[0] < h and 0 <= p[1] < w\n",
    "\n",
    "\n",
    "def find_antinodes(p1, p2, h, w):\n",
    "    d_row = p1[0] - p2[0]\n",
    "    d_col = p1[1] - p2[1]\n",
    "    n1 = p1[0] + d_row, p1[1] + d_col\n",
    "    n2 = p2[0] - d_row, p2[1] - d_col\n",
    "    return [n for n in (n1, n2) if in_bounds(n, h, w)]\n",
    "\n",
    "\n",
    "def count_nodes(antennas, h, w):\n",
    "    antinodes = set()\n",
    "    for k, v in antennas.items():\n",
    "        for a1, a2 in combinations(v, r=2):\n",
    "            for antinode in find_antinodes(a1, a2, h, w):\n",
    "                antinodes.add(antinode)\n",
    "    return len(antinodes)\n"
   ]
  },
  {
   "cell_type": "markdown",
   "id": "fd62773e-19e7-4a4e-ad1c-4629b5b8b16c",
   "metadata": {},
   "source": [
    "### Test input"
   ]
  },
  {
   "cell_type": "code",
   "execution_count": 3,
   "id": "c27b502b-5146-4781-a226-bcad6ccb7a06",
   "metadata": {},
   "outputs": [],
   "source": [
    "test_input='''............\n",
    "........0...\n",
    ".....0......\n",
    ".......0....\n",
    "....0.......\n",
    "......A.....\n",
    "............\n",
    "............\n",
    "........A...\n",
    ".........A..\n",
    "............\n",
    "............'''.split('\\n')\n"
   ]
  },
  {
   "cell_type": "code",
   "execution_count": 4,
   "id": "321c71f9-aea8-4b5a-aca1-4d829ab18ab5",
   "metadata": {},
   "outputs": [
    {
     "data": {
      "text/plain": [
       "14"
      ]
     },
     "execution_count": 4,
     "metadata": {},
     "output_type": "execute_result"
    }
   ],
   "source": [
    "test_antennas, t_h, t_w = parse_input(test_input)\n",
    "count_nodes(test_antennas, t_h, t_w)"
   ]
  },
  {
   "cell_type": "code",
   "execution_count": 5,
   "id": "ef4eb8b7-7056-4e98-a9d9-70aa5789d461",
   "metadata": {},
   "outputs": [
    {
     "name": "stdout",
     "output_type": "stream",
     "text": [
      "Part one: 265\n"
     ]
    }
   ],
   "source": [
    "with open('input_files/08.txt') as f:\n",
    "    antennas, h, w = parse_input(f.read().splitlines())\n",
    "\n",
    "print(\"Part one:\", count_nodes(antennas, h, w))"
   ]
  },
  {
   "cell_type": "markdown",
   "id": "48ca938e-f0d3-4647-b45b-6f4dfa50d52f",
   "metadata": {},
   "source": [
    "## Part Two"
   ]
  },
  {
   "cell_type": "code",
   "execution_count": 6,
   "id": "ccff1119-2657-4cfd-a6f3-3cac0d9fc085",
   "metadata": {},
   "outputs": [],
   "source": [
    "def find_resonant_antinodes(p1, p2, h, w):  \n",
    "    antinodes = set([p1, p2])\n",
    "    d_row = p1[0] - p2[0]\n",
    "    d_col = p1[1] - p2[1]\n",
    "\n",
    "    n1 = p1[0] + d_row, p1[1] + d_col\n",
    "    n2 = p2[0] - d_row, p2[1] - d_col\n",
    "\n",
    "    # hmm, will this be to slow? Do we need maths?\n",
    "    #… nope, this is fine\n",
    "    while in_bounds(n1, h, w):\n",
    "        antinodes.add(n1)\n",
    "        n1 = n1[0] + d_row, n1[1] + d_col\n",
    "\n",
    "    while in_bounds(n2, h, w):\n",
    "        antinodes.add(n2)\n",
    "        n2 = n2[0] - d_row, n2[1] - d_col\n",
    "    \n",
    "    return antinodes\n",
    "\n",
    "def count_resonant_nodes(antennas, h, w):\n",
    "    antinodes = set()\n",
    "    for k, v in antennas.items():\n",
    "        for a1, a2 in combinations(v, r=2):\n",
    "            for antinode in find_resonant_antinodes(a1, a2, h, w):\n",
    "                antinodes.add(antinode)\n",
    "    return len(antinodes)\n"
   ]
  },
  {
   "cell_type": "code",
   "execution_count": 7,
   "id": "7b42a932-8e62-4286-95bd-e104ad097cbd",
   "metadata": {},
   "outputs": [
    {
     "data": {
      "text/plain": [
       "119"
      ]
     },
     "execution_count": 7,
     "metadata": {},
     "output_type": "execute_result"
    }
   ],
   "source": [
    "test_antennas, t_h, t_w = parse_input(test_input)\n",
    "\n",
    "count_resonant_nodes(test_antennas, h, w)"
   ]
  },
  {
   "cell_type": "code",
   "execution_count": 8,
   "id": "0ac91da9-5939-4f12-8a68-abb952588b55",
   "metadata": {},
   "outputs": [
    {
     "name": "stdout",
     "output_type": "stream",
     "text": [
      "Part two: 962\n"
     ]
    }
   ],
   "source": [
    "print(\"Part two:\", count_resonant_nodes(antennas, h, w))"
   ]
  },
  {
   "cell_type": "code",
   "execution_count": null,
   "id": "4e281c7d-d9e7-4097-8a8b-76a61c5cac93",
   "metadata": {},
   "outputs": [],
   "source": []
  }
 ],
 "metadata": {
  "kernelspec": {
   "display_name": "Python 3 (ipykernel)",
   "language": "python",
   "name": "python3"
  },
  "language_info": {
   "codemirror_mode": {
    "name": "ipython",
    "version": 3
   },
   "file_extension": ".py",
   "mimetype": "text/x-python",
   "name": "python",
   "nbconvert_exporter": "python",
   "pygments_lexer": "ipython3",
   "version": "3.10.12"
  }
 },
 "nbformat": 4,
 "nbformat_minor": 5
}
