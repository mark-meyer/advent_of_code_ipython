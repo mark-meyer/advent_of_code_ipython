{
 "cells": [
  {
   "cell_type": "code",
   "execution_count": 1,
   "id": "e7e92eb6-2380-47d4-90f0-cb4be763bd62",
   "metadata": {},
   "outputs": [],
   "source": [
    "from collections import namedtuple, defaultdict\n",
    "from itertools import groupby, pairwise\n",
    "from typing import NamedTuple"
   ]
  },
  {
   "cell_type": "code",
   "execution_count": 2,
   "id": "8873e610-15c6-4274-bf14-c667bffeceea",
   "metadata": {},
   "outputs": [],
   "source": [
    "class Map:\n",
    "    def __init__(self, data):\n",
    "        self.height = len(data)\n",
    "        self.width = len(data[0])\n",
    "        self.data = [list(row) for row in data]\n",
    "\n",
    "    def __getitem__(self, p):\n",
    "        return self.data[p.row][p.col]\n",
    "\n",
    "    def get_neighbors(self, p):\n",
    "        if p.row > 0:\n",
    "            yield p + Point(-1, 0)\n",
    "        if p.row < self.height - 1:\n",
    "            yield p + Point(1, 0)\n",
    "        if p.col > 0 :\n",
    "            yield p + Point(0, -1)\n",
    "        if p.col < self.width - 1:\n",
    "            yield p + Point(0, 1)\n",
    "\n",
    "    def rows(self):\n",
    "        for row, line in enumerate(self.data):\n",
    "             yield [Point(row, col)  for col, item in enumerate(line)]\n",
    "        \n",
    "    def points(self):\n",
    "        yield from (Point(row, col) for row, line in enumerate(self.data)\n",
    "                    for col, item in enumerate(line))    \n",
    "            \n",
    "class Point(NamedTuple):\n",
    "    row: int\n",
    "    col: int\n",
    "\n",
    "    def __add__(self, other):\n",
    "        return Point(self.row + other.row, self.col + other.col)"
   ]
  },
  {
   "cell_type": "code",
   "execution_count": 3,
   "id": "81034286-d321-4d85-ba1e-796e377a029f",
   "metadata": {},
   "outputs": [],
   "source": [
    "def fill(map, start):  \n",
    "    stack = [(start, set([start]))]\n",
    "    seen = set([start])\n",
    "\n",
    "    while stack:\n",
    "        current, current_group = stack.pop()\n",
    "        current_crop = map[current]\n",
    "    \n",
    "        for bordering in map.get_neighbors(current):\n",
    "            if bordering in seen:\n",
    "                continue\n",
    "            crop = map[bordering]\n",
    "            if crop == current_crop:\n",
    "                current_group.add(bordering)\n",
    "                seen.add(bordering)\n",
    "                stack.append((bordering, current_group))\n",
    "    return (seen, map[start])\n",
    "\n",
    "def permiter(group, crop, map):\n",
    "    # start with 4 to account for map borders\n",
    "    # subtract any that are the same crop type\n",
    "    total_permiter = 0\n",
    "    for p in group:\n",
    "        borders = 4\n",
    "        for bordering in map.get_neighbors(p):\n",
    "            if map[bordering] == crop:\n",
    "                borders -= 1\n",
    "        total_permiter += borders\n",
    "    return total_permiter\n",
    "\n",
    "def part_one(map):\n",
    "    groups = []\n",
    "    seen = set()\n",
    "    \n",
    "    for p in map.points():\n",
    "        if p in seen:\n",
    "            continue\n",
    "        group, crop = fill(map, p)\n",
    "        groups.append((group, crop))\n",
    "        seen.update(group)\n",
    "        \n",
    "    return groups"
   ]
  },
  {
   "cell_type": "code",
   "execution_count": 4,
   "id": "1f6e18d4-c8d8-4283-9479-d22bf599fc60",
   "metadata": {},
   "outputs": [
    {
     "data": {
      "text/plain": [
       "1930"
      ]
     },
     "execution_count": 4,
     "metadata": {},
     "output_type": "execute_result"
    }
   ],
   "source": [
    "sample_input = '''RRRRIICCFF\n",
    "RRRRIICCCF\n",
    "VVRRRCCFFF\n",
    "VVRCCCJFFF\n",
    "VVVVCJJCFE\n",
    "VVIVCCJJEE\n",
    "VVIIICJJEE\n",
    "MIIIIIJJEE\n",
    "MIIISIJEEE\n",
    "MMMISSJEEE'''.split('\\n')\n",
    "\n",
    "sample_map = Map(sample_input)\n",
    "\n",
    "groups = part_one(sample_map)\n",
    "sum((len(g) * permiter(g, crop, sample_map))  for g, crop in groups)"
   ]
  },
  {
   "cell_type": "code",
   "execution_count": 5,
   "id": "1bc5838e-1670-4bc8-856f-1d52765ad248",
   "metadata": {},
   "outputs": [
    {
     "data": {
      "text/plain": [
       "1473620"
      ]
     },
     "execution_count": 5,
     "metadata": {},
     "output_type": "execute_result"
    }
   ],
   "source": [
    "with open('input_files/12.txt') as f:\n",
    "    big_map = Map(f.read().splitlines())\n",
    "\n",
    "groups = part_one(big_map)\n",
    "sum((len(g) * permiter(g, crop, big_map))  for g, crop in groups)"
   ]
  },
  {
   "cell_type": "markdown",
   "id": "0f8e8d36-b7f3-4024-9ff9-2bdfde4fdcc9",
   "metadata": {},
   "source": [
    "## Part Two\n",
    "\n",
    "Stand on each point in the group and look around to see if you at a corner."
   ]
  },
  {
   "cell_type": "code",
   "execution_count": 6,
   "id": "e8fe1387-892e-448f-bee0-294766b61d02",
   "metadata": {},
   "outputs": [],
   "source": [
    "def count_corners(p, map, points_to_group):\n",
    "    \n",
    "    group = points_to_group[p]\n",
    "    \n",
    "    side_count =  sum(1 for n in [Point(p[0], p[1]+1), Point(p[0], p[1]-1)] if n not in group)\n",
    "    corners = 0\n",
    "\n",
    "    # look down\n",
    "    if Point(p[0]+1, p[1]) not in group:\n",
    "        corners += side_count\n",
    "    else:\n",
    "        if Point(p[0], p[1]-1) in group and Point(p[0]+1, p[1]-1) not in group:\n",
    "            corners += 1\n",
    "        if Point(p[0], p[1]+1) in group and Point(p[0]+1, p[1]+1) not in group:\n",
    "            corners += 1        \n",
    "    \n",
    "    # look up            \n",
    "    if Point(p[0]-1, p[1]) not in group:\n",
    "        corners += side_count\n",
    "    else:\n",
    "        if Point(p[0], p[1]-1) in group and Point(p[0]-1, p[1]-1) not in group:\n",
    "            corners += 1\n",
    "        if Point(p[0], p[1]+1) in group and Point(p[0]-1, p[1]+1) not in group:\n",
    "            corners += 1\n",
    "    \n",
    "    return corners\n",
    "\n",
    "def part_two(map):\n",
    "    groups = part_one(map)\n",
    "    \n",
    "    points_to_group = {}\n",
    "\n",
    "    for g, crop in groups:\n",
    "        fg = frozenset(g)\n",
    "        for p in g:\n",
    "            points_to_group[p] = fg\n",
    "\n",
    "    total = 0\n",
    "\n",
    "    for g, crop in groups:\n",
    "        group_count = 0\n",
    "        for p in g:\n",
    "            group_count += count_corners(p, map, points_to_group)\n",
    "        total += group_count * len(g)\n",
    "        \n",
    "    \n",
    "    return total"
   ]
  },
  {
   "cell_type": "code",
   "execution_count": 7,
   "id": "47671812-0287-466d-9cb5-31361a14f311",
   "metadata": {},
   "outputs": [
    {
     "data": {
      "text/plain": [
       "1206"
      ]
     },
     "execution_count": 7,
     "metadata": {},
     "output_type": "execute_result"
    }
   ],
   "source": [
    "sample_input = '''RRRRIICCFF\n",
    "RRRRIICCCF\n",
    "VVRRRCCFFF\n",
    "VVRCCCJFFF\n",
    "VVVVCJJCFE\n",
    "VVIVCCJJEE\n",
    "VVIIICJJEE\n",
    "MIIIIIJJEE\n",
    "MIIISIJEEE\n",
    "MMMISSJEEE'''.split('\\n')\n",
    "\n",
    "sample_map = Map(sample_input)\n",
    "\n",
    "part_two(sample_map)"
   ]
  },
  {
   "cell_type": "code",
   "execution_count": 8,
   "id": "b9845183-37d5-448d-a034-ff48d958ea4f",
   "metadata": {},
   "outputs": [
    {
     "data": {
      "text/plain": [
       "902620"
      ]
     },
     "execution_count": 8,
     "metadata": {},
     "output_type": "execute_result"
    }
   ],
   "source": [
    "with open('input_files/12.txt') as f:\n",
    "    big_map = Map(f.read().splitlines())\n",
    "part_two(big_map)"
   ]
  },
  {
   "cell_type": "code",
   "execution_count": null,
   "id": "7c4dbdf6-3c84-4d11-9c9b-5a45efbc1673",
   "metadata": {},
   "outputs": [],
   "source": []
  }
 ],
 "metadata": {
  "kernelspec": {
   "display_name": "Python 3 (ipykernel)",
   "language": "python",
   "name": "python3"
  },
  "language_info": {
   "codemirror_mode": {
    "name": "ipython",
    "version": 3
   },
   "file_extension": ".py",
   "mimetype": "text/x-python",
   "name": "python",
   "nbconvert_exporter": "python",
   "pygments_lexer": "ipython3",
   "version": "3.10.12"
  }
 },
 "nbformat": 4,
 "nbformat_minor": 5
}
