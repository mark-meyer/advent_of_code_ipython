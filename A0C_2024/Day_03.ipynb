{
 "cells": [
  {
   "cell_type": "code",
   "execution_count": 1,
   "id": "f81c47b5-fea4-456b-87c5-afc309f2c113",
   "metadata": {},
   "outputs": [],
   "source": [
    "import re"
   ]
  },
  {
   "cell_type": "markdown",
   "id": "da696bc8-c268-486c-8d4d-9ffb3638e43f",
   "metadata": {},
   "source": [
    "## Part One"
   ]
  },
  {
   "cell_type": "code",
   "execution_count": 2,
   "id": "ffa1ff00-e168-411a-82bb-9a8475ff3349",
   "metadata": {},
   "outputs": [],
   "source": [
    "def read_good_instructions(s):\n",
    "    rx = re.compile(r'mul\\((\\d{1,3}),(\\d{1,3})\\)')\n",
    "    return sum([int(a) * int(b) for a, b in re.findall(rx, s)])"
   ]
  },
  {
   "cell_type": "code",
   "execution_count": 3,
   "id": "6039f743-3c98-432b-b46c-37c5d990b825",
   "metadata": {},
   "outputs": [
    {
     "data": {
      "text/plain": [
       "161"
      ]
     },
     "execution_count": 3,
     "metadata": {},
     "output_type": "execute_result"
    }
   ],
   "source": [
    "test_input = \"xmul(2,4)%&mul[3,7]!@^do_not_mul(5,5)+mul(32,64]then(mul(11,8)mul(8,5))\"\n",
    "read_good_instructions(test_input)"
   ]
  },
  {
   "cell_type": "code",
   "execution_count": 4,
   "id": "d2d67f37-885c-4d90-99ba-fb47a4bd0a87",
   "metadata": {},
   "outputs": [
    {
     "name": "stdout",
     "output_type": "stream",
     "text": [
      "Part one: 189527826\n"
     ]
    }
   ],
   "source": [
    "with open('input_files/03.txt') as f:\n",
    "    program = f.read()\n",
    "print('Part one:', read_good_instructions(program))"
   ]
  },
  {
   "cell_type": "markdown",
   "id": "5953c6df-7f28-491a-8f21-82860941f96d",
   "metadata": {},
   "source": [
    "## Part Two"
   ]
  },
  {
   "cell_type": "code",
   "execution_count": 5,
   "id": "aaf033c2-085b-445c-9028-7814ca809ba4",
   "metadata": {},
   "outputs": [],
   "source": [
    "def mult_op(s):\n",
    "    a, b = re.findall(r'\\d+', s)\n",
    "    return int(a) * int(b)\n",
    "\n",
    "def run_program_two(s):\n",
    "    active = True\n",
    "    total = 0\n",
    "    rx = re.compile(r\"mul\\(\\d{1,3},\\d{1,3}\\)|do\\(\\)|don't\\(\\)\")\n",
    "\n",
    "    for token in re.findall(rx, s):\n",
    "        if token == 'do()':\n",
    "            active = True\n",
    "        elif token == \"don't()\":\n",
    "            active = False\n",
    "        elif active:\n",
    "            total += mult_op(token)\n",
    "    return total\n"
   ]
  },
  {
   "cell_type": "code",
   "execution_count": 6,
   "id": "f3e20861-e8aa-4775-9cec-03eadd242f79",
   "metadata": {},
   "outputs": [
    {
     "data": {
      "text/plain": [
       "48"
      ]
     },
     "execution_count": 6,
     "metadata": {},
     "output_type": "execute_result"
    }
   ],
   "source": [
    "test_input = \"xmul(2,4)&mul[3,7]!^don't()_mul(5,5)+mul(32,64](mul(11,8)undo()?mul(8,5))\"\n",
    "run_program_two(test_input)"
   ]
  },
  {
   "cell_type": "code",
   "execution_count": 7,
   "id": "83131eb8-4a19-4c73-8a60-b80f82273078",
   "metadata": {},
   "outputs": [
    {
     "name": "stdout",
     "output_type": "stream",
     "text": [
      "Part two: 63013756\n"
     ]
    }
   ],
   "source": [
    "with open('input_files/03.txt') as f:\n",
    "    program = f.read()\n",
    "\n",
    "print(\"Part two:\", run_program_two(program))"
   ]
  },
  {
   "cell_type": "code",
   "execution_count": null,
   "id": "fa153c02-131e-4c27-9dda-7e51a63744ef",
   "metadata": {},
   "outputs": [],
   "source": []
  }
 ],
 "metadata": {
  "kernelspec": {
   "display_name": "Python 3 (ipykernel)",
   "language": "python",
   "name": "python3"
  },
  "language_info": {
   "codemirror_mode": {
    "name": "ipython",
    "version": 3
   },
   "file_extension": ".py",
   "mimetype": "text/x-python",
   "name": "python",
   "nbconvert_exporter": "python",
   "pygments_lexer": "ipython3",
   "version": "3.10.12"
  }
 },
 "nbformat": 4,
 "nbformat_minor": 5
}
