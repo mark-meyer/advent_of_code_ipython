{
 "cells": [
  {
   "cell_type": "code",
   "execution_count": 1,
   "id": "05de5dc6-48c4-4ada-aaf4-928861af3ec4",
   "metadata": {},
   "outputs": [],
   "source": [
    "from itertools import pairwise"
   ]
  },
  {
   "cell_type": "markdown",
   "id": "c5cf17b1-983c-47b1-bf87-93774e9435c5",
   "metadata": {},
   "source": [
    "## Part One"
   ]
  },
  {
   "cell_type": "code",
   "execution_count": 2,
   "id": "985fd8b9-d4c3-4360-b18c-e192fd04bdf2",
   "metadata": {},
   "outputs": [],
   "source": [
    "def parse_input(f):\n",
    "    return [[int(n) for n in line.split()] for line in f]\n",
    "\n",
    "def is_safe(report):\n",
    "    return all(0 < a - b <= 3 for a, b in pairwise(report)) or \\\n",
    "    all(0 < b - a <= 3 for a, b in pairwise(report))"
   ]
  },
  {
   "cell_type": "markdown",
   "id": "c07f2ba6-44cd-4d73-9be0-fc4264bbc640",
   "metadata": {},
   "source": [
    "### Test Input"
   ]
  },
  {
   "cell_type": "code",
   "execution_count": 3,
   "id": "fe1abbc0-d361-4a1a-9fb9-7ef9dce4fcb1",
   "metadata": {},
   "outputs": [
    {
     "data": {
      "text/plain": [
       "2"
      ]
     },
     "execution_count": 3,
     "metadata": {},
     "output_type": "execute_result"
    }
   ],
   "source": [
    "test_input='''7 6 4 2 1\n",
    "1 2 7 8 9\n",
    "9 7 6 2 1\n",
    "1 3 2 4 5\n",
    "8 6 4 4 1\n",
    "1 3 6 7 9'''\n",
    "\n",
    "reports = parse_input(test_input.split('\\n'))\n",
    "sum(is_safe(line) for line in reports)"
   ]
  },
  {
   "cell_type": "markdown",
   "id": "42d6f58c-5317-499c-a72f-3cd8ae8d4c85",
   "metadata": {},
   "source": [
    "### Solution"
   ]
  },
  {
   "cell_type": "code",
   "execution_count": 4,
   "id": "a63fb9cf-4a48-4575-94df-d9a473cd825d",
   "metadata": {},
   "outputs": [
    {
     "name": "stdout",
     "output_type": "stream",
     "text": [
      "Part one: 369\n"
     ]
    }
   ],
   "source": [
    "with open('input_files/02.txt') as file:\n",
    "    reports = parse_input(file)\n",
    "    print('Part one:', sum(is_safe(line) for line in reports))\n"
   ]
  },
  {
   "cell_type": "markdown",
   "id": "17bbaa2d-999c-4372-997b-2a72c7c40f73",
   "metadata": {},
   "source": [
    "## Part Two"
   ]
  },
  {
   "cell_type": "code",
   "execution_count": 5,
   "id": "19cfd224-00bc-413a-afa3-570c00315d3b",
   "metadata": {},
   "outputs": [],
   "source": [
    "def is_safe_dampened(report):\n",
    "    if is_safe(report):\n",
    "        return True\n",
    "    return any(is_safe(report[:index] + report[index+1:]) for index in range(len(report)))"
   ]
  },
  {
   "cell_type": "markdown",
   "id": "c31f1745-99e6-4551-a876-a31c14c0bd15",
   "metadata": {},
   "source": [
    "### Test Input"
   ]
  },
  {
   "cell_type": "code",
   "execution_count": 6,
   "id": "89e3f394-de22-4cd1-9440-510ee873cc5b",
   "metadata": {},
   "outputs": [
    {
     "data": {
      "text/plain": [
       "4"
      ]
     },
     "execution_count": 6,
     "metadata": {},
     "output_type": "execute_result"
    }
   ],
   "source": [
    "reports = parse_input(test_input.split('\\n'))\n",
    "sum(is_safe_dampened(line) for line in reports)"
   ]
  },
  {
   "cell_type": "markdown",
   "id": "8740b010-f967-489c-8937-fb7641a4b928",
   "metadata": {},
   "source": [
    "### Solution"
   ]
  },
  {
   "cell_type": "code",
   "execution_count": 7,
   "id": "f4be75b4-7e25-48a2-934b-df183edb0d23",
   "metadata": {},
   "outputs": [
    {
     "name": "stdout",
     "output_type": "stream",
     "text": [
      "Part two: 428\n"
     ]
    }
   ],
   "source": [
    "with open('input_files/02.txt') as file:\n",
    "    reports = parse_input(file)\n",
    "    print('Part two:',  sum(is_safe_dampened(line) for line in reports))\n"
   ]
  }
 ],
 "metadata": {
  "kernelspec": {
   "display_name": "Python 3 (ipykernel)",
   "language": "python",
   "name": "python3"
  },
  "language_info": {
   "codemirror_mode": {
    "name": "ipython",
    "version": 3
   },
   "file_extension": ".py",
   "mimetype": "text/x-python",
   "name": "python",
   "nbconvert_exporter": "python",
   "pygments_lexer": "ipython3",
   "version": "3.10.12"
  }
 },
 "nbformat": 4,
 "nbformat_minor": 5
}
