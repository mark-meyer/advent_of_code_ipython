{
 "cells": [
  {
   "cell_type": "code",
   "execution_count": 1,
   "id": "39c8f919-0ae4-48cf-bbc2-86a19b4051fe",
   "metadata": {},
   "outputs": [],
   "source": [
    "import re\n",
    "from operator import mul, add\n",
    "\n",
    "rx = re.compile(r'\\d+')"
   ]
  },
  {
   "cell_type": "code",
   "execution_count": 2,
   "id": "f304d80d-bec3-42ec-8bcb-b26a01fd8f75",
   "metadata": {},
   "outputs": [],
   "source": [
    "test_input='''190: 10 19\n",
    "3267: 81 40 27\n",
    "83: 17 5\n",
    "156: 15 6\n",
    "7290: 6 8 6 15\n",
    "161011: 16 10 13\n",
    "192: 17 8 14\n",
    "21037: 9 7 18 13\n",
    "292: 11 6 16 20'''.split('\\n')"
   ]
  },
  {
   "cell_type": "code",
   "execution_count": 3,
   "id": "4c8f2477-3f2f-4061-a5c5-f4a87f4f036b",
   "metadata": {},
   "outputs": [],
   "source": [
    "def is_valid(inputs, total, operators):\n",
    "    if len(inputs) == 1:\n",
    "        return total == inputs[0]\n",
    "    if inputs[0] > total:\n",
    "        return False\n",
    "    a, b, *rest = inputs\n",
    "    return any(is_valid([op(a, b)]+rest, total, operators) for op in operators)\n",
    "\n",
    "def sum_valid(equations, operators):\n",
    "    sum = 0\n",
    "    for total, *inputs in equations:\n",
    "        if is_valid(inputs, total, operators):\n",
    "            sum += total \n",
    "    return sum\n"
   ]
  },
  {
   "cell_type": "markdown",
   "id": "b2c13109-86a0-4e04-a561-cab775ad36d0",
   "metadata": {},
   "source": [
    "## Part One"
   ]
  },
  {
   "cell_type": "code",
   "execution_count": 4,
   "id": "9983dccf-a1f1-4fc2-a437-f2c2510d4693",
   "metadata": {},
   "outputs": [
    {
     "data": {
      "text/plain": [
       "3749"
      ]
     },
     "execution_count": 4,
     "metadata": {},
     "output_type": "execute_result"
    }
   ],
   "source": [
    "test_input = '''190: 10 19\n",
    "3267: 81 40 27\n",
    "83: 17 5\n",
    "156: 15 6\n",
    "7290: 6 8 6 15\n",
    "161011: 16 10 13\n",
    "192: 17 8 14\n",
    "21037: 9 7 18 13\n",
    "292: 11 6 16 20'''.split('\\n')\n",
    "\n",
    "equations_test = [map(int,rx.findall(line)) for line in test_input]\n",
    "\n",
    "sum_valid(equations_test, [mul, add])"
   ]
  },
  {
   "cell_type": "code",
   "execution_count": 5,
   "id": "3cd835b5-7360-44fa-9445-4f024492da66",
   "metadata": {},
   "outputs": [
    {
     "data": {
      "text/plain": [
       "1620690235709"
      ]
     },
     "execution_count": 5,
     "metadata": {},
     "output_type": "execute_result"
    }
   ],
   "source": [
    "with open('input_files/07.txt') as f:\n",
    "    raw_input = f.read().splitlines()\n",
    "\n",
    "equations = [map(int,rx.findall(line)) for line in raw_input]\n",
    "sum_valid(equations, [mul, add])"
   ]
  },
  {
   "cell_type": "markdown",
   "id": "0e6ffa4b-4880-45e4-ab67-23ad8ea198b9",
   "metadata": {},
   "source": [
    "## Part Two"
   ]
  },
  {
   "cell_type": "code",
   "execution_count": 6,
   "id": "7fa09af6-1b23-4abc-a542-0a58367ba733",
   "metadata": {},
   "outputs": [
    {
     "data": {
      "text/plain": [
       "11387"
      ]
     },
     "execution_count": 6,
     "metadata": {},
     "output_type": "execute_result"
    }
   ],
   "source": [
    "def concat(a, b):\n",
    "    return int(str(a) + str(b))\n",
    "\n",
    "equations_test = [map(int,rx.findall(line)) for line in test_input]\n",
    "sum_valid(equations_test, [mul, add, concat])"
   ]
  },
  {
   "cell_type": "code",
   "execution_count": 7,
   "id": "d54bc151-d81b-4214-9117-fdac8d0b8b1b",
   "metadata": {},
   "outputs": [
    {
     "data": {
      "text/plain": [
       "145397611075341"
      ]
     },
     "execution_count": 7,
     "metadata": {},
     "output_type": "execute_result"
    }
   ],
   "source": [
    "equations = [map(int,rx.findall(line)) for line in raw_input]\n",
    "sum_valid(equations, [mul, add, concat])"
   ]
  },
  {
   "cell_type": "code",
   "execution_count": null,
   "id": "7a434a50-e18d-4444-a99c-da63111bc3e1",
   "metadata": {},
   "outputs": [],
   "source": []
  }
 ],
 "metadata": {
  "kernelspec": {
   "display_name": "Python 3 (ipykernel)",
   "language": "python",
   "name": "python3"
  },
  "language_info": {
   "codemirror_mode": {
    "name": "ipython",
    "version": 3
   },
   "file_extension": ".py",
   "mimetype": "text/x-python",
   "name": "python",
   "nbconvert_exporter": "python",
   "pygments_lexer": "ipython3",
   "version": "3.10.12"
  }
 },
 "nbformat": 4,
 "nbformat_minor": 5
}
