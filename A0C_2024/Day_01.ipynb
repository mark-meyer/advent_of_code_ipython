{
 "cells": [
  {
   "cell_type": "code",
   "execution_count": 91,
   "id": "893061ad-9484-40ab-b3f7-4ee6fae87d90",
   "metadata": {},
   "outputs": [],
   "source": [
    "from collections import Counter\n",
    "import textwrap"
   ]
  },
  {
   "cell_type": "markdown",
   "id": "df3b1c34-c005-494b-98e0-7139aed1a694",
   "metadata": {},
   "source": [
    "## Part One"
   ]
  },
  {
   "cell_type": "code",
   "execution_count": 92,
   "id": "1f18e36b-a510-4329-97c2-46477daf6c73",
   "metadata": {},
   "outputs": [],
   "source": [
    "def parse_input(it):\n",
    "    left, right =  zip(*(map(int, line.split()) for line in it))\n",
    "    return left, right\n",
    "\n",
    "def solution_1(left, right):\n",
    "    left = sorted(left)\n",
    "    right = sorted(right)\n",
    "    return sum(abs(l - r) for l, r, in zip(left, right))"
   ]
  },
  {
   "cell_type": "markdown",
   "id": "40288855-5427-43f0-aaa8-06a36a9b3ad2",
   "metadata": {},
   "source": [
    "### Test Input"
   ]
  },
  {
   "cell_type": "code",
   "execution_count": 93,
   "id": "03973d0e-0474-4c1a-9865-612b2ff930d9",
   "metadata": {},
   "outputs": [
    {
     "data": {
      "text/plain": [
       "11"
      ]
     },
     "execution_count": 93,
     "metadata": {},
     "output_type": "execute_result"
    }
   ],
   "source": [
    "test_input = '''3   4\n",
    "4   3\n",
    "2   5\n",
    "1   3\n",
    "3   9\n",
    "3   3'''\n",
    "\n",
    "\n",
    "test_left, tets_right = parse_input(test_input.split('\\n'))\n",
    "\n",
    "solution(test_left, tets_right)"
   ]
  },
  {
   "cell_type": "markdown",
   "id": "85ebe7c3-a5d1-4855-a4d4-3a88318ea9a1",
   "metadata": {},
   "source": [
    "### Solution One"
   ]
  },
  {
   "cell_type": "code",
   "execution_count": 94,
   "id": "5e93c80d-7ead-4185-92c2-905a0dbfb669",
   "metadata": {},
   "outputs": [
    {
     "data": {
      "text/plain": [
       "2430334"
      ]
     },
     "execution_count": 94,
     "metadata": {},
     "output_type": "execute_result"
    }
   ],
   "source": [
    "with open('input_files/01.txt') as file:\n",
    "    left, right = parse_input(file)\n",
    "\n",
    "solution_1(left, right)"
   ]
  },
  {
   "cell_type": "markdown",
   "id": "bb71ec79-30d6-4c16-b164-fc4638fc95e0",
   "metadata": {},
   "source": [
    "## Part Two"
   ]
  },
  {
   "cell_type": "code",
   "execution_count": 95,
   "id": "fbbd6573-1c29-439b-a151-8fed2435a06b",
   "metadata": {},
   "outputs": [],
   "source": [
    "def solution_2(left, right):\n",
    "    counts = Counter(left)\n",
    "    return sum(i * counts[i] for i in right)"
   ]
  },
  {
   "cell_type": "markdown",
   "id": "19e4f0d8-4317-4180-8d40-7eb82dab6afd",
   "metadata": {},
   "source": [
    "### Test Input"
   ]
  },
  {
   "cell_type": "code",
   "execution_count": 96,
   "id": "4b27ec06-cf9f-47ee-9f30-2988ee0ded84",
   "metadata": {},
   "outputs": [
    {
     "data": {
      "text/plain": [
       "31"
      ]
     },
     "execution_count": 96,
     "metadata": {},
     "output_type": "execute_result"
    }
   ],
   "source": [
    "solution_2(test_left, tets_right)"
   ]
  },
  {
   "cell_type": "markdown",
   "id": "2c23f776-5d97-4cf6-9cf7-36dc144ee4b5",
   "metadata": {},
   "source": [
    "### Solution Two"
   ]
  },
  {
   "cell_type": "code",
   "execution_count": 97,
   "id": "6f2f6d4b-21f7-4f18-8fcd-667cf050dc1b",
   "metadata": {},
   "outputs": [
    {
     "data": {
      "text/plain": [
       "28786472"
      ]
     },
     "execution_count": 97,
     "metadata": {},
     "output_type": "execute_result"
    }
   ],
   "source": [
    "solution_2(left, right)"
   ]
  }
 ],
 "metadata": {
  "kernelspec": {
   "display_name": "Python 3 (ipykernel)",
   "language": "python",
   "name": "python3"
  },
  "language_info": {
   "codemirror_mode": {
    "name": "ipython",
    "version": 3
   },
   "file_extension": ".py",
   "mimetype": "text/x-python",
   "name": "python",
   "nbconvert_exporter": "python",
   "pygments_lexer": "ipython3",
   "version": "3.10.12"
  }
 },
 "nbformat": 4,
 "nbformat_minor": 5
}
