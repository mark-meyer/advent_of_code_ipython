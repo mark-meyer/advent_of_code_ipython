{
 "cells": [
  {
   "cell_type": "code",
   "execution_count": 67,
   "id": "6675919e-952f-4ee5-bd57-12a6dc3673ee",
   "metadata": {},
   "outputs": [],
   "source": [
    "from collections import deque, Counter"
   ]
  },
  {
   "cell_type": "code",
   "execution_count": 107,
   "id": "550229fa-1951-4646-a56f-a9d0e8a55c2e",
   "metadata": {},
   "outputs": [],
   "source": [
    "def next_secret(n):\n",
    "    m = n * 64\n",
    "    # mix\n",
    "    n = n ^ m\n",
    "    # prune\n",
    "    n %= 16777216\n",
    "\n",
    "    m = n // 32\n",
    "    n = n ^ m\n",
    "    n %= 16777216\n",
    "\n",
    "    m = n * 2048\n",
    "    n = n ^ m\n",
    "    n %= 16777216\n",
    "\n",
    "    return n\n",
    "\n",
    "\n",
    "def get_nth_secret(n, iterations):\n",
    "    for _ in range(iterations):\n",
    "        n = next_secret(n)\n",
    "    return n"
   ]
  },
  {
   "cell_type": "code",
   "execution_count": 108,
   "id": "f63c76f3-388b-40ab-91b8-52360362f7f6",
   "metadata": {},
   "outputs": [],
   "source": [
    "s='''1\n",
    "10\n",
    "100\n",
    "2024'''.split('\\n')"
   ]
  },
  {
   "cell_type": "code",
   "execution_count": 109,
   "id": "fe3e7458-3690-4d0f-8bb2-2593d1119194",
   "metadata": {},
   "outputs": [
    {
     "name": "stdout",
     "output_type": "stream",
     "text": [
      "[8685429, 4700978, 15273692, 8667524] 37327623\n"
     ]
    }
   ],
   "source": [
    "l = [get_nth_secret(int(c), 2000) for c in s]\n",
    "print(l, sum(l))"
   ]
  },
  {
   "cell_type": "code",
   "execution_count": 110,
   "id": "14358735-a795-4d4b-b192-8bc2866df574",
   "metadata": {},
   "outputs": [
    {
     "data": {
      "text/plain": [
       "20332089158"
      ]
     },
     "execution_count": 110,
     "metadata": {},
     "output_type": "execute_result"
    }
   ],
   "source": [
    "with open('input_files/22.txt') as f:\n",
    "    raw = f.read().splitlines()\n",
    "\n",
    "sum(get_nth_secret(int(c), 2000) for c in raw)"
   ]
  },
  {
   "cell_type": "code",
   "execution_count": 106,
   "id": "5fe20d85-604e-4d4b-a69f-8ab4cf4caf56",
   "metadata": {},
   "outputs": [
    {
     "data": {
      "text/plain": [
       "[((0, -3, 2, 1), 2191)]"
      ]
     },
     "execution_count": 106,
     "metadata": {},
     "output_type": "execute_result"
    }
   ],
   "source": [
    "# A global counter\n",
    "# Each number in the input will add\n",
    "# it's first count of each run to this\n",
    "global_diff_runs = Counter()\n",
    "\n",
    "def get_last_digits(n, iterations):\n",
    "    previous_last_digit = n % 10\n",
    "    # We are only interested in the first of each\n",
    "    # type of run, so track them with this\n",
    "    first_seen_diffruns = set()\n",
    "\n",
    "    # maintains a deque with the invariant that\n",
    "    # it never has more than 4 elements\n",
    "    diff_runs = deque()\n",
    "\n",
    "    # prime the deque with the first run of 4\n",
    "    for _ in range(4):\n",
    "        n = next_secret(n)     \n",
    "        last_digit = n % 10  \n",
    "        diff_runs.append(last_digit-previous_last_digit)\n",
    "        previous_last_digit = last_digit\n",
    "    \n",
    "    k = tuple(diff_runs)\n",
    "    first_seen_diffruns.add(k)\n",
    "    global_diff_runs[k] += last_digit\n",
    "\n",
    "    # Iterate over the rest:\n",
    "    # get a number add it to the right of the\n",
    "    # deque and pop the previous from the left. \n",
    "    # If we haven't seen it, add the digit to the global counter\n",
    "    for _ in range(iterations - 4):\n",
    "        n = next_secret(n)     \n",
    "        last_digit = n % 10\n",
    "        \n",
    "        diff_runs.append(last_digit-previous_last_digit)\n",
    "        diff_runs.popleft()\n",
    "        k = tuple(diff_runs)\n",
    "        if k not in first_seen_diffruns:\n",
    "            first_seen_diffruns.add(k)\n",
    "            global_diff_runs[k] += last_digit\n",
    "        \n",
    "        previous_last_digit = last_digit\n",
    "\n",
    "\n",
    "with open('input_files/22.txt') as f:\n",
    "     raw = f.read().splitlines()\n",
    "\n",
    "for st in raw:\n",
    "    get_last_digits(int(st), 2000)\n",
    "\n",
    "global_diff_runs.most_common(1)"
   ]
  }
 ],
 "metadata": {
  "kernelspec": {
   "display_name": "Python 3 (ipykernel)",
   "language": "python",
   "name": "python3"
  },
  "language_info": {
   "codemirror_mode": {
    "name": "ipython",
    "version": 3
   },
   "file_extension": ".py",
   "mimetype": "text/x-python",
   "name": "python",
   "nbconvert_exporter": "python",
   "pygments_lexer": "ipython3",
   "version": "3.10.12"
  }
 },
 "nbformat": 4,
 "nbformat_minor": 5
}
