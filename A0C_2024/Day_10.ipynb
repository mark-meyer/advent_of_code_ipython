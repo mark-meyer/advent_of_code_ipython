{
 "cells": [
  {
   "cell_type": "code",
   "execution_count": 1,
   "id": "93fbe9a0-cc06-458a-a83a-870eb64cc732",
   "metadata": {},
   "outputs": [],
   "source": [
    "from collections import namedtuple\n",
    "from typing import NamedTuple"
   ]
  },
  {
   "cell_type": "code",
   "execution_count": 3,
   "id": "8b186618-390c-4ad6-967b-9f638b6c366d",
   "metadata": {},
   "outputs": [],
   "source": [
    "class Map:\n",
    "    def __init__(self, data):\n",
    "        self.height = len(data)\n",
    "        self.width = len(data[0])\n",
    "        self.data = [[int(p) for p in line] for line in data]\n",
    "\n",
    "    def __getitem__(self, p):\n",
    "        return self.data[p.row][p.col]\n",
    "\n",
    "    def get_neighbors(self, p):\n",
    "        if p.row > 0:\n",
    "            yield p + Point(-1, 0)\n",
    "        if p.row < self.height - 1:\n",
    "            yield p + Point(1, 0)\n",
    "        if p.col > 0 :\n",
    "            yield p + Point(0, -1)\n",
    "        if p.col < self.width - 1:\n",
    "            yield p + Point(0, 1)\n",
    "\n",
    "    def find(self, item):\n",
    "        for row, line in enumerate(self.data):\n",
    "            for col, char in enumerate(line):\n",
    "                if char == item:\n",
    "                    yield Point(row, col)\n",
    "\n",
    "    def get_distinct(self, start):\n",
    "        if self[start] == 9:\n",
    "            return 1\n",
    "        return sum(self.get_distinct(n) for n in self.get_neighbors(start) if self[n] - self[start] == 1)\n",
    "        \n",
    "    def get_score(self, trailhead):\n",
    "        seen = set()\n",
    "        stack = [trailhead]\n",
    "        count = 0\n",
    "        \n",
    "        while stack:\n",
    "            p = stack.pop()   \n",
    "            if self[p] == 9:\n",
    "                count += 1\n",
    "                continue\n",
    "\n",
    "            for n in self.get_neighbors(p):\n",
    "                if n in seen or self[n] - self[p] != 1:\n",
    "                    continue\n",
    "                stack.append(n)\n",
    "                seen.add(n)\n",
    "                \n",
    "        return count\n",
    "\n",
    "            \n",
    "class Point(NamedTuple):\n",
    "    row: int\n",
    "    col: int\n",
    "\n",
    "    def __add__(self, other):\n",
    "        return Point(self.row + other.row, self.col + other.col)"
   ]
  },
  {
   "cell_type": "code",
   "execution_count": 4,
   "id": "72955932-c49a-4dad-acc4-fd4d5bcc217e",
   "metadata": {},
   "outputs": [
    {
     "data": {
      "text/plain": [
       "36"
      ]
     },
     "execution_count": 4,
     "metadata": {},
     "output_type": "execute_result"
    }
   ],
   "source": [
    "s = '''89010123\n",
    "78121874\n",
    "87430965\n",
    "96549874\n",
    "45678903\n",
    "32019012\n",
    "01329801\n",
    "10456732'''.split('\\n')\n",
    "\n",
    "m = Map(s)\n",
    "sum([m.get_score(p) for p in m.find(0)])"
   ]
  },
  {
   "cell_type": "code",
   "execution_count": 5,
   "id": "ee7bb84f-04f6-49db-a527-185db6b75e64",
   "metadata": {},
   "outputs": [
    {
     "data": {
      "text/plain": [
       "81"
      ]
     },
     "execution_count": 5,
     "metadata": {},
     "output_type": "execute_result"
    }
   ],
   "source": [
    "sum([m.get_distinct(p) for p in m.find(0)])"
   ]
  },
  {
   "cell_type": "code",
   "execution_count": 6,
   "id": "94847ab3-7e78-41bc-a992-fd7c7de5ed96",
   "metadata": {},
   "outputs": [],
   "source": [
    "with open('input_files/10.txt') as f:\n",
    "    s = f.read().splitlines()\n",
    "m = Map(s)"
   ]
  },
  {
   "cell_type": "code",
   "execution_count": 9,
   "id": "f5405a3f-e324-4844-afbc-106cee383589",
   "metadata": {},
   "outputs": [
    {
     "name": "stdout",
     "output_type": "stream",
     "text": [
      "Part one: 459\n",
      "Part two: 1034\n"
     ]
    }
   ],
   "source": [
    "print(\"Part one:\", sum([m.get_score(p) for p in m.find(0)]))\n",
    "\n",
    "print(\"Part two:\", sum([m.get_distinct(p) for p in m.find(0)]))"
   ]
  }
 ],
 "metadata": {
  "kernelspec": {
   "display_name": "Python 3 (ipykernel)",
   "language": "python",
   "name": "python3"
  },
  "language_info": {
   "codemirror_mode": {
    "name": "ipython",
    "version": 3
   },
   "file_extension": ".py",
   "mimetype": "text/x-python",
   "name": "python",
   "nbconvert_exporter": "python",
   "pygments_lexer": "ipython3",
   "version": "3.10.12"
  }
 },
 "nbformat": 4,
 "nbformat_minor": 5
}
