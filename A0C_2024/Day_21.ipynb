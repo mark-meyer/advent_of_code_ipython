{
 "cells": [
  {
   "cell_type": "code",
   "execution_count": 1,
   "id": "89e52e31-17aa-4365-8672-82bfd54575cb",
   "metadata": {},
   "outputs": [],
   "source": [
    "from itertools import combinations, pairwise, permutations,product\n",
    "from typing import NamedTuple\n",
    "import re\n",
    "from collections import Counter\n",
    "\n",
    "class Point(NamedTuple):\n",
    "    row: int\n",
    "    col: int\n",
    "\n",
    "    def __add__(self, other):\n",
    "        return Point(self.row + other.row, self.col + other.col)\n",
    "\n",
    "    def __sub__(self, other):\n",
    "        return Point(self.row - other.row, self.col - other.col)\n",
    "\n",
    "    def vectors(self, other):\n",
    "        v = (other - self).clamp()\n",
    "        return set(p for p in (Point(0, v.col), Point(v.row, 0)) if p != Point(0, 0))\n",
    "\n",
    "    def clamp(self, min_v=-1, max_v=1):\n",
    "        return Point(\n",
    "            row = max(min_v, min(self.row, max_v)),\n",
    "            col = max(min_v, min(self.col, max_v))\n",
    "        )\n",
    "                  \n",
    "class Numpad():\n",
    "\n",
    "    directions = {\n",
    "        Point(1, 0): 'v',\n",
    "        Point(-1, 0): '^',\n",
    "        Point(0, 1): '>',\n",
    "        Point(0, -1): '<',\n",
    "    }\n",
    "    \n",
    "    def __init__(self, pad, controller=False):\n",
    "        self.controller = controller\n",
    "        self.key_lookup = {}\n",
    "        self.numpad = pad\n",
    "        \n",
    "        for row, line in enumerate(self.numpad):\n",
    "            for col, char in enumerate(line):\n",
    "                self.key_lookup[char] = Point(row, col)       \n",
    "            \n",
    "\n",
    "    def best(self, start, end):\n",
    "        start = self.key_lookup[start]\n",
    "        end = self.key_lookup[end]\n",
    "        \n",
    "        dir = (end - start).clamp()\n",
    "        diff = start - end\n",
    "\n",
    "        # group all horizontal and vertial movemenments\n",
    "        # to prefer moves <<^ of ^>< to <^< which requires\n",
    "        # more back and forth to the A key\n",
    "        ns = 'v' * abs(diff.row) if dir.row == 1 else ('^'  * abs(diff.row) if dir.row == -1 else '')\n",
    "        ew = '>' * abs(diff.col) if dir.col == 1 else ('<'  * abs(diff.col) if dir.col == -1 else '')\n",
    "\n",
    "        # To help avoid crossing the empty key on the numpad\n",
    "        numpad_crosses_empty = set([start, end]).issubset(set([Point(0,0),Point(1,0), Point(2, 0), Point(3,1), Point(3,2)]))\n",
    "        \n",
    "        if self.controller:\n",
    "            if end == Point(1, 0):\n",
    "            # can only approach the `<` from the side\n",
    "            # so you need to start vertical then hotizontal                \n",
    "                return ns + ew\n",
    "            elif start == Point(1, 0):\n",
    "            # can only leave `<` from the side\n",
    "            # so go horiz before vertical\n",
    "                return ew + ns\n",
    "            if dir == Point(-1, -1) or dir == Point(1, -1):\n",
    "                # This was a bit of guess and check.\n",
    "                # It means when travelling west\n",
    "                # prefer <^ tp ^< but otherwise prefer the opposite.\n",
    "                # all combinations work on small iterations\n",
    "                # but this produces the lowest on high iterations 🤷\n",
    "                return ew + ns\n",
    "            return ns + ew\n",
    "        else:\n",
    "            if numpad_crosses_empty:\n",
    "                if dir == Point (1, 1):\n",
    "                    # going soutwest, don't go down into the \n",
    "                    # empty space. Strangely, thei does not seem to\n",
    "                    # change the answer.\n",
    "                    return ew + ns\n",
    "                return ns + ew\n",
    "            if dir == Point (1, 1):\n",
    "                return ns + ew\n",
    "            else:\n",
    "                return ew + ns\n",
    "\n",
    "\n",
    "def iterate(n, s, debug=False, control_only=False):\n",
    "    if control_only:\n",
    "        controls = s\n",
    "    else:\n",
    "        controls =  'A'.join([numpad.best(a, b) for a, b in pairwise(s)])+'A'\n",
    "    if debug:\n",
    "        print(controls, len(controls))\n",
    "    for i in range(n):\n",
    "        controls = 'A'.join([controlpad.best(a, b) for a, b in pairwise('A'+controls)])+'A'\n",
    "        if debug:\n",
    "            print(controls, len(controls))\n",
    "    return controls\n",
    "\n",
    "def get_nums(s):\n",
    "    return int(re.search('\\d+', s).group(0))\n"
   ]
  },
  {
   "cell_type": "markdown",
   "id": "deaa9f12-adce-466c-8111-25c03c60e868",
   "metadata": {},
   "source": [
    "### Tools:\n",
    "\n",
    "Make a numpad controller and directional controller. The make a lookup dict to all the possible pairs of directional controllers which is helpful in part two.\n"
   ]
  },
  {
   "cell_type": "code",
   "execution_count": 2,
   "id": "77b2cfb4-9cd9-4130-8ff3-3c3ec45d7d35",
   "metadata": {},
   "outputs": [],
   "source": [
    "nums = [\n",
    "    '789',\n",
    "    '456',\n",
    "    '123',\n",
    "    '#0A'\n",
    "]\n",
    "numpad = Numpad(nums)\n",
    "\n",
    "controls = [\n",
    "    '#^A',\n",
    "    '<v>'\n",
    "]\n",
    "controlpad = Numpad(controls, True)\n",
    "\n",
    "chars = 'v^<>A'\n",
    "lookup = {}\n",
    "for a,b in permutations(chars, r=2):\n",
    "    lookup[a+b] = controlpad.best(a, b)\n"
   ]
  },
  {
   "cell_type": "markdown",
   "id": "6ec67275-3976-45df-8f40-5b604bcd64ac",
   "metadata": {},
   "source": [
    "The primary insight is that the intuition that the order of moves doesn't matter because all manhattan distances take the same amount of steps is wrong.\n",
    "\n",
    "This is a consequence of the `<` key being further away that the others.  \n"
   ]
  },
  {
   "cell_type": "code",
   "execution_count": 3,
   "id": "911718c0-21c0-45ac-bf3e-549ba8e7aa87",
   "metadata": {},
   "outputs": [
    {
     "name": "stdout",
     "output_type": "stream",
     "text": [
      "[72, 68, 72, 70, 70]\n",
      "125742\n"
     ]
    }
   ],
   "source": [
    "with open('input_files/21.txt') as f:\n",
    "    raw = f.read().splitlines()\n",
    "\n",
    "print([len(iterate(2, 'A'+s))  for s in raw])\n",
    "print(sum([len(iterate(2, 'A'+s)) * get_nums(s)   for s in raw]))\n"
   ]
  },
  {
   "cell_type": "code",
   "execution_count": 4,
   "id": "f2c99538-4679-4937-9b99-a91c2d8ca3e6",
   "metadata": {},
   "outputs": [],
   "source": [
    "from itertools import groupby\n",
    "\n",
    "def build_dict(s):\n",
    "    a_count = 0\n",
    "    counts = Counter()\n",
    "\n",
    "    for (a, la), (b, lb) in pairwise((k, len(list(g))) for k, g in groupby(s)):\n",
    "        if la > 1:\n",
    "            a_count += la - 1\n",
    "        counts[a+b] += 1\n",
    "    return counts, a_count\n",
    "\n",
    "\n",
    "def next_dict(d, a_count):\n",
    "    counts = Counter()\n",
    "    for k, count in d.items():   \n",
    "        for a, b in pairwise(k):\n",
    "            if a+b == 'AA':\n",
    "                a_count += 1\n",
    "                continue\n",
    "            next_k = lookup[a+b]\n",
    "            for a, b in pairwise('A' + next_k +'A'):\n",
    "                if a == b:\n",
    "                    a_count += count\n",
    "                    continue\n",
    "                counts[a+b] += count\n",
    "    return counts, a_count\n",
    "\n",
    "def count_iterate(s, i):\n",
    "    s = 'A'.join([numpad.best(a, b) for a, b in pairwise(s)])+'A'\n",
    "    d, a_count = build_dict('A' + s)\n",
    "    for _ in range(i):\n",
    "        d, a_count = next_dict(d, a_count)\n",
    "    return d.total() + a_count\n"
   ]
  },
  {
   "cell_type": "code",
   "execution_count": 5,
   "id": "62adeea5-b6ed-4514-bfc6-bfcdee350d02",
   "metadata": {},
   "outputs": [
    {
     "name": "stdout",
     "output_type": "stream",
     "text": [
      "[72, 68, 72, 70, 70]\n",
      "[72, 68, 72, 70, 70]\n"
     ]
    }
   ],
   "source": [
    "with open('input_files/21.txt') as f:\n",
    "    raw = f.read().splitlines()\n",
    "\n",
    "n = 2\n",
    "# compare to slow version for debugging\n",
    "print([len(iterate(n, 'A'+code))  for code in raw])\n",
    "print([count_iterate('A' + code, n)  for code in raw])\n"
   ]
  },
  {
   "cell_type": "code",
   "execution_count": 6,
   "id": "f6c0b35b-d6af-4440-9168-5c1ac873f2a0",
   "metadata": {},
   "outputs": [
    {
     "name": "stdout",
     "output_type": "stream",
     "text": [
      "157055032722640\n"
     ]
    }
   ],
   "source": [
    "with open('input_files/21.txt') as f:\n",
    "    raw = f.read().splitlines()\n",
    "n = 25\n",
    "print(sum([count_iterate('A' + code, n) * get_nums(code)  for code in raw]))"
   ]
  },
  {
   "cell_type": "code",
   "execution_count": null,
   "id": "aea88b43-dc03-44e8-af2d-f3542aaf6344",
   "metadata": {},
   "outputs": [],
   "source": []
  }
 ],
 "metadata": {
  "kernelspec": {
   "display_name": "Python 3 (ipykernel)",
   "language": "python",
   "name": "python3"
  },
  "language_info": {
   "codemirror_mode": {
    "name": "ipython",
    "version": 3
   },
   "file_extension": ".py",
   "mimetype": "text/x-python",
   "name": "python",
   "nbconvert_exporter": "python",
   "pygments_lexer": "ipython3",
   "version": "3.10.12"
  }
 },
 "nbformat": 4,
 "nbformat_minor": 5
}
