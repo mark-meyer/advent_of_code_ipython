{
 "cells": [
  {
   "cell_type": "code",
   "execution_count": 1,
   "id": "9e23199c-7281-45c6-87eb-495d37dbad36",
   "metadata": {},
   "outputs": [],
   "source": [
    "import re\n",
    "import numpy as np\n",
    "import matplotlib.pyplot as plt"
   ]
  },
  {
   "cell_type": "code",
   "execution_count": 2,
   "id": "9db02d61-c0cf-4931-a538-32dd0512f41e",
   "metadata": {},
   "outputs": [],
   "source": [
    "s = '''p=0,4 v=3,-3\n",
    "p=6,3 v=-1,-3\n",
    "p=10,3 v=-1,2\n",
    "p=2,0 v=2,-1\n",
    "p=0,0 v=1,3\n",
    "p=3,0 v=-2,-2\n",
    "p=7,6 v=-1,-3\n",
    "p=3,0 v=-1,-2\n",
    "p=9,3 v=2,3\n",
    "p=7,3 v=-1,2\n",
    "p=2,4 v=2,-3\n",
    "p=9,5 v=-3,-3'''\n"
   ]
  },
  {
   "cell_type": "code",
   "execution_count": 3,
   "id": "67a0d7cb-1a1d-4784-ad4f-ea230278074c",
   "metadata": {},
   "outputs": [],
   "source": [
    "TEST_HEIGHT = 7\n",
    "TEST_WIDTH = 11\n",
    "\n",
    "def parse(s):\n",
    "    return np.fromiter(map(int, re.findall(r'[-]?\\d+', s)), dtype=int).reshape([-1,2,2])\n",
    "\n",
    "def move(robots, time, w, h):\n",
    "    '''careful -- mutates robots'''\n",
    "    robots[:, 0] += robots[:, 1] * time\n",
    "    robots[:, 0] %= [w, h]\n",
    "\n",
    "def plot(robots, w, h):\n",
    "    grid = [['.'] * w for _ in range(h)]    \n",
    "    for r, v in robots:\n",
    "        x, y, = r\n",
    "        grid[y][x]\n",
    "        if grid[y][x] == '.':\n",
    "             grid[y][x] = 1\n",
    "        else:\n",
    "            grid[y][x] += 1 \n",
    "\n",
    "    for line in grid:\n",
    "        print(''.join(map(str,line)))\n",
    "\n",
    "def safety(robots, w, h):\n",
    "    x_mid = w // 2\n",
    "    y_mid = h // 2\n",
    "    ne = (robots[:,0, 0] > x_mid) & (robots[:,0, 1] < y_mid)\n",
    "    sw = (robots[:,0, 0] < x_mid) & (robots[:,0, 1] > y_mid)\n",
    "    nw = (robots[:,0, 0] < x_mid) & (robots[:,0, 1] < y_mid)\n",
    "    se = (robots[:,0, 0] > x_mid) & (robots[:,0, 1] > y_mid)\n",
    "    print(sum(nw), sum(sw), sum(ne), sum(se))\n",
    "    return sum(nw) * sum(sw) * sum(ne) * sum(se)\n",
    "\n"
   ]
  },
  {
   "cell_type": "code",
   "execution_count": 4,
   "id": "f8647300-ecac-4728-82fb-44b223bc96cf",
   "metadata": {},
   "outputs": [
    {
     "name": "stdout",
     "output_type": "stream",
     "text": [
      "...........\n",
      "...........\n",
      "...........\n",
      "...........\n",
      "..1........\n",
      "...........\n",
      "...........\n",
      "\n",
      "...........\n",
      "....1......\n",
      "...........\n",
      "...........\n",
      "...........\n",
      "...........\n",
      "...........\n",
      "\n",
      "...........\n",
      "...........\n",
      "...........\n",
      "...........\n",
      "...........\n",
      "......1....\n",
      "...........\n",
      "\n",
      "...........\n",
      "...........\n",
      "........1..\n",
      "...........\n",
      "...........\n",
      "...........\n",
      "...........\n",
      "\n",
      "...........\n",
      "...........\n",
      "...........\n",
      "...........\n",
      "...........\n",
      "...........\n",
      "..........1\n",
      "\n",
      "...........\n",
      "...........\n",
      "...........\n",
      ".1.........\n",
      "...........\n",
      "...........\n",
      "...........\n"
     ]
    }
   ],
   "source": [
    "single = '2,4 v=2,-3'\n",
    "single_robot = parse(single)\n",
    "\n",
    "plot(single_robot, TEST_WIDTH, TEST_HEIGHT)\n",
    "\n",
    "for t in range(5):\n",
    "    print()\n",
    "    move(single_robot, 1, TEST_WIDTH, TEST_HEIGHT)\n",
    "    plot(single_robot, TEST_WIDTH, TEST_HEIGHT)\n"
   ]
  },
  {
   "cell_type": "code",
   "execution_count": 5,
   "id": "702496a6-38ac-47b9-a1ff-dba3d9f00f9d",
   "metadata": {},
   "outputs": [
    {
     "name": "stdout",
     "output_type": "stream",
     "text": [
      "......2..1.\n",
      "...........\n",
      "1..........\n",
      ".11........\n",
      ".....1.....\n",
      "...12......\n",
      ".1....1....\n",
      "1 4 3 1\n"
     ]
    },
    {
     "data": {
      "text/plain": [
       "12"
      ]
     },
     "execution_count": 5,
     "metadata": {},
     "output_type": "execute_result"
    }
   ],
   "source": [
    "test_robots = parse(s)\n",
    "move(test_robots, 100, TEST_WIDTH, TEST_HEIGHT)\n",
    "plot(test_robots, TEST_WIDTH, TEST_HEIGHT)\n",
    "\n",
    "safety(test_robots, TEST_WIDTH, TEST_HEIGHT)"
   ]
  },
  {
   "cell_type": "code",
   "execution_count": 6,
   "id": "53a0f4a8-22c8-4eb8-a404-6d86ffcefa22",
   "metadata": {},
   "outputs": [
    {
     "name": "stdout",
     "output_type": "stream",
     "text": [
      "126 115 135 111\n"
     ]
    },
    {
     "data": {
      "text/plain": [
       "217132650"
      ]
     },
     "execution_count": 6,
     "metadata": {},
     "output_type": "execute_result"
    }
   ],
   "source": [
    "WIDTH = 101\n",
    "HEIGHT = 103\n",
    "\n",
    "with open('input_files/14.txt') as f:\n",
    "    raw = f.read()\n",
    "\n",
    "robots = parse(raw)\n",
    "move(robots, 100, WIDTH, HEIGHT)\n",
    "safety(robots, WIDTH, HEIGHT)\n"
   ]
  },
  {
   "cell_type": "code",
   "execution_count": 7,
   "id": "fd2e3200-f226-44df-a40a-cbcc84b1a59e",
   "metadata": {},
   "outputs": [],
   "source": [
    "def draw(robots, w, h):\n",
    "    pic = np.zeros([h, w])\n",
    "    np.add.at(pic, (robots[:,0, 1], robots[:,0, 0]), 1)\n",
    "    return pic\n",
    "\n",
    "\n",
    "def quad_count(robots, w, h):\n",
    "    x_mid = w // 2\n",
    "    y_mid = h // 2\n",
    "    ne = (robots[:,0, 0] > x_mid) & (robots[:,0, 1] < y_mid)\n",
    "    sw = (robots[:,0, 0] < x_mid) & (robots[:,0, 1] > y_mid)\n",
    "    nw = (robots[:,0, 0] < x_mid) & (robots[:,0, 1] < y_mid)\n",
    "    se = (robots[:,0, 0] > x_mid) & (robots[:,0, 1] > y_mid)\n",
    "    return sum(nw),  sum(ne), sum(sw), sum(se)\n",
    "\n",
    "def mid_count(robots, w, h):\n",
    "    x_mid = w // 4\n",
    "    y_mid = h // 4\n",
    "    mid = (robots[:,0, 0] > (x_mid)) & (robots[:,0, 0] < (h - x_mid )) & (robots[:,0, 1] > (y_mid)) & (robots[:,0, 1] < (w - y_mid ))\n",
    "    return sum(mid)\n"
   ]
  },
  {
   "cell_type": "markdown",
   "id": "e926e189-a0e8-4a49-abaa-14f9e27076ce",
   "metadata": {},
   "source": [
    "## Part Two\n",
    "\n",
    "This was basically a lot of guess and check. Things that didn't work:\n",
    "\n",
    "- Assuming a tree shape would be symmetrical and/or bottom eeighted and then comparing the quadrants.\n",
    "- Assuming a tree shape would fill the middle column.\n",
    "- Assuming there would be ornaments where an unsual number of robots occupied the same coordinate.\n",
    "- Assuming there would be emptry spaces in the top corners, becuase, you knwo, chistrmas tree shape.\n",
    "\n",
    "Last effort was looking for an unusual number in the center. 235 was arrived at by gradually increasing the threashold. It only took a few tries."
   ]
  },
  {
   "cell_type": "code",
   "execution_count": 8,
   "id": "cd5d5463-43e7-4ed6-9d17-a86525572f60",
   "metadata": {},
   "outputs": [],
   "source": [
    "count = 0\n",
    "robots = parse(raw)"
   ]
  },
  {
   "cell_type": "code",
   "execution_count": 9,
   "id": "8301c3a9-b349-4ca8-b5ab-c054ed1754a8",
   "metadata": {},
   "outputs": [
    {
     "name": "stdout",
     "output_type": "stream",
     "text": [
      "6516\n"
     ]
    }
   ],
   "source": [
    "while True:\n",
    "    count += 1\n",
    "    if count % 10000 == 0:\n",
    "        print(count)\n",
    "    move(robots, 1, WIDTH, HEIGHT)\n",
    "    if mid_count(robots, WIDTH, HEIGHT) > 235:\n",
    "        print(count)\n",
    "        break "
   ]
  },
  {
   "cell_type": "code",
   "execution_count": 10,
   "id": "ea42e0e3-798b-4152-866b-1a70fb33d804",
   "metadata": {},
   "outputs": [
    {
     "name": "stdout",
     "output_type": "stream",
     "text": [
      "368\n"
     ]
    },
    {
     "data": {
      "image/png": "[encoded data removed]",
      "text/plain": [
       "<Figure size 640x480 with 1 Axes>"
      ]
     },
     "metadata": {},
     "output_type": "display_data"
    }
   ],
   "source": [
    "print(mid_count(robots, WIDTH, HEIGHT))\n",
    "plt.imshow(draw(robots, WIDTH, HEIGHT));"
   ]
  },
  {
   "cell_type": "code",
   "execution_count": null,
   "id": "eba48846-66f1-4588-8f45-1713eb9041c4",
   "metadata": {},
   "outputs": [],
   "source": []
  }
 ],
 "metadata": {
  "kernelspec": {
   "display_name": "Python 3 (ipykernel)",
   "language": "python",
   "name": "python3"
  },
  "language_info": {
   "codemirror_mode": {
    "name": "ipython",
    "version": 3
   },
   "file_extension": ".py",
   "mimetype": "text/x-python",
   "name": "python",
   "nbconvert_exporter": "python",
   "pygments_lexer": "ipython3",
   "version": "3.10.12"
  }
 },
 "nbformat": 4,
 "nbformat_minor": 5
}
