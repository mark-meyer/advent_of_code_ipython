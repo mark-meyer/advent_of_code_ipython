{
 "cells": [
  {
   "cell_type": "code",
   "execution_count": 1,
   "id": "1ae7940a-467b-4f83-aa1a-6d1ac5d6a64d",
   "metadata": {},
   "outputs": [],
   "source": [
    "from collections import deque"
   ]
  },
  {
   "cell_type": "markdown",
   "id": "f8085db6-0d72-4446-88e6-b89d1b28d121",
   "metadata": {},
   "source": [
    "## Part One"
   ]
  },
  {
   "cell_type": "code",
   "execution_count": 2,
   "id": "ae08c27d-9c33-4711-aa09-a5830674b71c",
   "metadata": {},
   "outputs": [],
   "source": [
    "def parse(s):\n",
    "    files = []\n",
    "    free_blocks = deque()\n",
    "    \n",
    "    for id, file_size in enumerate(s[::2]):\n",
    "        files.append((id, int(file_size)))\n",
    "        \n",
    "    for free_size in s[1::2]:\n",
    "        free_blocks.append(int(free_size))\n",
    "        \n",
    "    return files, free_blocks\n",
    "\n",
    "def compact(files, free_blocks):\n",
    "    free_blocks = deque(free_blocks)\n",
    "    files = deque(files)\n",
    "    compact_id, compact_count = files.pop()\n",
    "    pos = 0\n",
    "    checksum = 0\n",
    "    while files:\n",
    "        try:\n",
    "            file_id, size = files.popleft()\n",
    "            for n in range(size):\n",
    "                checksum += file_id * pos\n",
    "                pos += 1\n",
    "        except IndexError:\n",
    "            break\n",
    "\n",
    "        free = free_blocks.popleft()\n",
    "        for n in range(free):\n",
    "            checksum += compact_id * pos\n",
    "            pos += 1\n",
    "            compact_count -= 1\n",
    "            if compact_count < 1:\n",
    "                try:\n",
    "                    compact_id, compact_count = files.pop()\n",
    "                except IndexError:\n",
    "                    break\n",
    "    # straglers:\n",
    "    for i in range(compact_count):\n",
    "        checksum += pos * compact_id\n",
    "        pos += 1        \n",
    "    \n",
    "    return checksum"
   ]
  },
  {
   "cell_type": "code",
   "execution_count": 3,
   "id": "d95f0074-1c2f-4d29-9e48-55c84d39bbda",
   "metadata": {},
   "outputs": [
    {
     "data": {
      "text/plain": [
       "1928"
      ]
     },
     "execution_count": 3,
     "metadata": {},
     "output_type": "execute_result"
    }
   ],
   "source": [
    "s=\"2333133121414131402\"\n",
    "     \n",
    "files, free_blocks = parse(s)\n",
    "compact(files, free_blocks)"
   ]
  },
  {
   "cell_type": "code",
   "execution_count": 4,
   "id": "3ba49c89-52b9-4c89-bfaf-f1b703ae65af",
   "metadata": {},
   "outputs": [
    {
     "name": "stdout",
     "output_type": "stream",
     "text": [
      "part one:  6323641412437\n"
     ]
    }
   ],
   "source": [
    "with open('input_files/09.txt') as f:\n",
    "    s = f.read()\n",
    "\n",
    "files, free_blocks = parse(s)\n",
    "print(\"part one: \", compact(files, free_blocks))"
   ]
  },
  {
   "cell_type": "markdown",
   "id": "e5412031-f72b-4240-99e2-6251a9a1d816",
   "metadata": {},
   "source": [
    "## Part Two"
   ]
  },
  {
   "cell_type": "code",
   "execution_count": 7,
   "id": "d7ea321c-4754-471e-b263-dec5d9689372",
   "metadata": {},
   "outputs": [],
   "source": [
    "def compact_whole_files(files, free_blocks):\n",
    "    # move blocks in next slot with enough space\n",
    "    # Keep track of remaining space and moved ids\n",
    "    disk_blocks = [(space, []) for space in free_blocks]\n",
    "    \n",
    "    for back_index, (file_id, file_size) in enumerate(reversed(files)):\n",
    "        # get the next block with available space\n",
    "        # careful not to find space after this block!\n",
    "        next_free = next(( (i, block) \n",
    "                          for i, block in enumerate(disk_blocks[:len(disk_blocks) - back_index]) \n",
    "                          if block[0] >= file_size), None)\n",
    "        if next_free is not None:\n",
    "            i, (block_size, members) = next_free\n",
    "            disk_blocks[i] = (block_size - file_size, members + [file_id] * file_size)\n",
    "            files[-(back_index+1)] = (0, file_size)\n",
    "\n",
    "    # calculate checksum\n",
    "    pos = 0\n",
    "    checksum = 0\n",
    "\n",
    "    for original, [remaining, moved] in zip(files, disk_blocks):\n",
    "        id, size = original\n",
    "        for _ in range(size):\n",
    "            checksum += pos * id\n",
    "            pos += 1\n",
    "        for id in moved:\n",
    "            checksum += pos * id\n",
    "            pos += 1\n",
    "        pos += remaining\n",
    "    \n",
    "    return checksum"
   ]
  },
  {
   "cell_type": "code",
   "execution_count": 8,
   "id": "273465bd-2ae4-443a-9df7-38912ce6e92a",
   "metadata": {},
   "outputs": [
    {
     "data": {
      "text/plain": [
       "2858"
      ]
     },
     "execution_count": 8,
     "metadata": {},
     "output_type": "execute_result"
    }
   ],
   "source": [
    "s=\"2333133121414131402\"\n",
    "  \n",
    "files, free_blocks = parse(s)\n",
    "compact_whole_files(files, free_blocks)"
   ]
  },
  {
   "cell_type": "code",
   "execution_count": 9,
   "id": "21a32182-766d-4fd3-8f71-fadfd7ef4cf6",
   "metadata": {},
   "outputs": [
    {
     "name": "stdout",
     "output_type": "stream",
     "text": [
      "part two: 6351801932670\n"
     ]
    }
   ],
   "source": [
    "with open('input_files/09.txt') as f:\n",
    "    s = f.read()\n",
    "files, free_blocks = parse(s)\n",
    "\n",
    "print(\"part two:\", compact_whole_files(files, free_blocks))"
   ]
  },
  {
   "cell_type": "code",
   "execution_count": null,
   "id": "59aae5e8-151a-4275-b7df-d71dbce97f6b",
   "metadata": {},
   "outputs": [],
   "source": []
  }
 ],
 "metadata": {
  "kernelspec": {
   "display_name": "Python 3 (ipykernel)",
   "language": "python",
   "name": "python3"
  },
  "language_info": {
   "codemirror_mode": {
    "name": "ipython",
    "version": 3
   },
   "file_extension": ".py",
   "mimetype": "text/x-python",
   "name": "python",
   "nbconvert_exporter": "python",
   "pygments_lexer": "ipython3",
   "version": "3.10.12"
  }
 },
 "nbformat": 4,
 "nbformat_minor": 5
}
