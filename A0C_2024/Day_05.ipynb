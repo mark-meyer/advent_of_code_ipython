{
 "cells": [
  {
   "cell_type": "code",
   "execution_count": 1,
   "id": "67140764-f60b-4211-8c7f-9cc1f0d4cd1e",
   "metadata": {},
   "outputs": [],
   "source": [
    "from collections import defaultdict"
   ]
  },
  {
   "cell_type": "code",
   "execution_count": 2,
   "id": "fdf6d706-5715-4f6b-ac2e-49fce73ef007",
   "metadata": {},
   "outputs": [],
   "source": [
    "test_input = '''47|53\n",
    "97|13\n",
    "97|61\n",
    "97|47\n",
    "75|29\n",
    "61|13\n",
    "75|53\n",
    "29|13\n",
    "97|29\n",
    "53|29\n",
    "61|53\n",
    "97|53\n",
    "61|29\n",
    "47|13\n",
    "75|47\n",
    "97|75\n",
    "47|61\n",
    "75|61\n",
    "47|29\n",
    "75|13\n",
    "53|13\n",
    "\n",
    "75,47,61,53,29\n",
    "97,61,53,29,13\n",
    "75,29,13\n",
    "75,97,47,61,53\n",
    "61,13,29\n",
    "97,13,75,29,47'''"
   ]
  },
  {
   "cell_type": "code",
   "execution_count": 3,
   "id": "8afc6159-643a-4ebf-a6d8-205453c8bf9e",
   "metadata": {},
   "outputs": [],
   "source": [
    "def parse_input(s):\n",
    "    rules, updates = s.split('\\n\\n')\n",
    "\n",
    "    rule_lookup = defaultdict(set)\n",
    "    for line in rules.split('\\n'):\n",
    "        before, after = line.split('|')\n",
    "        rule_lookup[int(before)].add(int(after))\n",
    "\n",
    "    updates = [[int(n) for n in line.split(',')] for line in updates.split('\\n')]\n",
    "    return rule_lookup, updates"
   ]
  },
  {
   "cell_type": "markdown",
   "id": "b66a55af-c152-4e64-a481-85e9e6ad5c7b",
   "metadata": {},
   "source": [
    "## Part One\n",
    "\n",
    "Loop through update. On each page, check if page should be before a page already seen."
   ]
  },
  {
   "cell_type": "code",
   "execution_count": 4,
   "id": "7434e52b-0917-41f2-b3cc-cc9361ae2fc5",
   "metadata": {},
   "outputs": [],
   "source": [
    "def test_update(update, rules):\n",
    "    seen = set()\n",
    "    for page in update:\n",
    "        must_be_before = rules[page]\n",
    "        if not seen.isdisjoint(must_be_before):\n",
    "            return False\n",
    "        seen.add(page)\n",
    "    return True"
   ]
  },
  {
   "cell_type": "markdown",
   "id": "ce6c5582-74fc-4046-a0c7-405827455268",
   "metadata": {},
   "source": [
    "### Test input"
   ]
  },
  {
   "cell_type": "code",
   "execution_count": 5,
   "id": "3c450d21-0df9-4857-9f6c-ebc69fa1e1b8",
   "metadata": {},
   "outputs": [
    {
     "data": {
      "text/plain": [
       "143"
      ]
     },
     "execution_count": 5,
     "metadata": {},
     "output_type": "execute_result"
    }
   ],
   "source": [
    "rules, updates = parse_input(test_input)\n",
    "sum(update[len(update)//2] for update in updates if test_update(update, rules))"
   ]
  },
  {
   "cell_type": "code",
   "execution_count": 6,
   "id": "35e508f1-7020-4a07-a114-9760ec4bafd3",
   "metadata": {},
   "outputs": [
    {
     "name": "stdout",
     "output_type": "stream",
     "text": [
      "Part one: 5064\n"
     ]
    }
   ],
   "source": [
    "with open('input_files/05.txt') as f:\n",
    "    raw_input = f.read()\n",
    "    \n",
    "rules, updates = parse_input(raw_input)\n",
    "\n",
    "answer = sum(update[len(update) // 2] for update in updates if test_update(update, rules))\n",
    "print(\"Part one:\", answer)"
   ]
  },
  {
   "cell_type": "markdown",
   "id": "fff731d6-c080-4a47-a290-38ae4d4abbdc",
   "metadata": {},
   "source": [
    "## Part Two\n",
    "\n",
    "The main rules set seems to have a cycle, so we can't sort the entire graph. Instead, sort the subgraph only containing the needed nodes. These are well-behaved.\n",
    "\n",
    "Let try implementing [Kahn's algorithm](https://en.wikipedia.org/wiki/Topological_sorting#Kahn's_algorithm). "
   ]
  },
  {
   "cell_type": "code",
   "execution_count": 7,
   "id": "c4c6458d-fb9c-45fc-b207-8925bac8ae14",
   "metadata": {},
   "outputs": [],
   "source": [
    "def top_sort(rules, update):\n",
    "    # create subgraph with only needed nodes\n",
    "    subgraph = {n: rules[n] & set(update) for n in update}\n",
    "\n",
    "    # Track how many inbound edges each node has \n",
    "    # to make it easy to test 'if m has no other incoming edges'\n",
    "    inbound_counts = defaultdict(int)\n",
    "    \n",
    "    for n in update:\n",
    "        for dest in subgraph[n]:\n",
    "            inbound_counts[dest] += 1\n",
    "\n",
    "    # Find a node(s) with no inbound edges.\n",
    "    start = subgraph.keys() - inbound_counts.keys()\n",
    "    ordered = []\n",
    "    while start:\n",
    "        n = start.pop()\n",
    "        ordered.append(n)\n",
    "        for m in subgraph[n]:\n",
    "            inbound_counts[m] -= 1\n",
    "            if inbound_counts[m] == 0:\n",
    "                start.add(m)   \n",
    "                        \n",
    "    return ordered\n",
    "\n",
    "def solve(rules, updates):\n",
    "    bad_ordering = [update for update in updates if not test_update(update, rules)]\n",
    "    \n",
    "    total  = 0\n",
    "\n",
    "    for update in bad_ordering:\n",
    "        correct = top_sort(rules, update)\n",
    "        total += correct[len(correct) // 2]\n",
    "\n",
    "    return total"
   ]
  },
  {
   "cell_type": "markdown",
   "id": "fa129615-9c5e-4a2e-8cff-0e7e6e9cd908",
   "metadata": {},
   "source": [
    "### Test input"
   ]
  },
  {
   "cell_type": "code",
   "execution_count": 8,
   "id": "f8be2902-739b-4760-a49a-83ea00567fab",
   "metadata": {},
   "outputs": [
    {
     "data": {
      "text/plain": [
       "123"
      ]
     },
     "execution_count": 8,
     "metadata": {},
     "output_type": "execute_result"
    }
   ],
   "source": [
    "rules, updates = parse_input(test_input)\n",
    "\n",
    "solve(rules, updates)"
   ]
  },
  {
   "cell_type": "code",
   "execution_count": 9,
   "id": "93173e84-64c4-46d0-8058-4c73a87e8a84",
   "metadata": {},
   "outputs": [
    {
     "name": "stdout",
     "output_type": "stream",
     "text": [
      "Part two: 5152\n"
     ]
    }
   ],
   "source": [
    "rules, updates = parse_input(raw_input)\n",
    "print(\"Part two:\", solve(rules, updates))"
   ]
  }
 ],
 "metadata": {
  "kernelspec": {
   "display_name": "Python 3 (ipykernel)",
   "language": "python",
   "name": "python3"
  },
  "language_info": {
   "codemirror_mode": {
    "name": "ipython",
    "version": 3
   },
   "file_extension": ".py",
   "mimetype": "text/x-python",
   "name": "python",
   "nbconvert_exporter": "python",
   "pygments_lexer": "ipython3",
   "version": "3.10.12"
  }
 },
 "nbformat": 4,
 "nbformat_minor": 5
}
