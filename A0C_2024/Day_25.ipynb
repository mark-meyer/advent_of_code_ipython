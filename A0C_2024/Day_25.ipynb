{
 "cells": [
  {
   "cell_type": "code",
   "execution_count": 47,
   "id": "e16942f8-b5b3-4dec-b511-8f6dd0f5ddf6",
   "metadata": {},
   "outputs": [],
   "source": [
    "from itertools import product, starmap\n",
    "\n",
    "with open('input_files/25.txt') as f:\n",
    "    raw = f.read()\n",
    "    raw = raw.split('\\n\\n')\n",
    "    keys, locks = [], []\n",
    "    for group in raw:\n",
    "        counts = [line.count('#')-1 for line in zip(*(group.split('\\n')))]\n",
    "        if group[0][0] == '#':\n",
    "            locks.append(counts)\n",
    "        else:\n",
    "            keys.append(counts)"
   ]
  },
  {
   "cell_type": "code",
   "execution_count": 48,
   "id": "7d7cf4fd-9609-4211-a784-b820e47685d1",
   "metadata": {},
   "outputs": [],
   "source": [
    "def fits(key, lock):\n",
    "    return all(k + l <= 5 for k, l in zip(key, lock))"
   ]
  },
  {
   "cell_type": "code",
   "execution_count": 49,
   "id": "d181aae7-7790-46a8-8f0f-fe00b6ca9642",
   "metadata": {},
   "outputs": [
    {
     "data": {
      "text/plain": [
       "3608"
      ]
     },
     "execution_count": 49,
     "metadata": {},
     "output_type": "execute_result"
    }
   ],
   "source": [
    "sum(starmap(fits, product(keys, locks)))"
   ]
  },
  {
   "cell_type": "code",
   "execution_count": null,
   "id": "e3ec983b-f5c4-4f70-941e-cc19f91a71f2",
   "metadata": {},
   "outputs": [],
   "source": []
  }
 ],
 "metadata": {
  "kernelspec": {
   "display_name": "Python 3 (ipykernel)",
   "language": "python",
   "name": "python3"
  },
  "language_info": {
   "codemirror_mode": {
    "name": "ipython",
    "version": 3
   },
   "file_extension": ".py",
   "mimetype": "text/x-python",
   "name": "python",
   "nbconvert_exporter": "python",
   "pygments_lexer": "ipython3",
   "version": "3.10.12"
  }
 },
 "nbformat": 4,
 "nbformat_minor": 5
}
