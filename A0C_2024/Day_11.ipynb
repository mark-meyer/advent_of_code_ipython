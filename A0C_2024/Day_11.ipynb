{
 "cells": [
  {
   "cell_type": "code",
   "execution_count": 1,
   "id": "8d7a5816-26b9-496a-901b-2b299fefa29a",
   "metadata": {},
   "outputs": [],
   "source": [
    "from functools import cache\n",
    "\n",
    "@cache\n",
    "def process_stone_2(stone, n):\n",
    "    if n == 0:\n",
    "        return 1\n",
    "    if stone == 0:\n",
    "       return process_stone_2(1, n-1)\n",
    "    elif len(str(stone)) % 2 == 0:\n",
    "       stone_s = str(stone)\n",
    "       l = len(stone_s) // 2\n",
    "       return process_stone_2(int(stone_s[:l]), n-1) + process_stone_2(int(stone_s[l:]), n-1)\n",
    "    else:\n",
    "       return process_stone_2(stone * 2024, n-1)\n",
    "       "
   ]
  },
  {
   "cell_type": "code",
   "execution_count": 4,
   "id": "938eda7d-51b3-40ca-95f3-b06b4cb98522",
   "metadata": {},
   "outputs": [
    {
     "data": {
      "text/plain": [
       "218079"
      ]
     },
     "execution_count": 4,
     "metadata": {},
     "output_type": "execute_result"
    }
   ],
   "source": [
    "stones = [4329,385,0,1444386,600463,19,1,56615]\n",
    "sum(process_stone_2(n, 25) for n in stones)"
   ]
  },
  {
   "cell_type": "code",
   "execution_count": 3,
   "id": "dcb3b2fa-9870-4859-9642-56088eb1623c",
   "metadata": {},
   "outputs": [
    {
     "data": {
      "text/plain": [
       "259755538429618"
      ]
     },
     "execution_count": 3,
     "metadata": {},
     "output_type": "execute_result"
    }
   ],
   "source": [
    "stones = [4329,385,0,1444386,600463,19,1,56615]\n",
    "sum(process_stone_2(n, 75) for n in stones)"
   ]
  },
  {
   "cell_type": "code",
   "execution_count": null,
   "id": "acc310c9-5d43-4615-b3ba-0c496cd9d527",
   "metadata": {},
   "outputs": [],
   "source": []
  }
 ],
 "metadata": {
  "kernelspec": {
   "display_name": "Python 3 (ipykernel)",
   "language": "python",
   "name": "python3"
  },
  "language_info": {
   "codemirror_mode": {
    "name": "ipython",
    "version": 3
   },
   "file_extension": ".py",
   "mimetype": "text/x-python",
   "name": "python",
   "nbconvert_exporter": "python",
   "pygments_lexer": "ipython3",
   "version": "3.10.12"
  }
 },
 "nbformat": 4,
 "nbformat_minor": 5
}
