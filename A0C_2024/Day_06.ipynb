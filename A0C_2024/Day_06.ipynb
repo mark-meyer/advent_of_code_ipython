{
 "cells": [
  {
   "cell_type": "markdown",
   "id": "421a9681-029d-44ce-853b-937370978b00",
   "metadata": {},
   "source": [
    "## Part One"
   ]
  },
  {
   "cell_type": "code",
   "execution_count": 1,
   "id": "78439693-9f59-4af2-a00f-53dcb35d3373",
   "metadata": {},
   "outputs": [],
   "source": [
    "directions = [(-1, 0), (0, 1), (1, 0), (0, -1)]\n",
    "dir_index = 0\n",
    "\n",
    "def parse_input(map):\n",
    "    '''\n",
    "    Return the start_position, height, width and set of block positions\n",
    "    '''\n",
    "    h = len(map)\n",
    "    w = len(map[0])\n",
    "    blocks = set()\n",
    "\n",
    "    for row, line in enumerate(map):\n",
    "        for col, symbol in enumerate(line):\n",
    "            if symbol == '#':\n",
    "                blocks.add((row, col))\n",
    "            elif symbol == '^':\n",
    "                start_position = (row, col)\n",
    "\n",
    "    return blocks, start_position, h, w\n",
    "    \n",
    "def patrol(position, dir_index, blocks, h, w):\n",
    "    seen = set()\n",
    "    seen_direction = {}\n",
    "    while 0 <= position[0] < h and 0 <= position[1] < w:\n",
    "        seen.add(position)\n",
    "        # keep track of positions and directions\n",
    "        # to allow short cut in part two\n",
    "        if position not in seen_direction:\n",
    "            seen_direction[position] = dir_index\n",
    "\n",
    "        direction = directions[dir_index]\n",
    "        next_pos = (position[0] + direction[0], position[1] + direction[1])\n",
    "\n",
    "        if next_pos in blocks:\n",
    "            dir_index = (dir_index + 1) % len(directions)\n",
    "        else:\n",
    "\n",
    "            position = next_pos\n",
    "            \n",
    "    return seen_direction\n"
   ]
  },
  {
   "cell_type": "markdown",
   "id": "68226277-cbfb-41e9-a625-9e3b5c9a3e5f",
   "metadata": {},
   "source": [
    "### Test input"
   ]
  },
  {
   "cell_type": "code",
   "execution_count": 2,
   "id": "1f150dd3-237e-46dd-b998-3118d1df1011",
   "metadata": {},
   "outputs": [
    {
     "data": {
      "text/plain": [
       "41"
      ]
     },
     "execution_count": 2,
     "metadata": {},
     "output_type": "execute_result"
    }
   ],
   "source": [
    "test_map = '''....#.....\n",
    ".........#\n",
    "..........\n",
    "..#.......\n",
    ".......#..\n",
    "..........\n",
    ".#..^.....\n",
    "........#.\n",
    "#.........\n",
    "......#...'''.split('\\n')\n",
    "\n",
    "blocks, start_position, h, w = parse_input(test_map)\n",
    "test_seen = patrol(start_position, 0, blocks, h, w)\n",
    "len(test_seen)"
   ]
  },
  {
   "cell_type": "code",
   "execution_count": 3,
   "id": "8bc0f5ba-9d73-4dc9-a132-87a3c1f2a491",
   "metadata": {},
   "outputs": [
    {
     "name": "stdout",
     "output_type": "stream",
     "text": [
      "Part one: 5534\n"
     ]
    }
   ],
   "source": [
    "with open('input_files/06.txt') as f:\n",
    "    map = f.read().splitlines()\n",
    "\n",
    "blocks, start_position, h, w = parse_input(map)\n",
    "seen = patrol(start_position, 0, blocks, h, w)\n",
    "print(\"Part one:\", len(seen))"
   ]
  },
  {
   "cell_type": "markdown",
   "id": "de152c86-1b82-4798-9a86-afd9b1e2389d",
   "metadata": {},
   "source": [
    "## Part Two\n",
    "\n",
    "There must be a better way…"
   ]
  },
  {
   "cell_type": "code",
   "execution_count": 4,
   "id": "c2e90e6c-1f94-47bb-979a-5ec12f354ede",
   "metadata": {},
   "outputs": [],
   "source": [
    "def is_loop(blocks, position, dir_index, h, w):\n",
    "    seen = set()\n",
    "\n",
    "    while 0 <= position[0] < h and 0 <= position[1] < w:\n",
    "        if (position, dir_index) in seen:\n",
    "            return True\n",
    "        seen.add((position, dir_index))\n",
    "        direction = directions[dir_index]\n",
    "        next_pos = (position[0] + direction[0], position[1] + direction[1])\n",
    "        if next_pos in blocks:\n",
    "            dir_index = (dir_index + 1) % len(directions)\n",
    "        else:\n",
    "            position = next_pos\n",
    "            \n",
    "    return False\n",
    "\n",
    "def count_loops(seen_direction, start_position, blocks, h, w):   \n",
    "    loop_count = 0\n",
    "    seen_block = set()\n",
    "    for potential_block, dir_index in seen_direction.items():\n",
    "\n",
    "        # place a block on one of the previous paths and\n",
    "        # start from the spot before with a right turn\n",
    "        d_row, d_col = directions[dir_index]\n",
    "        start = potential_block[0] - d_row, potential_block[1] - d_col\n",
    "\n",
    "        loop = is_loop(blocks | set([potential_block]), start, (dir_index + 1) % len(directions), h, w)\n",
    "        if loop:\n",
    "            loop_count += 1\n",
    "    return loop_count\n"
   ]
  },
  {
   "cell_type": "markdown",
   "id": "6100a4b9-3263-4348-91ab-8de0bff3f19e",
   "metadata": {},
   "source": [
    "### Test input"
   ]
  },
  {
   "cell_type": "code",
   "execution_count": 5,
   "id": "9ce91d33-effc-4f4d-ac37-e30c2b037e4c",
   "metadata": {},
   "outputs": [
    {
     "data": {
      "text/plain": [
       "6"
      ]
     },
     "execution_count": 5,
     "metadata": {},
     "output_type": "execute_result"
    }
   ],
   "source": [
    "blocks, start_position, h, w = parse_input(test_map)\n",
    "\n",
    "count_loops(test_seen, start_position, blocks, h, w)"
   ]
  },
  {
   "cell_type": "code",
   "execution_count": 6,
   "id": "2522a481-e14e-4a37-9ccb-0f1fce28a3ef",
   "metadata": {},
   "outputs": [
    {
     "name": "stdout",
     "output_type": "stream",
     "text": [
      "Part two: 2262\n"
     ]
    }
   ],
   "source": [
    "blocks, start_position, h, w = parse_input(map)\n",
    "count = count_loops(seen, start_position, blocks, h, w)\n",
    "print(\"Part two:\", count)"
   ]
  },
  {
   "cell_type": "code",
   "execution_count": null,
   "id": "7c75592d-669e-45cc-8cf2-119e96832faa",
   "metadata": {},
   "outputs": [],
   "source": []
  }
 ],
 "metadata": {
  "kernelspec": {
   "display_name": "Python 3 (ipykernel)",
   "language": "python",
   "name": "python3"
  },
  "language_info": {
   "codemirror_mode": {
    "name": "ipython",
    "version": 3
   },
   "file_extension": ".py",
   "mimetype": "text/x-python",
   "name": "python",
   "nbconvert_exporter": "python",
   "pygments_lexer": "ipython3",
   "version": "3.10.12"
  }
 },
 "nbformat": 4,
 "nbformat_minor": 5
}
