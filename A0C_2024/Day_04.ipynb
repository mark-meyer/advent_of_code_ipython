{
 "cells": [
  {
   "cell_type": "code",
   "execution_count": 1,
   "id": "08765775-238f-4c7f-8fcc-4075821ac096",
   "metadata": {},
   "outputs": [],
   "source": [
    "class WordSearch:\n",
    "    offsets = (\n",
    "        (1, 0), (0, 1), (-1, 0), (0, -1), (-1, -1), (1, 1), (1, -1), (-1, 1)\n",
    "    )\n",
    "    \n",
    "    def __init__(self, data, word):\n",
    "        self.data = data\n",
    "        self.word = word\n",
    "        self.h = len(data)\n",
    "        self.w = len(data[0])\n",
    "\n",
    "    def get_word(self, p, vector, match_length):\n",
    "        '''\n",
    "        Finds a word of match_length along the path in the direction of vector. \n",
    "        Return None if the length would extend past the edge of the grid\n",
    "        '''\n",
    "        row, col = p\n",
    "\n",
    "        word = []\n",
    "        r, c = vector\n",
    "\n",
    "        for _ in range(match_length):\n",
    "            if 0 <= row < self.h and 0 <= col < self.w:\n",
    "                word.append(self.data[row][col])\n",
    "                row, col = (row + r, col + c)\n",
    "            else:\n",
    "                return\n",
    "        return ''.join(word)\n",
    "\n",
    "    def cross_words(self):\n",
    "        count = 0\n",
    "        vectors = [(1, 1),(1, -1)]\n",
    "        for col, line in enumerate(self.data):\n",
    "            for row, start in enumerate(line):\n",
    "                if all(word in ['SAM', 'MAS'] for word in [\n",
    "                    self.get_word((row, col), vectors[0], 3),\n",
    "                    self.get_word((row, col + 2), vectors[1], 3)\n",
    "                ]):\n",
    "                    count += 1\n",
    "        return count\n",
    "                \n",
    "    \n",
    "    def straight_words(self):\n",
    "        count = 0\n",
    "        for col, line in enumerate(self.data):\n",
    "            for row, start in enumerate(line):\n",
    "                for vector in WordSearch.offsets:\n",
    "                    if self.word == self.get_word((row, col), vector, len(self.word)):\n",
    "                        count += 1\n",
    "        return count\n",
    "        \n",
    "                  \n",
    "        return count            \n",
    "                    "
   ]
  },
  {
   "cell_type": "markdown",
   "id": "4a3cf0a8-350b-4544-8214-71ae0987e5bd",
   "metadata": {},
   "source": [
    "## Part One\n",
    "\n",
    "### Test input"
   ]
  },
  {
   "cell_type": "code",
   "execution_count": 2,
   "id": "82d61329-abe2-4739-8770-1aa397cda909",
   "metadata": {},
   "outputs": [
    {
     "data": {
      "text/plain": [
       "18"
      ]
     },
     "execution_count": 2,
     "metadata": {},
     "output_type": "execute_result"
    }
   ],
   "source": [
    "test_file = '''MMMSXXMASM\n",
    "MSAMXMSMSA\n",
    "AMXSXMAAMM\n",
    "MSAMASMSMX\n",
    "XMASAMXAMM\n",
    "XXAMMXXAMA\n",
    "SMSMSASXSS\n",
    "SAXAMASAAA\n",
    "MAMMMXMMMM\n",
    "MXMXAXMASX'''.split('\\n')\n",
    "\n",
    "test_search = WordSearch(test_file, \"XMAS\")\n",
    "test_search.straight_words()"
   ]
  },
  {
   "cell_type": "code",
   "execution_count": 3,
   "id": "8ddf58e4-e26c-445b-af2a-3ea61d51d44e",
   "metadata": {},
   "outputs": [
    {
     "name": "stdout",
     "output_type": "stream",
     "text": [
      "Part one: 2685\n"
     ]
    }
   ],
   "source": [
    "with open('input_files/04.txt') as f:\n",
    "    s = WordSearch(f.read().splitlines(), \"XMAS\")\n",
    "print(\"Part one:\", s.straight_words())"
   ]
  },
  {
   "cell_type": "markdown",
   "id": "6d4d5ad6-607d-47d4-adab-743063f6111e",
   "metadata": {},
   "source": [
    "## Part two"
   ]
  },
  {
   "cell_type": "code",
   "execution_count": 4,
   "id": "e8a26c2c-1584-48c4-a64b-04ca35166260",
   "metadata": {},
   "outputs": [
    {
     "data": {
      "text/plain": [
       "9"
      ]
     },
     "execution_count": 4,
     "metadata": {},
     "output_type": "execute_result"
    }
   ],
   "source": [
    "test_search.cross_words()"
   ]
  },
  {
   "cell_type": "code",
   "execution_count": 5,
   "id": "d3219d6a-d865-4518-a5f4-d2d2efd79b84",
   "metadata": {},
   "outputs": [
    {
     "name": "stdout",
     "output_type": "stream",
     "text": [
      "Part two: 2048\n"
     ]
    }
   ],
   "source": [
    "print(\"Part two:\", s.cross_words())"
   ]
  },
  {
   "cell_type": "code",
   "execution_count": null,
   "id": "09c06920-0fd7-4170-9a01-66995a2fd560",
   "metadata": {},
   "outputs": [],
   "source": []
  }
 ],
 "metadata": {
  "kernelspec": {
   "display_name": "Python 3 (ipykernel)",
   "language": "python",
   "name": "python3"
  },
  "language_info": {
   "codemirror_mode": {
    "name": "ipython",
    "version": 3
   },
   "file_extension": ".py",
   "mimetype": "text/x-python",
   "name": "python",
   "nbconvert_exporter": "python",
   "pygments_lexer": "ipython3",
   "version": "3.10.12"
  }
 },
 "nbformat": 4,
 "nbformat_minor": 5
}
