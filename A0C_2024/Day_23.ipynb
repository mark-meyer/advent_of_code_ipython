{
 "cells": [
  {
   "cell_type": "code",
   "execution_count": 1,
   "id": "2c7dbb82-b733-439e-828b-b01e9b022470",
   "metadata": {},
   "outputs": [],
   "source": [
    "from collections import defaultdict\n",
    "from itertools import combinations"
   ]
  },
  {
   "cell_type": "code",
   "execution_count": 2,
   "id": "5ab5b801-f968-4a9a-bf3c-3b47a71b3f81",
   "metadata": {},
   "outputs": [],
   "source": [
    "s='''kh-tc\n",
    "qp-kh\n",
    "de-cg\n",
    "ka-co\n",
    "yn-aq\n",
    "qp-ub\n",
    "cg-tb\n",
    "vc-aq\n",
    "tb-ka\n",
    "wh-tc\n",
    "yn-cg\n",
    "kh-ub\n",
    "ta-co\n",
    "de-co\n",
    "tc-td\n",
    "tb-wq\n",
    "wh-td\n",
    "ta-ka\n",
    "td-qp\n",
    "aq-cg\n",
    "wq-ub\n",
    "ub-vc\n",
    "de-ta\n",
    "wq-aq\n",
    "wq-vc\n",
    "wh-yn\n",
    "ka-de\n",
    "kh-ta\n",
    "co-tc\n",
    "wh-qp\n",
    "tb-vc\n",
    "td-yn'''.split('\\n')"
   ]
  },
  {
   "cell_type": "code",
   "execution_count": 3,
   "id": "f9a59897-baa9-404c-9634-eec2aa0f9a3f",
   "metadata": {},
   "outputs": [],
   "source": [
    "def make_graph(s):\n",
    "    graph = defaultdict(set)\n",
    "    for line in s:\n",
    "        a, b = line.split('-')\n",
    "        graph[a].add(b)\n",
    "        graph[b].add(a)\n",
    "    return graph"
   ]
  },
  {
   "cell_type": "code",
   "execution_count": 4,
   "id": "7c143ee6-d40e-4c4e-acde-71925ad241c5",
   "metadata": {},
   "outputs": [
    {
     "name": "stdout",
     "output_type": "stream",
     "text": [
      "{'vc', 'wq', 'yn', 'cg'}\n"
     ]
    }
   ],
   "source": [
    "g = make_graph(s)\n",
    "print(g['aq'])"
   ]
  },
  {
   "cell_type": "code",
   "execution_count": 5,
   "id": "63f7a1a7-4752-41c3-88dd-290f7fa12069",
   "metadata": {},
   "outputs": [
    {
     "data": {
      "text/plain": [
       "{frozenset({'qp', 'td', 'wh'}),\n",
       " frozenset({'co', 'de', 'ta'}),\n",
       " frozenset({'tb', 'vc', 'wq'}),\n",
       " frozenset({'de', 'ka', 'ta'}),\n",
       " frozenset({'co', 'ka', 'ta'}),\n",
       " frozenset({'tc', 'td', 'wh'}),\n",
       " frozenset({'td', 'wh', 'yn'})}"
      ]
     },
     "execution_count": 5,
     "metadata": {},
     "output_type": "execute_result"
    }
   ],
   "source": [
    "def find_parties(g, node):\n",
    "    if not node.startswith('t'):\n",
    "        return\n",
    "    connected = g[node]\n",
    "    for a, b in combinations(connected, r=2):\n",
    "        if b in g[a]:\n",
    "            yield frozenset((node, a, b))\n",
    "    \n",
    "def all_parties(g):\n",
    "    parties = set()\n",
    "    for n in g.keys():\n",
    "        parties.update(find_parties(g, n))\n",
    "    return parties\n",
    "    \n",
    "all_parties(g)"
   ]
  },
  {
   "cell_type": "code",
   "execution_count": 6,
   "id": "eaf12184-e099-4e49-9501-4e3b6ac78240",
   "metadata": {},
   "outputs": [
    {
     "data": {
      "text/plain": [
       "1227"
      ]
     },
     "execution_count": 6,
     "metadata": {},
     "output_type": "execute_result"
    }
   ],
   "source": [
    "with open('input_files/23.txt') as f:\n",
    "    raw = f.read().splitlines()\n",
    "\n",
    "big_g = make_graph(raw)\n",
    "len(all_parties(big_g))"
   ]
  },
  {
   "cell_type": "markdown",
   "id": "d605e539-0612-43a1-8e68-389af959ba73",
   "metadata": {},
   "source": [
    "### Part Two\n",
    "\n",
    "The [clique problem](https://en.wikipedia.org/wiki/Clique_problem) is an NP-Hard problem.  \n",
    "This probably doesn't work in a general case, but I seem to have gotten lucky and found a feature in the input graph that allows such an 'incorrect' approach. Just going to smile an move on 🙈."
   ]
  },
  {
   "cell_type": "code",
   "execution_count": 7,
   "id": "a4b8bfca-8e0c-4df2-90d7-2bca57eb507e",
   "metadata": {},
   "outputs": [
    {
     "data": {
      "text/plain": [
       "'co,de,ka,ta'"
      ]
     },
     "execution_count": 7,
     "metadata": {},
     "output_type": "execute_result"
    }
   ],
   "source": [
    "g = make_graph(s)\n",
    "\n",
    "def find_local_complete(g, node):\n",
    "    connected = g[node]\n",
    "    complete = set([node])\n",
    "    for a in connected:\n",
    "        if complete.issubset(g[a]):\n",
    "            complete.add(a)\n",
    "    return frozenset(complete)\n",
    "\n",
    "def all_complete(g):\n",
    "    parties = set()\n",
    "    for n in g.keys():\n",
    "        parties.add(find_local_complete(g, n))\n",
    "    return parties\n",
    "\n",
    "','.join(sorted(max(all_complete(g), key=len)))"
   ]
  },
  {
   "cell_type": "code",
   "execution_count": 8,
   "id": "340870b0-7aee-49fe-8da8-2c1d0a68a14e",
   "metadata": {},
   "outputs": [
    {
     "data": {
      "text/plain": [
       "'cl,df,ft,ir,iy,ny,qp,rb,sh,sl,sw,wm,wy'"
      ]
     },
     "execution_count": 8,
     "metadata": {},
     "output_type": "execute_result"
    }
   ],
   "source": [
    "','.join(sorted(max(all_complete(big_g), key=len)))"
   ]
  },
  {
   "cell_type": "code",
   "execution_count": null,
   "id": "4d803376-2af1-4228-b6b4-026959addb47",
   "metadata": {},
   "outputs": [],
   "source": []
  }
 ],
 "metadata": {
  "kernelspec": {
   "display_name": "Python 3 (ipykernel)",
   "language": "python",
   "name": "python3"
  },
  "language_info": {
   "codemirror_mode": {
    "name": "ipython",
    "version": 3
   },
   "file_extension": ".py",
   "mimetype": "text/x-python",
   "name": "python",
   "nbconvert_exporter": "python",
   "pygments_lexer": "ipython3",
   "version": "3.10.12"
  }
 },
 "nbformat": 4,
 "nbformat_minor": 5
}
