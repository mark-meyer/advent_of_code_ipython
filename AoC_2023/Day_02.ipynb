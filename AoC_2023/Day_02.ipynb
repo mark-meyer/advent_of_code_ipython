{
 "cells": [
  {
   "cell_type": "markdown",
   "id": "00f537ab-f6df-425f-a1b3-5e5d1f1db816",
   "metadata": {},
   "source": [
    "# Parse Input"
   ]
  },
  {
   "cell_type": "code",
   "execution_count": 115,
   "id": "d0089193-3c1d-4fbc-a39f-cf32599dde2c",
   "metadata": {
    "tags": []
   },
   "outputs": [
    {
     "name": "stdout",
     "output_type": "stream",
     "text": [
      "Parsed Data:\n"
     ]
    },
    {
     "data": {
      "text/plain": [
       "[(1,\n",
       "  [{'red': 7, 'blue': 8},\n",
       "   {'blue': 6, 'red': 6, 'green': 2},\n",
       "   {'red': 2, 'green': 6, 'blue': 8},\n",
       "   {'green': 9, 'red': 2, 'blue': 4},\n",
       "   {'blue': 6, 'green': 4}]),\n",
       " (2,\n",
       "  [{'green': 2, 'blue': 8, 'red': 9},\n",
       "   {'blue': 5, 'red': 11},\n",
       "   {'blue': 5, 'green': 3, 'red': 4},\n",
       "   {'blue': 7, 'red': 8},\n",
       "   {'red': 5, 'green': 3, 'blue': 3},\n",
       "   {'red': 1, 'blue': 5, 'green': 2}]),\n",
       " (3,\n",
       "  [{'red': 4, 'green': 8, 'blue': 2},\n",
       "   {'green': 6, 'red': 2, 'blue': 2},\n",
       "   {'red': 12, 'green': 12, 'blue': 2},\n",
       "   {'green': 10, 'red': 6}])]"
      ]
     },
     "execution_count": 115,
     "metadata": {},
     "output_type": "execute_result"
    }
   ],
   "source": [
    "input_file = \"input_files/day_02_1.txt\"\n",
    "\n",
    "def parse_line(s):\n",
    "    '''\n",
    "    Convert a line of the puzzle input into\n",
    "    a game id and an iterator of the raw draw text\n",
    "    '''\n",
    "    game, groups = s.split(': ')\n",
    "    _, game_id = game.split(' ')\n",
    "    groups = groups.split('; ')\n",
    "    return int(game_id), [parse_draw(g) for g in  groups]\n",
    "    \n",
    "def parse_draw(draw):\n",
    "    '''\n",
    "    Convert a single raw draw string into a mapping of colors to count\n",
    "    '''\n",
    "    draw_data = {}\n",
    "    draws = draw.split(', ')\n",
    "    for d in draws:\n",
    "        n, color = d.split(' ')\n",
    "        draw_data[color] = int(n)\n",
    "    return draw_data  \n",
    "\n",
    "def parse_input(input_file):\n",
    "    with open(input_file) as input_data:\n",
    "        return [parse_line(line.strip()) for line in input_data]\n",
    "\n",
    "input_data = parse_input(input_file)\n",
    "\n",
    "print(\"Parsed Data:\")\n",
    "input_data[:3]"
   ]
  },
  {
   "cell_type": "markdown",
   "id": "fd402ab0-d615-4067-9d57-38cc3cefd72b",
   "metadata": {},
   "source": [
    "# Part One"
   ]
  },
  {
   "cell_type": "code",
   "execution_count": 116,
   "id": "16b6e9f7-1cf2-4cdb-af5b-a1633c64dc18",
   "metadata": {
    "tags": []
   },
   "outputs": [
    {
     "name": "stdout",
     "output_type": "stream",
     "text": [
      "Part One: 2679\n"
     ]
    }
   ],
   "source": [
    " constraint = {\n",
    "    'red': 12,\n",
    "    'green': 13,\n",
    "    'blue': 14\n",
    "}\n",
    "    \n",
    "def is_valid(data, constraint):\n",
    "    '''\n",
    "    Returns true when all value fit within the contraint\n",
    "    '''\n",
    "    return all(constraint[k] >= v for k, v in data.items())\n",
    "\n",
    "part_one = sum(game_id for game_id, data in input_data if all(is_valid(d, constraint) for d in data))\n",
    "print(\"Part One:\", part_one)"
   ]
  },
  {
   "cell_type": "markdown",
   "id": "f0d0ffdd-814e-4d05-93b1-85d3f74c8235",
   "metadata": {
    "tags": []
   },
   "source": [
    "# Part Two"
   ]
  },
  {
   "cell_type": "code",
   "execution_count": 117,
   "id": "8d19b6a9-4608-4293-b62a-c4a5e8feda7d",
   "metadata": {
    "tags": []
   },
   "outputs": [
    {
     "name": "stdout",
     "output_type": "stream",
     "text": [
      "Part Two: 77607\n"
     ]
    }
   ],
   "source": [
    "from math import prod\n",
    "\n",
    "def merge_max(l):\n",
    "    '''\n",
    "    accepts a list of dictionaries and returns the product\n",
    "    of the max values for each key\n",
    "    '''\n",
    "    maxes = {}\n",
    "    for draw in l:\n",
    "        for k, v in draw.items():\n",
    "            try:\n",
    "                maxes[k] = max(v, maxes[k])\n",
    "            except KeyError:\n",
    "                maxes[k] = v\n",
    "    return prod(maxes.values())\n",
    "\n",
    "\n",
    "part_two = sum(merge_max(data) for game_id, data in input_data)\n",
    "print(\"Part Two:\", part_two)"
   ]
  },
  {
   "cell_type": "code",
   "execution_count": null,
   "id": "54e74806-f41e-494a-a021-c029299c0927",
   "metadata": {},
   "outputs": [],
   "source": []
  }
 ],
 "metadata": {
  "kernelspec": {
   "display_name": "Python 3 (ipykernel)",
   "language": "python",
   "name": "python3"
  },
  "language_info": {
   "codemirror_mode": {
    "name": "ipython",
    "version": 3
   },
   "file_extension": ".py",
   "mimetype": "text/x-python",
   "name": "python",
   "nbconvert_exporter": "python",
   "pygments_lexer": "ipython3",
   "version": "3.10.9"
  }
 },
 "nbformat": 4,
 "nbformat_minor": 5
}
