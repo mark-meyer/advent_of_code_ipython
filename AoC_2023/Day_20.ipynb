{
 "cells": [
  {
   "cell_type": "code",
   "execution_count": 1,
   "id": "5a42b79e-da57-40f0-a0a8-7a2b30ec330f",
   "metadata": {
    "tags": []
   },
   "outputs": [],
   "source": [
    "input_file = \"input_files/day_20.txt\"\n",
    "\n",
    "with open(input_file) as lines:\n",
    "    data = lines.read().splitlines()"
   ]
  },
  {
   "cell_type": "markdown",
   "id": "b5fc3677-4b5d-41f8-b637-0a27f590497b",
   "metadata": {},
   "source": [
    "## The Modules\n",
    "\n",
    "Sending a pulse to a module by calling the instance."
   ]
  },
  {
   "cell_type": "code",
   "execution_count": 2,
   "id": "a0f24632-38d0-49dc-9db5-f775b01da9ae",
   "metadata": {
    "tags": []
   },
   "outputs": [],
   "source": [
    "from collections import deque, namedtuple\n",
    "\n",
    "\n",
    "Event = namedtuple('Event', ['to', 'pulse', 'sender', 'push_count'])\n",
    "\n",
    "\n",
    "class Module:\n",
    "    def __init__(self, name):\n",
    "        self.name = name\n",
    "        self.state = False\n",
    "        self.listeners = []\n",
    "        self.calls = {}\n",
    "\n",
    "    def broadcast(self, pulse, caller, events, push_count):\n",
    "        for listener in self.listeners:\n",
    "            events.append((listener, pulse, self, push_count))\n",
    "\n",
    "    def __repr__(self):\n",
    "        return f\"{self.__class__.__name__}({self.name})\"\n",
    "\n",
    "\n",
    "class FlipFlop(Module):\n",
    "    '''\n",
    "    If a flip-flop module receives a high pulse, it is ignored and nothing happens. \n",
    "    However, if a flip-flop module receives a low pulse, it flips between on and off. \n",
    "    '''    \n",
    "    def __call__(self, pulse, caller, events, push_count):\n",
    "        if pulse:\n",
    "            return\n",
    "        self.state = not self.state\n",
    "        pulse = self.state\n",
    "        self.broadcast(pulse, self, events, push_count)\n",
    "\n",
    "        \n",
    "class Conjunction(Module):\n",
    "    '''\n",
    "    If a flip-flop module receives a high pulse, it is ignored and nothing happens. \n",
    "    However, if a flip-flop module receives a low pulse, it flips between on and off. \n",
    "    '''    \n",
    "    def __call__(self, pulse, caller, events, push_count):\n",
    "        '''\n",
    "         When a pulse is received, the conjunction module first updates its memory for that input. \n",
    "         Then, if it remembers high pulses for all inputs, it sends a low pulse; \n",
    "         otherwise, it sends a high pulse.\n",
    "        '''\n",
    "        self.calls[caller.name] = pulse\n",
    "        pulse = not all(self.calls.values())\n",
    "        self.broadcast(pulse, self, events, push_count)\n",
    "                 \n",
    "class Broadcast(Module):        \n",
    "    def __call__(self, pulse, caller, events, push_count):\n",
    "        self.broadcast(pulse, self, events, push_count)\n",
    "\n",
    "    \n",
    "class Output(Module):\n",
    "    def __call__(self, pulse, caller, events, push_count):\n",
    "        pass\n",
    "\n",
    "    \n",
    "class Button():\n",
    "    def __init__(self, events, modules):\n",
    "        self.name = \"The Button\"\n",
    "        self.events = events\n",
    "        self.modules = modules\n",
    "        self.history = []\n",
    "\n",
    "    def push(self, i):\n",
    "        self.history.append(Event(self.modules['broadcaster'], False, self, i))\n",
    "        self.modules['broadcaster'](False, self, self.events, i)\n",
    "\n",
    "        while len(self.events):\n",
    "            f, flag, sender, push_count = self.events.popleft()\n",
    "            self.history.append(Event(f, flag, sender, push_count))\n",
    "            f(flag, sender, self.events, i)\n"
   ]
  },
  {
   "cell_type": "markdown",
   "id": "a945154f-7761-4eba-87b9-d33c739807b0",
   "metadata": {},
   "source": [
    "## Parse input into modules"
   ]
  },
  {
   "cell_type": "code",
   "execution_count": 3,
   "id": "348287f9-26ff-4518-89dc-2656394fa648",
   "metadata": {
    "tags": []
   },
   "outputs": [],
   "source": [
    "def init_modules():\n",
    "    modules = {}\n",
    "\n",
    "    for line in data:\n",
    "        fr, to = line.split(' -> ')\n",
    "        if fr.startswith('%') or fr.startswith('&'):\n",
    "            name = fr[1:] \n",
    "            m = FlipFlop(name) if fr.startswith('%') else Conjunction(name)\n",
    "            modules[name] = m\n",
    "        elif fr == 'broadcaster':\n",
    "            m = Broadcast(fr)\n",
    "            modules[fr] = m\n",
    "        else:\n",
    "            m = Testing(fr)\n",
    "            modules[fr] = m\n",
    "\n",
    "    for line in data:\n",
    "        fr, to = line.split(' -> ')\n",
    "        name = fr[1:] if fr[0] in '%&' else fr\n",
    "        for listener in to.split(', '):\n",
    "            if listener not in modules: # this happens with the output-only modules\n",
    "                modules[listener] =  Output(listener)\n",
    "            listener = modules[listener]\n",
    "            modules[name].listeners.append(listener)\n",
    "            listener.calls[name] = False                     \n",
    "\n",
    "    return modules"
   ]
  },
  {
   "cell_type": "markdown",
   "id": "9105bbb3-dce0-48f7-bfaf-fcbd4d7c9078",
   "metadata": {},
   "source": [
    "## Part One\n",
    "Push the button 1000 times!"
   ]
  },
  {
   "cell_type": "code",
   "execution_count": 4,
   "id": "c30098b4-f202-4ee7-a0ab-7b80fc80f1c1",
   "metadata": {
    "tags": []
   },
   "outputs": [
    {
     "data": {
      "text/plain": [
       "807069600"
      ]
     },
     "execution_count": 4,
     "metadata": {},
     "output_type": "execute_result"
    }
   ],
   "source": [
    "modules = init_modules()            \n",
    "\n",
    "b = Button(deque(), modules)\n",
    "for i in range(1000):\n",
    "    b.push(i)\n",
    "    \n",
    "total_pulses = len(b.history)\n",
    "high_pulses = sum(event.pulse for event in b.history)\n",
    "high_pulses * (total_pulses - high_pulses)"
   ]
  },
  {
   "cell_type": "markdown",
   "id": "f8413fda-7e39-476a-99cd-7a1485a1f928",
   "metadata": {},
   "source": [
    "# Part Two\n",
    "The `rx` module is only connected to one Conjunction module and will only recieve a low pulse when the Conjuction recieves all high pulses from it's predecessors in the chain. Figure out what these grandparent modules are:"
   ]
  },
  {
   "cell_type": "code",
   "execution_count": 5,
   "id": "b2bb7a81-20c8-4aaa-bd39-0fbaa43d17ed",
   "metadata": {
    "tags": []
   },
   "outputs": [
    {
     "name": "stdout",
     "output_type": "stream",
     "text": [
      "{'hf': False}\n",
      "{'nd': False, 'pc': False, 'vd': False, 'tx': False}\n"
     ]
    },
    {
     "data": {
      "text/plain": [
       "['nd', 'pc', 'vd', 'tx']"
      ]
     },
     "execution_count": 5,
     "metadata": {},
     "output_type": "execute_result"
    }
   ],
   "source": [
    "modules = init_modules()            \n",
    "\n",
    "print(modules['rx'].calls)\n",
    "print(modules['hf'].calls)\n",
    "\n",
    "rx_grand_parents = list(modules['hf'].calls.keys())\n",
    "\n",
    "rx_grand_parents"
   ]
  },
  {
   "cell_type": "markdown",
   "id": "cc705b63-32ab-41c1-b719-828c6e23274f",
   "metadata": {},
   "source": [
    "Figure out when each grandparent Conjuction fires a High pulse. By ispecting the history, this seems to happen on a cycle. So press the button a bunch, then query the history"
   ]
  },
  {
   "cell_type": "code",
   "execution_count": 6,
   "id": "8c617f37-7abc-4c0c-865c-d447a808a749",
   "metadata": {
    "tags": []
   },
   "outputs": [],
   "source": [
    "modules = init_modules()  \n",
    "b = Button(deque(), modules)\n",
    "\n",
    "for i in range(1, 10000):\n",
    "    b.push(i)"
   ]
  },
  {
   "cell_type": "code",
   "execution_count": 7,
   "id": "2a236c97-ef4c-49a8-acd8-a0cf22acb66b",
   "metadata": {
    "tags": []
   },
   "outputs": [
    {
     "name": "stdout",
     "output_type": "stream",
     "text": [
      "[('nd', 4019), ('nd', 8038)]\n",
      "[('pc', 3881), ('pc', 7762)]\n",
      "[('vd', 3767), ('vd', 7534)]\n",
      "[('tx', 3769), ('tx', 7538)]\n"
     ]
    }
   ],
   "source": [
    "cycle_lengths = []\n",
    "\n",
    "for gp in rx_grand_parents:\n",
    "    first_few_event = [(gp, event.push_count) for event in b.history if event.sender.name == gp and event.pulse==True]\n",
    "    print(first_few_event)\n",
    "    # get the cycle length\n",
    "    cycle_lengths.append(first_few_event[0][1])\n",
    "        "
   ]
  },
  {
   "cell_type": "code",
   "execution_count": 8,
   "id": "d2397833-a196-444a-aec5-5fd4da6c54e7",
   "metadata": {
    "tags": []
   },
   "outputs": [
    {
     "data": {
      "text/plain": [
       "221453937522197"
      ]
     },
     "execution_count": 8,
     "metadata": {},
     "output_type": "execute_result"
    }
   ],
   "source": [
    "import math\n",
    "\n",
    "math.lcm(*cycle_lengths)"
   ]
  },
  {
   "cell_type": "code",
   "execution_count": null,
   "id": "ac2ecfdb-599e-4a80-8e17-a838176d9cb7",
   "metadata": {},
   "outputs": [],
   "source": []
  }
 ],
 "metadata": {
  "kernelspec": {
   "display_name": "Python 3 (ipykernel)",
   "language": "python",
   "name": "python3"
  },
  "language_info": {
   "codemirror_mode": {
    "name": "ipython",
    "version": 3
   },
   "file_extension": ".py",
   "mimetype": "text/x-python",
   "name": "python",
   "nbconvert_exporter": "python",
   "pygments_lexer": "ipython3",
   "version": "3.10.13"
  }
 },
 "nbformat": 4,
 "nbformat_minor": 5
}
