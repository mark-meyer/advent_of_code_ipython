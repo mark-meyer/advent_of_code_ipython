{
 "cells": [
  {
   "cell_type": "code",
   "execution_count": 5,
   "id": "33c477a4-6546-4685-90bc-e26122cd03eb",
   "metadata": {
    "tags": []
   },
   "outputs": [],
   "source": [
    "input_file = \"input_files/day_22.txt\"\n",
    "\n",
    "with open(input_file) as lines:\n",
    "    data = lines.read().splitlines()"
   ]
  },
  {
   "cell_type": "code",
   "execution_count": 6,
   "id": "9f4128be-78a7-4a63-ad3c-aea54a729a57",
   "metadata": {
    "tags": []
   },
   "outputs": [],
   "source": [
    "from typing import NamedTuple\n",
    "from collections import deque\n",
    "\n",
    "class Brick(NamedTuple):\n",
    "    x1: int\n",
    "    y1: int\n",
    "    z1: int\n",
    "    x2: int\n",
    "    y2: int\n",
    "    z2: int\n",
    "    \n",
    "    def overlaps_x_y(self, other):\n",
    "        '''\n",
    "        Assumes bricks will always be orthogonal to axis -- no diagonals allowed! --\n",
    "        and x1 <= x2 and y1 <= y1\n",
    "        '''\n",
    "        return max(self.x1, other.x1) <= min(self.x2, other.x2) and \\\n",
    "            max(self.y1, other.y1) <= min(self.y2,other.y2)\n",
    "        \n",
    "    def supports(self, other):\n",
    "        return self.overlaps_x_y(other) and min(other.z1, other.z2) - max(self.z1, self.z2)  == 1\n",
    "    \n",
    "    def sink(self, z):\n",
    "        z_size = self.z2 - self.z1\n",
    "        return Brick(self.x1, self.y1, z, self.x2, self.y2, z + z_size)\n",
    "\n",
    "    def max_z(self):\n",
    "        return max(self.z1, self.z2)\n",
    "\n",
    "    def min_z(self):\n",
    "        return min(self.z1, self.z2)\n",
    "\n",
    "def parse_input(lines):\n",
    "    bricks = []\n",
    "    for line in lines:\n",
    "        b = Brick(*(int(component) for end_point in line.split('~') for component in end_point.split(',')))\n",
    "        bricks.append(b)\n",
    "    return bricks\n",
    "        \n",
    "        \n",
    "bricks = parse_input(data)\n",
    "bricks.sort(key = lambda b: (min(b.z1, b.z2), max(b.z1, b.z2)))\n"
   ]
  },
  {
   "cell_type": "markdown",
   "id": "aad0cb6b-4e66-4b3c-ac4d-baa1ebac7f0d",
   "metadata": {},
   "source": [
    "## Part One"
   ]
  },
  {
   "cell_type": "code",
   "execution_count": 7,
   "id": "276d666a-f0fe-4dc1-93d2-e7de812baa15",
   "metadata": {
    "tags": []
   },
   "outputs": [
    {
     "name": "stdout",
     "output_type": "stream",
     "text": [
      "Part One:  490\n"
     ]
    }
   ],
   "source": [
    "from collections import defaultdict\n",
    "\n",
    "def arrange(bricks):\n",
    "    supports = defaultdict(set)\n",
    "    supported_by = defaultdict(set)\n",
    "    \n",
    "    max_index = defaultdict(set)\n",
    "    max_index[bricks[0].max_z()].add(bricks[0])\n",
    "    \n",
    "    ordered = [bricks[0]]\n",
    "    \n",
    "    for b in bricks[1:]:\n",
    "        levels = sorted(max_index.keys(), reverse=True)\n",
    "        first_support_level = next((\n",
    "            level for level in levels \n",
    "            if level <= b.min_z() and any(support.overlaps_x_y(b) for support in max_index[level])\n",
    "        ), None)\n",
    "        if first_support_level is None:\n",
    "            '''bottom'''\n",
    "            base = b.sink(1)\n",
    "            ordered.append(base)\n",
    "            max_index[base.max_z()].add(base)\n",
    "\n",
    "        else:\n",
    "            sunk = b.sink(first_support_level + 1)\n",
    "            for support in max_index[first_support_level]:\n",
    "                if support.supports(sunk):                    \n",
    "                    supports[support].add(sunk)\n",
    "                    supported_by[sunk].add(support)\n",
    "                    \n",
    "            ordered.append(sunk)\n",
    "            max_index[sunk.max_z()].add(sunk)\n",
    "\n",
    "    return ordered, supports, supported_by\n",
    "\n",
    "ordered, supports, supported_by = arrange(bricks)\n",
    "\n",
    "count = 0\n",
    "\n",
    "for i, b in enumerate(ordered):\n",
    "    # set of bricks that b supports\n",
    "    it_supports = supports[b]\n",
    "    if all(len(supported_by[supported]) > 1 for supported in it_supports):\n",
    "        count += 1\n",
    "\n",
    "print(\"Part One: \", count)"
   ]
  },
  {
   "cell_type": "code",
   "execution_count": 8,
   "id": "1bba6fa2-efb5-4dcb-a1c6-1ee9b6afa258",
   "metadata": {
    "tags": []
   },
   "outputs": [
    {
     "data": {
      "text/plain": [
       "96356"
      ]
     },
     "execution_count": 8,
     "metadata": {},
     "output_type": "execute_result"
    }
   ],
   "source": [
    "def destroy(b):\n",
    "    destroyed = set() \n",
    "    to_destroy = deque([b])\n",
    "    count = 0\n",
    "    while len(to_destroy):\n",
    "        current = to_destroy.popleft()\n",
    "        destroyed.add(current)\n",
    "        for s in supports[current]:\n",
    "            if not len(supported_by[s] - destroyed):\n",
    "                count += 1\n",
    "                to_destroy.append(s)\n",
    "        \n",
    "    return count\n",
    "\n",
    "count = 0\n",
    "\n",
    "for b in ordered:  \n",
    "    \n",
    "    count += destroy(b) \n",
    "count   \n"
   ]
  },
  {
   "cell_type": "code",
   "execution_count": null,
   "id": "0524b618-346d-454c-809f-9e979307ee86",
   "metadata": {},
   "outputs": [],
   "source": []
  }
 ],
 "metadata": {
  "kernelspec": {
   "display_name": "Python 3 (ipykernel)",
   "language": "python",
   "name": "python3"
  },
  "language_info": {
   "codemirror_mode": {
    "name": "ipython",
    "version": 3
   },
   "file_extension": ".py",
   "mimetype": "text/x-python",
   "name": "python",
   "nbconvert_exporter": "python",
   "pygments_lexer": "ipython3",
   "version": "3.10.12"
  }
 },
 "nbformat": 4,
 "nbformat_minor": 5
}
