{
 "cells": [
  {
   "cell_type": "code",
   "execution_count": 1,
   "id": "a2049444-8548-45da-87c3-808a375f5362",
   "metadata": {
    "tags": []
   },
   "outputs": [],
   "source": [
    "input_file = \"input_files/day_16.txt\"\n",
    "\n",
    "with open(input_file) as lines:\n",
    "    data = lines.read().splitlines()\n",
    "\n",
    "H = len(data)\n",
    "W = len(data[0]) \n"
   ]
  },
  {
   "cell_type": "code",
   "execution_count": 5,
   "id": "eb5047c3-ab3c-421e-9717-7f05114cb191",
   "metadata": {
    "tags": []
   },
   "outputs": [
    {
     "data": {
      "text/plain": [
       "7927"
      ]
     },
     "execution_count": 5,
     "metadata": {},
     "output_type": "execute_result"
    }
   ],
   "source": [
    "from typing import NamedTuple\n",
    "\n",
    "class Beam(NamedTuple):\n",
    "    row: int\n",
    "    col: int\n",
    "    row_d: int\n",
    "    col_d: int\n",
    "            \n",
    "    def step(self):\n",
    "        return Beam(self.row + self.row_d, self.col + self.col_d, self.row_d, self.col_d)\n",
    "\n",
    "    def move(self, data):\n",
    "        match data[self.row][self.col]:\n",
    "            case '\\\\':\n",
    "                return [Beam(self.row, self.col, self.col_d, self.row_d)]\n",
    "\n",
    "            case '/':\n",
    "                return [Beam(self.row, self.col, -self.col_d, -self.row_d)]\n",
    "            \n",
    "            case '-' if self.col_d == 0:\n",
    "                return [\n",
    "                    Beam(self.row, self.col, self.col_d, -self.row_d),\n",
    "                    Beam(self.row, self.col, self.col_d, self.row_d)\n",
    "                ]                \n",
    "            \n",
    "            case '|' if self.row_d == 0:\n",
    "                return [\n",
    "                    Beam(self.row, self.col, self.col_d, self.row_d),\n",
    "                    Beam(self.row, self.col, -self.col_d, self.row_d)\n",
    "                ]\n",
    "            \n",
    "            case '|' | '-' | '.':\n",
    "                return [self]\n",
    "\n",
    "def go(data, start):\n",
    "    H = len(data)\n",
    "    W = len(data[0]) \n",
    "\n",
    "    seen = set([start])\n",
    "    energized = set()\n",
    "\n",
    "    beams = [Beam(*start)]\n",
    "\n",
    "    while len(beams):\n",
    "        b = beams.pop()\n",
    "        seen.add(b)\n",
    "        energized.add((b.row, b.col))\n",
    "\n",
    "        b = b.step()\n",
    "        \n",
    "        if 0 <= b.row < W and 0 <= b.col < H:\n",
    "            beams.extend(n for n in b.move(data) if n not in seen)\n",
    "\n",
    "    return len(energized)  \n",
    "\n",
    "go(data, (0, 0, 0, 1))"
   ]
  },
  {
   "cell_type": "code",
   "execution_count": 6,
   "id": "3778b676-eb6f-453a-9801-395ee7bc36aa",
   "metadata": {
    "tags": []
   },
   "outputs": [
    {
     "data": {
      "text/plain": [
       "8246"
      ]
     },
     "execution_count": 6,
     "metadata": {},
     "output_type": "execute_result"
    }
   ],
   "source": [
    "\n",
    "t = [(0, i, 1, 0) for i in range(W)]\n",
    "b = [(H - 1, i, -1, 0) for i in range(W)]\n",
    "l = [(i, 0, 0, 1) for i in range(H)]\n",
    "r = [(i, W - 1, 0, -1) for i in range(H)]\n",
    "\n",
    "edges = t + b + l + r\n",
    "\n",
    "max(go(data, edge) for edge in edges)"
   ]
  },
  {
   "cell_type": "code",
   "execution_count": null,
   "id": "928ec4b7-734e-4dc5-8dbb-38e1b10616b5",
   "metadata": {},
   "outputs": [],
   "source": []
  }
 ],
 "metadata": {
  "kernelspec": {
   "display_name": "Python 3 (ipykernel)",
   "language": "python",
   "name": "python3"
  },
  "language_info": {
   "codemirror_mode": {
    "name": "ipython",
    "version": 3
   },
   "file_extension": ".py",
   "mimetype": "text/x-python",
   "name": "python",
   "nbconvert_exporter": "python",
   "pygments_lexer": "ipython3",
   "version": "3.10.9"
  }
 },
 "nbformat": 4,
 "nbformat_minor": 5
}
