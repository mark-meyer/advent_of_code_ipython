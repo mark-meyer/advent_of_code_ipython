{
 "cells": [
  {
   "cell_type": "code",
   "execution_count": 1,
   "id": "bb8bb032-394f-4418-951b-0c68c8f00447",
   "metadata": {
    "tags": []
   },
   "outputs": [],
   "source": [
    "input_file = \"input_files/day_13.txt\"\n",
    "\n",
    "with open(input_file) as lines:\n",
    "    data = lines.read().strip()\n",
    "    data = [[line for line in item.split('\\n')] for item in data.split(\"\\n\\n\")]"
   ]
  },
  {
   "cell_type": "markdown",
   "id": "7291984b-c056-4085-bf30-072caa4430ac",
   "metadata": {
    "tags": []
   },
   "source": [
    "## Part One"
   ]
  },
  {
   "cell_type": "code",
   "execution_count": 2,
   "id": "24f82b58-088c-42ae-bed6-94a156d6b419",
   "metadata": {},
   "outputs": [
    {
     "data": {
      "text/plain": [
       "33356"
      ]
     },
     "execution_count": 2,
     "metadata": {},
     "output_type": "execute_result"
    }
   ],
   "source": [
    "def find_vert_reflections(item):\n",
    "    for axis in range(1, len(item[0])):\n",
    "        if all(l == r for line in item for l, r in zip(line[axis-1::-1],line[axis:])):\n",
    "            return axis\n",
    "    return 0\n",
    "\n",
    "sum(\n",
    "    find_vert_reflections(item) +\n",
    "    100 * find_vert_reflections(list(zip(*item)))\n",
    "    for item in data\n",
    ")"
   ]
  },
  {
   "cell_type": "markdown",
   "id": "e472b5db-25b8-43bf-a815-2c4060bd647b",
   "metadata": {},
   "source": [
    "## Part Two"
   ]
  },
  {
   "cell_type": "code",
   "execution_count": 3,
   "id": "7c00e23e-ab7d-4a3e-9d88-25d7dea73f03",
   "metadata": {
    "tags": []
   },
   "outputs": [
    {
     "data": {
      "text/plain": [
       "28475"
      ]
     },
     "execution_count": 3,
     "metadata": {},
     "output_type": "execute_result"
    }
   ],
   "source": [
    "def find_vert_reflections_smudge(item):\n",
    "    for axis in range(1, len(item[0])):\n",
    "        if sum(l != r for line in item for l, r in zip(line[axis-1::-1],line[axis:])) == 1:\n",
    "            return axis\n",
    "    return 0\n",
    "    \n",
    "sum(\n",
    "    find_vert_reflections_smudge(item) +\n",
    "    100 * find_vert_reflections_smudge(list(zip(*item)))\n",
    "    for item in data\n",
    ")"
   ]
  },
  {
   "cell_type": "code",
   "execution_count": null,
   "id": "76c31a85-0a6c-4199-871e-ad40558e1795",
   "metadata": {},
   "outputs": [],
   "source": []
  }
 ],
 "metadata": {
  "kernelspec": {
   "display_name": "Python 3 (ipykernel)",
   "language": "python",
   "name": "python3"
  },
  "language_info": {
   "codemirror_mode": {
    "name": "ipython",
    "version": 3
   },
   "file_extension": ".py",
   "mimetype": "text/x-python",
   "name": "python",
   "nbconvert_exporter": "python",
   "pygments_lexer": "ipython3",
   "version": "3.10.9"
  }
 },
 "nbformat": 4,
 "nbformat_minor": 5
}
