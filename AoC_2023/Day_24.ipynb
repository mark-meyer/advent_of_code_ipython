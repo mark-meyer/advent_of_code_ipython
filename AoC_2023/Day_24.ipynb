{
 "cells": [
  {
   "cell_type": "code",
   "execution_count": 1,
   "id": "fc057363-d82a-4b5a-aa8c-80352db08756",
   "metadata": {
    "tags": []
   },
   "outputs": [],
   "source": [
    "input_file = \"input_files/day_24.txt\"\n",
    "\n",
    "with open(input_file) as lines:\n",
    "    data = lines.read().splitlines()\n",
    "    "
   ]
  },
  {
   "cell_type": "code",
   "execution_count": 2,
   "id": "2321034e-d649-402a-9440-458436c986e8",
   "metadata": {
    "tags": []
   },
   "outputs": [],
   "source": [
    "import numpy as np\n",
    "\n",
    "def parse_data(data):\n",
    "    result = []\n",
    "    for line in data:\n",
    "        pos, vel = line.split(' @ ')\n",
    "        pos = tuple(map(int, pos.split(', ')))\n",
    "        vel = tuple(map(int, vel.split(', ')))\n",
    "        result.append((pos, vel))\n",
    "    return result\n",
    "\n",
    "d = np.array(parse_data(data), dtype=np.longlong)\n"
   ]
  },
  {
   "cell_type": "markdown",
   "id": "fca2dd7c-7c80-426c-b718-3674c01a09a9",
   "metadata": {},
   "source": [
    "## Part One\n",
    "Small enough to brute force the combinations"
   ]
  },
  {
   "cell_type": "code",
   "execution_count": 3,
   "id": "6a153aef-9e3d-4ba6-93e2-ff8ccd3684fc",
   "metadata": {
    "tags": []
   },
   "outputs": [
    {
     "data": {
      "text/plain": [
       "12740"
      ]
     },
     "execution_count": 3,
     "metadata": {},
     "output_type": "execute_result"
    }
   ],
   "source": [
    "from itertools import combinations\n",
    "\n",
    "bounds_min = 200000000000000\n",
    "bounds_max = 400000000000000\n",
    "count = 0\n",
    "\n",
    "for a, b in combinations(d[:,:,:2], r=2):\n",
    "    '''\n",
    "    a and b in the form of \n",
    "    [point], [vector]\n",
    "    '''\n",
    "    vector = np.column_stack((a[1], - b[1]))\n",
    "    points = b[0] - a[0]\n",
    "\n",
    "    # check if parallel\n",
    "    if np.linalg.matrix_rank(vector) == 2:\n",
    "       \n",
    "        t = np.linalg.solve(vector, points)\n",
    "\n",
    "        # where line a is at time t\n",
    "        intersection_point = a[0] + t[0] * a[1] \n",
    "\n",
    "        in_time = (t > 0).all()\n",
    "        in_box = np.logical_and(intersection_point >= bounds_min, intersection_point <= 400000000000000).all()\n",
    "\n",
    "        if in_box and in_time:\n",
    "            count+= 1\n",
    "\n",
    "count"
   ]
  },
  {
   "cell_type": "markdown",
   "id": "bec2a98e-ea70-41cc-ad1d-af72285d7f7b",
   "metadata": {
    "tags": []
   },
   "source": [
    "## Part Two:\n",
    "\n",
    "🤮 Manually build a system of equations to hand to linalg.solve. There must be a better way."
   ]
  },
  {
   "cell_type": "markdown",
   "id": "0b302dd7-2d7f-42b3-8a85-549848777b1e",
   "metadata": {
    "tags": []
   },
   "source": [
    "$(x,y,z) + t(x^\\prime,y^\\prime, z^\\prime) = (x_0,y_0,z_0) + t(x_0^\\prime,y_0^\\prime, z_0^\\prime)$\n",
    "\n",
    "$(x,y,z) - (x_0,y_0,z_0) =  t((x_0^\\prime,y_0^\\prime, z_0^\\prime) - (x^\\prime,y^\\prime, z^\\prime))$"
   ]
  },
  {
   "cell_type": "code",
   "execution_count": 4,
   "id": "1c8f2688-0058-4cd7-94cd-3446cb7dfec2",
   "metadata": {
    "tags": []
   },
   "outputs": [
    {
     "name": "stdout",
     "output_type": "stream",
     "text": [
      "[131633231355646, 371683716481155, 238674624073734, 268, -197, 68]\n",
      "741991571910536.0\n"
     ]
    }
   ],
   "source": [
    "\n",
    "def part2(lines):    \n",
    "    \n",
    "    diffs_0_1 = lines[1] - lines[0] \n",
    "    diffs_0_2 = lines[2] - lines[0]\n",
    "\n",
    "\n",
    "    a_directions = np.array(\n",
    "     [\n",
    "         [ diffs_0_1[1][1],   -diffs_0_1[1][0],  0,               ],\n",
    "         [ diffs_0_2[1][1],   -diffs_0_2[1][0],  0,               ],\n",
    "         [ diffs_0_1[1][2],   0,                 -diffs_0_1[1][0] ],\n",
    "         [ diffs_0_2[1][2],   0,                 -diffs_0_2[1][0] ],\n",
    "         [ 0,                 diffs_0_1[1][2],   -diffs_0_1[1][1] ],\n",
    "         [ 0,                 diffs_0_2[1][2],   -diffs_0_2[1][1] ]\n",
    "     ])\n",
    "    \n",
    "    a_positions = np.array([\n",
    "        [ -diffs_0_1[0][1],  diffs_0_1[0][0],  0               ],\n",
    "        [ -diffs_0_2[0][1],  diffs_0_2[0][0],  0               ],\n",
    "        [ -diffs_0_1[0][2],  0,                diffs_0_1[0][0] ],\n",
    "        [ -diffs_0_2[0][2],  0,                diffs_0_2[0][0] ],\n",
    "        [   0,               -diffs_0_1[0][2], diffs_0_1[0][1] ],\n",
    "        [   0,               -diffs_0_2[0][2], diffs_0_2[0][1] ],\n",
    "        ])\n",
    "    \n",
    "    A = np.hstack([a_directions, a_positions])\n",
    "\n",
    "    #d _ p\n",
    "    x_y = d[:3,1,0] * d[:3,0,1] \n",
    "    x_z = d[:3,1,0] * d[:3,0,2] \n",
    "    y_z = d[:3,1,1] * d[:3,0,2] \n",
    "    y_x = d[:3,1,1] * d[:3,0,0] \n",
    "    \n",
    "    # p _ d\n",
    "    z_x = d[:3,0,0] * d[:3,1,2]\n",
    "    z_y = d[:3,0,1] * d[:3,1,2]\n",
    "    \n",
    "    x = [\n",
    "        (x_y[0] - x_y[1]) - (y_x[0] - y_x[1]),\n",
    "        (x_y[0] - x_y[2]) - (y_x[0] - y_x[2]),\n",
    "        (x_z[0] - x_z[1]) - (z_x[0] - z_x[1]),\n",
    "        (x_z[0] - x_z[2]) - (z_x[0] - z_x[2]),\n",
    "        (y_z[0] - y_z[1]) - (z_y[0] - z_y[1]),\n",
    "        (y_z[0] - y_z[2]) - (z_y[0] - z_y[2]),\n",
    "    ]\n",
    "    \n",
    "    res = np.linalg.solve(A, x)\n",
    "    print([round(c) for c in res])\n",
    "    return np.ceil(res[:3].sum())\n",
    "\n",
    "\n",
    "print(part2(d[:3]))"
   ]
  },
  {
   "cell_type": "markdown",
   "id": "41f529a6-89d5-4e13-a9bc-04fe731e5dc9",
   "metadata": {},
   "source": [
    "## Will sympy just do this for us? yes...🤦"
   ]
  },
  {
   "cell_type": "code",
   "execution_count": 5,
   "id": "732deb75-5100-4426-898b-49647d72fc9a",
   "metadata": {
    "tags": []
   },
   "outputs": [
    {
     "name": "stdout",
     "output_type": "stream",
     "text": [
      "741991571910536\n"
     ]
    }
   ],
   "source": [
    "import sympy\n",
    "\n",
    "pos_x, pos_y, pos_z, dir_x, dir_y, dir_z = sympy.symbols(\"pos_x, pos_y, pos_z, dir_x, dir_y, dir_z\")\n",
    "\n",
    "eq_components = []\n",
    "\n",
    "for i, ((x, y, z), (vx, vy, vz)) in enumerate(d[:3]):\n",
    "    eq_components.append((pos_y - y) * (vz - dir_z) - (pos_z - z) * (vy - dir_y))\n",
    "    eq_components.append((pos_x - x) * (vy - dir_y) - (pos_y - y) * (vx - dir_x))\n",
    "\n",
    "answer = next(ans for ans in sympy.solve(eq_components) \n",
    "               if all(x.is_integer for x in ans.values())\n",
    "              )\n",
    "    \n",
    "\n",
    "print(answer[pos_x] + answer[pos_y] + answer[pos_z])\n"
   ]
  },
  {
   "cell_type": "code",
   "execution_count": null,
   "id": "6ab7acf9-3230-440b-aff2-6cb0d37f65fe",
   "metadata": {},
   "outputs": [],
   "source": []
  }
 ],
 "metadata": {
  "kernelspec": {
   "display_name": "Python 3 (ipykernel)",
   "language": "python",
   "name": "python3"
  },
  "language_info": {
   "codemirror_mode": {
    "name": "ipython",
    "version": 3
   },
   "file_extension": ".py",
   "mimetype": "text/x-python",
   "name": "python",
   "nbconvert_exporter": "python",
   "pygments_lexer": "ipython3",
   "version": "3.10.12"
  }
 },
 "nbformat": 4,
 "nbformat_minor": 5
}
