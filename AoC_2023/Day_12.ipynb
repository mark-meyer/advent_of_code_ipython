{
 "cells": [
  {
   "cell_type": "code",
   "execution_count": 1,
   "id": "235fdcd9-07e6-4fdd-8977-2476bb186ea7",
   "metadata": {
    "tags": []
   },
   "outputs": [],
   "source": [
    "import re\n",
    "\n",
    "input_file = \"input_files/day_12.txt\"\n",
    "\n",
    "with open(input_file) as lines:\n",
    "    data = [l.strip() for l in lines]"
   ]
  },
  {
   "cell_type": "code",
   "execution_count": 6,
   "id": "4ae1c8c4-876a-48d5-aa5b-ce5aa317c9ad",
   "metadata": {
    "tags": []
   },
   "outputs": [
    {
     "data": {
      "text/plain": [
       "(1000, ('.?????...?', (1, 1, 1)))"
      ]
     },
     "execution_count": 6,
     "metadata": {},
     "output_type": "execute_result"
    }
   ],
   "source": [
    "rx = re.compile(r\"#+\")\n",
    "\n",
    "def parse_lines(data):\n",
    "    lines = []\n",
    "    for line in data:\n",
    "        pattern, counts = line.split()\n",
    "        counts = tuple([int(n) for n in counts.split(',')])\n",
    "        lines.append((pattern, counts))\n",
    "    return lines\n",
    "    \n",
    "lines = parse_lines(data)   \n",
    "len(lines), lines[0]"
   ]
  },
  {
   "cell_type": "markdown",
   "id": "be1fd046-b2ae-42dd-a11d-1ddd2914af16",
   "metadata": {},
   "source": [
    "# Part One\n",
    "\n",
    "The basic idea is to consume each count by matching a string like \".###.\" (if count is three) onto the pattern. For each match recurse on the rest of the pattern and remaining counts. Part two is addressed by memoizing with the LRU cache."
   ]
  },
  {
   "cell_type": "code",
   "execution_count": 3,
   "id": "8976fcdb-6d0d-47d4-906a-7795f56664ac",
   "metadata": {},
   "outputs": [],
   "source": [
    "from functools import cache\n",
    "\n",
    "@cache\n",
    "def find_matches(sub, counts, c=0):\n",
    "    #print(sub, counts, c)\n",
    "    if len(counts) == 0:\n",
    "        ## If there no remaining count and not remaining'#' \n",
    "        ## in the string, this one worked\n",
    "        if '#' not in sub: # this was a good match other wise it wasn't\n",
    "            return 1\n",
    "        # otherise it did not\n",
    "        return 0\n",
    "        \n",
    "    # if the remaining string is too short don't bother continuing\n",
    "    min_string = sum(counts) + len(counts) + 1 \n",
    "    if len(sub) < min_string:\n",
    "        return 0\n",
    "\n",
    "    n, *counts = counts\n",
    "\n",
    "    m = '.' + '#' * n + '.'\n",
    "\n",
    "    # Each count n should represent n '#' characters \n",
    "    # Which must match a string like .###. in the input\n",
    "    # Scan over the string until the point where no \n",
    "    # more matches are possible.\n",
    "    # If a match is found, add the remaining string \n",
    "    # and counts to the stack for further processing\n",
    "    \n",
    "    cc = 0\n",
    "    for i in range(len(sub) - (min_string - n) ):\n",
    "        test_string = sub[i:i+n+2]\n",
    "        remaining = '.' + sub[i+n+2:]\n",
    "\n",
    "        # if we find a sub string with # in it,\n",
    "        # it either needs to consume the count\n",
    "        # or it needs to have a ? in it.\n",
    "        # A string like #.# and a count of 3 means it\n",
    "        # can't match\n",
    "\n",
    "        if test_string[1:1+n] == '#' * n:\n",
    "            #print(\"here\", test_string[1:1+n])\n",
    "            if test_string[-1] != \"#\":\n",
    "                cc += find_matches(remaining, tuple(counts), c)\n",
    "            break\n",
    "        else:\n",
    "            if sub[i] == '#':\n",
    "                # this is passing over a non\n",
    "                break\n",
    "            if all(b=='?' or a==b for a, b in zip(m, sub[i:i+n+2])):\n",
    "                remaining = '.'+sub[i+n+2:]\n",
    "                cc += find_matches(remaining, tuple(counts), c)\n",
    "        \n",
    "\n",
    "    return cc\n"
   ]
  },
  {
   "cell_type": "code",
   "execution_count": 4,
   "id": "46b1924d-4407-4e2a-ae2b-b4bf184e23ab",
   "metadata": {
    "tags": []
   },
   "outputs": [
    {
     "data": {
      "text/plain": [
       "7922"
      ]
     },
     "execution_count": 4,
     "metadata": {},
     "output_type": "execute_result"
    }
   ],
   "source": [
    "sum(find_matches('.'+match[0]+'.', tuple(match[1])) for match in lines)"
   ]
  },
  {
   "cell_type": "markdown",
   "id": "9bba71a6-bea0-461d-83f4-c668f5fbf4fb",
   "metadata": {},
   "source": [
    "# Part Two"
   ]
  },
  {
   "cell_type": "code",
   "execution_count": 5,
   "id": "ea906b0f-e564-44a2-b1fd-4d69b016db0a",
   "metadata": {
    "tags": []
   },
   "outputs": [
    {
     "data": {
      "text/plain": [
       "18093821750095"
      ]
     },
     "execution_count": 5,
     "metadata": {},
     "output_type": "execute_result"
    }
   ],
   "source": [
    "def unfold(pattern, counts):\n",
    "    return ('.'+'?'.join([pattern] * 5) + '.', counts * 5)\n",
    "\n",
    "sum(find_matches(*(unfold(*match))) for match in lines)\n"
   ]
  }
 ],
 "metadata": {
  "kernelspec": {
   "display_name": "Python 3 (ipykernel)",
   "language": "python",
   "name": "python3"
  },
  "language_info": {
   "codemirror_mode": {
    "name": "ipython",
    "version": 3
   },
   "file_extension": ".py",
   "mimetype": "text/x-python",
   "name": "python",
   "nbconvert_exporter": "python",
   "pygments_lexer": "ipython3",
   "version": "3.10.9"
  }
 },
 "nbformat": 4,
 "nbformat_minor": 5
}
