{
 "cells": [
  {
   "cell_type": "code",
   "execution_count": 1,
   "id": "17b29085-dee8-4bce-a4c9-14d74d9335e9",
   "metadata": {
    "tags": []
   },
   "outputs": [],
   "source": [
    "input_file = \"input_files/day_09.txt\"\n",
    "\n",
    "with open(input_file) as lines:\n",
    "    data = [[int(n) for n in line.split()] for line in lines]"
   ]
  },
  {
   "cell_type": "markdown",
   "id": "867b71f4-c778-42bf-8369-aeb6b4bdc102",
   "metadata": {},
   "source": [
    "## Part One"
   ]
  },
  {
   "cell_type": "code",
   "execution_count": 2,
   "id": "ecd48bab-346e-49c6-a04f-7810d47ca0f1",
   "metadata": {
    "tags": []
   },
   "outputs": [
    {
     "data": {
      "text/plain": [
       "1731106378"
      ]
     },
     "execution_count": 2,
     "metadata": {},
     "output_type": "execute_result"
    }
   ],
   "source": [
    "def transform_to_zero(l):\n",
    "    transforms = [l]\n",
    "    while not all(n == 0 for n in l):\n",
    "        l = [b-a for a, b in zip(l, l[1:])]\n",
    "        transforms.append(l)\n",
    "        \n",
    "    return transforms\n",
    "\n",
    "def transform_forward(l):\n",
    "    return sum(sub[-1] for sub in transform_to_zero(l))\n",
    "    \n",
    "sum(map(transform_forward, data))\n"
   ]
  },
  {
   "cell_type": "markdown",
   "id": "8a294aee-7da4-48f3-91e1-faef6a1ad1b3",
   "metadata": {
    "tags": []
   },
   "source": [
    "## Part 2"
   ]
  },
  {
   "cell_type": "code",
   "execution_count": 3,
   "id": "a8574c46-ad96-4047-bdc1-2d571857ca7e",
   "metadata": {
    "tags": []
   },
   "outputs": [
    {
     "data": {
      "text/plain": [
       "1087"
      ]
     },
     "execution_count": 3,
     "metadata": {},
     "output_type": "execute_result"
    }
   ],
   "source": [
    "from functools import reduce\n",
    "\n",
    "def transform_backward(l):\n",
    "    transforms = transform_to_zero(l)\n",
    "    return reduce(lambda a, c: c[0] - a, reversed(transforms), 0)\n",
    "    \n",
    "sum(map(transform_backward, data))\n"
   ]
  },
  {
   "cell_type": "code",
   "execution_count": null,
   "id": "53e53351-007a-4c8a-b8b1-ca60f26632d6",
   "metadata": {},
   "outputs": [],
   "source": []
  }
 ],
 "metadata": {
  "kernelspec": {
   "display_name": "Python 3 (ipykernel)",
   "language": "python",
   "name": "python3"
  },
  "language_info": {
   "codemirror_mode": {
    "name": "ipython",
    "version": 3
   },
   "file_extension": ".py",
   "mimetype": "text/x-python",
   "name": "python",
   "nbconvert_exporter": "python",
   "pygments_lexer": "ipython3",
   "version": "3.10.9"
  }
 },
 "nbformat": 4,
 "nbformat_minor": 5
}
