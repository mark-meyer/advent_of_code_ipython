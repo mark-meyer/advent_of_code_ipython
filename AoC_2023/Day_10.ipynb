{
 "cells": [
  {
   "cell_type": "code",
   "execution_count": 1,
   "id": "603995af-95a4-4442-8b15-c4f59ae1ec48",
   "metadata": {
    "tags": []
   },
   "outputs": [],
   "source": [
    "from collections import defaultdict, deque\n",
    "\n",
    "input_file = \"input_files/day_10.txt\"\n",
    "\n",
    "with open(input_file) as lines:\n",
    "    data = [l.strip() for l in lines]"
   ]
  },
  {
   "cell_type": "code",
   "execution_count": 2,
   "id": "64478b18-abd9-4f0b-853d-1145b8375b4f",
   "metadata": {
    "tags": []
   },
   "outputs": [
    {
     "name": "stdout",
     "output_type": "stream",
     "text": [
      "S location: (17, 83)\n"
     ]
    }
   ],
   "source": [
    "N = [-1, 0]\n",
    "S = [1, 0]\n",
    "E = [0, 1]\n",
    "W = [0, -1]\n",
    "\n",
    "# col, row\n",
    "pipes = {\n",
    "    \"|\": (N, S),\n",
    "    \"-\": (E, W),\n",
    "    \"L\": (N, E),\n",
    "    \"J\": (N, W),\n",
    "    \"7\": (S, W),\n",
    "    \"F\": (S, E)\n",
    "}\n",
    "\n",
    "def make_graph(data):\n",
    "    '''\n",
    "    Create a adjacency list map\n",
    "    return the location of the start node and graph\n",
    "    '''\n",
    "    h, w = len(data), len(data[0])\n",
    "    s = None\n",
    "    symbols = defaultdict(list)\n",
    "    s_connections = []\n",
    "    \n",
    "    # find the start to make the next\n",
    "    # step easier since we don't know how S connects\n",
    "    for row, line  in enumerate(data):\n",
    "        for col, symbol in enumerate(line):\n",
    "            if symbol == 'S':\n",
    "                s = (row, col)\n",
    "\n",
    "    for row, line  in enumerate(data):\n",
    "        for col, symbol in enumerate(line):\n",
    "            if symbol == '.' or symbol == 'S':\n",
    "                continue\n",
    "            for (r_d, c_d) in pipes[symbol]:\n",
    "                con = (row + r_d, col + c_d)\n",
    "                if con == s:\n",
    "                    s_connections.append((row, col))\n",
    "                symbols[(row, col)].append(con)\n",
    "\n",
    "    symbols[s] = s_connections  \n",
    "    return s, symbols\n",
    "\n",
    "start, g = make_graph(data)\n",
    "\n",
    "print(\"S location:\", start)"
   ]
  },
  {
   "cell_type": "markdown",
   "id": "3cbbef68-cbee-4c65-b462-01e9a9f06a17",
   "metadata": {},
   "source": [
    "## Part One\n",
    "Breadth first travesal of the graph keeping track of the max depth"
   ]
  },
  {
   "cell_type": "code",
   "execution_count": 3,
   "id": "07cf53a1-8c07-47e3-9c37-cb68cbe690dc",
   "metadata": {
    "tags": []
   },
   "outputs": [
    {
     "data": {
      "text/plain": [
       "7063"
      ]
     },
     "execution_count": 3,
     "metadata": {},
     "output_type": "execute_result"
    }
   ],
   "source": [
    "def bfs(g, start):\n",
    "    seen = set()\n",
    "    q = deque([(start,0)])\n",
    "    max_depth = 0\n",
    "\n",
    "    while len(q):\n",
    "        node, depth = q.popleft()\n",
    "        for next_node in g[node]:\n",
    "            if next_node not in seen:\n",
    "                seen.add(next_node)\n",
    "                q.append((next_node, depth + 1))\n",
    "                max_depth = max(depth + 1, max_depth)\n",
    "                \n",
    "    return max_depth\n",
    "   \n",
    "max_depth = bfs(g, start)\n",
    "max_depth"
   ]
  },
  {
   "cell_type": "markdown",
   "id": "afc7b219-1643-4b38-b181-4dc4bb5b124f",
   "metadata": {},
   "source": [
    "## Part Two\n",
    "\n",
    "Find the ordered polygon based on the graph. For each coordinate not part of the polygon, use the winding rule to determine if it is inside or outside the boundary. It's probably more effience to count edges (ray crossing), but the case where \"there doesn't even need to be a full tile path\" is problematic."
   ]
  },
  {
   "cell_type": "code",
   "execution_count": 4,
   "id": "3b917588-8788-4b4e-be34-b69fa1ab3ebc",
   "metadata": {
    "tags": []
   },
   "outputs": [
    {
     "data": {
      "text/plain": [
       "14127"
      ]
     },
     "execution_count": 4,
     "metadata": {},
     "output_type": "execute_result"
    }
   ],
   "source": [
    "def get_polygon(g, start, first):\n",
    "    # pick a starting direction:\n",
    "    curr_vertice = g[start][0]\n",
    "    \n",
    "    poly = [start, curr_vertice]\n",
    "   \n",
    "    # loop through graph picking the node we have not just traversed\n",
    "    while curr_vertice != start:\n",
    "        curr_vertice = next(p for p in g[poly[-1]] if p != poly[-2])\n",
    "        poly.append(curr_vertice)\n",
    "    return poly\n",
    "\n",
    "p = get_polygon(g, start,  (17, 82))\n",
    "len(p)"
   ]
  },
  {
   "cell_type": "code",
   "execution_count": 5,
   "id": "62338c15-c838-475e-a801-4025b9751823",
   "metadata": {
    "tags": []
   },
   "outputs": [],
   "source": [
    "from itertools import pairwise\n",
    "\n",
    "def determinant(p, start, end):\n",
    "    x, y = p\n",
    "    x0, y0 = start\n",
    "    x1, y1 = end\n",
    "    return (x1 - x0) * (y - y0) - (y1 - y0) * (x - x0)\n",
    "\n",
    "def get_winding_number(tile, polygon):\n",
    "    windings = 0\n",
    "    x, y = tile\n",
    "    ys = [p[1] for p in polygon]\n",
    "    \n",
    "    for (y0, y1), (pol1, pol2) in zip(pairwise(ys), pairwise(polygon)):\n",
    "        if y0 <= y:\n",
    "            if y1 > y:\n",
    "                if determinant(tile, pol1, pol2) > 0:\n",
    "                    windings += 1\n",
    "        elif y1 <= y:\n",
    "            if determinant(tile, pol1, pol2) < 0:\n",
    "                windings -= 1\n",
    "    return windings\n",
    "\n",
    "def get_tiles(data, poly):\n",
    "    borders = set(poly)\n",
    "    tiles = []\n",
    "    for row, line in enumerate(data):\n",
    "        for col, ch in enumerate(line):\n",
    "            if (row, col) not in borders:\n",
    "                tiles.append((row, col))\n",
    "    return tiles\n"
   ]
  },
  {
   "cell_type": "code",
   "execution_count": 6,
   "id": "f7af1a0a-5398-4068-8197-597f0ab3e1d9",
   "metadata": {
    "tags": []
   },
   "outputs": [
    {
     "data": {
      "text/plain": [
       "589"
      ]
     },
     "execution_count": 6,
     "metadata": {},
     "output_type": "execute_result"
    }
   ],
   "source": [
    "tiles = get_tiles(data, p)\n",
    "sum(get_winding_number(tile, p) != 0 for tile in tiles)"
   ]
  },
  {
   "cell_type": "markdown",
   "id": "7332966d-859a-4c98-94ca-236bf0412099",
   "metadata": {
    "tags": []
   },
   "source": [
    "# Part 2: counting edges with numpy is **much** faster\n",
    "Take the count of edges from the point toward the left. Only count the '|' and do a little math to make sure the corner combinations are even for LJ and F7 combinations (they won't count) and odd for L7 and FJ combinations they do count as a block. \n",
    "\n",
    "Then find if the count is even or odd. Odd counts are inside. Cheating a bit and considering the `S` node a 'J' by inpecting the input."
   ]
  },
  {
   "cell_type": "code",
   "execution_count": 7,
   "id": "9207346f-3dd4-445a-b15e-e8159beac6bd",
   "metadata": {
    "tags": []
   },
   "outputs": [
    {
     "data": {
      "text/plain": [
       "589"
      ]
     },
     "execution_count": 7,
     "metadata": {},
     "output_type": "execute_result"
    }
   ],
   "source": [
    "import numpy as np\n",
    "\n",
    "m = np.zeros([len(data), len(data[0])], dtype=int)\n",
    "\n",
    "for x, y in p:\n",
    "    char = data[x][y]\n",
    "    if char == '|':\n",
    "        m[x, y] = 1 \n",
    "    elif char in '7F':\n",
    "        m[x, y] = 1\n",
    "\n",
    "cumsum = np.cumsum(m, axis=1)\n",
    "\n",
    "# don't count the actual path\n",
    "cumsum[tuple(zip(*p))] = 0\n",
    "\n",
    "(cumsum % 2 == 1).sum()\n"
   ]
  }
 ],
 "metadata": {
  "kernelspec": {
   "display_name": "Python 3 (ipykernel)",
   "language": "python",
   "name": "python3"
  },
  "language_info": {
   "codemirror_mode": {
    "name": "ipython",
    "version": 3
   },
   "file_extension": ".py",
   "mimetype": "text/x-python",
   "name": "python",
   "nbconvert_exporter": "python",
   "pygments_lexer": "ipython3",
   "version": "3.10.9"
  }
 },
 "nbformat": 4,
 "nbformat_minor": 5
}
