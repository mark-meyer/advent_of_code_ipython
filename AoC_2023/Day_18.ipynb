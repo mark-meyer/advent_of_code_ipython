{
 "cells": [
  {
   "cell_type": "code",
   "execution_count": 1,
   "id": "5da12c49-e835-4565-ab04-7052ee071433",
   "metadata": {
    "tags": []
   },
   "outputs": [],
   "source": [
    "input_file = \"input_files/day_18.txt\"\n",
    "\n",
    "with open(input_file) as lines:\n",
    "    data = lines.read().splitlines()\n",
    "    \n",
    "data = [line.split() for line in data]"
   ]
  },
  {
   "cell_type": "markdown",
   "id": "ae446d82-9357-48b1-9071-6a11a476c3c3",
   "metadata": {},
   "source": [
    "## Part One\n",
    "\n",
    "Convert directions to coordinates. Use the [shoelace formula](https://en.wikipedia.org/wiki/Shoelace_formula#Example) to compute the area"
   ]
  },
  {
   "cell_type": "code",
   "execution_count": 2,
   "id": "903e8993-b6d6-400b-a25a-f5044e5c1366",
   "metadata": {
    "tags": []
   },
   "outputs": [
    {
     "name": "stdout",
     "output_type": "stream",
     "text": [
      "Part One: 46334\n"
     ]
    }
   ],
   "source": [
    "import numpy as np\n",
    "\n",
    "directions = {\n",
    "    'R': np.array([1, 0]),\n",
    "    'L': np.array([-1, 0]),\n",
    "    'U': np.array([0, -1]),\n",
    "    'D': np.array([0, 1]),\n",
    "    '0': np.array([1, 0]),\n",
    "    '2': np.array([-1, 0]),\n",
    "    '3': np.array([0, -1]),\n",
    "    '1': np.array([0, 1]),\n",
    "}\n",
    "\n",
    "def gauss_area(coords):\n",
    "    interior = coords[:-1,0] @ coords[1:,1] - coords[:-1,1] @ coords[1:,0]\n",
    "    return (interior + perimeter) // 2 + 1\n",
    "\n",
    "current = np.array([0, 0])\n",
    "coords = [current]\n",
    "perimeter = 0\n",
    "\n",
    "for d, count, color in data:\n",
    "    direction_vector = directions[d]\n",
    "    perimeter += int(count)\n",
    "    coords.append(coords[-1] + direction_vector * int(count))\n",
    "\n",
    "area = gauss_area(np.stack(coords))\n",
    "print(\"Part One:\", area)"
   ]
  },
  {
   "cell_type": "markdown",
   "id": "54a4abab-bbb8-4afb-8d01-fa2370219057",
   "metadata": {},
   "source": [
    "## Part Two\n",
    "\n",
    "Only difference is parsing the data"
   ]
  },
  {
   "cell_type": "code",
   "execution_count": 3,
   "id": "51b8e173-4564-4368-a619-053f1b59e91c",
   "metadata": {
    "tags": []
   },
   "outputs": [
    {
     "name": "stdout",
     "output_type": "stream",
     "text": [
      "Part two: 102000662718092\n"
     ]
    }
   ],
   "source": [
    "current = np.array([0, 0])\n",
    "coords = [current]\n",
    "perimeter = 0\n",
    "\n",
    "for d, count, color in data:\n",
    "    hex_value = color[1:-1]\n",
    "    d = hex_value[-1]\n",
    "    direction_vector = directions[d]\n",
    "    count = int(hex_value[1:-1], 16)\n",
    "    \n",
    "    perimeter += count\n",
    "    coords.append(coords[-1] + direction_vector * count)\n",
    "\n",
    "area = gauss_area(np.stack(coords))\n",
    "print(\"Part two:\", area)"
   ]
  },
  {
   "cell_type": "code",
   "execution_count": null,
   "id": "23634903-97ea-4ecf-9018-74dc7ce4213b",
   "metadata": {},
   "outputs": [],
   "source": []
  }
 ],
 "metadata": {
  "kernelspec": {
   "display_name": "Python 3 (ipykernel)",
   "language": "python",
   "name": "python3"
  },
  "language_info": {
   "codemirror_mode": {
    "name": "ipython",
    "version": 3
   },
   "file_extension": ".py",
   "mimetype": "text/x-python",
   "name": "python",
   "nbconvert_exporter": "python",
   "pygments_lexer": "ipython3",
   "version": "3.10.9"
  }
 },
 "nbformat": 4,
 "nbformat_minor": 5
}
