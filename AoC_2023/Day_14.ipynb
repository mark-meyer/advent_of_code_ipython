{
 "cells": [
  {
   "cell_type": "code",
   "execution_count": 1,
   "id": "7989d4f3-b8f9-4bf9-9a9b-919dd0038a68",
   "metadata": {
    "tags": []
   },
   "outputs": [],
   "source": [
    "input_file = \"input_files/day_14.txt\"\n",
    "\n",
    "with open(input_file) as lines:\n",
    "    data = lines.read().splitlines()\n"
   ]
  },
  {
   "cell_type": "markdown",
   "id": "fa1d0025-ab56-4103-bee9-32cfe5d55bc7",
   "metadata": {},
   "source": [
    "## Part One\n",
    "Use Numpy to make indexing a little nicer and faster - it can sort slices in place.\n",
    "\n",
    "1. Build a list of ranges between the square\n",
    "2. Iterate over the ranges and sort to move the round rocks\n",
    "3. Calculate score"
   ]
  },
  {
   "cell_type": "code",
   "execution_count": 2,
   "id": "c1db1ad2-0bc8-474d-bfb6-99ed784c2416",
   "metadata": {
    "tags": []
   },
   "outputs": [
    {
     "name": "stdout",
     "output_type": "stream",
     "text": [
      "Part one: 109638\n"
     ]
    }
   ],
   "source": [
    "import numpy as np\n",
    "import re\n",
    "\n",
    "rx = re.compile(r'([O|\\.]+)')\n",
    "\n",
    "row_ranges = [(r, m.span()) for r, line in enumerate(data) for m in rx.finditer(line)]\n",
    "col_ranges = [(r, m.span()) for r, line in enumerate(map(''.join, zip(*data))) for m in rx.finditer(line)]\n",
    "\n",
    "v = {'.': 0, 'O': 1, '#': 0 }\n",
    "arr = np.array([[v[c] for c in line] for line in data])\n",
    "\n",
    "\n",
    "def south(arr):\n",
    "    for col, (start, stop) in col_ranges:\n",
    "        arr[start:stop, col].sort()\n",
    "def north(arr):\n",
    "    for col, (start, stop) in col_ranges:\n",
    "        arr[stop - 1:start - 1 if start else None : -1, col].sort()\n",
    "def east(arr):\n",
    "    for row, (start, stop) in row_ranges:\n",
    "        arr[row, start:stop].sort()\n",
    "def west(arr):\n",
    "    for row, (start, stop) in row_ranges:\n",
    "        arr[row, stop - 1:start - 1 if start else None : -1].sort()\n",
    "\n",
    "def score(arr):\n",
    "    return (arr * np.arange(arr.shape[0], 0, -1).reshape(-1, 1)).sum()\n",
    "\n",
    "north(arr)\n",
    "print(\"Part one:\", score(arr))\n"
   ]
  },
  {
   "cell_type": "markdown",
   "id": "8a12b7bd-b89e-4f49-b8ad-2529c5d4375c",
   "metadata": {},
   "source": [
    "# Part Two\n",
    "\n",
    "1. Make the assumption that this will be a repeating cycle of some sort because of the relatively small state space.\n",
    "2. Keep track of a hash (numpy arrays are not hashable, but their backing bytes are) of each state and run until we see that state again.\n",
    "3. Extrapolate which small iteration matches the billionth. "
   ]
  },
  {
   "cell_type": "code",
   "execution_count": 3,
   "id": "d434b762-4187-4496-8852-b58804f45cb6",
   "metadata": {
    "tags": []
   },
   "outputs": [
    {
     "name": "stdout",
     "output_type": "stream",
     "text": [
      "prefix: 122 cycle: 21\n",
      "Part Two: 102657\n"
     ]
    }
   ],
   "source": [
    "arr = np.array([[v[c] for c in line] for line in data])\n",
    "\n",
    "def cycle(arr):\n",
    "    north(arr)\n",
    "    west(arr)\n",
    "    south(arr)\n",
    "    east(arr)\n",
    "\n",
    "def find_cycle(max_search = 200):\n",
    "    seen = {arr.data.tobytes(): 0}\n",
    "\n",
    "    for i in range(1, 300):\n",
    "        cycle(arr)\n",
    "        b = arr.data.tobytes()\n",
    "        if b in seen:\n",
    "            prefix = seen[b]\n",
    "            modulus = i - prefix\n",
    "            print(\"prefix:\", seen[b], \"cycle:\", i - seen[b])\n",
    "            break\n",
    "        seen[arr.data.tobytes()] = i\n",
    "    return prefix, modulus\n",
    "\n",
    "prefix, modulus = find_cycle()\n",
    "\n",
    "iteration = (1_000_000_000 - prefix) % modulus + prefix\n",
    "\n",
    "arr = np.array([[v[c] for c in line] for line in data])\n",
    "\n",
    "for _ in range(iteration):\n",
    "    cycle(arr)\n",
    "    \n",
    "print(\"Part Two:\", score(arr))"
   ]
  },
  {
   "cell_type": "code",
   "execution_count": null,
   "id": "e89b697f-1654-4e5c-907d-48c4010bbfeb",
   "metadata": {},
   "outputs": [],
   "source": []
  }
 ],
 "metadata": {
  "kernelspec": {
   "display_name": "Python 3 (ipykernel)",
   "language": "python",
   "name": "python3"
  },
  "language_info": {
   "codemirror_mode": {
    "name": "ipython",
    "version": 3
   },
   "file_extension": ".py",
   "mimetype": "text/x-python",
   "name": "python",
   "nbconvert_exporter": "python",
   "pygments_lexer": "ipython3",
   "version": "3.10.13"
  }
 },
 "nbformat": 4,
 "nbformat_minor": 5
}
