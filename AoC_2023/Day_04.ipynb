{
 "cells": [
  {
   "cell_type": "markdown",
   "id": "1940d78d-4420-4dcc-9003-c007fa0c5f00",
   "metadata": {},
   "source": [
    "## Parse Input"
   ]
  },
  {
   "cell_type": "code",
   "execution_count": 9,
   "id": "c7769cf1-290e-4152-a054-cc4c487cf1e2",
   "metadata": {
    "tags": []
   },
   "outputs": [],
   "source": [
    "input_file = \"input_files/day_04_1.txt\"\n",
    "\n",
    "# cards is a list of tuples of\n",
    "# (winning numbers, numbers in hand)\n",
    "cards = []\n",
    "\n",
    "with open(input_file) as lines:\n",
    "    for row in lines:\n",
    "        winning, numbers = (row[row.index(':')+1:].split('|'))\n",
    "        winning = set([int(num) for num in winning.split()])\n",
    "        numbers = [int(num) for num in numbers.split()]\n",
    "        cards.append((winning, numbers))"
   ]
  },
  {
   "cell_type": "markdown",
   "id": "85446053-5c21-43ff-88c6-b73b48bd1c50",
   "metadata": {
    "tags": []
   },
   "source": [
    "## Part One"
   ]
  },
  {
   "cell_type": "code",
   "execution_count": 11,
   "id": "9a9dd272-1c9c-46b7-adbe-7640abbe3386",
   "metadata": {
    "tags": []
   },
   "outputs": [
    {
     "data": {
      "text/plain": [
       "23941"
      ]
     },
     "execution_count": 11,
     "metadata": {},
     "output_type": "execute_result"
    }
   ],
   "source": [
    "# total of powers of 2\n",
    "\n",
    "sum(2 ** sum(n in winning for n in numbers) // 2 for winning, numbers in cards)"
   ]
  },
  {
   "cell_type": "markdown",
   "id": "8c14d3b2-c477-4723-861c-5d12507a1f5f",
   "metadata": {},
   "source": [
    "# Part Two"
   ]
  },
  {
   "cell_type": "code",
   "execution_count": 8,
   "id": "b66bb1a5-0c1d-4be0-9acd-33634e03b091",
   "metadata": {
    "tags": []
   },
   "outputs": [
    {
     "data": {
      "text/plain": [
       "5571760"
      ]
     },
     "execution_count": 8,
     "metadata": {},
     "output_type": "execute_result"
    }
   ],
   "source": [
    "# each card gets a score for iteself\n",
    "scores = [1] * len(cards)\n",
    "\n",
    "# list of winning counts\n",
    "wins = [sum(n in winning for n in numbers) for winning, numbers in cards]\n",
    "\n",
    "# for each win, increment the following corresponding number\n",
    "# of scores by that number of wins\n",
    "\n",
    "for idx, w in enumerate(wins, 1):\n",
    "    mult = scores[idx - 1]\n",
    "    for j in range(idx, idx + w):\n",
    "        scores[j] +=  mult\n",
    "\n",
    "sum(scores)"
   ]
  },
  {
   "cell_type": "code",
   "execution_count": null,
   "id": "2b699710-356f-4bbc-92e3-45f1a2356856",
   "metadata": {},
   "outputs": [],
   "source": []
  }
 ],
 "metadata": {
  "kernelspec": {
   "display_name": "Python 3 (ipykernel)",
   "language": "python",
   "name": "python3"
  },
  "language_info": {
   "codemirror_mode": {
    "name": "ipython",
    "version": 3
   },
   "file_extension": ".py",
   "mimetype": "text/x-python",
   "name": "python",
   "nbconvert_exporter": "python",
   "pygments_lexer": "ipython3",
   "version": "3.10.9"
  }
 },
 "nbformat": 4,
 "nbformat_minor": 5
}
