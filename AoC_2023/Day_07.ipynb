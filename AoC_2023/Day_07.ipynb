{
 "cells": [
  {
   "cell_type": "code",
   "execution_count": 1,
   "id": "136a6cf1-605f-49bf-89d1-b54460699e4b",
   "metadata": {
    "tags": []
   },
   "outputs": [],
   "source": [
    "input_file = \"input_files/day_07.txt\"\n",
    "\n",
    "with open(input_file) as lines:\n",
    "    data = lines.read().strip().splitlines()"
   ]
  },
  {
   "cell_type": "markdown",
   "id": "486dbf93-0376-4318-b3b7-b169e1aa2236",
   "metadata": {},
   "source": [
    "## Part One"
   ]
  },
  {
   "cell_type": "code",
   "execution_count": null,
   "id": "5423c09a-0ac2-4a3c-b01e-665a8b74696b",
   "metadata": {},
   "outputs": [
    {
     "data": {
      "text/plain": [
       "251106089"
      ]
     },
     "execution_count": 2,
     "metadata": {},
     "output_type": "execute_result"
    }
   ],
   "source": [
    "from collections import Counter\n",
    "\n",
    "card_scores = {k: i for i, k in enumerate('23456789TJQKA')}\n",
    "\n",
    "processed_data = [{\"hand\": a, \"bid\": int(b)}\n",
    "                  for a, b in map(str.split, data)]\n",
    "\n",
    "def sort_key(a):\n",
    "    ''' Sort first by hand type, then card by card '''\n",
    "    return (card_counts(a['hand']), [card_scores[l] for l in a['hand']])\n",
    "    \n",
    "def card_counts(hand):\n",
    "    ''' Return a string of counts like \"221\"; these sort correctly as strings '''\n",
    "    counts = sorted(Counter(hand).values(), reverse=True)\n",
    "    return ''.join(map(str,counts))\n",
    "\n",
    "sorted_hands = sorted(processed_data, key=sort_key)\n",
    "\n",
    "sum(hand['bid'] * i for i, hand in enumerate(sorted_hands, 1))"
   ]
  },
  {
   "cell_type": "markdown",
   "id": "db09d3d5-f224-4354-810a-3224bfd922fa",
   "metadata": {},
   "source": [
    "## Part Two"
   ]
  },
  {
   "cell_type": "code",
   "execution_count": 3,
   "id": "cf5d71ae-3c99-4952-8590-5bb4c02c00ff",
   "metadata": {
    "tags": []
   },
   "outputs": [
    {
     "data": {
      "text/plain": [
       "249620106"
      ]
     },
     "execution_count": 3,
     "metadata": {},
     "output_type": "execute_result"
    }
   ],
   "source": [
    "# change score order to put jokers last\n",
    "card_scores = {k: i for i, k in enumerate('J23456789TQKA')}\n",
    "\n",
    "# count and remove jokers from hand add joker count to most common card\n",
    "def card_counts(hand):\n",
    "    joker_count = hand.count('J')\n",
    "    hand = ''.join(c for c in hand if c != 'J')\n",
    "    \n",
    "    counts = sorted(Counter(hand).values(), reverse=True)\n",
    "    \n",
    "    if len(counts):\n",
    "        counts[0] += joker_count\n",
    "    else: # all jokers!\n",
    "        counts = [5]\n",
    "    return  ''.join(map(str,counts))\n",
    "\n",
    "sorted_hands = sorted(processed_data, key=sort_key)\n",
    "\n",
    "sum(hand['bid'] * i for i, hand in enumerate(sorted_hands, 1))\n"
   ]
  },
  {
   "cell_type": "code",
   "execution_count": null,
   "id": "815b18da-6a39-4ccf-877d-3d1e598d82e7",
   "metadata": {},
   "outputs": [],
   "source": []
  }
 ],
 "metadata": {
  "kernelspec": {
   "display_name": "Python 3 (ipykernel)",
   "language": "python",
   "name": "python3"
  },
  "language_info": {
   "codemirror_mode": {
    "name": "ipython",
    "version": 3
   },
   "file_extension": ".py",
   "mimetype": "text/x-python",
   "name": "python",
   "nbconvert_exporter": "python",
   "pygments_lexer": "ipython3",
   "version": "3.10.9"
  }
 },
 "nbformat": 4,
 "nbformat_minor": 5
}
