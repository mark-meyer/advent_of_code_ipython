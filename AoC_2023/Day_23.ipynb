{
 "cells": [
  {
   "cell_type": "code",
   "execution_count": 180,
   "id": "f59dd3d4-3793-4084-a853-781dfb65a5b9",
   "metadata": {
    "tags": []
   },
   "outputs": [],
   "source": [
    "input_file = \"input_files/day_23.txt\"\n",
    "\n",
    "with open(input_file) as lines:\n",
    "    data = lines.read().splitlines()"
   ]
  },
  {
   "cell_type": "code",
   "execution_count": 181,
   "id": "4991d9a5-5d42-4e41-86b8-229875395f74",
   "metadata": {
    "tags": []
   },
   "outputs": [],
   "source": [
    "from typing import NamedTuple\n",
    "from collections import defaultdict, deque\n",
    "\n",
    "class Point(NamedTuple):\n",
    "    row: int\n",
    "    col: int\n",
    "\n",
    "    def __add__(self, other):\n",
    "        return Point(self.row + other.row, self.col + other.col)\n",
    "    \n",
    "def get_valid(point, data, seen, part_two=False):\n",
    "    directions = [\n",
    "        (Point(1, 0), 'v'),\n",
    "        (Point(-1, 0), '^'),\n",
    "        (Point(0, 1), '>'),\n",
    "        (Point(0, -1), '<')\n",
    "    ]\n",
    "    for p, d in directions:\n",
    "        pp = point + p\n",
    "        if pp not in seen and 0 <= pp.row < len(data) and 0 <= pp.col < len(data[0]) and data[pp.row][pp.col] != '#':\n",
    "            if part_two:\n",
    "                yield pp\n",
    "            elif (data[pp.row][pp.col] == '.' or data[pp.row][pp.col] == d):\n",
    "                yield pp    \n"
   ]
  },
  {
   "cell_type": "code",
   "execution_count": 182,
   "id": "e7157750-d2c5-4004-bc01-f12aebb3559d",
   "metadata": {
    "tags": []
   },
   "outputs": [],
   "source": [
    "def make_node_graph(data, start, end, part_two=False):\n",
    "    '''\n",
    "    Find all the places on the map where the path splits.\n",
    "    Make a weighted graph where these splits are nodes \n",
    "    and the costs are the distance.\n",
    "    '''\n",
    "    G = defaultdict(list)\n",
    "    seen = set([start])\n",
    "\n",
    "    q = deque([(start, seen, start)])\n",
    "    parents = set()\n",
    "    while len(q):\n",
    "        location, seen, parent = q.popleft()\n",
    "\n",
    "        if (location, parent) in parents:\n",
    "            # allow other ways of getting to this \n",
    "            # intersection. Only prune paths from \n",
    "            # the same paretn\n",
    "            continue\n",
    "            \n",
    "        parents.add((location, parent))\n",
    "        \n",
    "        cost = 1\n",
    "        while True:\n",
    "            nexts = list(get_valid(location, data, seen, part_two))\n",
    "            if len(nexts) == 0:\n",
    "                break\n",
    "            if len(nexts) == 1:\n",
    "                # skip past any steps that don't involve \n",
    "                # a branch. Just not the cose\n",
    "                cost += 1\n",
    "                \n",
    "                if nexts[0] == end:\n",
    "                    # Hey, the exit!\n",
    "                    G[parent].append(('end', cost))\n",
    "                    break\n",
    "                    \n",
    "                seen.add(nexts[0])\n",
    "                location = nexts[0]\n",
    "            else:\n",
    "                G[parent].append((location, cost))\n",
    "                cost += 1\n",
    "                for n in nexts:\n",
    "                    seen.add(n)\n",
    "                    # visted set is only for this path\n",
    "                    # each break gets a new visted set\n",
    "                    # with previous visted, but should\n",
    "                    # be independent of others after it\n",
    "                    q.append([n, seen.copy(), location])\n",
    "                \n",
    "                break\n",
    "            \n",
    "    return G\n",
    "            \n",
    "start = Point(0, 1)\n",
    "end = Point(len(data)-1, len(data[0]) - 2)\n",
    "G = make_node_graph(data, start, end)  \n"
   ]
  },
  {
   "cell_type": "code",
   "execution_count": 183,
   "id": "8e3c84ac-eef2-4ea6-9681-9a7ba4cf7d45",
   "metadata": {
    "tags": []
   },
   "outputs": [
    {
     "data": {
      "text/plain": [
       "2050"
      ]
     },
     "execution_count": 183,
     "metadata": {},
     "output_type": "execute_result"
    }
   ],
   "source": [
    "def find_longest(G, location, end):\n",
    "    '''\n",
    "    Find all paths in node graph.\n",
    "    '''\n",
    "    seen = set([location])\n",
    "    q = deque([(location, 0, seen)]) # point, cost, seen\n",
    "\n",
    "    while len(q):\n",
    "        location, cost, seen = q.pop()             \n",
    "\n",
    "        if location == end:\n",
    "            yield cost\n",
    "        \n",
    "        \n",
    "        for next_node, node_cost in G[location]:\n",
    "            if next_node in seen:\n",
    "                continue\n",
    "            sc = seen.copy()\n",
    "            sc.add(next_node)\n",
    "\n",
    "            q.append((next_node, node_cost + cost, sc))      \n",
    "            \n",
    "        \n",
    "it = find_longest(G, start, 'end')\n",
    "max(it) - 1"
   ]
  },
  {
   "cell_type": "code",
   "execution_count": 184,
   "id": "4c4c6df5-ae30-49cf-a431-d56c546640b1",
   "metadata": {
    "tags": []
   },
   "outputs": [
    {
     "data": {
      "text/plain": [
       "6262"
      ]
     },
     "execution_count": 184,
     "metadata": {},
     "output_type": "execute_result"
    }
   ],
   "source": [
    "G = make_node_graph(data, start, end,  part_two=True)  \n",
    "it = find_longest(G, start, 'end')\n",
    "max(it) - 1"
   ]
  },
  {
   "cell_type": "code",
   "execution_count": null,
   "id": "ead66166-4255-4012-9574-fe91035bfecf",
   "metadata": {},
   "outputs": [],
   "source": []
  }
 ],
 "metadata": {
  "kernelspec": {
   "display_name": "Python 3 (ipykernel)",
   "language": "python",
   "name": "python3"
  },
  "language_info": {
   "codemirror_mode": {
    "name": "ipython",
    "version": 3
   },
   "file_extension": ".py",
   "mimetype": "text/x-python",
   "name": "python",
   "nbconvert_exporter": "python",
   "pygments_lexer": "ipython3",
   "version": "3.10.12"
  }
 },
 "nbformat": 4,
 "nbformat_minor": 5
}
