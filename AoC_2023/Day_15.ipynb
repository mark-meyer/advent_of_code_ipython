{
 "cells": [
  {
   "cell_type": "code",
   "execution_count": 1,
   "id": "fc57c96e-d9dc-495a-96ef-0e1325c1783b",
   "metadata": {
    "tags": []
   },
   "outputs": [],
   "source": [
    "from collections import namedtuple, defaultdict\n",
    "from functools import reduce\n",
    "import re\n",
    "\n",
    "input_file = \"input_files/day_15.txt\"\n",
    "\n",
    "with open(input_file) as lines:\n",
    "    data = lines.read().strip().split(',')"
   ]
  },
  {
   "cell_type": "markdown",
   "id": "37bc13b3-92e6-4fbb-9065-8bf42dbed9fe",
   "metadata": {},
   "source": [
    "## Part One"
   ]
  },
  {
   "cell_type": "code",
   "execution_count": 2,
   "id": "fb068f28-1fc9-4816-b97a-4fd17cc332eb",
   "metadata": {
    "tags": []
   },
   "outputs": [
    {
     "data": {
      "text/plain": [
       "501680"
      ]
     },
     "execution_count": 2,
     "metadata": {},
     "output_type": "execute_result"
    }
   ],
   "source": [
    "def hash_function(s):\n",
    "    return reduce(lambda a, c: ((a +ord(c))  * 17 ) % 256,  s , 0)\n",
    "\n",
    "sum(map(hash_function, data))"
   ]
  },
  {
   "cell_type": "markdown",
   "id": "838a10a2-fb47-4bea-9330-726432d0ce49",
   "metadata": {
    "tags": []
   },
   "source": [
    "## Part Two"
   ]
  },
  {
   "cell_type": "code",
   "execution_count": 3,
   "id": "08f5a8fd-f00f-403f-a50b-5a550ab02fc8",
   "metadata": {
    "tags": []
   },
   "outputs": [
    {
     "data": {
      "text/plain": [
       "241094"
      ]
     },
     "execution_count": 3,
     "metadata": {},
     "output_type": "execute_result"
    }
   ],
   "source": [
    "Lens = namedtuple(\"Lens\", ['label', 'focal_length'])\n",
    "\n",
    "def process_lens(s):\n",
    "    label, op, focal_length = re.split(r'([=-])', s)\n",
    "    return hash_function(label), op, Lens(label, focal_length)\n",
    "\n",
    "boxes = defaultdict(list)\n",
    "\n",
    "for d in data:\n",
    "    h, op, lens = process_lens(d)\n",
    "    if op == '=':\n",
    "        i = next((index for index, l in enumerate(boxes[h])\n",
    "                  if l.label == lens.label), None)\n",
    "        if i is not None:\n",
    "            boxes[h][i] = lens\n",
    "        else:\n",
    "            boxes[h].append(lens)\n",
    "    else:\n",
    "        boxes[h] = [l for l in boxes[h] if l.label != lens.label]\n",
    "        \n",
    "sum(\n",
    "    sum((1 + box_numer) * order * int(lens.focal_length)\n",
    "        for order, lens in enumerate(box, 1))\n",
    "    for box_numer, box in boxes.items()\n",
    ")"
   ]
  },
  {
   "cell_type": "code",
   "execution_count": null,
   "id": "96e99663-62ae-450f-86e7-913c3e777c72",
   "metadata": {},
   "outputs": [],
   "source": []
  }
 ],
 "metadata": {
  "kernelspec": {
   "display_name": "Python 3 (ipykernel)",
   "language": "python",
   "name": "python3"
  },
  "language_info": {
   "codemirror_mode": {
    "name": "ipython",
    "version": 3
   },
   "file_extension": ".py",
   "mimetype": "text/x-python",
   "name": "python",
   "nbconvert_exporter": "python",
   "pygments_lexer": "ipython3",
   "version": "3.10.13"
  }
 },
 "nbformat": 4,
 "nbformat_minor": 5
}
