{
 "cells": [
  {
   "cell_type": "code",
   "execution_count": 84,
   "id": "199410ae-1150-433d-9b54-4e8bdec23f9a",
   "metadata": {
    "tags": []
   },
   "outputs": [],
   "source": [
    "import re\n",
    "import math\n",
    "from collections import defaultdict, namedtuple\n",
    "\n",
    "input_file = \"input_files/day_03_1.txt\"\n"
   ]
  },
  {
   "cell_type": "markdown",
   "id": "8a395403-19e2-4744-b8e0-2447cf74643c",
   "metadata": {},
   "source": [
    "## Part One"
   ]
  },
  {
   "cell_type": "code",
   "execution_count": 108,
   "id": "f58dcfe5-2a38-4228-aa04-96e2360bd4d5",
   "metadata": {
    "tags": []
   },
   "outputs": [],
   "source": [
    "Symbol = namedtuple('Symbol', ['value', 'row', 'col'])\n",
    "\n",
    "def find_symbols_inbounds(matrix, bounds):\n",
    "    '''\n",
    "    Return a list of symbols found int the matrix with the \n",
    "    given a bounds (row_start, row_end, col_start, col_end)\n",
    "    '''\n",
    "    \n",
    "    symbols = []\n",
    "    for row in range(*bounds[0:2]):\n",
    "        for col in range(*bounds[2:4]):\n",
    "            char = matrix[row][col]\n",
    "            if not char.isdigit() and char != '.':\n",
    "                symbols.append(Symbol(char, row, col))\n",
    "    return symbols\n",
    "            \n",
    "    \n",
    "def find_symbols(matrix):\n",
    "    '''\n",
    "    returns a dictionary with symbol keys. Symbols contain the coordinates \n",
    "    in the matrix to they are uniquely identified by value, row, col. \n",
    "    The values are a list of part numbers\n",
    "    '''\n",
    "    symbol_lookup = defaultdict(list)\n",
    "    \n",
    "    for row_number, line in enumerate(matrix):\n",
    "        for m in re.finditer(r'\\d+', line):\n",
    "            value = int(m.group(0))\n",
    "            bounds = [\n",
    "                max(row_number - 1, 0),           # row start\n",
    "                min(row_number + 2, len(matrix)), # row end\n",
    "                max(m.start() - 1, 0),            # col start\n",
    "                min(m.end() + 1, len(line))       # col end\n",
    "            ]\n",
    "            symbols = find_symbols_inbounds(matrix, bounds)\n",
    "            \n",
    "            for symbol in symbols:\n",
    "                symbol_lookup[symbol].append(value)\n",
    "                \n",
    "    return symbol_lookup\n"
   ]
  },
  {
   "cell_type": "code",
   "execution_count": 107,
   "id": "2aa2c6f2-bb0a-436e-872e-2e4bafdaf0ef",
   "metadata": {
    "tags": []
   },
   "outputs": [
    {
     "data": {
      "text/plain": [
       "defaultdict(list,\n",
       "            {Symbol(value='*', row=1, col=3): [467, 35],\n",
       "             Symbol(value='#', row=3, col=6): [633],\n",
       "             Symbol(value='*', row=4, col=3): [617],\n",
       "             Symbol(value='+', row=5, col=5): [592],\n",
       "             Symbol(value='*', row=8, col=5): [755, 598],\n",
       "             Symbol(value='$', row=8, col=3): [664]})"
      ]
     },
     "execution_count": 107,
     "metadata": {},
     "output_type": "execute_result"
    }
   ],
   "source": [
    "test_input = [\n",
    "    '467..114..',\n",
    "    '...*......',\n",
    "    '..35..633.',\n",
    "    '......#...',\n",
    "    '617*......',\n",
    "    '.....+.58.',\n",
    "    '..592.....',\n",
    "    '......755.',\n",
    "    '...$.*....',\n",
    "    '.664.598..'\n",
    "]\n",
    "markers = find_symbols(test_input)\n",
    "markers"
   ]
  },
  {
   "cell_type": "code",
   "execution_count": 109,
   "id": "7f9f983f-0544-4243-b005-a0e787c8d476",
   "metadata": {
    "tags": []
   },
   "outputs": [
    {
     "data": {
      "text/plain": [
       "522726"
      ]
     },
     "execution_count": 109,
     "metadata": {},
     "output_type": "execute_result"
    }
   ],
   "source": [
    "with open(input_file) as file:\n",
    "    matrix = file.read().splitlines()\n",
    "            \n",
    "markers = find_symbols(matrix)\n",
    "sum(map(sum, markers.values()))"
   ]
  },
  {
   "cell_type": "markdown",
   "id": "b4e1dcad-db2a-487a-b048-4a2b34b726e6",
   "metadata": {},
   "source": [
    "## Part Two"
   ]
  },
  {
   "cell_type": "code",
   "execution_count": 103,
   "id": "00294ec2-4e5a-4456-9b84-49996ac04956",
   "metadata": {
    "tags": []
   },
   "outputs": [
    {
     "data": {
      "text/plain": [
       "81721933"
      ]
     },
     "execution_count": 103,
     "metadata": {},
     "output_type": "execute_result"
    }
   ],
   "source": [
    "# filter only '*' symbols that are connected to exactly 2 part numbers\n",
    "\n",
    "sum(math.prod(numbers) \n",
    "    for symbol, numbers in markers.items() \n",
    "    if len(numbers) == 2 and symbol.value=='*')"
   ]
  },
  {
   "cell_type": "code",
   "execution_count": null,
   "id": "f62f02ce-7de6-4a7c-9242-1086c63e5662",
   "metadata": {},
   "outputs": [],
   "source": []
  }
 ],
 "metadata": {
  "kernelspec": {
   "display_name": "Python 3 (ipykernel)",
   "language": "python",
   "name": "python3"
  },
  "language_info": {
   "codemirror_mode": {
    "name": "ipython",
    "version": 3
   },
   "file_extension": ".py",
   "mimetype": "text/x-python",
   "name": "python",
   "nbconvert_exporter": "python",
   "pygments_lexer": "ipython3",
   "version": "3.10.9"
  }
 },
 "nbformat": 4,
 "nbformat_minor": 5
}
