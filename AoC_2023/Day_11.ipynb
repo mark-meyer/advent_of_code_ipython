{
 "cells": [
  {
   "cell_type": "code",
   "execution_count": 1,
   "id": "65516aa9-279f-42c0-8245-ce35fe5870b7",
   "metadata": {
    "tags": []
   },
   "outputs": [],
   "source": [
    "input_file = \"input_files/day_11.txt\"\n",
    "\n",
    "with open(input_file) as lines:\n",
    "    data = [l.strip() for l in lines]\n"
   ]
  },
  {
   "cell_type": "markdown",
   "id": "d00081f6-ad43-47f4-8ffd-c6e1d5026e73",
   "metadata": {},
   "source": [
    "## Part One\n",
    "\n",
    "Add rows and columns into matrix. Then calculate the distance between combinations of pairs accounting for crossing expanded space."
   ]
  },
  {
   "cell_type": "code",
   "execution_count": 4,
   "id": "c381d0e2-72de-427c-9c56-f6fe47a466cc",
   "metadata": {
    "tags": []
   },
   "outputs": [],
   "source": [
    "from collections import namedtuple\n",
    "from itertools import combinations\n",
    "\n",
    "Point = namedtuple(\"Point\", ['r', 'c'])\n",
    "\n",
    "def get_positions(data):\n",
    "    col_occupied = [False] * len(data[0])\n",
    "    row_occupied = [False] * len(data)\n",
    "    galaxy_locations = []\n",
    "    \n",
    "    for row, line in enumerate(data):\n",
    "        for col, ch in enumerate(line):\n",
    "            if ch == \"#\":\n",
    "                galaxy_locations.append(Point(row, col))\n",
    "                col_occupied[col] = True\n",
    "                row_occupied[row] = True\n",
    "    empty_cols = [i for i, b in enumerate(col_occupied) if not b]\n",
    "    empty_rows = [i for i, b in enumerate(row_occupied) if not b]\n",
    "    return galaxy_locations, empty_rows, empty_cols\n",
    "\n",
    "\n",
    "def manhattan_distance(p1, p2, expanded_rows, expanded_cols, expand_factor):\n",
    "    m_dist = abs(p1.r - p2.r) + abs(p1.c - p2.c)\n",
    "    row_crossing = sum(max(p1.r, p2.r) > r > min(p1.r, p2.r) for r in expanded_rows)\n",
    "    col_crossing = sum(max(p1.c, p2.c) > c > min(p1.c, p2.c) for c in expanded_cols)\n",
    "    \n",
    "    return m_dist + (row_crossing + col_crossing) * (expand_factor - 1)"
   ]
  },
  {
   "cell_type": "code",
   "execution_count": 8,
   "id": "6f3fc125-b898-46b6-bfe2-2751e9b4d241",
   "metadata": {
    "tags": []
   },
   "outputs": [
    {
     "name": "stdout",
     "output_type": "stream",
     "text": [
      "Part one:  9545480\n"
     ]
    }
   ],
   "source": [
    "galaxies, empty_rows, empty_cols = get_positions(data)    \n",
    "\n",
    "dist = sum(manhattan_distance(g1, g2, empty_rows, empty_cols, 2) \n",
    "           for g1, g2 in combinations(galaxies, r=2))\n",
    "\n",
    "print(\"Part one: \", dist)"
   ]
  },
  {
   "cell_type": "code",
   "execution_count": 6,
   "id": "1bf8c350-50d5-4a41-ac09-f3e15f88d8ab",
   "metadata": {
    "tags": []
   },
   "outputs": [
    {
     "data": {
      "text/plain": [
       "440"
      ]
     },
     "execution_count": 6,
     "metadata": {},
     "output_type": "execute_result"
    }
   ],
   "source": [
    "len(galaxies)"
   ]
  },
  {
   "cell_type": "markdown",
   "id": "63b7021d-883e-4d40-8dcc-26f948728a14",
   "metadata": {},
   "source": [
    "## Part Two\n",
    "\n",
    "Just change the expanded space factor"
   ]
  },
  {
   "cell_type": "code",
   "execution_count": 4,
   "id": "1dc2a6ab-f73d-49f4-9440-37aa376956d4",
   "metadata": {
    "tags": []
   },
   "outputs": [
    {
     "name": "stdout",
     "output_type": "stream",
     "text": [
      "Part two:  406725732046\n"
     ]
    }
   ],
   "source": [
    "dist = sum(manhattan_distance(g1, g2, empty_rows, empty_cols, 1_000_000) \n",
    "           for g1, g2 in combinations(galaxies, r=2))\n",
    "\n",
    "print(\"Part two: \", dist)"
   ]
  },
  {
   "cell_type": "code",
   "execution_count": null,
   "id": "2cb94e0f-2f57-46ad-a700-6a87b4ad5d3c",
   "metadata": {},
   "outputs": [],
   "source": []
  }
 ],
 "metadata": {
  "kernelspec": {
   "display_name": "Python 3 (ipykernel)",
   "language": "python",
   "name": "python3"
  },
  "language_info": {
   "codemirror_mode": {
    "name": "ipython",
    "version": 3
   },
   "file_extension": ".py",
   "mimetype": "text/x-python",
   "name": "python",
   "nbconvert_exporter": "python",
   "pygments_lexer": "ipython3",
   "version": "3.10.13"
  }
 },
 "nbformat": 4,
 "nbformat_minor": 5
}
