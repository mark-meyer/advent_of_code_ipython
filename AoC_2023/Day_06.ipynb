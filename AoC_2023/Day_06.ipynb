{
 "cells": [
  {
   "cell_type": "markdown",
   "id": "e4df609f-d3d0-4b53-8e6c-3dd3a3b96e1a",
   "metadata": {
    "tags": []
   },
   "source": [
    "## Get input\n",
    "\n",
    "input is pre-parsed to dict for each day like:\n",
    "\n",
    "```\n",
    "{\n",
    "    \"times\": [7, 15, 30],\n",
    "    \"distances: [9, 40, 200]\n",
    "}\n",
    "```\n"
   ]
  },
  {
   "cell_type": "code",
   "execution_count": 2,
   "id": "a5935ce7-79d5-45ed-bb22-8fd3714b1884",
   "metadata": {
    "tags": []
   },
   "outputs": [],
   "source": [
    "import json\n",
    "\n",
    "with open(\"input_files/day_06.json\") as inp:\n",
    "    data = json.load(inp)\n"
   ]
  },
  {
   "cell_type": "markdown",
   "id": "7e672244-292d-4d8a-b332-0180a0b06f69",
   "metadata": {},
   "source": [
    "### Logic\n",
    "\n",
    "Calculate the distance for a given total time and amount of holding time.\n",
    "\n",
    "Iterate over distances and count:\n"
   ]
  },
  {
   "cell_type": "code",
   "execution_count": 5,
   "id": "78a62d95-ef82-4207-a548-f0e4985a0e26",
   "metadata": {
    "tags": []
   },
   "outputs": [],
   "source": [
    "from math import prod\n",
    "\n",
    "def get_distance(holding, total_time):\n",
    "    return (total_time - holding) * holding\n",
    "\n",
    "def get_counts(total_time, distance):\n",
    "    return sum(get_distance(holding_time, total_time) > distance\n",
    "               for holding_time in range(total_time))\n",
    "\n",
    "def winning_count(times, distances):\n",
    "    return prod(get_counts(total_time, distance) for total_time, distance in zip(times, distances))\n"
   ]
  },
  {
   "cell_type": "markdown",
   "id": "08b322f3-50bb-47d1-93fe-ebd3e8c6612b",
   "metadata": {},
   "source": [
    "# Part One"
   ]
  },
  {
   "cell_type": "code",
   "execution_count": 6,
   "id": "e2a9b3e8-098e-4abe-b114-1fe06970c2ae",
   "metadata": {
    "tags": []
   },
   "outputs": [
    {
     "data": {
      "text/plain": [
       "2065338"
      ]
     },
     "execution_count": 6,
     "metadata": {},
     "output_type": "execute_result"
    }
   ],
   "source": [
    "times = data['day_1']['times']\n",
    "distances = data['day_1']['distances']\n",
    "\n",
    "winning_count(times, distances)"
   ]
  },
  {
   "cell_type": "markdown",
   "id": "46ede7e6-0ee3-469d-a3c4-240e43cabe67",
   "metadata": {
    "tags": []
   },
   "source": [
    "# Part Two\n",
    "\n",
    "May the brute force be with you!\n"
   ]
  },
  {
   "cell_type": "code",
   "execution_count": 7,
   "id": "d6f125f1-3f97-4ce8-952d-07e4608dfb14",
   "metadata": {
    "tags": []
   },
   "outputs": [
    {
     "data": {
      "text/plain": [
       "34934171"
      ]
     },
     "execution_count": 7,
     "metadata": {},
     "output_type": "execute_result"
    }
   ],
   "source": [
    "times = data['day_2']['times']\n",
    "distances = data['day_2']['distances']\n",
    "\n",
    "winning_count(times, distances)"
   ]
  },
  {
   "cell_type": "markdown",
   "id": "30978d7b-dee7-45e3-9c06-d525eeb65e43",
   "metadata": {},
   "source": [
    "### Analytic solution\n",
    "\n",
    "The inequality: \n",
    "$\n",
    "(total\\_time - holding) * holding < distance\n",
    "$\n",
    "is solveable by finding the roots of:\n",
    "\n",
    "$$\n",
    " {holding^2}*total\\_time-distace > 0\n",
    "$$\n",
    "\n",
    "using the quadratic euqation. Some care is needed to correctly get the integer counts between the high and low values since, as in the case of 20, 300, these are integers. This is much faster.\n"
   ]
  },
  {
   "cell_type": "code",
   "execution_count": 8,
   "id": "f4b33582-56db-4451-afa5-0439eb34da86",
   "metadata": {},
   "outputs": [
    {
     "name": "stdout",
     "output_type": "stream",
     "text": [
      "part 1: 2065338\n",
      "part 2: 34934171\n"
     ]
    }
   ],
   "source": [
    "import math\n",
    "\n",
    "\n",
    "def analytic_get_counts(total_time, distance):\n",
    "    s =  math.sqrt(-4 * distance + total_time ** 2) / 2\n",
    "\n",
    "    high = total_time / 2 + s\n",
    "    low = total_time / 2 - s\n",
    "\n",
    "    return math.floor(high)-math.floor(low) - float(high).is_integer() - float(low).is_integer()\n",
    "\n",
    "# Part 1:\n",
    "times = data['day_1']['times']\n",
    "distances = data['day_1']['distances']\n",
    "\n",
    "p1 = prod(analytic_get_counts(time, distance) for time, distance in zip(times, distances))\n",
    "print(\"part 1:\", p1)\n",
    "          \n",
    "# Part 2\n",
    "total_time = data['day_2']['times'][0]\n",
    "distance = data['day_2']['distances'][0]\n",
    "\n",
    "print('part 2:', analytic_get_counts(total_time, distance))"
   ]
  },
  {
   "cell_type": "code",
   "execution_count": null,
   "id": "b188e155-6e11-47ea-b050-b5eee79d009d",
   "metadata": {},
   "outputs": [],
   "source": []
  }
 ],
 "metadata": {
  "kernelspec": {
   "display_name": "Python 3 (ipykernel)",
   "language": "python",
   "name": "python3"
  },
  "language_info": {
   "codemirror_mode": {
    "name": "ipython",
    "version": 3
   },
   "file_extension": ".py",
   "mimetype": "text/x-python",
   "name": "python",
   "nbconvert_exporter": "python",
   "pygments_lexer": "ipython3",
   "version": "3.10.13"
  }
 },
 "nbformat": 4,
 "nbformat_minor": 5
}
