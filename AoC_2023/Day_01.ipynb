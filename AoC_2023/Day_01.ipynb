{
 "cells": [
  {
   "cell_type": "markdown",
   "id": "67c9ae20-7402-4de4-9c39-890dade0635c",
   "metadata": {},
   "source": [
    "# Part One"
   ]
  },
  {
   "cell_type": "code",
   "execution_count": 61,
   "id": "5e939ff0-37eb-4161-84d6-8bbef9cc09a0",
   "metadata": {
    "tags": []
   },
   "outputs": [
    {
     "name": "stdout",
     "output_type": "stream",
     "text": [
      "part one: 54601\n"
     ]
    }
   ],
   "source": [
    "input_file = \"input_files/day_01_1.txt\"\n",
    "total = 0\n",
    "\n",
    "with open(input_file) as puzzle_input:\n",
    "    for line in puzzle_input:\n",
    "        digits = [c for c in line if c.isdigit()]\n",
    "        total += int(digits[0] + digits[-1])\n",
    "    \n",
    "print(\"part one:\", total)"
   ]
  },
  {
   "cell_type": "markdown",
   "id": "b2ddcc47-70d6-4f8e-8727-1cd25d25bebf",
   "metadata": {},
   "source": [
    "# Part Two"
   ]
  },
  {
   "cell_type": "code",
   "execution_count": 64,
   "id": "c85a309b-66f7-484b-98e6-692d2b76a926",
   "metadata": {
    "tags": []
   },
   "outputs": [
    {
     "name": "stdout",
     "output_type": "stream",
     "text": [
      "part two: 54078\n"
     ]
    }
   ],
   "source": [
    "import re\n",
    "\n",
    "numbers = {\n",
    "    'one': '1',\n",
    "    'two': '2',\n",
    "    'three': '3',\n",
    "    'four': '4',\n",
    "    'five': '5',\n",
    "    'six': '6',\n",
    "    'seven': '7',\n",
    "    'eight': '8',\n",
    "    'nine': '9',\n",
    "    '1': '1',\n",
    "    '2': '2',\n",
    "    '3': '3',\n",
    "    '4': '4',\n",
    "    '5': '5',\n",
    "    '6': '6',\n",
    "    '7': '7',\n",
    "    '8': '8',\n",
    "    '9': '9',\n",
    "}\n",
    "\n",
    "# Use lookahead with capture group to match overlapping patterns. \n",
    "# Accounts for strings like '1oneight' which should be 18, not 11\n",
    "matches = '|'.join(numbers.keys())\n",
    "rx = re.compile(f'(?=({matches}))')\n",
    "\n",
    "total = 0\n",
    "with open(input_file) as puzzle_input:\n",
    "    for line in puzzle_input:\n",
    "        digits = rx.findall(line)\n",
    "        total += int(numbers[digits[0]] + numbers[digits[-1]])\n",
    "print(\"part two:\", total)"
   ]
  }
 ],
 "metadata": {
  "kernelspec": {
   "display_name": "Python 3 (ipykernel)",
   "language": "python",
   "name": "python3"
  },
  "language_info": {
   "codemirror_mode": {
    "name": "ipython",
    "version": 3
   },
   "file_extension": ".py",
   "mimetype": "text/x-python",
   "name": "python",
   "nbconvert_exporter": "python",
   "pygments_lexer": "ipython3",
   "version": "3.10.9"
  }
 },
 "nbformat": 4,
 "nbformat_minor": 5
}
