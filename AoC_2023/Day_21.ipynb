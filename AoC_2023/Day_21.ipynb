{
 "cells": [
  {
   "cell_type": "code",
   "execution_count": 1,
   "id": "d1a1a865-1bad-43ed-bcec-0e55857ee67c",
   "metadata": {
    "tags": []
   },
   "outputs": [],
   "source": [
    "input_file = \"input_files/day_21.txt\"\n",
    "\n",
    "with open(input_file) as lines:\n",
    "    data = lines.read().splitlines()"
   ]
  },
  {
   "cell_type": "code",
   "execution_count": 2,
   "id": "70fb0944-7cce-4050-8871-7557542d360b",
   "metadata": {
    "tags": []
   },
   "outputs": [],
   "source": [
    "from collections import deque, namedtuple\n",
    "from typing import NamedTuple\n",
    "\n",
    "\n",
    "class Point(NamedTuple):\n",
    "    row: int\n",
    "    col: int\n",
    "\n",
    "    def __add__(self, other):\n",
    "        return Point(self.row + other.row, self.col + other.col)\n",
    "\n",
    "def find_start(data):\n",
    "    for row, line in enumerate(data):\n",
    "        for col, char in enumerate(line):\n",
    "            if char == \"S\":\n",
    "                return Point(row, col)\n"
   ]
  },
  {
   "cell_type": "code",
   "execution_count": 3,
   "id": "c523bfac-9b9c-475b-83ef-348e6a14d02b",
   "metadata": {
    "tags": []
   },
   "outputs": [],
   "source": [
    "data_ex = [\n",
    "    '...........',\n",
    "    '.....###.#.',\n",
    "    '.###.##..#.',\n",
    "    '..#.#...#..',\n",
    "    '....#.#....',\n",
    "    '.##..S####.',\n",
    "    '.##..#...#.',\n",
    "    '.......##..',\n",
    "    '.##.#.####.',\n",
    "    '.##..##.##.',\n",
    "    '...........',\n",
    "]\n",
    "\n",
    "data_ex_large= [\n",
    "    '.................................',\n",
    "    '.....###.#......###.#......###.#.',\n",
    "    '.###.##..#..###.##..#..###.##..#.',\n",
    "    '..#.#...#....#.#...#....#.#...#..',\n",
    "    '....#.#........#.#........#.#....',\n",
    "    '.##...####..##..N####..##...####.',\n",
    "    '.##..#...#..##..#...#..##..#...#.',\n",
    "    '.......##.........##.........##..',\n",
    "    '.##.#.####..##.#.####..##.#.####.',\n",
    "    '.##..##.##..##..##.##..##..##.##.',\n",
    "    '.................................',\n",
    "    '.................................',\n",
    "    '.....###.#......###.#......###.#.',\n",
    "    '.###.##..#..###.##..#..###.##..#.',\n",
    "    '..#.#...#....#.#...#....#.#...#..',\n",
    "    '....#.#........#.#........#.#....',\n",
    "    '.##...####..##..S####..##...####.',\n",
    "    '.##..#...#..##..#...#..##..#...#.',\n",
    "    '.......##.........##.........##..',\n",
    "    '.##.#.####..##.#.####..##.#.####.',\n",
    "    '.##..##.##..##..##.##..##..##.##.',\n",
    "    '.................................',\n",
    "    '.................................',\n",
    "    '.....###.#......###.#......###.#.',\n",
    "    '.###.##..#..###.##..#..###.##..#.',\n",
    "    '..#.#...#....#.#...#....#.#...#..',\n",
    "    '....#.#........#.#........#.#....',\n",
    "    '.##...####..##...####..##...####.',\n",
    "    '.##..#...#..##..#...#..##..#...#.',\n",
    "    '.......##.........##.........##..',\n",
    "    '.##.#.####..##.#.####..##.#.####.',\n",
    "    '.##..##.##..##..##.##..##..##.##.',\n",
    "    '.................................',\n",
    "]"
   ]
  },
  {
   "cell_type": "markdown",
   "id": "a649b708-277d-425f-85cc-7b5af3581bc2",
   "metadata": {},
   "source": [
    "# Part One"
   ]
  },
  {
   "cell_type": "code",
   "execution_count": 4,
   "id": "3fcbd4e7-02b2-487f-b266-b73bacb90426",
   "metadata": {
    "tags": []
   },
   "outputs": [],
   "source": [
    "def draw_ascii(data, point_set):    \n",
    "    for row, line in enumerate(data):\n",
    "        for col, char in enumerate(line):\n",
    "            if Point(row, col) in point_set:\n",
    "                print(\"O\", end='')\n",
    "            else:\n",
    "                print(char, end='')\n",
    "        print()\n",
    "        \n",
    "def get_valid(point, data):\n",
    "    directions = [\n",
    "        Point(1, 0),\n",
    "        Point(-1, 0),\n",
    "        Point(0, 1),\n",
    "        Point(0, -1),\n",
    "    ]\n",
    "    for p in directions:\n",
    "        pp = point + p\n",
    "        if 0 <= pp.row < len(data) and 0 <= pp.col < len(data[0]) and data[pp.row][pp.col] != '#':\n",
    "            yield pp\n",
    "\n",
    "def bfs(data, start, steps):\n",
    "    q = deque([(start, 0)])\n",
    "    stopped = set()\n",
    "    seen = set()\n",
    "    while len(q):\n",
    "        (current, depth) = q.popleft()\n",
    "        if depth == 0 or (depth % 2 == 0):        \n",
    "            stopped.add(current)\n",
    "\n",
    "        for next_point in get_valid(current, data):\n",
    "            if next_point not in seen:\n",
    "                if depth < steps:\n",
    "                    q.append((next_point, depth+1))\n",
    "                    seen.add(next_point)\n",
    "\n",
    "    return stopped\n",
    "    \n"
   ]
  },
  {
   "cell_type": "code",
   "execution_count": 5,
   "id": "7a84a0de-6aa2-4cf0-b661-2ffdec8b3cd0",
   "metadata": {
    "tags": []
   },
   "outputs": [
    {
     "name": "stdout",
     "output_type": "stream",
     "text": [
      "...........\n",
      ".....###.#.\n",
      ".###.##.O#.\n",
      ".O#O#O.O#..\n",
      "O.O.#.#.O..\n",
      ".##O.O####.\n",
      ".##.O#O..#.\n",
      ".O.O.O.##..\n",
      ".##.#.####.\n",
      ".##O.##.##.\n",
      "...........\n"
     ]
    }
   ],
   "source": [
    "start = find_start(data_ex)\n",
    "\n",
    "s = bfs(data_ex, start,6)\n",
    "draw_ascii(data_ex, s)"
   ]
  },
  {
   "cell_type": "code",
   "execution_count": 6,
   "id": "8d6ffbc2-a345-4596-b8ce-5ed39e2c00ad",
   "metadata": {
    "tags": []
   },
   "outputs": [
    {
     "name": "stdout",
     "output_type": "stream",
     "text": [
      "Part One:  3746\n"
     ]
    }
   ],
   "source": [
    "start = find_start(data)\n",
    "s = bfs(data, start, 64)\n",
    "print(\"Part One: \", len(s))"
   ]
  },
  {
   "cell_type": "code",
   "execution_count": 7,
   "id": "3e7d1531-6337-414f-942f-7cc85c82cc61",
   "metadata": {
    "tags": []
   },
   "outputs": [],
   "source": [
    "def get_valid_infinite(point, data):\n",
    "    '''\n",
    "    Don't check bounds just scale of map.\n",
    "    '''\n",
    "    directions = [\n",
    "        Point(1, 0),\n",
    "        Point(-1, 0),\n",
    "        Point(0, 1),\n",
    "        Point(0, -1),\n",
    "    ]\n",
    "    for p in directions:\n",
    "        pp = point + p\n",
    "        ck = Point(pp.row % len(data), pp.col % len(data[0]))\n",
    "        if data[ck.row][ck.col] != '#':\n",
    "            yield pp\n",
    "\n",
    "\n",
    "def bfs(data, start, steps):\n",
    "    '''\n",
    "    Same as above, but don't check depth and look for\n",
    "    odd steps instead of even\n",
    "    '''\n",
    "    q = deque([(start, 0)])\n",
    "    stopped = set()\n",
    "    seen = set()\n",
    "    count = 0\n",
    "    while len(q):\n",
    "        count += 1\n",
    "        (current, depth) = q.popleft()\n",
    "        if depth == 0 or (depth % 2 == 1):\n",
    "            stopped.add(current)\n",
    "\n",
    "        for next_point in get_valid_infinite(current, data):\n",
    "            if next_point not in seen:\n",
    "                if depth < steps:\n",
    "                    q.append((next_point, depth+1))\n",
    "                seen.add(next_point)\n",
    "\n",
    "    return stopped\n"
   ]
  },
  {
   "cell_type": "markdown",
   "id": "d9767668-8a4c-4831-acf1-b1b2a6aca864",
   "metadata": {},
   "source": [
    "### Requested number of steps `26501365`:\n",
    "\n",
    "This reduces to $N * mapWidth + edgeDistance$\n",
    "\n",
    "26501365 is choosedn in a way that this turns into $202300 * 131 + 65$ which is especially convenient."
   ]
  },
  {
   "cell_type": "code",
   "execution_count": 9,
   "id": "039dbff4-055a-4d35-97e2-a6e03c75f2ad",
   "metadata": {
    "tags": []
   },
   "outputs": [
    {
     "name": "stdout",
     "output_type": "stream",
     "text": [
      "Reduce steps to parameters: 26501365 -> (202300, 65)\n",
      "34075 95592 186147 309182 460107 644660 855955 1102026 1373691 "
     ]
    }
   ],
   "source": [
    "print(\"Reduce steps to parameters: 26501365 ->\",  divmod(26501365, 131))\n",
    "\n",
    "# Find some of these values in the form n * 131 + 65\n",
    "found = []\n",
    "for i in range(1, 10):\n",
    "    s = bfs(data, start, (131*i) + 65 )\n",
    "    found.append(len(s))\n",
    "    print(len(s), end=' ')\n"
   ]
  },
  {
   "cell_type": "code",
   "execution_count": 24,
   "id": "14941abe-c02d-4032-a2e5-8f185d8706e3",
   "metadata": {
    "tags": []
   },
   "outputs": [
    {
     "name": "stdout",
     "output_type": "stream",
     "text": [
      "[61517, 90555, 123035, 150925, 184553, 211295, 246071, 271665]\n"
     ]
    },
    {
     "data": {
      "text/plain": [
       "[(2, 1), (1, 60370), (1, 61518), (1, 60370), (1, 61518), (1, 60370)]"
      ]
     },
     "execution_count": 24,
     "metadata": {},
     "output_type": "execute_result"
    }
   ],
   "source": [
    "# Look at succesive differences:\n",
    "diffs = [b - a for a, b in zip(found, found[1:])]\n",
    "print(diffs)\n",
    "\n",
    "# Every other dif is related by multiplication.\n",
    "[divmod(b, a) for a,b in zip(diffs, diffs[2:])]"
   ]
  },
  {
   "cell_type": "markdown",
   "id": "7efd0380-7500-4bdb-8df3-83b6dcb13269",
   "metadata": {
    "tags": []
   },
   "source": [
    "This is enough to build a rough hypothesis and formula:"
   ]
  },
  {
   "cell_type": "code",
   "execution_count": 25,
   "id": "fb4bffb0-113b-42a4-9553-ad4406dabd60",
   "metadata": {
    "tags": []
   },
   "outputs": [
    {
     "name": "stdout",
     "output_type": "stream",
     "text": [
      "predict first few n * 131 + 65 values\n",
      "34075, 95592, 186147, 309182, 460107, 644660, 855955\n",
      "================================================================================\n",
      "Part Two: 623540829615589\n"
     ]
    }
   ],
   "source": [
    "def solve(i):\n",
    "    if i % 2 == 0:\n",
    "        return 61517 + (i)//2 * 61518\n",
    "    else:\n",
    "        return 90555 + (i)//2 * 60370   #!\n",
    "    \n",
    "\n",
    "def chain(i):\n",
    "    total = 34075\n",
    "    for i in range(i-1):\n",
    "        total += solve(i)\n",
    "    return total\n",
    "\n",
    "print(\"predict first few n * 131 + 65 values\")\n",
    "print(', '.join(str(chain(i)) for i in range(1, 8)))\n",
    "\n",
    "print(\"=\"*80)\n",
    "    \n",
    "result = chain(202300)\n",
    "print(\"Part Two:\", result-1)"
   ]
  },
  {
   "cell_type": "code",
   "execution_count": null,
   "id": "4f6af80d-b037-48ab-a1e2-e77c9efa40c1",
   "metadata": {},
   "outputs": [],
   "source": []
  }
 ],
 "metadata": {
  "kernelspec": {
   "display_name": "Python 3 (ipykernel)",
   "language": "python",
   "name": "python3"
  },
  "language_info": {
   "codemirror_mode": {
    "name": "ipython",
    "version": 3
   },
   "file_extension": ".py",
   "mimetype": "text/x-python",
   "name": "python",
   "nbconvert_exporter": "python",
   "pygments_lexer": "ipython3",
   "version": "3.10.13"
  }
 },
 "nbformat": 4,
 "nbformat_minor": 5
}
