{
 "cells": [
  {
   "cell_type": "code",
   "execution_count": 1,
   "id": "d7d45138-caa6-4e1d-a88b-ecd5589fe26a",
   "metadata": {
    "tags": []
   },
   "outputs": [],
   "source": [
    "input_file = \"input_files/day_05_1.txt\"\n",
    "\n",
    "with open(input_file) as lines:\n",
    "    data = lines.read().strip()\n"
   ]
  },
  {
   "cell_type": "markdown",
   "id": "84e54e1a-7a75-4c3f-b652-f527034f4349",
   "metadata": {},
   "source": [
    "## Helper class for interval logic"
   ]
  },
  {
   "cell_type": "code",
   "execution_count": 2,
   "id": "fa089216-a6e6-4268-a0da-d85e2875f79e",
   "metadata": {
    "tags": []
   },
   "outputs": [
    {
     "data": {
      "text/plain": [
       "([Interval(111, 115), Interval(115, 117)],\n",
       " [Interval(10, 11), Interval(17, 20)])"
      ]
     },
     "execution_count": 2,
     "metadata": {},
     "output_type": "execute_result"
    }
   ],
   "source": [
    "class Interval:\n",
    "    def __init__(self, start, stop):\n",
    "        self.start = start\n",
    "        self.stop = stop\n",
    "        \n",
    "    def overlaps(self, other):\n",
    "        ''' returns True if any part of the intervals overlaps, otherwise False'''\n",
    "        return max(self.start, other.start) < min(self.stop,other.stop)\n",
    "\n",
    "    def __contains__(self, n):\n",
    "        return n >= self.start and n < self.stop\n",
    "    \n",
    "    def convert_interval(self, other):\n",
    "        '''\n",
    "        this returns a converted interval (or none if no overlap\n",
    "        and a list of the remaining partitions of the original\n",
    "        '''\n",
    "        other_interval, delta = other\n",
    "        if not self.overlaps(other_interval):\n",
    "            return None, [self]\n",
    "        \n",
    "        remainders = []\n",
    "        \n",
    "        start = max(self.start, other_interval.start)\n",
    "        stop = min(self.stop, other_interval.stop)\n",
    "        \n",
    "        converted = Interval(start + delta, stop + delta)\n",
    "        \n",
    "        if start > self.start:\n",
    "            remainders.append(Interval(self.start, other_interval.start))\n",
    "        if stop < self.stop:\n",
    "            remainders.append(Interval(other_interval.stop, self.stop))\n",
    "            \n",
    "        return converted, remainders\n",
    "    \n",
    "    def convert_interval_list(self, conversions):\n",
    "        '''\n",
    "        A single interval can be effected by more than one conversion interval.\n",
    "        This will convert all the conversions that overlap and\n",
    "        return any inconverted remainders.\n",
    "        '''\n",
    "        total_remaining = [self]\n",
    "        total_conversions = []\n",
    "        for conversion in conversions:\n",
    "            conversion\n",
    "            left_overs = []\n",
    "            for interval in total_remaining:\n",
    "                converted, remainders = interval.convert_interval(conversion)\n",
    "                if converted:\n",
    "                    total_conversions.append(converted)\n",
    "                left_overs.extend(remainders)\n",
    "            total_remaining = left_overs\n",
    "        return total_conversions, total_remaining     \n",
    "        \n",
    "    def __repr__(self):\n",
    "        return f'Interval({self.start}, {self.stop})'\n",
    "    \n",
    "i1 = Interval(10, 20)\n",
    "i2 = (Interval(11, 15), 100)\n",
    "i3 = (Interval(15, 17), 100)\n",
    "\n",
    "i1.convert_interval_list([i2, i3])"
   ]
  },
  {
   "cell_type": "markdown",
   "id": "ed74b86a-5c31-4492-9372-e8ef5e071063",
   "metadata": {},
   "source": [
    "## Parse Data"
   ]
  },
  {
   "cell_type": "code",
   "execution_count": 3,
   "id": "e890b2fe-a84f-4f7a-982d-4d8cbae19fa8",
   "metadata": {
    "tags": []
   },
   "outputs": [],
   "source": [
    "def make_conversion(lines):\n",
    "    '''\n",
    "    convert the lines of a particular conversion to \n",
    "    Interval and delta tuples\n",
    "    '''\n",
    "    ranges = []\n",
    "    for line in lines:\n",
    "        dest, source, n = map(int, line.split())\n",
    "        ranges.append((Interval(source, source+n), dest - source))\n",
    "    return ranges\n",
    "\n",
    "def parse_data(data):\n",
    "    '''\n",
    "    return raw seed numbers and list of list of range tuples\n",
    "    '''\n",
    "    categories = data.split('\\n\\n')\n",
    "    seeds = [int(n) for n in categories[0][categories[0].index(\":\")+1:].split()]\n",
    "    conversions = [make_conversion(cat.split('\\n')[1: ]) for cat in categories[1:]]\n",
    "    return seeds, conversions\n",
    "\n",
    "seeds, conversions = parse_data(data)\n"
   ]
  },
  {
   "cell_type": "markdown",
   "id": "d5eac48b-ba97-446d-991f-d7b498c2a441",
   "metadata": {},
   "source": [
    "## Part One"
   ]
  },
  {
   "cell_type": "code",
   "execution_count": 4,
   "id": "2834b936-e2f5-46e6-b2c7-81ee5ad417e5",
   "metadata": {
    "tags": []
   },
   "outputs": [
    {
     "data": {
      "text/plain": [
       "1181555926"
      ]
     },
     "execution_count": 4,
     "metadata": {},
     "output_type": "execute_result"
    }
   ],
   "source": [
    "def get_conversion(seed, conversions):\n",
    "    '''\n",
    "    run a seed through a single conversion set\n",
    "    '''\n",
    "    for conversion in conversions:\n",
    "        conversions_interval, delta = conversion\n",
    "        if seed in conversions_interval:\n",
    "            return seed + delta\n",
    "    return seed\n",
    "\n",
    "def get_location(seed, conversions):\n",
    "    '''run a single seed through all conversions'''\n",
    "    for c in conversions:\n",
    "        seed = get_conversion(seed, c)\n",
    "    return seed\n",
    "\n",
    "min(get_location(s, conversions) for s in seeds)"
   ]
  },
  {
   "cell_type": "markdown",
   "id": "1948f024-1132-47c3-ab92-c2f65e588f8f",
   "metadata": {},
   "source": [
    "# Part 2\n",
    "\n",
    "For each conversion, convert all the intervals. At first the intervals are just the seeds\n",
    "but as conversions partially effect the seed intervals, the number of intervals increases.\n",
    "\n",
    "At the end the interval with the lowest start contains the minimum location in the `start` property.\n"
   ]
  },
  {
   "cell_type": "code",
   "execution_count": 5,
   "id": "9c90a897-870e-4d42-a319-547199e89f47",
   "metadata": {
    "tags": []
   },
   "outputs": [
    {
     "data": {
      "text/plain": [
       "37806486"
      ]
     },
     "execution_count": 5,
     "metadata": {},
     "output_type": "execute_result"
    }
   ],
   "source": [
    "# seeds are now ranges\n",
    "total_ranges = [Interval(start, start+length) for start, length in  zip(seeds[::2], seeds[1::2])]\n",
    "\n",
    "for conversion in conversions:\n",
    "    converted = []\n",
    "    left_overs = []\n",
    "    for seed_range in total_ranges:\n",
    "        loval_converted, local_leftovers = seed_range.convert_interval_list(conversion)\n",
    "        converted.extend(loval_converted)\n",
    "        left_overs.extend(local_leftovers)\n",
    "    total_ranges = converted + left_overs\n",
    "\n",
    "min_interval = min(total_ranges, key=lambda r: r.start)\n",
    "min_interval.start"
   ]
  },
  {
   "cell_type": "code",
   "execution_count": null,
   "id": "f9db0683-78d5-4432-b759-50db42c848f4",
   "metadata": {},
   "outputs": [],
   "source": []
  }
 ],
 "metadata": {
  "kernelspec": {
   "display_name": "Python 3 (ipykernel)",
   "language": "python",
   "name": "python3"
  },
  "language_info": {
   "codemirror_mode": {
    "name": "ipython",
    "version": 3
   },
   "file_extension": ".py",
   "mimetype": "text/x-python",
   "name": "python",
   "nbconvert_exporter": "python",
   "pygments_lexer": "ipython3",
   "version": "3.10.13"
  }
 },
 "nbformat": 4,
 "nbformat_minor": 5
}
