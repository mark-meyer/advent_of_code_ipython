{
 "cells": [
  {
   "cell_type": "code",
   "execution_count": 1,
   "id": "a435b80f-9f53-40c7-809e-bfb59d8bec02",
   "metadata": {
    "tags": []
   },
   "outputs": [],
   "source": [
    "input_file = \"input_files/day_19.txt\"\n",
    "\n",
    "with open(input_file) as lines:\n",
    "    s = lines.read().strip()\n",
    "    \n",
    "raw_instructions, raw_parts = s.split('\\n\\n')\n",
    "raw_instructions = raw_instructions.split('\\n')\n",
    "raw_parts = raw_parts.split('\\n')\n"
   ]
  },
  {
   "cell_type": "markdown",
   "id": "0fc210f8-e573-446c-8f3a-f414e8e294ee",
   "metadata": {},
   "source": [
    "## Parse Input"
   ]
  },
  {
   "cell_type": "code",
   "execution_count": 2,
   "id": "44950dbc-2fbd-41e4-9249-d4e7630b8e1f",
   "metadata": {
    "tags": []
   },
   "outputs": [],
   "source": [
    "def parse_part(s):\n",
    "    kv = s[1:-1].split(',')\n",
    "    d = {}\n",
    "    for i in kv:\n",
    "        k, v = i.split('=')\n",
    "        d[k] = int(v)\n",
    "    return d\n",
    "\n",
    "def parse_instructions(s, instruction_constructor):\n",
    "    key, inst = s.split('{')\n",
    "    rule = inst[:-1].split(',')\n",
    "    rule = [instruction_constructor(r) for r in rule]\n",
    "    return key, rule\n",
    "                    \n",
    "def make_instruction_part_one(s):\n",
    "    ''' \n",
    "    turns an instruction like `a<2006:qkq` into\n",
    "    a lambda function that either returns the destination \n",
    "    or None if the conditions does not pass\n",
    "    '''\n",
    "    if ':' not in s:\n",
    "        return lambda _: s\n",
    "    \n",
    "    i, dest = s.split(':')\n",
    "    key = i[0]\n",
    "    op = i[1]\n",
    "    n = int(i[2:])\n",
    "\n",
    "    if op == '<':\n",
    "        return lambda d: dest if d[key] < n else None\n",
    "    if op == '>':\n",
    "        return lambda d: dest if d[key] > n else None\n",
    "\n",
    "    \n",
    "parts = [parse_part(p) for p in raw_parts]\n",
    "workflows = dict([parse_instructions(i, make_instruction_part_one) for i in raw_instructions])\n"
   ]
  },
  {
   "cell_type": "markdown",
   "id": "b15ec352-41c2-4cd1-826f-3d49e8cff644",
   "metadata": {},
   "source": [
    "## Part One"
   ]
  },
  {
   "cell_type": "code",
   "execution_count": 3,
   "id": "d5f717d6-7c15-4b01-ac8b-cbaec92d19f6",
   "metadata": {
    "tags": []
   },
   "outputs": [
    {
     "data": {
      "text/plain": [
       "432427"
      ]
     },
     "execution_count": 3,
     "metadata": {},
     "output_type": "execute_result"
    }
   ],
   "source": [
    "def validate(p, workflows):\n",
    "    work_iter = iter(workflows['in'])\n",
    "    while True:\n",
    "        f = next(work_iter)\n",
    "        r = f(p)\n",
    "        if r == 'A':\n",
    "            return True\n",
    "        if r == 'R':\n",
    "            return False\n",
    "        if r is None:\n",
    "            continue\n",
    "        else:\n",
    "            work_iter = iter(workflows[r])\n",
    "\n",
    "sum(sum(p.values()) for p in  parts if validate(p, workflows))\n",
    " "
   ]
  },
  {
   "cell_type": "markdown",
   "id": "64edee0f-b21b-4700-9f13-5bfb813d2abd",
   "metadata": {},
   "source": [
    "## Part Two"
   ]
  },
  {
   "cell_type": "code",
   "execution_count": 4,
   "id": "a143f9ae-a756-4fc0-acdc-99b82c876741",
   "metadata": {
    "tags": []
   },
   "outputs": [],
   "source": [
    "def make_instruction_part_two(s):\n",
    "    ''' \n",
    "    dict keyed to same key value is ranges accepted\n",
    "    {a: [range(0, 45), range(3000, 4000)]\n",
    "    '''\n",
    "    if ':' not in s:\n",
    "        return lambda d: ((s, d), )\n",
    "    \n",
    "    i, dest = s.split(':')\n",
    "    k = i[0]\n",
    "    op = i[1]\n",
    "    n = int(i[2:])\n",
    "\n",
    "    if op == '<':\n",
    "        return lambda d: (\n",
    "            (dest, {**d, k: d[k].intersect(Range(1, n))} ), \n",
    "            (None, {**d, k: d[k].intersect(Range(n, 4001))} )\n",
    "        )\n",
    "    if op == '>':\n",
    "        return lambda d: (\n",
    "            (dest, {**d, k: d[k].intersect(Range(n+1, 4001))} ),\n",
    "            (None, {**d, k: d[k].intersect(Range(1, n+1))} )\n",
    "        )\n",
    "    \n",
    "workflows = dict([parse_instructions(i, make_instruction_part_two) for i in raw_instructions])\n"
   ]
  },
  {
   "cell_type": "code",
   "execution_count": 5,
   "id": "aac0c859-e4d9-4887-bcf1-fbc9293388dc",
   "metadata": {
    "tags": []
   },
   "outputs": [
    {
     "data": {
      "text/plain": [
       "143760172569135"
      ]
     },
     "execution_count": 5,
     "metadata": {},
     "output_type": "execute_result"
    }
   ],
   "source": [
    "from typing import NamedTuple\n",
    "from math import prod\n",
    "\n",
    "class Range(NamedTuple):\n",
    "    start: int\n",
    "    stop: int\n",
    "    \n",
    "    def intersect(self, other):\n",
    "        if other is None:\n",
    "            return None\n",
    "        if max(self.start, other.start) <= min(self.stop, other.stop):\n",
    "            return Range(max(self.start, other.start), min(self.stop, other.stop))\n",
    "        \n",
    "def validate(summary, workflows):\n",
    "    accepted = []\n",
    "    rejected = []\n",
    "    work_iters = [('in', summary)]\n",
    "    \n",
    "    while len(work_iters):\n",
    "        workflow_key, d = work_iters.pop()\n",
    "        \n",
    "        work_iter = iter(workflows[workflow_key])\n",
    "        \n",
    "        for f in  work_iter:\n",
    "            f_result = f(d)\n",
    "         \n",
    "            for (r, res_dict) in f_result:\n",
    "                if r == 'A':\n",
    "                    accepted.append(res_dict)    \n",
    "                elif r == 'R':\n",
    "                    rejected.append(res_dict)\n",
    "                elif r is None:\n",
    "                    d = res_dict\n",
    "                else:\n",
    "                    work_iters.append((r, res_dict))\n",
    "                                        \n",
    "    return accepted, rejected              \n",
    "\n",
    "start_solid = {\n",
    "    'x': Range(1, 4001),\n",
    "    'm': Range(1, 4001),\n",
    "    'a': Range(1, 4001),\n",
    "    's': Range(1, 4001),\n",
    "}\n",
    "\n",
    "accepted, rejected = validate(start_solid, workflows)\n",
    "\n",
    "sum([prod(v.stop - v.start for v in d.values()) for d in accepted])\n"
   ]
  },
  {
   "cell_type": "code",
   "execution_count": null,
   "id": "90a2a4cc-2af9-45f3-b907-195472262764",
   "metadata": {},
   "outputs": [],
   "source": []
  }
 ],
 "metadata": {
  "kernelspec": {
   "display_name": "Python 3 (ipykernel)",
   "language": "python",
   "name": "python3"
  },
  "language_info": {
   "codemirror_mode": {
    "name": "ipython",
    "version": 3
   },
   "file_extension": ".py",
   "mimetype": "text/x-python",
   "name": "python",
   "nbconvert_exporter": "python",
   "pygments_lexer": "ipython3",
   "version": "3.10.9"
  }
 },
 "nbformat": 4,
 "nbformat_minor": 5
}
