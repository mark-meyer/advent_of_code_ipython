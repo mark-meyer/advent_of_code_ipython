{
 "cells": [
  {
   "cell_type": "code",
   "execution_count": 1,
   "id": "c7de7a15",
   "metadata": {
    "scrolled": true
   },
   "outputs": [],
   "source": [
    "import os\n",
    "import math\n",
    "from ast import literal_eval\n",
    "from pathlib import Path\n",
    "from itertools import starmap\n",
    "from functools import cmp_to_key\n",
    "\n",
    "\n",
    "FOLDER = Path(os.path.dirname(os.path.realpath(\"__file__\"))) / 'data'\n",
    "in_file = 'day13.txt'"
   ]
  },
  {
   "cell_type": "markdown",
   "id": "96151de7",
   "metadata": {},
   "source": [
    "## Part One"
   ]
  },
  {
   "cell_type": "code",
   "execution_count": 2,
   "id": "769de58a",
   "metadata": {
    "scrolled": true
   },
   "outputs": [
    {
     "data": {
      "text/plain": [
       "6420"
      ]
     },
     "execution_count": 2,
     "metadata": {},
     "output_type": "execute_result"
    }
   ],
   "source": [
    "with open(FOLDER/in_file) as f:\n",
    "    packets = [literal_eval(line) for line in f if line != \"\\n\"]\n",
    "\n",
    "def compare(a, b):\n",
    "    if isinstance(a, int) and isinstance(b, int):\n",
    "        return b - a\n",
    "\n",
    "    if not isinstance(a, list) and isinstance(b, list):\n",
    "        return compare([a], b)\n",
    "    \n",
    "    if isinstance(a, list) and not isinstance(b, list):\n",
    "        return compare(a, [b])\n",
    "\n",
    "    return next(filter(None, starmap(compare, zip(a, b))), len(b) - len(a))    \n",
    "    \n",
    "        \n",
    "sum(i for i, pair in enumerate(zip(packets[::2], packets[1::2]), 1) if compare(*pair)>0)\n"
   ]
  },
  {
   "cell_type": "markdown",
   "id": "03ebb9d6",
   "metadata": {},
   "source": [
    "## Part Two"
   ]
  },
  {
   "cell_type": "code",
   "execution_count": 3,
   "id": "25ad06f7",
   "metadata": {},
   "outputs": [
    {
     "data": {
      "text/plain": [
       "22000"
      ]
     },
     "execution_count": 3,
     "metadata": {},
     "output_type": "execute_result"
    }
   ],
   "source": [
    "decoder_keys = [[[2]], [[6]]]\n",
    "flat = packets + decoder_keys\n",
    "\n",
    "top_sort = sorted(flat, key=cmp_to_key(compare), reverse=True)\n",
    "\n",
    "math.prod(top_sort.index(k)+1 for k in decoder_keys)"
   ]
  }
 ],
 "metadata": {
  "kernelspec": {
   "display_name": "Python 3 (ipykernel)",
   "language": "python",
   "name": "python3"
  },
  "language_info": {
   "codemirror_mode": {
    "name": "ipython",
    "version": 3
   },
   "file_extension": ".py",
   "mimetype": "text/x-python",
   "name": "python",
   "nbconvert_exporter": "python",
   "pygments_lexer": "ipython3",
   "version": "3.8.13"
  }
 },
 "nbformat": 4,
 "nbformat_minor": 5
}
