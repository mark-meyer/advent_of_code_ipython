{
 "cells": [
  {
   "cell_type": "code",
   "execution_count": 1,
   "id": "c7de7a15",
   "metadata": {
    "scrolled": true
   },
   "outputs": [],
   "source": [
    "import os\n",
    "from pathlib import Path\n",
    "from itertools import zip_longest\n",
    "from collections import defaultdict\n",
    "import networkx as nx\n",
    "\n",
    "FOLDER = Path(os.path.dirname(os.path.realpath(\"__file__\"))) / 'data'\n",
    "in_file = 'day13.txt'"
   ]
  },
  {
   "cell_type": "markdown",
   "id": "96151de7",
   "metadata": {},
   "source": [
    "## Part One"
   ]
  },
  {
   "cell_type": "code",
   "execution_count": 2,
   "id": "769de58a",
   "metadata": {
    "scrolled": true
   },
   "outputs": [
    {
     "data": {
      "text/plain": [
       "6420"
      ]
     },
     "execution_count": 2,
     "metadata": {},
     "output_type": "execute_result"
    }
   ],
   "source": [
    "import ast  \n",
    "\n",
    "with open(FOLDER/in_file) as f:\n",
    "    pairs = []\n",
    "    current = []\n",
    "    for line in map(str.strip, f):\n",
    "        if line == '':\n",
    "            pairs.append(current)\n",
    "            current = []\n",
    "        else:\n",
    "            current.append(ast.literal_eval(line))\n",
    "    pairs.append(current)\n",
    "\n",
    "def compare(a, b):\n",
    "    if a is None:\n",
    "        return True\n",
    "    if b is None:\n",
    "        return False\n",
    "\n",
    "    if isinstance(a, int) and isinstance(b, int):\n",
    "        if a < b:\n",
    "            return True\n",
    "        elif b < a:\n",
    "            return False\n",
    "        else:\n",
    "            return None      \n",
    "    \n",
    "    if not isinstance(a, list) and isinstance(b, list):\n",
    "        return compare([a], b)\n",
    "    \n",
    "    if isinstance(a, list) and not isinstance(b, list):\n",
    "        return compare(a, [b])\n",
    "    \n",
    "    for x, y in zip_longest(a, b, fillvalue=None):\n",
    "        res = compare(x, y)\n",
    "        if res is not None:\n",
    "            return res\n",
    "        \n",
    "sum(i for i, pair in enumerate(pairs, 1) if compare(*pair))"
   ]
  },
  {
   "cell_type": "markdown",
   "id": "03ebb9d6",
   "metadata": {},
   "source": [
    "## Part Two"
   ]
  },
  {
   "cell_type": "code",
   "execution_count": 3,
   "id": "25ad06f7",
   "metadata": {},
   "outputs": [
    {
     "data": {
      "text/plain": [
       "22000"
      ]
     },
     "execution_count": 3,
     "metadata": {},
     "output_type": "execute_result"
    }
   ],
   "source": [
    "flat = [l for pair in pairs for l in pair]\n",
    "flat.extend([[[2]], [[6]]])\n",
    "\n",
    "matches = defaultdict(list)\n",
    "\n",
    "for i, l in enumerate(flat):\n",
    "    for j, test in enumerate(flat):\n",
    "        if i == j:\n",
    "            continue\n",
    "        if compare(l, test):\n",
    "            matches[i].append(j)\n",
    "\n",
    "g = nx.DiGraph(matches)\n",
    "top_sort = list(nx.topological_sort(g))\n",
    "\n",
    "(top_sort.index(len(flat)-2)+1) * (top_sort.index(len(flat)-1)+1)"
   ]
  }
 ],
 "metadata": {
  "kernelspec": {
   "display_name": "Python 3 (ipykernel)",
   "language": "python",
   "name": "python3"
  },
  "language_info": {
   "codemirror_mode": {
    "name": "ipython",
    "version": 3
   },
   "file_extension": ".py",
   "mimetype": "text/x-python",
   "name": "python",
   "nbconvert_exporter": "python",
   "pygments_lexer": "ipython3",
   "version": "3.8.13"
  }
 },
 "nbformat": 4,
 "nbformat_minor": 5
}
