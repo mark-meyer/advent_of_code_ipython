{
 "cells": [
  {
   "cell_type": "code",
   "execution_count": 1,
   "id": "c7de7a15",
   "metadata": {},
   "outputs": [],
   "source": [
    "import os\n",
    "from pathlib import Path\n",
    "\n",
    "FOLDER = Path(os.path.dirname(os.path.realpath(\"__file__\"))) / 'data'\n",
    "in_file = 'day7.txt'"
   ]
  },
  {
   "cell_type": "code",
   "execution_count": 2,
   "id": "5d729c98",
   "metadata": {},
   "outputs": [],
   "source": [
    "class Tree():\n",
    "    '''\n",
    "    Directory tree. Maintain a total_size of files + children files\n",
    "    '''\n",
    "    def __init__(self, parent):\n",
    "        self.parent = parent\n",
    "        self.children = {}\n",
    "        self.total_size = 0\n",
    "        \n",
    "    def cd(self, name):\n",
    "        if name == '..':\n",
    "            return self.parent \n",
    "        return self.children.setdefault(name, Tree(self))\n",
    "\n",
    "    def add_file(self, size):\n",
    "        self.total_size += size\n",
    "        if self.parent:\n",
    "            self.parent.add_file(size)\n",
    "        return self\n",
    "        \n",
    "    def size_iter(self):\n",
    "        yield self.total_size\n",
    "        for child in self.children.values():\n",
    "            yield from child.size_iter()\n",
    "        "
   ]
  },
  {
   "cell_type": "markdown",
   "id": "96151de7",
   "metadata": {},
   "source": [
    "## Part One"
   ]
  },
  {
   "cell_type": "code",
   "execution_count": 3,
   "id": "769de58a",
   "metadata": {},
   "outputs": [
    {
     "data": {
      "text/plain": [
       "1297683"
      ]
     },
     "execution_count": 3,
     "metadata": {},
     "output_type": "execute_result"
    }
   ],
   "source": [
    "current = root = Tree(None)\n",
    "\n",
    "with open(FOLDER/in_file) as f:\n",
    "    for line in f:\n",
    "        if line.startswith('$ cd'):\n",
    "            path = line.split()[-1]\n",
    "            current = current.cd(path)\n",
    "        elif line[0].isdigit():\n",
    "            size = line.split()[0]\n",
    "            current.add_file(int(size))\n",
    "\n",
    "sum(filter(lambda size: size < 100000, root.size_iter()))\n"
   ]
  },
  {
   "cell_type": "markdown",
   "id": "03ebb9d6",
   "metadata": {},
   "source": [
    "## Part Two"
   ]
  },
  {
   "cell_type": "code",
   "execution_count": 4,
   "id": "8b27b6b7",
   "metadata": {},
   "outputs": [
    {
     "data": {
      "text/plain": [
       "5756764"
      ]
     },
     "execution_count": 4,
     "metadata": {},
     "output_type": "execute_result"
    }
   ],
   "source": [
    "TOTAL_SPACE = 70000000\n",
    "NEEDED = 30000000\n",
    "used = TOTAL_SPACE - root.total_size\n",
    "to_delete = NEEDED - used\n",
    "\n",
    "min(filter(lambda size: size >= to_delete, root.size_iter()))"
   ]
  }
 ],
 "metadata": {
  "kernelspec": {
   "display_name": "Python 3 (ipykernel)",
   "language": "python",
   "name": "python3"
  },
  "language_info": {
   "codemirror_mode": {
    "name": "ipython",
    "version": 3
   },
   "file_extension": ".py",
   "mimetype": "text/x-python",
   "name": "python",
   "nbconvert_exporter": "python",
   "pygments_lexer": "ipython3",
   "version": "3.8.13"
  }
 },
 "nbformat": 4,
 "nbformat_minor": 5
}
