{
 "cells": [
  {
   "cell_type": "code",
   "execution_count": 1,
   "id": "10cc35fa",
   "metadata": {},
   "outputs": [],
   "source": [
    "import os\n",
    "from pathlib import Path\n",
    "\n",
    "FOLDER = Path(os.path.dirname(os.path.realpath(\"__file__\"))) / 'data'\n",
    "in_file = 'day25.txt'"
   ]
  },
  {
   "cell_type": "markdown",
   "id": "bc9ca129",
   "metadata": {},
   "source": [
    "# Part One"
   ]
  },
  {
   "cell_type": "code",
   "execution_count": 2,
   "id": "cd989330",
   "metadata": {},
   "outputs": [
    {
     "name": "stdout",
     "output_type": "stream",
     "text": [
      "33383508717511\n"
     ]
    },
    {
     "data": {
      "text/plain": [
       "'2----0=--1122=0=0021'"
      ]
     },
     "execution_count": 2,
     "metadata": {},
     "output_type": "execute_result"
    }
   ],
   "source": [
    "def s_2_d(snafu):\n",
    "    digits = dict(zip('210-=', [2,1,0,-1,-2]))\n",
    "    ex = -1\n",
    "    return sum(digits[c] * 5 ** (ex:=ex+1) for c in reversed(snafu))\n",
    "\n",
    "def d_2_s(n):\n",
    "    digits = []\n",
    "    \n",
    "    while n != 0:\n",
    "        n, r = divmod(n, 5)\n",
    "        match r:\n",
    "            case 4:\n",
    "                digits.append('-')\n",
    "                n += 1\n",
    "            case 3:\n",
    "                digits.append('=')\n",
    "                n += 1\n",
    "            case _:\n",
    "                digits.append(str(r))\n",
    "                \n",
    "    return ''.join(reversed(digits))\n",
    "    \n",
    "with open(FOLDER / in_file) as f:\n",
    "     total = sum(s_2_d(line.strip()) for line in f)\n",
    "\n",
    "print(total)\n",
    "d_2_s(total)"
   ]
  },
  {
   "cell_type": "code",
   "execution_count": 3,
   "id": "044c868f",
   "metadata": {},
   "outputs": [],
   "source": [
    "t = [\n",
    "    ('1=-0-2', 1747),\n",
    "    ('12111', 906),\n",
    "    ('2=0=', 198),\n",
    "    ('21', 11),\n",
    "    ('2=01', 201),\n",
    "    ('111', 31),\n",
    "    ('20012', 1257),\n",
    "    ('112', 32),\n",
    "    ('1=-1=', 353),\n",
    "    ('1-12', 107),\n",
    "    ('12', 7),\n",
    "    ('1=', 3),\n",
    "    ('122', 37)\n",
    "]\n",
    "\n",
    "for s, n in t:\n",
    "    assert(s_2_d(s) == n)\n",
    "    assert(d_2_s(n) == s)\n"
   ]
  }
 ],
 "metadata": {
  "kernelspec": {
   "display_name": "Python 3 (ipykernel)",
   "language": "python",
   "name": "python3"
  },
  "language_info": {
   "codemirror_mode": {
    "name": "ipython",
    "version": 3
   },
   "file_extension": ".py",
   "mimetype": "text/x-python",
   "name": "python",
   "nbconvert_exporter": "python",
   "pygments_lexer": "ipython3",
   "version": "3.10.4"
  }
 },
 "nbformat": 4,
 "nbformat_minor": 5
}
