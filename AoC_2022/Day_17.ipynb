{
 "cells": [
  {
   "cell_type": "code",
   "execution_count": 1,
   "id": "cfc72c35",
   "metadata": {},
   "outputs": [],
   "source": [
    "import os\n",
    "from pathlib import Path\n",
    "from itertools import zip_longest, cycle\n",
    "\n",
    "FOLDER = Path(os.path.dirname(os.path.realpath(\"__file__\"))) / 'data'\n",
    "in_file = 'day17.txt'"
   ]
  },
  {
   "cell_type": "code",
   "execution_count": 3,
   "id": "bbb34b2b",
   "metadata": {},
   "outputs": [
    {
     "data": {
      "text/plain": [
       "15"
      ]
     },
     "execution_count": 3,
     "metadata": {},
     "output_type": "execute_result"
    }
   ],
   "source": [
    "5 + 10"
   ]
  },
  {
   "cell_type": "markdown",
   "id": "327143e5",
   "metadata": {},
   "source": [
    "# Part One"
   ]
  },
  {
   "cell_type": "code",
   "execution_count": 4,
   "id": "db77f0a4",
   "metadata": {},
   "outputs": [],
   "source": [
    "# blocks are represnted as bits\n",
    "# this allows jets to happen with shifts\n",
    "# collisions to be detected with bitwise AND\n",
    "# and to merge rows with OR\n",
    "\n",
    "blocks = [\n",
    "    [30],\n",
    "    [8, 28, 8],\n",
    "    [28, 4, 4],\n",
    "    [16, 16, 16, 16],\n",
    "    [24, 24] \n",
    "]\n",
    "\n",
    "# movements are done with bit shifts\n",
    "\n",
    "def left(a):\n",
    "    m = max(a)\n",
    "    if m << 1 > 127:\n",
    "        return a\n",
    "    else:\n",
    "        return [i << 1 for i in a]\n",
    "    \n",
    "def right(a):\n",
    "    if any(i % 2 for i in a):\n",
    "        return a\n",
    "    else:\n",
    "        return [i >> 1 for i in a]\n",
    "\n",
    "jet = {'<': left,'>': right}\n",
    "\n",
    "def print_block(b):\n",
    "    for i in reversed(b):\n",
    "        print('{0:b}'.format(i).zfill(7).replace('0', '.').replace('1', '#'))\n",
    "\n",
    "\n",
    "def drop(block, room, jets):\n",
    "    top = len(room)\n",
    "    pos = top + 3\n",
    "\n",
    "    while True:\n",
    "        # negative overlap mean bottom of block\n",
    "        # is below top of stack\n",
    "        overlap = pos - top\n",
    "\n",
    "        jet = next(jets)\n",
    "        moved_block = jet(block)\n",
    "\n",
    "        # only jet over it there's no collision\n",
    "        if overlap >=0 or not any(r & b for b, r in zip(moved_block[:-overlap], room[overlap:])):\n",
    "            block = moved_block\n",
    "\n",
    "        if pos <= 0:\n",
    "            break\n",
    "\n",
    "        if overlap <= 0 and any(r & b for r, b in zip(block[:-(overlap -1)], room[overlap-1:])):\n",
    "            break\n",
    "    \n",
    "        pos -= 1\n",
    "    \n",
    "    if overlap < 0:\n",
    "        block_overlap, block = block[:-overlap], block[-overlap:]\n",
    "        room_overlap = room[overlap:]\n",
    "\n",
    "        room[overlap:] = [r | b for r, b in zip_longest(room_overlap, block_overlap, fillvalue=0)]\n",
    "    \n",
    "    room.extend(block)"
   ]
  },
  {
   "cell_type": "markdown",
   "id": "dfcfdc72",
   "metadata": {},
   "source": [
    "## Sample "
   ]
  },
  {
   "cell_type": "code",
   "execution_count": 5,
   "id": "e5137043",
   "metadata": {},
   "outputs": [
    {
     "name": "stdout",
     "output_type": "stream",
     "text": [
      "...####\n",
      "....#..\n",
      "....#..\n",
      "....##.\n",
      "##..##.\n",
      "######.\n",
      ".###...\n",
      "..#....\n",
      ".####..\n",
      "....##.\n",
      "....##.\n",
      "....#..\n",
      "..#.#..\n",
      "..#.#..\n",
      "#####..\n",
      "..###..\n",
      "...#...\n",
      "..####.\n"
     ]
    }
   ],
   "source": [
    "data = \">>><<><>><<<>><>>><<<>>><<<><<<>><>><<>>\"\n",
    "room = []\n",
    "block_cycle = cycle(blocks)\n",
    "jets = cycle(jet[c] for c in list(data))\n",
    "\n",
    "for _ in range(11):\n",
    "    drop(next(block_cycle), room, jets)\n",
    "print_block(room)\n"
   ]
  },
  {
   "cell_type": "code",
   "execution_count": 4,
   "id": "6cf02869",
   "metadata": {},
   "outputs": [
    {
     "data": {
      "text/plain": [
       "3177"
      ]
     },
     "execution_count": 4,
     "metadata": {},
     "output_type": "execute_result"
    }
   ],
   "source": [
    "# Part One Solution\n",
    "\n",
    "with open(FOLDER / in_file) as f:\n",
    "    data = f.read()\n",
    "\n",
    "room = []\n",
    "block_cycle = cycle(blocks)\n",
    "jets = cycle(jet[c] for c in list(data))\n",
    "\n",
    "n = 2022\n",
    "for i in range(n):\n",
    "    drop(next(block_cycle), room, jets)\n",
    "    \n",
    "len(room)"
   ]
  },
  {
   "cell_type": "markdown",
   "id": "d1cceb79",
   "metadata": {},
   "source": [
    "# Part 2\n",
    "\n",
    "The basic idea is to drop a bunch of blocks the look for a cycle.\n"
   ]
  },
  {
   "cell_type": "code",
   "execution_count": 5,
   "id": "626639d4",
   "metadata": {},
   "outputs": [
    {
     "name": "stdout",
     "output_type": "stream",
     "text": [
      "rows per cycle: 2724\n",
      "prefix_length: 264\n"
     ]
    },
    {
     "data": {
      "text/plain": [
       "(264, 2724)"
      ]
     },
     "execution_count": 5,
     "metadata": {},
     "output_type": "execute_result"
    }
   ],
   "source": [
    "with open(FOLDER / in_file) as f:\n",
    "    data = f.read()\n",
    "    \n",
    "room = []\n",
    "block_cycle = cycle(blocks)\n",
    "jets = cycle(jet[c] for c in list(data))\n",
    "\n",
    "n = 8000\n",
    "for i in range(n):\n",
    "    drop(next(block_cycle), room, jets)\n",
    "    \n",
    "\n",
    "def find_cycle_length(l):\n",
    "    ''' \n",
    "    Shift the rows until a lot of stuff matches up\n",
    "    assume a really good match represents a cycle\n",
    "    '''\n",
    "    highest_matches = 0\n",
    "    best_shift = 0\n",
    "    for i in range(1, len(l)):\n",
    "        same = sum(a == b for a, b in zip(l, l[i:]))\n",
    "        if same > highest_matches:\n",
    "            highest_matches = same\n",
    "            best_shift = i\n",
    "    return best_shift       \n",
    "\n",
    "cycle_rows = find_cycle_length(room)\n",
    "\n",
    "print(f\"rows per cycle: {cycle_rows}\")\n",
    "\n",
    "for i in range(7999):\n",
    "    if all(a == b for a, b in zip(room[i:], room[i+cycle_rows:])):\n",
    "        prefix_rows = i\n",
    "        print(\"prefix_length:\", i)\n",
    "        break\n",
    "        \n",
    "prefix_rows, cycle_rows"
   ]
  },
  {
   "cell_type": "markdown",
   "id": "4a5e3eb1",
   "metadata": {},
   "source": [
    "#### Gut check\n",
    "\n",
    "Do the rows sync up to large enough length not be a coincidence?\n",
    "\n",
    "Take slice starting after prefix and after prefix + multiple of cycle\n",
    "these should be the same if the cycle prefix is correct\n"
   ]
  },
  {
   "cell_type": "code",
   "execution_count": 6,
   "id": "13ca9c8f",
   "metadata": {},
   "outputs": [
    {
     "data": {
      "text/plain": [
       "True"
      ]
     },
     "execution_count": 6,
     "metadata": {},
     "output_type": "execute_result"
    }
   ],
   "source": [
    "room[prefix_rows:prefix_rows+2000] == room[prefix_rows + cycle_rows:prefix_rows + cycle_rows+2000]"
   ]
  },
  {
   "cell_type": "code",
   "execution_count": 7,
   "id": "299b3506",
   "metadata": {},
   "outputs": [
    {
     "name": "stdout",
     "output_type": "stream",
     "text": [
      "Prefix rows are made of 175 blocks\n",
      "A complete cycle is made of 1740 blocks\n"
     ]
    },
    {
     "data": {
      "text/plain": [
       "(175, 1740)"
      ]
     },
     "execution_count": 7,
     "metadata": {},
     "output_type": "execute_result"
    }
   ],
   "source": [
    "# Try to determine how many blocks create the above number of rows\n",
    "\n",
    "room = []\n",
    "block_cycle = cycle(blocks)\n",
    "jets = cycle(jet[c] for c in list(data))\n",
    "\n",
    "n = 5000\n",
    "prefix_blocks = 0\n",
    "cycle_blocks = 0\n",
    "\n",
    "for i in range(n):\n",
    "    drop(next(block_cycle), room, jets)\n",
    "    if len(room) == prefix_rows:\n",
    "        prefix_blocks = i + 1\n",
    "    if len(room) == prefix_rows + cycle_rows:\n",
    "\n",
    "        cycle_blocks = i + 1\n",
    "        \n",
    "cycle_blocks = cycle_blocks - prefix_blocks\n",
    "print(f\"Prefix rows are made of {prefix_blocks} blocks\")\n",
    "print(f\"A complete cycle is made of {cycle_blocks} blocks\")\n",
    "\n",
    "prefix_blocks, cycle_blocks"
   ]
  },
  {
   "cell_type": "code",
   "execution_count": 8,
   "id": "b253f433",
   "metadata": {},
   "outputs": [
    {
     "data": {
      "text/plain": [
       "(574712643, 1005)"
      ]
     },
     "execution_count": 8,
     "metadata": {},
     "output_type": "execute_result"
    }
   ],
   "source": [
    "blocks_after_prefix = (1000000000000 - prefix_blocks)\n",
    "\n",
    "# This number of blocks does not represent an even cycle :(\n",
    "# Figure out remained then figure out how many rows are in the first\n",
    "# part of a cycle of remaining_block blocks\n",
    "\n",
    "even_cycles, remaining_block = divmod(blocks_after_prefix, cycle_blocks)\n",
    "\n",
    "even_cycles, remaining_block"
   ]
  },
  {
   "cell_type": "code",
   "execution_count": 9,
   "id": "f1b12186",
   "metadata": {},
   "outputs": [
    {
     "data": {
      "text/plain": [
       "1565517241382"
      ]
     },
     "execution_count": 9,
     "metadata": {},
     "output_type": "execute_result"
    }
   ],
   "source": [
    "# find length of first 1005 blocks in a cycle\n",
    "\n",
    "room = []\n",
    "block_cycle = cycle(blocks)\n",
    "jets = cycle(jet[c] for c in list(data))\n",
    "\n",
    "n = prefix_blocks\n",
    "for i in range(n):\n",
    "    drop(next(block_cycle), room, jets)\n",
    "    \n",
    "pre_len = len(room)\n",
    "\n",
    "for i in range(remaining_block):\n",
    "    drop(next(block_cycle), room, jets)\n",
    "\n",
    "\n",
    "remmaining_rows = len(room) - pre_len\n",
    "\n",
    "# answer:\n",
    "prefix_rows + even_cycles * cycle_rows + remmaining_rows"
   ]
  },
  {
   "cell_type": "code",
   "execution_count": null,
   "id": "f3c3df5f",
   "metadata": {},
   "outputs": [],
   "source": []
  }
 ],
 "metadata": {
  "kernelspec": {
   "display_name": "Python 3 (ipykernel)",
   "language": "python",
   "name": "python3"
  },
  "language_info": {
   "codemirror_mode": {
    "name": "ipython",
    "version": 3
   },
   "file_extension": ".py",
   "mimetype": "text/x-python",
   "name": "python",
   "nbconvert_exporter": "python",
   "pygments_lexer": "ipython3",
   "version": "3.8.13"
  }
 },
 "nbformat": 4,
 "nbformat_minor": 5
}
