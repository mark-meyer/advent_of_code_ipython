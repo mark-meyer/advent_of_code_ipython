{
 "cells": [
  {
   "cell_type": "code",
   "execution_count": 1,
   "id": "c7de7a15",
   "metadata": {
    "scrolled": true
   },
   "outputs": [],
   "source": [
    "import os\n",
    "from pathlib import Path\n",
    "import re\n",
    "from itertools import combinations\n",
    "from functools import lru_cache\n",
    "from collections import defaultdict, deque\n",
    "\n",
    "FOLDER = Path(os.path.dirname(os.path.realpath(\"__file__\"))) / 'data'\n",
    "in_file = 'day16.txt'"
   ]
  },
  {
   "cell_type": "markdown",
   "id": "96151de7",
   "metadata": {},
   "source": [
    "## Part One"
   ]
  },
  {
   "cell_type": "code",
   "execution_count": 2,
   "id": "769de58a",
   "metadata": {
    "scrolled": true
   },
   "outputs": [],
   "source": [
    "graph = {}\n",
    "\n",
    "with open(FOLDER/in_file) as f:\n",
    "    for line in f:\n",
    "        key, *tunnels = re.findall(r'[A-Z]{2}', line)\n",
    "        rate = int(re.search(r'\\d+', line).group())\n",
    "        graph[key] = {'rate': rate, 'tunnels':set(tunnels)}\n",
    "\n",
    "def bfs(graph, S, E):\n",
    "    '''\n",
    "    Breadth-first search of graph\n",
    "    graph should be a dictionary-based adjacency list.\n",
    "    S and E are start and end represented as (x, y) tuples.\n",
    "    '''\n",
    "    queue = deque([(S, 0, [S])])\n",
    "    marked = set()\n",
    "    while queue:\n",
    "        point, count, path = queue.popleft()\n",
    "        if point == E:\n",
    "            return count, path\n",
    "        for p in graph[point]['tunnels']:\n",
    "            if p not in marked:\n",
    "                queue.append([p, count+1, path + [p]])\n",
    "                marked.add(p)\n",
    "                \n",
    "class Cave:\n",
    "    def __init__(self, graph):\n",
    "        self.graph = graph        \n",
    "        self.distance_cache = defaultdict(dict)\n",
    "\n",
    "        # the locations with a valve that could be turned on\n",
    "        self.targets = frozenset([k for k, v in self.graph.items() if v['rate'] > 0])\n",
    "       \n",
    "    def distance_between(self, start, end):\n",
    "        distance = self.distance_cache[start].get(end)\n",
    "        if distance is None:\n",
    "            distance, path = bfs(self.graph, start, end)\n",
    "            self.distance_cache[start][end] = distance\n",
    "        return distance\n",
    "        "
   ]
  },
  {
   "cell_type": "code",
   "execution_count": 3,
   "id": "65df58c9",
   "metadata": {},
   "outputs": [
    {
     "data": {
      "text/plain": [
       "1737"
      ]
     },
     "execution_count": 3,
     "metadata": {},
     "output_type": "execute_result"
    }
   ],
   "source": [
    "cave = Cave(graph)\n",
    "time = 30\n",
    "initial_targets = cave.targets\n",
    "\n",
    "@lru_cache(maxsize=None)\n",
    "def max_tour(pos, time, targets):\n",
    "    if not targets:\n",
    "        return 0\n",
    "    if time <=0:\n",
    "        return 0\n",
    "    \n",
    "    max_flow = 0\n",
    "    \n",
    "    for t in targets:\n",
    "        rate = cave.graph[t]['rate']\n",
    "        distance = cave.distance_between(pos, t)\n",
    "        \n",
    "        if (1 + distance) > time:\n",
    "            continue\n",
    "        \n",
    "        total_flow = rate * (time - distance - 1)\n",
    "        total_flow += max_tour(t, time-distance-1, targets - {t})\n",
    "        \n",
    "        if total_flow > max_flow:\n",
    "            max_flow = total_flow\n",
    "        \n",
    "    return max_flow\n",
    "\n",
    "max_tour('AA', time, initial_targets)"
   ]
  },
  {
   "cell_type": "markdown",
   "id": "d60ff921",
   "metadata": {},
   "source": [
    "# Part 2\n",
    "\n",
    "Use the same route finding and brute force through all partitions of the open valves.\n",
    "Made (barely) tractable by LRU Cache."
   ]
  },
  {
   "cell_type": "code",
   "execution_count": 4,
   "id": "798bb6a9",
   "metadata": {},
   "outputs": [
    {
     "data": {
      "text/plain": [
       "2216"
      ]
     },
     "execution_count": 4,
     "metadata": {},
     "output_type": "execute_result"
    }
   ],
   "source": [
    "s = cave.targets\n",
    "time = 26\n",
    "\n",
    "max_flow = 0\n",
    "\n",
    "for combs in (combinations(s, r) for r in range(len(s) + 1)):\n",
    "    for comb in combs:\n",
    "        diff = s.difference(comb)\n",
    "        total = max_tour('AA', time, diff) + max_tour('AA', time, frozenset(comb))\n",
    "        if total > max_flow:\n",
    "            max_flow = total\n",
    "\n",
    "max_flow    "
   ]
  }
 ],
 "metadata": {
  "kernelspec": {
   "display_name": "Python 3 (ipykernel)",
   "language": "python",
   "name": "python3"
  },
  "language_info": {
   "codemirror_mode": {
    "name": "ipython",
    "version": 3
   },
   "file_extension": ".py",
   "mimetype": "text/x-python",
   "name": "python",
   "nbconvert_exporter": "python",
   "pygments_lexer": "ipython3",
   "version": "3.8.13"
  }
 },
 "nbformat": 4,
 "nbformat_minor": 5
}
