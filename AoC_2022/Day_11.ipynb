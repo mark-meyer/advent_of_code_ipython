{
 "cells": [
  {
   "cell_type": "code",
   "execution_count": 1,
   "id": "c7de7a15",
   "metadata": {
    "scrolled": true
   },
   "outputs": [],
   "source": [
    "import os\n",
    "from pathlib import Path\n",
    "\n",
    "FOLDER = Path(os.path.dirname(os.path.realpath(\"__file__\"))) / 'data'\n",
    "in_file = 'day11.txt'"
   ]
  },
  {
   "cell_type": "markdown",
   "id": "96151de7",
   "metadata": {},
   "source": [
    "## Part One"
   ]
  },
  {
   "cell_type": "code",
   "execution_count": 2,
   "id": "769de58a",
   "metadata": {
    "scrolled": true
   },
   "outputs": [
    {
     "data": {
      "text/plain": [
       "151312"
      ]
     },
     "execution_count": 2,
     "metadata": {},
     "output_type": "execute_result"
    }
   ],
   "source": [
    "def parse_monkey(s):\n",
    "    lines = s.split('\\n')\n",
    "    \n",
    "    return {\n",
    "        'items': [int(n) for n in lines[1].split(':')[1].split(',')],\n",
    "        'op': eval(f'lambda old: {lines[2].split(\"=\")[1]}'),         # :shrug:\n",
    "        'mod': int(lines[3].split('by')[1]),\n",
    "        'to': [int(lines[5][-1]), int(lines[4][-1])],\n",
    "        'count': 0     \n",
    "    }\n",
    "\n",
    "    \n",
    "with open(FOLDER/in_file) as f:\n",
    "    data = f.read()\n",
    "    monkeys = [parse_monkey(m) for m in data.split('\\n\\n')]\n",
    "\n",
    "for i in range(20):\n",
    "    for m in monkeys:\n",
    "        for item in m['items']:\n",
    "            m['count'] += 1\n",
    "            item = m['op'](item) // 3\n",
    "            \n",
    "            next_monkey = m['to'][item % m['mod'] == 0]\n",
    "            monkeys[next_monkey]['items'].append(item)\n",
    "        m['items'] = []\n",
    "    \n",
    "sorted_m = sorted([m['count'] for m in monkeys], reverse=True)\n",
    "sorted_m[0] * sorted_m[1] #151312"
   ]
  },
  {
   "cell_type": "markdown",
   "id": "03ebb9d6",
   "metadata": {},
   "source": [
    "## Part Two"
   ]
  },
  {
   "cell_type": "code",
   "execution_count": 3,
   "id": "25ad06f7",
   "metadata": {},
   "outputs": [
    {
     "data": {
      "text/plain": [
       "51382025916"
      ]
     },
     "execution_count": 3,
     "metadata": {},
     "output_type": "execute_result"
    }
   ],
   "source": [
    "import math\n",
    "\n",
    "def parse_monkey(s):\n",
    "    lines = s.split('\\n')\n",
    "    mod = int(lines[3].split('by')[1])\n",
    "    return {\n",
    "        'items': [int(n) for n in lines[1].split(':')[1].split(',')],\n",
    "        'op': eval(f'lambda old: {lines[2].split(\"=\")[1]}'),\n",
    "        'mod': int(lines[3].split('by')[1]),\n",
    "        'to': [int(lines[5][-1]), int(lines[4][-1])],\n",
    "        'count': 0     \n",
    "    }\n",
    "    \n",
    "with open(FOLDER/in_file) as f:\n",
    "    data = f.read()\n",
    "    monkeys = [parse_monkey(m) for m in data.split('\\n\\n')]\n",
    "    \n",
    "    # Calculate a common modulus to prevent the integers from exploding\n",
    "    # to unmanagable sizes without effecting the divisibility test\n",
    "    modulus = math.prod(m['mod'] for m in monkeys)\n",
    "\n",
    "for i in range(10000):\n",
    "    for m in monkeys:\n",
    "        for item in m['items']:\n",
    "            m['count'] += 1\n",
    "            \n",
    "            item = m['op'](item) % modulus\n",
    "            \n",
    "            next_monkey = m['to'][item % m['mod'] == 0]\n",
    "            monkeys[next_monkey]['items'].append(item)\n",
    "        m['items'] = []\n",
    "\n",
    "\n",
    "sorted_m = sorted([m['count'] for m in monkeys], reverse=True)\n",
    "sorted_m[0] * sorted_m[1]"
   ]
  }
 ],
 "metadata": {
  "kernelspec": {
   "display_name": "Python 3 (ipykernel)",
   "language": "python",
   "name": "python3"
  },
  "language_info": {
   "codemirror_mode": {
    "name": "ipython",
    "version": 3
   },
   "file_extension": ".py",
   "mimetype": "text/x-python",
   "name": "python",
   "nbconvert_exporter": "python",
   "pygments_lexer": "ipython3",
   "version": "3.8.13"
  }
 },
 "nbformat": 4,
 "nbformat_minor": 5
}
