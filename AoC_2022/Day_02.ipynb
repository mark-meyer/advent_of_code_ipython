{
 "cells": [
  {
   "cell_type": "code",
   "execution_count": 1,
   "id": "c7de7a15",
   "metadata": {},
   "outputs": [],
   "source": [
    "import os\n",
    "from pathlib import Path"
   ]
  },
  {
   "cell_type": "code",
   "execution_count": 2,
   "id": "0bc64653",
   "metadata": {},
   "outputs": [],
   "source": [
    "FOLDER = Path(os.path.dirname(os.path.realpath(\"__file__\"))) / 'data'\n",
    "in_file = 'day2.txt'"
   ]
  },
  {
   "cell_type": "markdown",
   "id": "96151de7",
   "metadata": {},
   "source": [
    "## Part One"
   ]
  },
  {
   "cell_type": "code",
   "execution_count": 3,
   "id": "998b7305",
   "metadata": {},
   "outputs": [
    {
     "data": {
      "text/plain": [
       "14264"
      ]
     },
     "execution_count": 3,
     "metadata": {},
     "output_type": "execute_result"
    }
   ],
   "source": [
    "shape_score = {\n",
    "    'X': 1, #rock\n",
    "    'Y': 2, #paper,\n",
    "    'Z': 3, #scissors\n",
    "}\n",
    "\n",
    "# them_move: (beats, ties, loses_to)\n",
    "outcome = {\n",
    "    'A': ('Z', 'X', 'Y'), # rock\n",
    "    'B': ('X', 'Y', 'Z'), # paper\n",
    "    'C': ('Y', 'Z', 'X')  # scissors\n",
    "}\n",
    "\n",
    "def score(line):\n",
    "    them, me = line.split()\n",
    "    return outcome[them].index(me) * 3 + shape_score[me]\n",
    "\n",
    "with open(FOLDER / in_file) as f:\n",
    "    total = sum(map(score, f))\n",
    "        \n",
    "total"
   ]
  },
  {
   "cell_type": "markdown",
   "id": "03ebb9d6",
   "metadata": {},
   "source": [
    "## Part Two"
   ]
  },
  {
   "cell_type": "code",
   "execution_count": 5,
   "id": "8b27b6b7",
   "metadata": {},
   "outputs": [
    {
     "data": {
      "text/plain": [
       "12382"
      ]
     },
     "execution_count": 5,
     "metadata": {},
     "output_type": "execute_result"
    }
   ],
   "source": [
    "letter_to_outcome = {\n",
    "    'X': 0, # lose\n",
    "    'Y': 1, # tie\n",
    "    'Z': 2  # win\n",
    "}\n",
    "\n",
    "def score_2(line):\n",
    "    them, me = line.split()\n",
    "    play_index = letter_to_outcome[me] \n",
    "    return play_index * 3 + shape_score[outcome[them][play_index]]\n",
    "\n",
    "with open(FOLDER / in_file) as f:\n",
    "    total = sum(map(score_2, f))\n",
    "\n",
    "total"
   ]
  },
  {
   "cell_type": "code",
   "execution_count": null,
   "id": "9cb45771",
   "metadata": {},
   "outputs": [],
   "source": []
  }
 ],
 "metadata": {
  "kernelspec": {
   "display_name": "Python 3 (ipykernel)",
   "language": "python",
   "name": "python3"
  },
  "language_info": {
   "codemirror_mode": {
    "name": "ipython",
    "version": 3
   },
   "file_extension": ".py",
   "mimetype": "text/x-python",
   "name": "python",
   "nbconvert_exporter": "python",
   "pygments_lexer": "ipython3",
   "version": "3.8.13"
  }
 },
 "nbformat": 4,
 "nbformat_minor": 5
}
