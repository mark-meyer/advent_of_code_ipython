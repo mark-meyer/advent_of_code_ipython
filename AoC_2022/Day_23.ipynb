{
 "cells": [
  {
   "cell_type": "code",
   "execution_count": 1,
   "id": "10cc35fa",
   "metadata": {},
   "outputs": [],
   "source": [
    "import os\n",
    "from pathlib import Path\n",
    "from collections import namedtuple, deque, defaultdict\n",
    "\n",
    "\n",
    "FOLDER = Path(os.path.dirname(os.path.realpath(\"__file__\"))) / 'data'\n",
    "in_file = 'day23.txt'"
   ]
  },
  {
   "cell_type": "code",
   "execution_count": 2,
   "id": "b09d0cbb",
   "metadata": {},
   "outputs": [
    {
     "name": "stdout",
     "output_type": "stream",
     "text": [
      "Part One: 4123\n",
      "stopped at 1029\n"
     ]
    }
   ],
   "source": [
    "class Point(namedtuple(\"Point\", ['x', 'y'])):\n",
    "    def __add__(self, other):\n",
    "        return Point(self.x + other.x, self.y + other.y)\n",
    "\n",
    "directions = deque([\n",
    "    [Point(-1, -1), Point(0, -1), Point(1, -1)],  # N\n",
    "    [Point(-1, 1), Point(0, 1), Point(1, 1) ],    # S\n",
    "    [Point(-1, 1), Point(-1, 0), Point(-1, -1)],  # W\n",
    "    [Point(1, 1), Point(1, 0), Point(1, -1) ],    # E\n",
    "])\n",
    "\n",
    "\n",
    "elves = set()\n",
    "\n",
    "with open(FOLDER / in_file) as f:\n",
    "    for y, line in enumerate(f):\n",
    "        for x, c in enumerate(line):\n",
    "            if c == '#':\n",
    "                elves.add(Point(x, y))\n",
    "\n",
    "def turn(elves):\n",
    "    proposals = defaultdict(list)\n",
    "    \n",
    "    # Elves make proposals\n",
    "    for elf in elves:\n",
    "        # plenty of space, do nothing\n",
    "        if not any(elf + d in elves for d_list in directions for d in d_list):\n",
    "            continue\n",
    "         \n",
    "        proposed = next((d_list for d_list in directions if not any((elf + d) in elves for d in d_list)), None)\n",
    "\n",
    "        if proposed:\n",
    "            proposed =  proposed[1] + elf\n",
    "            proposals[proposed].append(elf)\n",
    "\n",
    "    # nobody wants to move\n",
    "    if len(proposals) == 0:\n",
    "        raise StopIteration()\n",
    "    \n",
    "    # elves move if they can\n",
    "    for point, proposers in proposals.items():\n",
    "        if len(proposers) == 1:\n",
    "            elves.remove(proposers[0])\n",
    "            elves.add(Point(*point))\n",
    "\n",
    "    directions.rotate(-1)\n",
    "    return elves\n",
    "\n",
    "def get_space(elves):\n",
    "    min_x = min(elf.x for elf in elves)\n",
    "    max_x = max(elf.x for elf in elves)\n",
    "    min_y = min(elf.y for elf in elves)\n",
    "    max_y = max(elf.y for elf in elves)\n",
    "    \n",
    "    return (1 + max_x - min_x) * (1 + max_y - min_y) - len(elves)\n",
    "\n",
    "i = 0\n",
    "while True:\n",
    "    i += 1\n",
    "    try:\n",
    "        elves = turn(elves)\n",
    "        if i == 10:\n",
    "            print(\"Part One:\", get_space(elves))\n",
    "    except StopIteration:\n",
    "        print(\"stopped at\", i)   \n",
    "        break\n",
    "\n"
   ]
  }
 ],
 "metadata": {
  "kernelspec": {
   "display_name": "Python 3 (ipykernel)",
   "language": "python",
   "name": "python3"
  },
  "language_info": {
   "codemirror_mode": {
    "name": "ipython",
    "version": 3
   },
   "file_extension": ".py",
   "mimetype": "text/x-python",
   "name": "python",
   "nbconvert_exporter": "python",
   "pygments_lexer": "ipython3",
   "version": "3.10.4"
  }
 },
 "nbformat": 4,
 "nbformat_minor": 5
}
