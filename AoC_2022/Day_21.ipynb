{
 "cells": [
  {
   "cell_type": "code",
   "execution_count": 1,
   "id": "cfc72c35",
   "metadata": {},
   "outputs": [],
   "source": [
    "import os\n",
    "from pathlib import Path\n",
    "import operator\n",
    "\n",
    "import networkx as nx\n",
    "\n",
    "FOLDER = Path(os.path.dirname(os.path.realpath(\"__file__\"))) / 'data'\n",
    "in_file = 'day21.txt'"
   ]
  },
  {
   "cell_type": "markdown",
   "id": "327143e5",
   "metadata": {},
   "source": [
    "# Part One\n",
    "\n",
    "Build a simple graph, then the reverse topological sort well guarantee he have the integers when equations need them."
   ]
  },
  {
   "cell_type": "code",
   "execution_count": 2,
   "id": "db77f0a4",
   "metadata": {},
   "outputs": [
    {
     "data": {
      "text/plain": [
       "10037517593724"
      ]
     },
     "execution_count": 2,
     "metadata": {},
     "output_type": "execute_result"
    }
   ],
   "source": [
    "DG = nx.DiGraph()\n",
    "\n",
    "G = {}\n",
    "\n",
    "with open(FOLDER / in_file) as f:\n",
    "    for line in f:\n",
    "        key, job = line.strip().split(':')\n",
    "        \n",
    "        if job.strip().isdecimal():\n",
    "            G[key] = int(job)\n",
    "            DG.add_node(key, val=int(job))\n",
    "        else:\n",
    "            a, op, b = job.split()\n",
    "            DG.add_node(key, op=op)\n",
    "            DG.add_edge(key, a)\n",
    "            DG.add_edge(key, b)            \n",
    "\n",
    "            G[key] = (a, b, op)\n",
    "            \n",
    "ops = {\n",
    "    '+': operator.add,\n",
    "    '-': operator.sub,\n",
    "    '*': operator.mul,\n",
    "    '/': operator.truediv,\n",
    "} \n",
    "\n",
    "\n",
    "for n in reversed(list(nx.topological_sort(DG))):\n",
    "    if not isinstance(G[n], int):\n",
    "        a, b, op = G[n]\n",
    "        G[n] = ops[op](G[a],G[b]) \n",
    "        \n",
    "int(G['root'])"
   ]
  },
  {
   "cell_type": "markdown",
   "id": "d1cceb79",
   "metadata": {},
   "source": [
    "# Part 2\n",
    "\n",
    "So, using Sympy here feels a little dirty...but if just seemed better than making an abstract syntax tree (or finding some non-obvious simpler solution tonight)"
   ]
  },
  {
   "cell_type": "code",
   "execution_count": 5,
   "id": "989f0120",
   "metadata": {},
   "outputs": [
    {
     "data": {
      "text/plain": [
       "[3272260914328]"
      ]
     },
     "execution_count": 5,
     "metadata": {},
     "output_type": "execute_result"
    }
   ],
   "source": [
    "from sympy import symbols, solve, Integer, Eq\n",
    "\n",
    "DG = nx.DiGraph()\n",
    "\n",
    "with open(FOLDER / in_file) as f:\n",
    "    for line in f:\n",
    "        key, job = line.strip().split(':')\n",
    "\n",
    "        if job.strip().isdecimal():\n",
    "            DG.add_node(key, val=int(job))\n",
    "        else:\n",
    "            a, op, b = job.split()\n",
    "            DG.add_node(key, op=op, r=a, l=b)\n",
    "            DG.add_edge(key, a)\n",
    "            DG.add_edge(key, b)            \n",
    "\n",
    "            \n",
    "S = {}\n",
    "\n",
    "for n in reversed(list(nx.topological_sort(DG))):\n",
    "    node = DG.nodes[n]\n",
    "    if 'val' in node:\n",
    "        S[n] = symbols('humn') if n == 'humn' else Integer(node['val'])\n",
    "    else:\n",
    "        a, b, op =  node['r'], node['l'], node['op']\n",
    "    \n",
    "        S.setdefault(a,symbols(a))\n",
    "        S.setdefault(b,symbols(b))\n",
    "            \n",
    "        f = Eq if n == 'root' else ops[op]\n",
    "        S[n] = f(S[a], S[b])     \n",
    "        \n",
    "\n",
    "solve(S['root'], S['humn'])\n"
   ]
  },
  {
   "cell_type": "code",
   "execution_count": null,
   "id": "3a6347c4",
   "metadata": {},
   "outputs": [],
   "source": []
  }
 ],
 "metadata": {
  "kernelspec": {
   "display_name": "Python 3 (ipykernel)",
   "language": "python",
   "name": "python3"
  },
  "language_info": {
   "codemirror_mode": {
    "name": "ipython",
    "version": 3
   },
   "file_extension": ".py",
   "mimetype": "text/x-python",
   "name": "python",
   "nbconvert_exporter": "python",
   "pygments_lexer": "ipython3",
   "version": "3.8.13"
  }
 },
 "nbformat": 4,
 "nbformat_minor": 5
}
