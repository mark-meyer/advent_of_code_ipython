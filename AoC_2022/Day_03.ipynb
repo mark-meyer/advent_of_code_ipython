{
 "cells": [
  {
   "cell_type": "code",
   "execution_count": 1,
   "id": "c7de7a15",
   "metadata": {},
   "outputs": [],
   "source": [
    "import os\n",
    "from pathlib import Path"
   ]
  },
  {
   "cell_type": "code",
   "execution_count": 2,
   "id": "0bc64653",
   "metadata": {},
   "outputs": [],
   "source": [
    "FOLDER = Path(os.path.dirname(os.path.realpath(\"__file__\"))) / 'data'\n",
    "in_file = 'day3.txt'"
   ]
  },
  {
   "cell_type": "markdown",
   "id": "96151de7",
   "metadata": {},
   "source": [
    "## Part One"
   ]
  },
  {
   "cell_type": "code",
   "execution_count": 3,
   "id": "998b7305",
   "metadata": {},
   "outputs": [
    {
     "data": {
      "text/plain": [
       "8394"
      ]
     },
     "execution_count": 3,
     "metadata": {},
     "output_type": "execute_result"
    }
   ],
   "source": [
    "from string import ascii_lowercase, ascii_uppercase\n",
    "from itertools import count\n",
    "\n",
    "priorities = {\n",
    "    **dict(zip(ascii_lowercase, count(1))), \n",
    "    **dict(zip(ascii_uppercase, count(27)))\n",
    "}\n",
    "\n",
    "with open(FOLDER / in_file) as f:\n",
    "    total = 0\n",
    "    for line in f:\n",
    "        mid = len(line) // 2\n",
    "        a, b = line[:mid], line[mid:]\n",
    "        common = set(a).intersection(b).pop()\n",
    "        total += priorities[common]\n",
    "\n",
    "total"
   ]
  },
  {
   "cell_type": "markdown",
   "id": "03ebb9d6",
   "metadata": {},
   "source": [
    "## Part Two"
   ]
  },
  {
   "cell_type": "code",
   "execution_count": 4,
   "id": "8b27b6b7",
   "metadata": {},
   "outputs": [
    {
     "data": {
      "text/plain": [
       "2413"
      ]
     },
     "execution_count": 4,
     "metadata": {},
     "output_type": "execute_result"
    }
   ],
   "source": [
    "with open(FOLDER / in_file) as f:\n",
    "    total = 0\n",
    "    f = (set(s.strip()) for s in f)\n",
    "    \n",
    "    for group in zip(*[f]*3):\n",
    "        common = set.intersection(*group).pop()\n",
    "        total += priorities[common]\n",
    "total"
   ]
  }
 ],
 "metadata": {
  "kernelspec": {
   "display_name": "Python 3 (ipykernel)",
   "language": "python",
   "name": "python3"
  },
  "language_info": {
   "codemirror_mode": {
    "name": "ipython",
    "version": 3
   },
   "file_extension": ".py",
   "mimetype": "text/x-python",
   "name": "python",
   "nbconvert_exporter": "python",
   "pygments_lexer": "ipython3",
   "version": "3.8.13"
  }
 },
 "nbformat": 4,
 "nbformat_minor": 5
}
