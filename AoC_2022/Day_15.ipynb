{
 "cells": [
  {
   "cell_type": "code",
   "execution_count": 1,
   "id": "c7de7a15",
   "metadata": {
    "scrolled": true
   },
   "outputs": [],
   "source": [
    "import os\n",
    "from pathlib import Path\n",
    "import re\n",
    "\n",
    "FOLDER = Path(os.path.dirname(os.path.realpath(\"__file__\"))) / 'data'\n",
    "in_file = 'day15.txt'"
   ]
  },
  {
   "cell_type": "markdown",
   "id": "96151de7",
   "metadata": {},
   "source": [
    "## Part One"
   ]
  },
  {
   "cell_type": "code",
   "execution_count": 2,
   "id": "769de58a",
   "metadata": {
    "scrolled": true
   },
   "outputs": [
    {
     "data": {
      "text/plain": [
       "5083287"
      ]
     },
     "execution_count": 2,
     "metadata": {},
     "output_type": "execute_result"
    }
   ],
   "source": [
    "def distance(p1,p2):\n",
    "    return abs(p1[0] - p2[0]) + abs(p1[1] - p2[1])\n",
    "\n",
    "def range_at_row(p1, p2, y):\n",
    "    d = distance(p1,p2)\n",
    "    # absolute vertical offset\n",
    "    y_dist = abs(p1[1] - y)\n",
    "    \n",
    "    # the the vertical offset is greater\n",
    "    # than the manhattan distance, the sensor doesn't reach\n",
    "    if (y_dist) > d:\n",
    "        return set()\n",
    "    \n",
    "    # absolute horizontal offset is the manhattan dist - y offset\n",
    "    # so y_dist + h_dist == d\n",
    "    h_dist = abs(d - y_dist)\n",
    "    \n",
    "    return set(range(p1[0] - h_dist, p1[0] + h_dist+1))\n",
    "\n",
    "sensors = {}\n",
    "beacons = set()\n",
    "with open(FOLDER/in_file) as f:\n",
    "    for line in f:\n",
    "        s_x, s_y, b_x, b_y = map(int, re.findall(r'[0-9-]+', line))\n",
    "        sensors[(s_x, s_y)] = b_x, b_y\n",
    "        beacons.add((b_x, b_y))\n",
    "\n",
    "row = 2000000\n",
    "covered = set()\n",
    "for k, v in sensors.items():\n",
    "    covered = covered | range_at_row(k, v, row)\n",
    "len(set(covered)) - 1\n"
   ]
  },
  {
   "cell_type": "markdown",
   "id": "03ebb9d6",
   "metadata": {},
   "source": [
    "## Part Two"
   ]
  },
  {
   "cell_type": "code",
   "execution_count": 3,
   "id": "f7c39cd5",
   "metadata": {},
   "outputs": [
    {
     "name": "stdout",
     "output_type": "stream",
     "text": [
      "Point(x=3283509, y=3205729)\n"
     ]
    },
    {
     "data": {
      "text/plain": [
       "13134039205729"
      ]
     },
     "execution_count": 3,
     "metadata": {},
     "output_type": "execute_result"
    }
   ],
   "source": [
    "from collections import namedtuple\n",
    "\n",
    "\n",
    "class Point(namedtuple(\"Point\", ('x', 'y'))):\n",
    "    def distance(self, other):\n",
    "        '''Manhattan distance'''\n",
    "        return abs(self.x - other.x) + abs(self.y - other.y)\n",
    "\n",
    "    def midpoint(self, other):\n",
    "        '''Centerpoint of square defined by corners'''\n",
    "        return Point((self.x + other.x) // 2, (self.y + other.y) // 2)\n",
    "    \n",
    "    def clamp_subtract(self, other, minimum=0):\n",
    "        '''Stay above minimum element-wis'''\n",
    "        return Point(max(self.x - other.x, minimum), max(self.y - other.y, minimum))\n",
    "    \n",
    "    def __sub__(self, other):\n",
    "        return Point(self.x - other.x, self.y - other.y)\n",
    "\n",
    "    \n",
    "with open(FOLDER/in_file) as f:\n",
    "    sensors = []\n",
    "    beacons = []\n",
    "    for line in f:\n",
    "        sx, sy, bx, by = map(int, re.findall(r'([0-9-]+)', line))\n",
    "        sensors.append(Point(sx, sy))\n",
    "        beacons.append(Point(bx, by))\n",
    "\n",
    "    \n",
    "def partition_points(tl, mid, br):\n",
    "    yield from (\n",
    "        (tl, mid),\n",
    "        (Point(tl.x, mid.y+1), Point(mid.x, br.y)),\n",
    "        (Point(mid.x+1, tl.y), Point(br.x, mid.y)),\n",
    "        (Point(mid.x+1, mid.y+1), br)\n",
    "    )\n",
    "\n",
    "def partition(sensors, beacons, side=4000000):\n",
    "    '''\n",
    "    Partitions into progressively more restictive quadrants and eliminate\n",
    "    based on distances.\n",
    "    '''\n",
    "    \n",
    "    distances = [p1.distance(p2) for p1, p2 in zip(sensors, beacons)]\n",
    "    \n",
    "    top_left, bottom_right = Point(0, 0), Point(side, side)\n",
    "    \n",
    "    stack = [(top_left, bottom_right)]\n",
    "\n",
    "    while True:\n",
    "        top_left, bottom_right = stack.pop()\n",
    "        \n",
    "        # Finished\n",
    "        if top_left == bottom_right:\n",
    "            print(top_left)\n",
    "            return (top_left.x * side) + top_left.y\n",
    "        \n",
    "        middle = top_left.midpoint(bottom_right) \n",
    "    \n",
    "        for top_left, bottom_right in partition_points(top_left, middle, bottom_right):  \n",
    "            tl_dist = [s.clamp_subtract(top_left) for s in sensors]\n",
    "            br_dist = [bottom_right.clamp_subtract(s) for s in sensors]\n",
    "\n",
    "            quad_dist = [sum(t) + sum(b) for t, b in zip(tl_dist, br_dist)]\n",
    "            \n",
    "            if all(d1 < d2 for d1, d2 in zip(distances, quad_dist)):\n",
    "                stack.append((top_left, bottom_right))\n",
    "\n",
    "partition(sensors, beacons)"
   ]
  },
  {
   "cell_type": "code",
   "execution_count": null,
   "id": "4d3a857a",
   "metadata": {},
   "outputs": [],
   "source": []
  }
 ],
 "metadata": {
  "kernelspec": {
   "display_name": "Python 3 (ipykernel)",
   "language": "python",
   "name": "python3"
  },
  "language_info": {
   "codemirror_mode": {
    "name": "ipython",
    "version": 3
   },
   "file_extension": ".py",
   "mimetype": "text/x-python",
   "name": "python",
   "nbconvert_exporter": "python",
   "pygments_lexer": "ipython3",
   "version": "3.8.13"
  }
 },
 "nbformat": 4,
 "nbformat_minor": 5
}
