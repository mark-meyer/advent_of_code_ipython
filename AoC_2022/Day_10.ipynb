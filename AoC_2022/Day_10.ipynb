{
 "cells": [
  {
   "cell_type": "code",
   "execution_count": 1,
   "id": "c7de7a15",
   "metadata": {
    "scrolled": true
   },
   "outputs": [],
   "source": [
    "import os\n",
    "from pathlib import Path\n",
    "import simpy\n",
    "    \n",
    "FOLDER = Path(os.path.dirname(os.path.realpath(\"__file__\"))) / 'data'\n",
    "in_file = 'day10.txt'"
   ]
  },
  {
   "cell_type": "markdown",
   "id": "96151de7",
   "metadata": {},
   "source": [
    "## Part One\n",
    "\n",
    "**SimPy** is a process-based discrete-event simulation framework based on standard Python:  \n",
    "https://simpy.readthedocs.io/en/latest/contents.html"
   ]
  },
  {
   "cell_type": "code",
   "execution_count": 2,
   "id": "769de58a",
   "metadata": {
    "scrolled": true
   },
   "outputs": [
    {
     "data": {
      "text/plain": [
       "14160"
      ]
     },
     "execution_count": 2,
     "metadata": {},
     "output_type": "execute_result"
    }
   ],
   "source": [
    "def add(env, value):\n",
    "    yield env.timeout(2)\n",
    "    return int(value)\n",
    "\n",
    "def noop(env):\n",
    "    yield env.timeout(1)\n",
    "    \n",
    "def process_instructions(env):\n",
    "    with open(FOLDER/in_file) as f:\n",
    "        for line in map(str.strip, f):\n",
    "            if line != \"noop\":\n",
    "                inst, value = line.split()\n",
    "                env.X += yield env.process(add(env, value))\n",
    "            else:\n",
    "                yield env.process(noop(env))\n",
    "\n",
    "env = simpy.Environment()\n",
    "env.process(process_instructions(env))\n",
    "env.X = 1\n",
    "\n",
    "total = 0\n",
    "for i in [20, 60, 100, 140, 180, 220]:\n",
    "    env.run(until=i)\n",
    "    total += i * env.X\n",
    "     \n",
    "    \n",
    "total"
   ]
  },
  {
   "cell_type": "markdown",
   "id": "03ebb9d6",
   "metadata": {},
   "source": [
    "## Part Two"
   ]
  },
  {
   "cell_type": "code",
   "execution_count": 112,
   "id": "35074655",
   "metadata": {},
   "outputs": [
    {
     "name": "stdout",
     "output_type": "stream",
     "text": [
      "###....##.####.###..###..####.####..##..\n",
      "#..#....#.#....#..#.#..#.#....#....#..#.\n",
      "#..#....#.###..#..#.#..#.###..###..#....\n",
      "###.....#.#....###..###..#....#....#....\n",
      "#.#..#..#.#....#.#..#....#....#....#..#.\n",
      "#..#..##..####.#..#.#....####.#.....##..\n"
     ]
    }
   ],
   "source": [
    "env = simpy.Environment()\n",
    "env.process(process_instructions(env))\n",
    "env.X = 0\n",
    "\n",
    "for row in range(6):\n",
    "    for sprite_pos in range(40):\n",
    "        env.run(until=env.now+1)\n",
    "        \n",
    "        if env.X + 2 >= sprite_pos >= env.X:\n",
    "            print('#', end='')\n",
    "        else:\n",
    "            print('.', end='')\n",
    "    print()\n"
   ]
  },
  {
   "cell_type": "markdown",
   "id": "8140510f",
   "metadata": {},
   "source": [
    "## Alternative using a regex to replace instructions\n",
    "\n",
    "Replace intructions with 0, converting:\n",
    "\n",
    "```\n",
    "addx 2\n",
    "noop\n",
    "addx 7\n",
    "addx -1\n",
    "```\n",
    "\n",
    "to:\n",
    "```\n",
    "0 2\n",
    "0\n",
    "0 7\n",
    "0 -1\n",
    "```"
   ]
  },
  {
   "cell_type": "code",
   "execution_count": 115,
   "id": "044eaf49",
   "metadata": {},
   "outputs": [
    {
     "data": {
      "text/plain": [
       "14160"
      ]
     },
     "execution_count": 115,
     "metadata": {},
     "output_type": "execute_result"
    }
   ],
   "source": [
    "import re\n",
    "from itertools import accumulate\n",
    "\n",
    "with open(FOLDER/in_file) as f:\n",
    "    s = f.read()\n",
    "    s = re.sub(r'(noop|addx)( ([-0-9]+)\\n)?', r'0 \\2 ', s)\n",
    "    l = list(accumulate(map(int, s.split()),initial=1))\n",
    "\n",
    "sum(l[i-1]*i for i in range(20, 221, 40))\n"
   ]
  },
  {
   "cell_type": "code",
   "execution_count": 116,
   "id": "300801ca",
   "metadata": {},
   "outputs": [
    {
     "name": "stdout",
     "output_type": "stream",
     "text": [
      "###....##.####.###..###..####.####..##..\n",
      "#..#....#.#....#..#.#..#.#....#....#..#.\n",
      "#..#....#.###..#..#.#..#.###..###..#....\n",
      "###.....#.#....###..###..#....#....#....\n",
      "#.#..#..#.#....#.#..#....#....#....#..#.\n",
      "#..#..##..####.#..#.#....####.#.....##..\n"
     ]
    }
   ],
   "source": [
    "for row in range(6):\n",
    "    for sprite_pos in range(40):\n",
    "        X = l[40 * row + sprite_pos]\n",
    "        \n",
    "        if X + 1 >= sprite_pos >= X - 1:\n",
    "            print('#', end='')\n",
    "        else:\n",
    "            print('.', end='')\n",
    "    print()\n",
    "\n"
   ]
  }
 ],
 "metadata": {
  "kernelspec": {
   "display_name": "Python 3 (ipykernel)",
   "language": "python",
   "name": "python3"
  },
  "language_info": {
   "codemirror_mode": {
    "name": "ipython",
    "version": 3
   },
   "file_extension": ".py",
   "mimetype": "text/x-python",
   "name": "python",
   "nbconvert_exporter": "python",
   "pygments_lexer": "ipython3",
   "version": "3.8.13"
  }
 },
 "nbformat": 4,
 "nbformat_minor": 5
}
