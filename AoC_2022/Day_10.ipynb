{
 "cells": [
  {
   "cell_type": "code",
   "execution_count": 1,
   "id": "c7de7a15",
   "metadata": {
    "scrolled": true
   },
   "outputs": [],
   "source": [
    "import os\n",
    "from pathlib import Path\n",
    "import simpy\n",
    "    \n",
    "FOLDER = Path(os.path.dirname(os.path.realpath(\"__file__\"))) / 'data'\n",
    "in_file = 'day10.txt'"
   ]
  },
  {
   "cell_type": "markdown",
   "id": "96151de7",
   "metadata": {},
   "source": [
    "## Part One\n",
    "\n",
    "**SimPy** is a process-based discrete-event simulation framework based on standard Python:  \n",
    "https://simpy.readthedocs.io/en/latest/contents.html"
   ]
  },
  {
   "cell_type": "code",
   "execution_count": 2,
   "id": "769de58a",
   "metadata": {
    "scrolled": true
   },
   "outputs": [
    {
     "data": {
      "text/plain": [
       "14160"
      ]
     },
     "execution_count": 2,
     "metadata": {},
     "output_type": "execute_result"
    }
   ],
   "source": [
    "def add(env, value):\n",
    "    yield env.timeout(2)\n",
    "    return int(value)\n",
    "\n",
    "def noop(env):\n",
    "    yield env.timeout(1)\n",
    "    \n",
    "def process_instructions(env):\n",
    "    with open(FOLDER/in_file) as f:\n",
    "        for line in map(str.strip, f):\n",
    "            if line != \"noop\":\n",
    "                inst, value = line.split()\n",
    "                env.X += yield env.process(add(env, value))\n",
    "            else:\n",
    "                yield env.process(noop(env))\n",
    "\n",
    "env = simpy.Environment()\n",
    "env.process(process_instructions(env))\n",
    "env.X = 1\n",
    "\n",
    "total = 0\n",
    "for i in [20, 60, 100, 140, 180, 220]:\n",
    "    env.run(until=i)\n",
    "    total += i * env.X\n",
    "     \n",
    "    \n",
    "total"
   ]
  },
  {
   "cell_type": "markdown",
   "id": "03ebb9d6",
   "metadata": {},
   "source": [
    "## Part Two"
   ]
  },
  {
   "cell_type": "code",
   "execution_count": 3,
   "id": "d3cf8a08",
   "metadata": {},
   "outputs": [
    {
     "name": "stdout",
     "output_type": "stream",
     "text": [
      "###....##.####.###..###..####.####..##..\n",
      "#..#....#.#....#..#.#..#.#....#....#..#.\n",
      "#..#....#.###..#..#.#..#.###..###..#....\n",
      "###.....#.#....###..###..#....#....#....\n",
      "#.#..#..#.#....#.#..#....#....#....#..#.\n",
      "#..#..##..####.#..#.#....####.#.....##..\n"
     ]
    }
   ],
   "source": [
    "env = simpy.Environment()\n",
    "env.process(process_instructions(env))\n",
    "env.X = 0\n",
    "\n",
    "for row in range(6):\n",
    "    for sprite_pos in range(40):\n",
    "        env.run(until=env.now+1)\n",
    "        \n",
    "        if env.X + 3 > sprite_pos >= env.X:\n",
    "            print('#', end='')\n",
    "        else:\n",
    "            print('.', end='')\n",
    "    print()\n"
   ]
  }
 ],
 "metadata": {
  "kernelspec": {
   "display_name": "Python 3 (ipykernel)",
   "language": "python",
   "name": "python3"
  },
  "language_info": {
   "codemirror_mode": {
    "name": "ipython",
    "version": 3
   },
   "file_extension": ".py",
   "mimetype": "text/x-python",
   "name": "python",
   "nbconvert_exporter": "python",
   "pygments_lexer": "ipython3",
   "version": "3.8.13"
  }
 },
 "nbformat": 4,
 "nbformat_minor": 5
}
