{
 "cells": [
  {
   "cell_type": "code",
   "execution_count": 32,
   "id": "c7de7a15",
   "metadata": {
    "scrolled": true
   },
   "outputs": [],
   "source": [
    "import os\n",
    "from pathlib import Path\n",
    "\n",
    "FOLDER = Path(os.path.dirname(os.path.realpath(\"__file__\"))) / 'data'\n",
    "in_file = 'day9.txt'"
   ]
  },
  {
   "cell_type": "code",
   "execution_count": 33,
   "id": "f166d694",
   "metadata": {},
   "outputs": [],
   "source": [
    "def clamp(i):\n",
    "    return min(1, max(-1, i))"
   ]
  },
  {
   "cell_type": "markdown",
   "id": "96151de7",
   "metadata": {},
   "source": [
    "## Part One"
   ]
  },
  {
   "cell_type": "code",
   "execution_count": 37,
   "id": "769de58a",
   "metadata": {
    "scrolled": true
   },
   "outputs": [
    {
     "data": {
      "text/plain": [
       "5878"
      ]
     },
     "execution_count": 37,
     "metadata": {},
     "output_type": "execute_result"
    }
   ],
   "source": [
    "vectors = {\n",
    "    'R': (1, 0),\n",
    "    'L': (-1, 0),\n",
    "    'U': (0, 1),\n",
    "    'D': (0, -1)\n",
    "}\n",
    "\n",
    "class Knot:\n",
    "    def __init__(self, tail):\n",
    "        self.x, self.y = 0, 0\n",
    "        self.tail = tail\n",
    "        self.seen = {(self.x, self.y)}\n",
    "\n",
    "    def move(self, vec, amount):\n",
    "        c = vectors[vec]\n",
    "        \n",
    "        for i in range(amount):\n",
    "            self.x += c[0]\n",
    "            self.y += c[1]\n",
    "            self.seen.add((self.x, self.y))\n",
    "\n",
    "            if self.tail:\n",
    "                self.tail.follow(self)\n",
    "\n",
    "    def follow(self, leader):\n",
    "        dx = self.x - leader.x\n",
    "        dy = self.y - leader.y\n",
    "        \n",
    "        touching = abs(dx) <= 1 and abs(dy) <= 1\n",
    "\n",
    "        if not touching:            \n",
    "            self.x -= clamp(dx) \n",
    "            self.y -= clamp(dy)\n",
    "            \n",
    "            self.seen.add((self.x, self.y))\n",
    "\n",
    "            if self.tail:\n",
    "                self.tail.follow(self)\n",
    "                \n",
    "T = Knot(None)\n",
    "H = Knot(T)\n",
    "\n",
    "with open(FOLDER/in_file) as f:\n",
    "    for line in f:\n",
    "        m, n = line.split()       \n",
    "        H.move(m, int(n))\n",
    "\n",
    "len(T.seen)"
   ]
  },
  {
   "cell_type": "markdown",
   "id": "03ebb9d6",
   "metadata": {},
   "source": [
    "## Part Two"
   ]
  },
  {
   "cell_type": "code",
   "execution_count": 38,
   "id": "8b27b6b7",
   "metadata": {
    "scrolled": false
   },
   "outputs": [
    {
     "data": {
      "text/plain": [
       "2405"
      ]
     },
     "execution_count": 38,
     "metadata": {},
     "output_type": "execute_result"
    }
   ],
   "source": [
    "from functools import reduce\n",
    "\n",
    "T = Knot(None)\n",
    "H = reduce(lambda p, _: Knot(p), range(9), T)\n",
    "\n",
    "with open(FOLDER/in_file) as f:\n",
    "    for m, n in map(str.split, f):\n",
    "        H.move(m, int(n))\n",
    "\n",
    "len(T.seen)"
   ]
  },
  {
   "cell_type": "code",
   "execution_count": null,
   "id": "1eaf5cbb",
   "metadata": {},
   "outputs": [],
   "source": []
  }
 ],
 "metadata": {
  "kernelspec": {
   "display_name": "Python 3 (ipykernel)",
   "language": "python",
   "name": "python3"
  },
  "language_info": {
   "codemirror_mode": {
    "name": "ipython",
    "version": 3
   },
   "file_extension": ".py",
   "mimetype": "text/x-python",
   "name": "python",
   "nbconvert_exporter": "python",
   "pygments_lexer": "ipython3",
   "version": "3.8.13"
  }
 },
 "nbformat": 4,
 "nbformat_minor": 5
}
