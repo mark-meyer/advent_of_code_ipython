{
 "cells": [
  {
   "cell_type": "code",
   "execution_count": 103,
   "id": "c7de7a15",
   "metadata": {},
   "outputs": [],
   "source": [
    "import os\n",
    "from heapq import nlargest\n",
    "from pathlib import Path"
   ]
  },
  {
   "cell_type": "code",
   "execution_count": 86,
   "id": "0bc64653",
   "metadata": {},
   "outputs": [],
   "source": [
    "FOLDER = Path(os.path.dirname(os.path.realpath(\"__file__\"))) / 'data'\n",
    "in_file = 'day1.txt'"
   ]
  },
  {
   "cell_type": "markdown",
   "id": "96151de7",
   "metadata": {},
   "source": [
    "## Part One"
   ]
  },
  {
   "cell_type": "code",
   "execution_count": 105,
   "id": "998b7305",
   "metadata": {},
   "outputs": [
    {
     "data": {
      "text/plain": [
       "67622"
      ]
     },
     "execution_count": 105,
     "metadata": {},
     "output_type": "execute_result"
    }
   ],
   "source": [
    "def elf_calories(f):\n",
    "    '''Iterator that yields sum of each elf's calories'''\n",
    "    \n",
    "    elf_calories = 0\n",
    "    \n",
    "    for line in map(str.strip, f):\n",
    "        if line:\n",
    "            elf_calories += int(line)\n",
    "        else:\n",
    "            yield elf_calories\n",
    "            elf_calories = 0  \n",
    "\n",
    "    yield elf_calories\n",
    "            \n",
    "with open(FOLDER / in_file) as f:\n",
    "    max_elf_calories = max(elf_calories(f))\n",
    "\n",
    "max_elf_calories"
   ]
  },
  {
   "cell_type": "markdown",
   "id": "03ebb9d6",
   "metadata": {},
   "source": [
    "## Part Two"
   ]
  },
  {
   "cell_type": "code",
   "execution_count": 102,
   "id": "8b27b6b7",
   "metadata": {},
   "outputs": [
    {
     "data": {
      "text/plain": [
       "201491"
      ]
     },
     "execution_count": 102,
     "metadata": {},
     "output_type": "execute_result"
    }
   ],
   "source": [
    "with open(FOLDER / in_file) as f:\n",
    "    total_top_three_calories = sum(nlargest(3, elf_calories(f)))\n",
    "\n",
    "total_top_three_calories"
   ]
  }
 ],
 "metadata": {
  "kernelspec": {
   "display_name": "Python 3 (ipykernel)",
   "language": "python",
   "name": "python3"
  },
  "language_info": {
   "codemirror_mode": {
    "name": "ipython",
    "version": 3
   },
   "file_extension": ".py",
   "mimetype": "text/x-python",
   "name": "python",
   "nbconvert_exporter": "python",
   "pygments_lexer": "ipython3",
   "version": "3.8.13"
  }
 },
 "nbformat": 4,
 "nbformat_minor": 5
}
