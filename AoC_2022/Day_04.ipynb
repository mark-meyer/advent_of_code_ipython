{
 "cells": [
  {
   "cell_type": "code",
   "execution_count": 1,
   "id": "c7de7a15",
   "metadata": {},
   "outputs": [],
   "source": [
    "import os\n",
    "from pathlib import Path\n",
    "import re\n",
    "from itertools import starmap"
   ]
  },
  {
   "cell_type": "code",
   "execution_count": 2,
   "id": "0bc64653",
   "metadata": {},
   "outputs": [],
   "source": [
    "FOLDER = Path(os.path.dirname(os.path.realpath(\"__file__\"))) / 'data'\n",
    "in_file = 'day4.txt'"
   ]
  },
  {
   "cell_type": "markdown",
   "id": "96151de7",
   "metadata": {},
   "source": [
    "## Part One"
   ]
  },
  {
   "cell_type": "code",
   "execution_count": 3,
   "id": "998b7305",
   "metadata": {},
   "outputs": [
    {
     "data": {
      "text/plain": [
       "433"
      ]
     },
     "execution_count": 3,
     "metadata": {},
     "output_type": "execute_result"
    }
   ],
   "source": [
    "def contains(r1, r2):\n",
    "    '''true if r2 is completely contained within r1'''\n",
    "    return r1.start <= r2.start and r1.stop >= r2.stop        \n",
    "\n",
    "        \n",
    "def process_input(f):\n",
    "    rx = re.compile(r'\\d+')\n",
    "    for line in f:\n",
    "        x1, x2, y1, y2 = map(int, rx.findall(line))\n",
    "        yield range(x1, x2), range(y1, y2)\n",
    "        \n",
    "        \n",
    "with open(FOLDER / in_file) as f:\n",
    "    count = sum(contains(r1, r2) or contains(r2, r1) for r1, r2 in process_input(f))\n",
    "\n",
    "count"
   ]
  },
  {
   "cell_type": "markdown",
   "id": "03ebb9d6",
   "metadata": {},
   "source": [
    "## Part Two"
   ]
  },
  {
   "cell_type": "code",
   "execution_count": 4,
   "id": "8b27b6b7",
   "metadata": {},
   "outputs": [
    {
     "data": {
      "text/plain": [
       "852"
      ]
     },
     "execution_count": 4,
     "metadata": {},
     "output_type": "execute_result"
    }
   ],
   "source": [
    "def overlaps(r1, r2):\n",
    "    '''true if ranges overlap'''\n",
    "    return r1.start <= r2.stop and r2.start <= r1.stop\n",
    "\n",
    "\n",
    "with open(FOLDER / in_file) as f:\n",
    "    count = sum(starmap(overlaps, process_input(f)))\n",
    "\n",
    "count"
   ]
  }
 ],
 "metadata": {
  "kernelspec": {
   "display_name": "Python 3 (ipykernel)",
   "language": "python",
   "name": "python3"
  },
  "language_info": {
   "codemirror_mode": {
    "name": "ipython",
    "version": 3
   },
   "file_extension": ".py",
   "mimetype": "text/x-python",
   "name": "python",
   "nbconvert_exporter": "python",
   "pygments_lexer": "ipython3",
   "version": "3.8.13"
  }
 },
 "nbformat": 4,
 "nbformat_minor": 5
}
