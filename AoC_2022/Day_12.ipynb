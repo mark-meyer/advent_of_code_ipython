{
 "cells": [
  {
   "cell_type": "code",
   "execution_count": 1,
   "id": "c7de7a15",
   "metadata": {
    "scrolled": true
   },
   "outputs": [],
   "source": [
    "import os\n",
    "from pathlib import Path\n",
    "from itertools import count\n",
    "import string\n",
    "from collections import defaultdict, deque\n",
    "\n",
    "FOLDER = Path(os.path.dirname(os.path.realpath(\"__file__\"))) / 'data'\n",
    "in_file = 'day12.txt'"
   ]
  },
  {
   "cell_type": "markdown",
   "id": "96151de7",
   "metadata": {},
   "source": [
    "## Part One"
   ]
  },
  {
   "cell_type": "code",
   "execution_count": 2,
   "id": "769de58a",
   "metadata": {
    "scrolled": true
   },
   "outputs": [
    {
     "data": {
      "text/plain": [
       "330"
      ]
     },
     "execution_count": 2,
     "metadata": {},
     "output_type": "execute_result"
    }
   ],
   "source": [
    "heights = dict(zip(string.ascii_lowercase, count(0)))\n",
    "heights['S'] = heights['a']\n",
    "heights['E'] = heights['z']\n",
    "\n",
    "graph = defaultdict(list)\n",
    "\n",
    "def get_neighbors(p, height, width):\n",
    "    '''\n",
    "    Given a (x, y) tuple representing a point in a matrix \n",
    "    of  height, width, yield neighboring points. \n",
    "    '''\n",
    "    row, col = p\n",
    "    if row > 0:\n",
    "        yield row - 1, col\n",
    "    if row < height - 1:\n",
    "        yield row + 1, col\n",
    "    if col > 0 :\n",
    "        yield row, col - 1\n",
    "    if col < width - 1:\n",
    "        yield row, col + 1\n",
    "\n",
    "def bfs(graph, S, E):\n",
    "    '''\n",
    "    Breadth-first search of graph\n",
    "    graph should be a dictionary-based adjacency list.\n",
    "    S and E are start and end represented as (x, y) tuples.\n",
    "    '''\n",
    "    queue = deque([(S, 0)])\n",
    "    marked = set()\n",
    "\n",
    "    while queue:\n",
    "        point, count = queue.popleft()\n",
    "        if point == E:\n",
    "            return count\n",
    "        for p in graph[point]:\n",
    "            if p not in marked:\n",
    "                queue.append([p, count+1])\n",
    "                marked.add(p)\n",
    "\n",
    "with open(FOLDER/in_file) as f:\n",
    "    data = [list(line.strip()) for line in f]\n",
    "    \n",
    "    h = len(data)\n",
    "    w = len(data[0])\n",
    "    \n",
    "    for r, line  in enumerate(data):\n",
    "        for c, letter in enumerate(line):\n",
    "            if letter == 'S':\n",
    "                start = (r, c)\n",
    "            elif letter == 'E':\n",
    "                end = (r, c)\n",
    "            for n in get_neighbors((r, c), h, w):\n",
    "                char = data[n[0]][n[1]] \n",
    "                dest_height = heights[char]\n",
    "                source_height = heights[letter]\n",
    "                \n",
    "                if dest_height <= source_height + 1:\n",
    "                    graph[(r, c)].append(n)\n",
    "\n",
    "\n",
    "\n",
    "bfs(graph, start, end)"
   ]
  },
  {
   "cell_type": "markdown",
   "id": "03ebb9d6",
   "metadata": {},
   "source": [
    "## Part Two\n",
    "\n",
    "This could be fast by searching backward from 'E' to the first 'a', but it's small enough, just to look at all...maybe refactor later?"
   ]
  },
  {
   "cell_type": "code",
   "execution_count": 4,
   "id": "25ad06f7",
   "metadata": {},
   "outputs": [
    {
     "data": {
      "text/plain": [
       "321"
      ]
     },
     "execution_count": 4,
     "metadata": {},
     "output_type": "execute_result"
    }
   ],
   "source": [
    "\n",
    "a_points = []\n",
    "\n",
    "with open(FOLDER/in_file) as f:\n",
    "    data = [list(line.strip()) for line in f]\n",
    "    h = len(data)\n",
    "    w = len(data[0])\n",
    "    \n",
    "    for r, line  in enumerate(data):\n",
    "        for c, letter in enumerate(line):\n",
    "            if letter == 'a':\n",
    "                a_points.append((r, c))\n",
    "\n",
    "lens = filter(None, [bfs(graph, start, end) for start in a_points])\n",
    "min(dist for dist in lens)"
   ]
  }
 ],
 "metadata": {
  "kernelspec": {
   "display_name": "Python 3 (ipykernel)",
   "language": "python",
   "name": "python3"
  },
  "language_info": {
   "codemirror_mode": {
    "name": "ipython",
    "version": 3
   },
   "file_extension": ".py",
   "mimetype": "text/x-python",
   "name": "python",
   "nbconvert_exporter": "python",
   "pygments_lexer": "ipython3",
   "version": "3.8.13"
  }
 },
 "nbformat": 4,
 "nbformat_minor": 5
}
