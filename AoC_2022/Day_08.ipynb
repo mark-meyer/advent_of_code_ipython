{
 "cells": [
  {
   "cell_type": "code",
   "execution_count": 1,
   "id": "c7de7a15",
   "metadata": {
    "scrolled": true
   },
   "outputs": [],
   "source": [
    "import os\n",
    "from pathlib import Path\n",
    "import numpy as np\n",
    "FOLDER = Path(os.path.dirname(os.path.realpath(\"__file__\"))) / 'data'\n",
    "in_file = 'day8.txt'"
   ]
  },
  {
   "cell_type": "markdown",
   "id": "96151de7",
   "metadata": {},
   "source": [
    "## Part One"
   ]
  },
  {
   "cell_type": "code",
   "execution_count": 4,
   "id": "769de58a",
   "metadata": {
    "scrolled": true
   },
   "outputs": [
    {
     "data": {
      "text/plain": [
       "1700"
      ]
     },
     "execution_count": 4,
     "metadata": {},
     "output_type": "execute_result"
    }
   ],
   "source": [
    "with open(FOLDER/in_file) as f:\n",
    "    n = np.array([list(line.strip()) for line in f], dtype=int)\n",
    "\n",
    "def make_stacks(n):\n",
    "    for i in range(4):\n",
    "        r = np.rot90(n, k=i)\n",
    "        m = np.pad(np.diff(np.maximum.accumulate(r, axis=1), axis=1),((0, 0), (1, 0)), constant_values=1)\n",
    "        yield np.rot90(m, k=-i)\n",
    "\n",
    "rotations = np.stack(make_stacks(n))\n",
    "np.count_nonzero(rotations.sum(axis=0))"
   ]
  },
  {
   "cell_type": "markdown",
   "id": "03ebb9d6",
   "metadata": {},
   "source": [
    "## Part Two"
   ]
  },
  {
   "cell_type": "code",
   "execution_count": 3,
   "id": "8b27b6b7",
   "metadata": {
    "scrolled": true
   },
   "outputs": [
    {
     "data": {
      "text/plain": [
       "470596"
      ]
     },
     "execution_count": 3,
     "metadata": {},
     "output_type": "execute_result"
    }
   ],
   "source": [
    "with open(FOLDER/in_file) as f:\n",
    "    m = np.array([list(line.strip()) for line in f], dtype=int)\n",
    "\n",
    "\n",
    "max_seen = 0\n",
    "for row in range(1, m.shape[0]-1):\n",
    "    for col in range(1, m.shape[1]-1):\n",
    "        w = np.argwhere(m[row,:col] >= m[row, col])\n",
    "        w = col - w[-1][0] if len(w) else col\n",
    "\n",
    "        e = np.argwhere(m[row,col+1:] >= m[row, col])\n",
    "        e = e[0][0] + 1 if len(e) else m.shape[1] - col - 1\n",
    "        \n",
    "        n = np.argwhere(m[:row,col] >= m[row, col])\n",
    "\n",
    "        n = row - n[-1][0] if len(n) else row\n",
    "\n",
    "        s = np.argwhere(m[row+1:,col] >= m[row, col])\n",
    "        s = s[0][0] + 1 if len(s) else m.shape[0] - row - 1\n",
    "\n",
    "       \n",
    "        max_seen  = max(max_seen, e * w * n * s)\n",
    "max_seen  "
   ]
  }
 ],
 "metadata": {
  "kernelspec": {
   "display_name": "Python 3 (ipykernel)",
   "language": "python",
   "name": "python3"
  },
  "language_info": {
   "codemirror_mode": {
    "name": "ipython",
    "version": 3
   },
   "file_extension": ".py",
   "mimetype": "text/x-python",
   "name": "python",
   "nbconvert_exporter": "python",
   "pygments_lexer": "ipython3",
   "version": "3.8.13"
  }
 },
 "nbformat": 4,
 "nbformat_minor": 5
}
