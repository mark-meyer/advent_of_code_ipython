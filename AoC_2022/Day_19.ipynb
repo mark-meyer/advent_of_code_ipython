{
 "cells": [
  {
   "cell_type": "code",
   "execution_count": 264,
   "id": "2e79c6d1",
   "metadata": {},
   "outputs": [],
   "source": [
    "import os\n",
    "from pathlib import Path\n",
    "from collections import namedtuple\n",
    "import math\n",
    "from functools import lru_cache\n",
    "import re\n",
    "\n",
    "FOLDER = Path(os.path.dirname(os.path.realpath(\"__file__\"))) / 'data'\n",
    "in_file = 'day19.txt'"
   ]
  },
  {
   "cell_type": "code",
   "execution_count": 265,
   "id": "8c37e375",
   "metadata": {},
   "outputs": [],
   "source": [
    "class Supply(namedtuple(\"Supply\", ['ore', 'clay', 'obsidian', 'geode'])):\n",
    "    def __add__(self, other):\n",
    "        return Supply(*(s + o for s, o in zip(self, other)))\n",
    "\n",
    "    def __sub__(self, other):\n",
    "        return Supply(*(s - o for s, o in zip(self, other)))\n",
    "\n",
    "    def __mul__(self, n):\n",
    "        return Supply(*(s * n for s in self))\n",
    "    \n",
    "    def time_to_make(self, bot_count):\n",
    "        '''\n",
    "        Custom behavior here: ceiling division &\n",
    "        Return None when dividing by zero!!\n",
    "        '''        \n",
    "        if all(need <= 0 for need in self):\n",
    "            return 1\n",
    "        try:\n",
    "            return max([math.ceil(need/rate) + 1 for need, rate in zip(self, bot_count) if need > 0])\n",
    "        except ZeroDivisionError as e:\n",
    "            return None\n",
    "    \n",
    "    def __rmul__(self, n):\n",
    "        return self * n\n",
    "    \n",
    "    def __gte__(self, other):\n",
    "        return all(s >= o for s, o in zip(self, other))\n",
    "\n",
    "# supply count\n",
    "inventory = Supply(0,0,0,0)\n",
    "\n",
    "# bot count\n",
    "robots = Supply(1,0,0,0)\n",
    "\n",
    "# bot costs\n",
    "rules = (\n",
    "    Supply(2, 0, 0, 0),\n",
    "    Supply(3, 0, 0, 0),\n",
    "    Supply(3, 8, 0, 0),\n",
    "    Supply(3, 0, 12, 0)\n",
    ")\n",
    "\n",
    "rules = []\n",
    "with open(FOLDER / in_file) as f:\n",
    "    for line in f:\n",
    "        n, *r = map(int, re.findall(r'\\d+', line))\n",
    "        rules.append((\n",
    "            Supply(r[0], 0, 0, 0),\n",
    "            Supply(r[1], 0, 0, 0),\n",
    "            Supply(r[2], r[3], 0, 0),\n",
    "            Supply(r[4], 0, r[5], 0)\n",
    "        ))\n"
   ]
  },
  {
   "cell_type": "code",
   "execution_count": 242,
   "id": "88079655",
   "metadata": {},
   "outputs": [
    {
     "name": "stdout",
     "output_type": "stream",
     "text": [
      "1 0\n",
      "2 0\n",
      "3 1\n",
      "4 5\n",
      "5 3\n",
      "6 2\n",
      "7 0\n",
      "8 1\n",
      "9 14\n",
      "10 0\n",
      "11 1\n",
      "12 0\n",
      "13 5\n",
      "14 6\n",
      "15 0\n",
      "16 0\n",
      "17 1\n",
      "18 0\n",
      "19 15\n",
      "20 6\n",
      "21 0\n",
      "22 5\n",
      "23 0\n",
      "24 0\n",
      "25 6\n",
      "26 4\n",
      "27 1\n",
      "28 0\n",
      "29 8\n",
      "30 0\n"
     ]
    }
   ],
   "source": [
    "@lru_cache(maxsize=None)\n",
    "def best_run(inventory, robots, rules, time, run_until):\n",
    "    '''Return the count of obsidian'''\n",
    "    \n",
    "    #print(f\"T:{time} | I: {inventory} B: {robots}\")\n",
    "\n",
    "    time_needed = [(r - inventory).time_to_make(robots)  for r in rules]\n",
    "    max_geode = inventory.geode\n",
    "\n",
    "    # if we can't make any more robots, skip ahead to the desired time:\n",
    "    if all(t is None or t + time > run_until for t in time_needed):\n",
    "        new_inventory = inventory + robots * (run_until - time)\n",
    "        return new_inventory.geode\n",
    "\n",
    "    # if we can buy a geode bot do it!\n",
    "    if all(inv <= 0 for inv in rules[3] - inventory):\n",
    "        future_bots = robots + (n == 3 for n in range(4))\n",
    "        new_inventory = (inventory - rules[3]) + robots \n",
    "        return best_run(new_inventory, future_bots, rules, time + 1, run_until)\n",
    "    \n",
    "    for bot, t in enumerate(time_needed):\n",
    "        current = 0\n",
    "            \n",
    "        # don't spend a lot of time going down\n",
    "        # ore-hoarding branches. \n",
    "        if t is None:\n",
    "            continue\n",
    "        else:\n",
    "            # new bot state\n",
    "            future_bots = robots + (n == bot for n in range(4))\n",
    "\n",
    "            # subtract cost \n",
    "            new_inventory = (inventory - rules[bot]) + robots * t\n",
    "\n",
    "            if time + t <= run_until:\n",
    "                current = best_run(new_inventory, future_bots, rules, time + t, run_until)\n",
    "                \n",
    "        if current > max_geode:\n",
    "            max_geode = current\n",
    "    \n",
    "    return max_geode\n",
    "\n",
    "runs = []\n",
    "for i, rule in enumerate(rules, 1):\n",
    "    best = best_run(inventory, robots, rule, time=0, run_until=24)\n",
    "    runs.append(best)\n",
    "    print(i, best)\n",
    "            "
   ]
  },
  {
   "cell_type": "code",
   "execution_count": 244,
   "id": "006315d1",
   "metadata": {},
   "outputs": [
    {
     "name": "stdout",
     "output_type": "stream",
     "text": [
      "[0, 0, 1, 5, 3, 2, 0, 1, 14, 0, 1, 0, 5, 6, 0, 0, 1, 0, 15, 6, 0, 5, 0, 0, 6, 4, 1, 0, 8, 0]\n"
     ]
    },
    {
     "data": {
      "text/plain": [
       "1389"
      ]
     },
     "execution_count": 244,
     "metadata": {},
     "output_type": "execute_result"
    }
   ],
   "source": [
    "print(runs)\n",
    "sum([r * i for i, r in enumerate(runs, 1)])"
   ]
  },
  {
   "cell_type": "code",
   "execution_count": 266,
   "id": "d48f9d5c",
   "metadata": {},
   "outputs": [
    {
     "name": "stdout",
     "output_type": "stream",
     "text": [
      "1 11\n",
      "2 13\n",
      "3 21\n"
     ]
    }
   ],
   "source": [
    "@lru_cache(maxsize=None)\n",
    "def best_run(inventory, robots, rules, time, run_until):\n",
    "    '''Return the count of obsidian'''\n",
    "    \n",
    "    #print(f\"T:{time} | I: {inventory} B: {robots}\")\n",
    "\n",
    "    time_needed = [(r - inventory).time_to_make(robots)  for r in rules]\n",
    "    max_geode = inventory.geode\n",
    "\n",
    "    # if we can't make any more robots, skip ahead to the desired time:\n",
    "    if all(t is None or t + time > run_until for t in time_needed):\n",
    "        new_inventory = inventory + robots * (run_until - time)\n",
    "        return new_inventory.geode\n",
    "\n",
    "    # if we can buy a geode bot do it!\n",
    "    if all(inv <= 0 for inv in rules[3] - inventory):\n",
    "        future_bots = robots + (n == 3 for n in range(4))\n",
    "        new_inventory = (inventory - rules[3]) + robots \n",
    "        return best_run(new_inventory, future_bots, rules, time + 1, run_until)\n",
    "    \n",
    "    for bot, t in enumerate(time_needed):\n",
    "        current = 0\n",
    "        if t is None:\n",
    "            continue\n",
    "            \n",
    "        # don't spend a lot of time going down\n",
    "        # ore-hoarding branches. \n",
    "        if inventory.clay > 0 and bot==0:\n",
    "            continue\n",
    "                 \n",
    "        else:\n",
    "            # new bot state\n",
    "            future_bots = robots + (n == bot for n in range(4))\n",
    "\n",
    "            # subtract cost \n",
    "            new_inventory = (inventory - rules[bot]) + robots * t\n",
    "\n",
    "            if time + t <= run_until:\n",
    "                current = best_run(new_inventory, future_bots, rules, time + t, run_until)\n",
    "                \n",
    "        if current > max_geode:\n",
    "            max_geode = current\n",
    "    \n",
    "    return max_geode\n",
    "\n",
    "runs = []\n",
    "for i, rule in enumerate(rules[:3], 1):\n",
    "    best = best_run(inventory, robots, rule, time=0, run_until=32)\n",
    "    runs.append(best)\n",
    "    print(i, best)\n",
    "                 "
   ]
  },
  {
   "cell_type": "code",
   "execution_count": 267,
   "id": "b6ae1705",
   "metadata": {},
   "outputs": [
    {
     "data": {
      "text/plain": [
       "3003"
      ]
     },
     "execution_count": 267,
     "metadata": {},
     "output_type": "execute_result"
    }
   ],
   "source": [
    "import math\n",
    "math.prod(runs)"
   ]
  },
  {
   "cell_type": "code",
   "execution_count": null,
   "id": "4215875e",
   "metadata": {},
   "outputs": [],
   "source": []
  }
 ],
 "metadata": {
  "kernelspec": {
   "display_name": "Python 3 (ipykernel)",
   "language": "python",
   "name": "python3"
  },
  "language_info": {
   "codemirror_mode": {
    "name": "ipython",
    "version": 3
   },
   "file_extension": ".py",
   "mimetype": "text/x-python",
   "name": "python",
   "nbconvert_exporter": "python",
   "pygments_lexer": "ipython3",
   "version": "3.8.13"
  }
 },
 "nbformat": 4,
 "nbformat_minor": 5
}
