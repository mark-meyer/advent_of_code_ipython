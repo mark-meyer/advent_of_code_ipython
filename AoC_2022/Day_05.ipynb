{
 "cells": [
  {
   "cell_type": "code",
   "execution_count": 1,
   "id": "c7de7a15",
   "metadata": {},
   "outputs": [],
   "source": [
    "import os\n",
    "from pathlib import Path\n",
    "import re\n",
    "from itertools import takewhile"
   ]
  },
  {
   "cell_type": "code",
   "execution_count": 2,
   "id": "0bc64653",
   "metadata": {},
   "outputs": [],
   "source": [
    "FOLDER = Path(os.path.dirname(os.path.realpath(\"__file__\"))) / 'data'\n",
    "in_file = 'day5.txt'"
   ]
  },
  {
   "cell_type": "code",
   "execution_count": 3,
   "id": "5093edea",
   "metadata": {},
   "outputs": [],
   "source": [
    "def parse_crates(f):\n",
    "    ''' \n",
    "    Parse crate rows into dict keyed to intercolumns name(int) like: \n",
    "    {1: ['Z', 'N'], 2: ['M', 'C', 'D'], 3: ['P']}\n",
    "    '''\n",
    "    crate_lines = takewhile(lambda line: line != '\\n', f)\n",
    "    crates = reversed([line[1::4] for line in crate_lines])\n",
    "    return {int(k): list(filter(str.strip, v)) for k, *v in zip(*crates)}\n",
    "\n",
    "rx = re.compile(r'\\d+')"
   ]
  },
  {
   "cell_type": "markdown",
   "id": "96151de7",
   "metadata": {},
   "source": [
    "## Part One"
   ]
  },
  {
   "cell_type": "code",
   "execution_count": 4,
   "id": "998b7305",
   "metadata": {},
   "outputs": [
    {
     "data": {
      "text/plain": [
       "'RLFNRTNFB'"
      ]
     },
     "execution_count": 4,
     "metadata": {},
     "output_type": "execute_result"
    }
   ],
   "source": [
    "with open(FOLDER / in_file) as f:\n",
    "    crates = parse_crates(f)\n",
    "       \n",
    "    for move in f: \n",
    "        n, source, dest = map(int, rx.findall(move))\n",
    "        crates[source], buf = crates[source][:-n], crates[source][-n:]\n",
    "        crates[dest].extend(reversed(buf))\n",
    "            \n",
    "''.join([crates[k][-1] for k in crates.keys()])"
   ]
  },
  {
   "cell_type": "markdown",
   "id": "03ebb9d6",
   "metadata": {},
   "source": [
    "## Part Two"
   ]
  },
  {
   "cell_type": "code",
   "execution_count": 5,
   "id": "8b27b6b7",
   "metadata": {},
   "outputs": [
    {
     "data": {
      "text/plain": [
       "'MHQTLJRLB'"
      ]
     },
     "execution_count": 5,
     "metadata": {},
     "output_type": "execute_result"
    }
   ],
   "source": [
    "with open(FOLDER / in_file) as f:\n",
    "    crates = parse_crates(f)\n",
    "    \n",
    "    for move in f: \n",
    "        n, source, dest = map(int, rx.findall(move))\n",
    "        crates[source], buf = crates[source][:-n], crates[source][-n:]\n",
    "        crates[dest].extend(buf)\n",
    "\n",
    "''.join([crates[k][-1] for k in crates.keys()])"
   ]
  }
 ],
 "metadata": {
  "kernelspec": {
   "display_name": "Python 3 (ipykernel)",
   "language": "python",
   "name": "python3"
  },
  "language_info": {
   "codemirror_mode": {
    "name": "ipython",
    "version": 3
   },
   "file_extension": ".py",
   "mimetype": "text/x-python",
   "name": "python",
   "nbconvert_exporter": "python",
   "pygments_lexer": "ipython3",
   "version": "3.8.13"
  }
 },
 "nbformat": 4,
 "nbformat_minor": 5
}
