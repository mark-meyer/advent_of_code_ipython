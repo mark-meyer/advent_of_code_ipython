{
 "cells": [
  {
   "cell_type": "code",
   "execution_count": 1,
   "id": "c7de7a15",
   "metadata": {},
   "outputs": [],
   "source": [
    "import os\n",
    "from pathlib import Path\n",
    "import re\n",
    "from collections import namedtuple\n",
    "from itertools import takewhile"
   ]
  },
  {
   "cell_type": "code",
   "execution_count": 2,
   "id": "0bc64653",
   "metadata": {},
   "outputs": [],
   "source": [
    "FOLDER = Path(os.path.dirname(os.path.realpath(\"__file__\"))) / 'data'\n",
    "in_file = 'day5.txt'"
   ]
  },
  {
   "cell_type": "code",
   "execution_count": 10,
   "id": "a0ca20ac",
   "metadata": {},
   "outputs": [],
   "source": [
    "class Move(namedtuple('move', ['n', 'source', 'dest'])):\n",
    "    rx = re.compile(r'\\d+')\n",
    "    @classmethod\n",
    "    def from_string(cls, s):\n",
    "        return cls(*map(int, cls.rx.findall(s)))\n",
    "\n",
    "\n",
    "def parse_crates(f):\n",
    "    ''' \n",
    "    Parse crate rows into dict keyed to intercolumns name(int) like: \n",
    "    {1: ['Z', 'N'], 2: ['M', 'C', 'D'], 3: ['P']}\n",
    "    '''\n",
    "    crate_lines = takewhile(lambda line: line != '\\n', f)\n",
    "    crates = reversed([line[1::4] for line in crate_lines])\n",
    "    return {int(k): list(filter(str.strip, v)) for k, *v in zip(*crates)}\n",
    "\n",
    "\n",
    "def parse_moves(f):\n",
    "    ''' Parse remaining lines into a list of Move tuples. '''\n",
    "    rx = re.compile(r'\\d+')\n",
    "    return map(Move.from_string, f.readlines())"
   ]
  },
  {
   "cell_type": "markdown",
   "id": "96151de7",
   "metadata": {},
   "source": [
    "## Part One"
   ]
  },
  {
   "cell_type": "code",
   "execution_count": 11,
   "id": "998b7305",
   "metadata": {},
   "outputs": [
    {
     "data": {
      "text/plain": [
       "'RLFNRTNFB'"
      ]
     },
     "execution_count": 11,
     "metadata": {},
     "output_type": "execute_result"
    }
   ],
   "source": [
    "with open(FOLDER / in_file) as f:\n",
    "    crates = parse_crates(f)\n",
    "    moves = parse_moves(f)\n",
    "\n",
    "    for move in moves:        \n",
    "        crates[move.source], buf = crates[move.source][:-move.n], crates[move.source][-move.n:]\n",
    "        crates[move.dest].extend(reversed(buf))\n",
    "            \n",
    "''.join([crates[k][-1] for k in crates.keys()])"
   ]
  },
  {
   "cell_type": "markdown",
   "id": "03ebb9d6",
   "metadata": {},
   "source": [
    "## Part Two"
   ]
  },
  {
   "cell_type": "code",
   "execution_count": 12,
   "id": "8b27b6b7",
   "metadata": {},
   "outputs": [
    {
     "data": {
      "text/plain": [
       "'MHQTLJRLB'"
      ]
     },
     "execution_count": 12,
     "metadata": {},
     "output_type": "execute_result"
    }
   ],
   "source": [
    "with open(FOLDER / in_file) as f:\n",
    "    crates = parse_crates(f)\n",
    "    moves = parse_moves(f)\n",
    "    \n",
    "    for move in moves:\n",
    "        crates[move.source], buf = crates[move.source][:-move.n], crates[move.source][-move.n:]\n",
    "        crates[move.dest].extend(buf)\n",
    "\n",
    "''.join([crates[k][-1] for k in crates.keys()])"
   ]
  },
  {
   "cell_type": "code",
   "execution_count": null,
   "id": "d9aed039",
   "metadata": {},
   "outputs": [],
   "source": []
  }
 ],
 "metadata": {
  "kernelspec": {
   "display_name": "Python 3 (ipykernel)",
   "language": "python",
   "name": "python3"
  },
  "language_info": {
   "codemirror_mode": {
    "name": "ipython",
    "version": 3
   },
   "file_extension": ".py",
   "mimetype": "text/x-python",
   "name": "python",
   "nbconvert_exporter": "python",
   "pygments_lexer": "ipython3",
   "version": "3.8.13"
  }
 },
 "nbformat": 4,
 "nbformat_minor": 5
}
