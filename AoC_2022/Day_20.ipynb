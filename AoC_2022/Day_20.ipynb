{
 "cells": [
  {
   "cell_type": "code",
   "execution_count": 1,
   "id": "cfc72c35",
   "metadata": {},
   "outputs": [],
   "source": [
    "import os\n",
    "from pathlib import Path\n",
    "from itertools import zip_longest, cycle\n",
    "\n",
    "FOLDER = Path(os.path.dirname(os.path.realpath(\"__file__\"))) / 'data'\n",
    "in_file = 'day20.txt'"
   ]
  },
  {
   "cell_type": "markdown",
   "id": "327143e5",
   "metadata": {},
   "source": [
    "# Part One"
   ]
  },
  {
   "cell_type": "code",
   "execution_count": 9,
   "id": "db77f0a4",
   "metadata": {},
   "outputs": [],
   "source": [
    "with open(FOLDER / in_file) as f:\n",
    "    data = [int(n) for n in f.read().splitlines()]\n",
    "\n",
    "class Node:\n",
    "    ''' Just a doubly linked list connected ouroboros-y'''\n",
    "    def __init__(self, n, ishead=False):\n",
    "        self.n = n\n",
    "        self.next = None\n",
    "        self.prev = None\n",
    "                    \n",
    "    def forward(self, n):\n",
    "        current = self\n",
    "        for i in range(n):\n",
    "            current = current.next\n",
    "        return current\n",
    "        \n",
    "# Build list from data\n",
    "\n",
    "head = curr = Node(data[0])\n",
    "nodes = [head]\n",
    "zero = None\n",
    "\n",
    "for n in data[1:]:\n",
    "    node = Node(n)\n",
    "    if n == 0:\n",
    "        # cache this for later\n",
    "        zero = node\n",
    "    curr.next, node.prev = node, curr\n",
    "    nodes.append(node)\n",
    "    curr = node\n",
    "\n",
    "curr.next = head\n",
    "head.prev = curr\n",
    "\n",
    "\n",
    "\n",
    "def shift(node, s, head):\n",
    "    shift = abs(s) % (len(nodes) - 1) # avoid nasty off-by one here\n",
    "\n",
    "    if shift == 0: return\n",
    "\n",
    "    # take node out of list\n",
    "    node.prev.next, node.next.prev = node.next, node.prev\n",
    "\n",
    "    curr = node\n",
    "\n",
    "    for i in range(shift):\n",
    "        curr = curr.next if s > 0 else curr.prev\n",
    "    if s < 0:\n",
    "        # need one more hop here going backward\n",
    "        curr = curr.prev\n",
    "\n",
    "    curr.next.prev = node\n",
    "    node.next = curr.next\n",
    "    node.prev = curr\n",
    "    curr.next = node\n",
    "\n",
    "for node in nodes:\n",
    "     shift(node, node.n, head)\n"
   ]
  },
  {
   "cell_type": "code",
   "execution_count": 10,
   "id": "7cd6223c",
   "metadata": {},
   "outputs": [
    {
     "data": {
      "text/plain": [
       "3473"
      ]
     },
     "execution_count": 10,
     "metadata": {},
     "output_type": "execute_result"
    }
   ],
   "source": [
    "zero.forward(1000).n + zero.forward(2000).n + zero.forward(3000).n "
   ]
  },
  {
   "cell_type": "markdown",
   "id": "d1cceb79",
   "metadata": {},
   "source": [
    "# Part 2\n"
   ]
  },
  {
   "cell_type": "code",
   "execution_count": 11,
   "id": "989f0120",
   "metadata": {},
   "outputs": [
    {
     "data": {
      "text/plain": [
       "7496649006261"
      ]
     },
     "execution_count": 11,
     "metadata": {},
     "output_type": "execute_result"
    }
   ],
   "source": [
    "key = 811589153\n",
    "\n",
    "head = curr = Node(data[0] * key)\n",
    "nodes = [head]\n",
    "zero = None\n",
    "\n",
    "for n in data[1:]:\n",
    "    node = Node(n * key)\n",
    "    if n == 0:\n",
    "        # cache this for later\n",
    "        zero = node\n",
    "    curr.next, node.prev = node, curr\n",
    "    nodes.append(node)\n",
    "    curr = node\n",
    "\n",
    "curr.next = head\n",
    "head.prev = curr\n",
    "\n",
    "for _ in range(10):\n",
    "    for node in nodes:\n",
    "        shift(node, node.n, head)\n",
    "\n",
    "zero.forward(1000).n + zero.forward(2000).n + zero.forward(3000).n #3473"
   ]
  },
  {
   "cell_type": "code",
   "execution_count": null,
   "id": "f3c3df5f",
   "metadata": {},
   "outputs": [],
   "source": []
  }
 ],
 "metadata": {
  "kernelspec": {
   "display_name": "Python 3 (ipykernel)",
   "language": "python",
   "name": "python3"
  },
  "language_info": {
   "codemirror_mode": {
    "name": "ipython",
    "version": 3
   },
   "file_extension": ".py",
   "mimetype": "text/x-python",
   "name": "python",
   "nbconvert_exporter": "python",
   "pygments_lexer": "ipython3",
   "version": "3.8.13"
  }
 },
 "nbformat": 4,
 "nbformat_minor": 5
}
