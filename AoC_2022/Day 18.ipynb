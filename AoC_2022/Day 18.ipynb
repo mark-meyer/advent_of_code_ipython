{
 "cells": [
  {
   "cell_type": "code",
   "execution_count": 1,
   "id": "d7185ee2",
   "metadata": {},
   "outputs": [],
   "source": [
    "import os\n",
    "from pathlib import Path\n",
    "from collections import namedtuple\n",
    "from itertools import starmap\n",
    "import numpy as np\n",
    "\n",
    "FOLDER = Path(os.path.dirname(os.path.realpath(\"__file__\"))) / 'data'\n",
    "in_file = 'day18.txt'"
   ]
  },
  {
   "cell_type": "markdown",
   "id": "effbd0a7",
   "metadata": {},
   "source": [
    "## Part One"
   ]
  },
  {
   "cell_type": "code",
   "execution_count": 2,
   "id": "e3f0cf5d",
   "metadata": {},
   "outputs": [
    {
     "data": {
      "text/plain": [
       "4340"
      ]
     },
     "execution_count": 2,
     "metadata": {},
     "output_type": "execute_result"
    }
   ],
   "source": [
    "class Point(namedtuple(\"Point\", ['x', 'y', 'z'])):\n",
    "\n",
    "    def __add__(self, other):\n",
    "        return Point(*(s + o for s, o in zip(self, other)))\n",
    "    \n",
    "    def neighbors(self):\n",
    "        return set(self + offset for offset in self.offsets)\n",
    "    \n",
    "    def inside(self, min_extent, max_extent):\n",
    "        return all(\n",
    "            _min <= coord <= _max \n",
    "            for coord, (_min, _max) \n",
    "            in zip(self, zip(min_extent, max_extent))\n",
    "        )\n",
    "\n",
    "Point.offsets = list(starmap(Point, (\n",
    "        (1, 0, 0), (0, 1, 0), (0, 0, 1),\n",
    "        (-1, 0, 0), (0, -1, 0), (0, 0, -1)\n",
    ")))\n",
    "    \n",
    "with open(FOLDER / in_file) as f:\n",
    "    cubes = set(starmap(Point, (map(int,line.split(',')) for line in f)))\n",
    "    \n",
    "# Count any neighbor that is not in cubes — it represents an exposed face\n",
    "sum(len(c.neighbors()-cubes) for c in cubes)"
   ]
  },
  {
   "cell_type": "markdown",
   "id": "79f89481",
   "metadata": {},
   "source": [
    "# Part Two\n",
    "\n",
    "**BFS from outsid the blob**\n",
    "\n",
    "When we bump into a cube, count that face. \n",
    "\n",
    "It should not be possible to bump into the same cube from the same direction, so each face only gets counted once."
   ]
  },
  {
   "cell_type": "code",
   "execution_count": 3,
   "id": "fcf8a571",
   "metadata": {},
   "outputs": [
    {
     "data": {
      "text/plain": [
       "2468"
      ]
     },
     "execution_count": 3,
     "metadata": {},
     "output_type": "execute_result"
    }
   ],
   "source": [
    "from collections import deque\n",
    "\n",
    "min_extent = [min(coord) - 1 for coord in zip(*cubes)]\n",
    "max_extent = [max(coord) + 1 for coord in zip(*cubes)]\n",
    "\n",
    "q = deque([Point(*min_extent)])\n",
    "seen = set()\n",
    "face_count = 0\n",
    "\n",
    "while q:\n",
    "    current = q.popleft()\n",
    "    for n in current.neighbors():\n",
    "        if n.inside(min_extent, max_extent):\n",
    "            if n in cubes:\n",
    "                face_count += 1\n",
    "            elif n not in seen:\n",
    "                q.append(n)\n",
    "                seen.add(n)\n",
    "\n",
    "\n",
    "face_count"
   ]
  }
 ],
 "metadata": {
  "kernelspec": {
   "display_name": "Python 3 (ipykernel)",
   "language": "python",
   "name": "python3"
  },
  "language_info": {
   "codemirror_mode": {
    "name": "ipython",
    "version": 3
   },
   "file_extension": ".py",
   "mimetype": "text/x-python",
   "name": "python",
   "nbconvert_exporter": "python",
   "pygments_lexer": "ipython3",
   "version": "3.8.13"
  }
 },
 "nbformat": 4,
 "nbformat_minor": 5
}
