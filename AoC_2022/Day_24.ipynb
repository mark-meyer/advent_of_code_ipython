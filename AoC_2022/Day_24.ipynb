{
 "cells": [
  {
   "cell_type": "code",
   "execution_count": 1,
   "id": "10cc35fa",
   "metadata": {},
   "outputs": [],
   "source": [
    "import os\n",
    "from pathlib import Path\n",
    "from collections import namedtuple, deque\n",
    "import numpy as np\n",
    "\n",
    "FOLDER = Path(os.path.dirname(os.path.realpath(\"__file__\"))) / 'data'\n",
    "in_file = 'day24.txt'\n",
    "\n",
    "\n",
    "class Point(namedtuple(\"Point\", ['x', 'y'])):\n",
    "    \n",
    "    def moves(self):\n",
    "        moves = (\n",
    "            Point(self.x+1, self.y),\n",
    "            Point(self.x, self.y+1),\n",
    "            Point(self.x-1, self.y),\n",
    "            Point(self.x, self.y-1)   \n",
    "        )\n",
    "        yield from (n for n in moves if 0 <= n.x < WIDTH and 0 <= n.y < HEIGHT)\n",
    "        "
   ]
  },
  {
   "cell_type": "markdown",
   "id": "8b8882bc",
   "metadata": {},
   "source": [
    "# Part One"
   ]
  },
  {
   "cell_type": "code",
   "execution_count": 2,
   "id": "cc050fe5",
   "metadata": {},
   "outputs": [],
   "source": [
    "with open(FOLDER / in_file) as f:\n",
    "    raw = np.array([list(line.strip()) for line in f])\n",
    "\n",
    "HEIGHT, WIDTH =  raw[1:-1, 1:-1].shape\n",
    "  \n",
    "start_x = np.flatnonzero(raw[0] == '.')[0]\n",
    "end_x = np.flatnonzero(raw[-1] == '.')[0]\n",
    "\n",
    "p = Point(start_x - 1, -1)\n",
    "end = Point(end_x - 1, raw.shape[0] -3)\n",
    "\n",
    "\n",
    "class Storms():\n",
    "    def __init__(self, raw):\n",
    "        self.EW = (raw == '>')\n",
    "        self.WE = raw == '<'\n",
    "        self.NS = raw == 'v'\n",
    "        self.SN = raw == '^'\n",
    "\n",
    "    def step_blizzards(self):\n",
    "        self.EW = np.roll(self.EW, 1, axis=1)\n",
    "        self.WE = np.roll(self.WE, -1, axis=1)\n",
    "        self.NS = np.roll(self.NS, 1, axis=0)\n",
    "        self.SN = np.roll(self.SN, -1, axis=0)\n",
    "\n",
    "    def merge_blizzards(self):\n",
    "        return ~np.any([self.EW, self.WE, self.NS, self.SN], axis=0)\n",
    "\n",
    "blizzards = Storms(raw[1:-1, 1:-1])\n",
    "\n"
   ]
  },
  {
   "cell_type": "markdown",
   "id": "5a765001",
   "metadata": {},
   "source": [
    "## How many map state are there?\n",
    "\n",
    "It looks like 600! Maybe cache them so we can prune the search?"
   ]
  },
  {
   "cell_type": "code",
   "execution_count": 3,
   "id": "2514786c",
   "metadata": {},
   "outputs": [
    {
     "data": {
      "text/plain": [
       "600"
      ]
     },
     "execution_count": 3,
     "metadata": {},
     "output_type": "execute_result"
    }
   ],
   "source": [
    "maps = set([tuple(blizzards.merge_blizzards().flatten())])\n",
    "for i in range(2000):\n",
    "    blizzards.step_blizzards()\n",
    "    maps.add(tuple(blizzards.merge_blizzards().flatten()))\n",
    "    \n",
    "len(maps)"
   ]
  },
  {
   "cell_type": "code",
   "execution_count": 4,
   "id": "b09d0cbb",
   "metadata": {},
   "outputs": [
    {
     "data": {
      "text/plain": [
       "271"
      ]
     },
     "execution_count": 4,
     "metadata": {},
     "output_type": "execute_result"
    }
   ],
   "source": [
    "blizzards = Storms(raw[1:-1, 1:-1])\n",
    "\n",
    "\n",
    "def BFS(blizzards, p, end):    \n",
    "    q = deque([(p, 0)])\n",
    "    current_count = -1\n",
    "    \n",
    "    chart = blizzards.merge_blizzards()\n",
    "    \n",
    "    map_state = tuple(chart.flatten())\n",
    "\n",
    "    # track state so we don't keep trying the same \n",
    "    # state with a worse time\n",
    "    best_so_far = {(map_state, p): 0}    \n",
    "    \n",
    "    while q:\n",
    "        move, count = q.popleft()\n",
    "        if count != current_count:\n",
    "            # step blizzard at each level of BFS\n",
    "            # e.i. when the depth count changes\n",
    "            blizzards.step_blizzards()\n",
    "            chart = blizzards.merge_blizzards()\n",
    "            map_state = tuple(chart.flatten())\n",
    "            current_count = count  \n",
    "            \n",
    "        if move == end:\n",
    "            # end is the spot adjacent to the end\n",
    "            # it's easier than including the off-map\n",
    "            # point when looking at neighbors. Just add 1\n",
    "            return count + 1\n",
    "        \n",
    "        for step in move.moves():\n",
    "            if chart[step.y, step.x]:\n",
    "                best = best_so_far.get((map_state, step))\n",
    "                if best is None or count < best:\n",
    "                    best_so_far[(map_state, step)] = count\n",
    "                    q.append((step, count+1))\n",
    "\n",
    "        # we can hunker down in place if we want\n",
    "        if move == (0, -1) or chart[move.y, move.x]:\n",
    "            best = best_so_far.get((map_state, move))\n",
    "            if best is None or count < best:\n",
    "                best_so_far[(map_state, move)] = count\n",
    "                q.append((move, count+1))\n",
    "        \n",
    "BFS(blizzards, p, end)\n"
   ]
  },
  {
   "cell_type": "markdown",
   "id": "4b2caec3",
   "metadata": {},
   "source": [
    "# Part 2\n",
    "\n",
    "For part two, keep track of whether we have touched the end and the start.\n",
    "Adjust the cache to cache:\n",
    "• map state (flattened array)\n",
    "• position\n",
    "• whether we've touched the end once\n",
    "• whether we've touched the start again."
   ]
  },
  {
   "cell_type": "code",
   "execution_count": 5,
   "id": "3d8b111f",
   "metadata": {},
   "outputs": [
    {
     "data": {
      "text/plain": [
       "813"
      ]
     },
     "execution_count": 5,
     "metadata": {},
     "output_type": "execute_result"
    }
   ],
   "source": [
    "blizzards = Storms(raw[1:-1, 1:-1])\n",
    "before_start = Point(0, 0)\n",
    "\n",
    "def BFS(blizzards, p, end):    \n",
    "    q = deque([(p, 0, False, False)])\n",
    "    current_count = -1\n",
    "    \n",
    "    chart = blizzards.merge_blizzards()\n",
    "    \n",
    "    map_state = tuple(chart.flatten())\n",
    "\n",
    "    # Add two booleans to the cache to know whether we've \n",
    "    # touched the ends\n",
    "    # Maybe we don't need to search the way back again? \n",
    "    best_so_far = {(map_state, p, False, False): 0}    \n",
    "    \n",
    "    while q:\n",
    "        move, count, touched_end, touched_start = q.popleft()\n",
    "        \n",
    "        if count != current_count:\n",
    "            # step blizzard at each level of BFS\n",
    "            # e.i. when the depth count changes\n",
    "            blizzards.step_blizzards()\n",
    "            chart = blizzards.merge_blizzards()\n",
    "            map_state = tuple(chart.flatten())\n",
    "            current_count = count  \n",
    "        \n",
    "        if move == before_start and touched_end:\n",
    "            true_start = Point(move.x, move.y-1)\n",
    "            best = best_so_far.get((map_state, true_start, touched_end, touched_start))\n",
    "            if best is None or count < best:\n",
    "                best_so_far[(map_state, step, touched_end, touched_start)] = count\n",
    "                q.append((true_start, count+1, touched_end, True))\n",
    "\n",
    "        \n",
    "        if move == end:\n",
    "            if touched_start:\n",
    "                return count + 1\n",
    "            true_end = Point(move.x, move.y+1)\n",
    "            \n",
    "            best = best_so_far.get((map_state, true_end, touched_end, touched_start))\n",
    "\n",
    "            if best is None or count < best:\n",
    "                best_so_far[(map_state, step, touched_end, touched_start)] = count\n",
    "                q.append((true_end, count+1, True, False))\n",
    "        \n",
    "        for step in move.moves():\n",
    "            if chart[step.y, step.x]:\n",
    "                best = best_so_far.get((map_state, step, touched_end, touched_start))\n",
    "                \n",
    "                if best is None or count < best:\n",
    "                    best_so_far[(map_state, step, touched_end, touched_start)] = count\n",
    "                    q.append((step, count+1, touched_end, touched_start))\n",
    "\n",
    "\n",
    "        if move == (0, -1) or move == (end.x, end.y+1) or chart[move.y, move.x]:\n",
    "            best = best_so_far.get((map_state, move, touched_end, touched_start))\n",
    "\n",
    "            if best is None or count < best:\n",
    "                best_so_far[(map_state, move, touched_end, touched_start)] = count\n",
    "                q.append((move, count+1, touched_end, touched_start))\n",
    "        \n",
    "BFS(blizzards, p, end)\n"
   ]
  },
  {
   "cell_type": "code",
   "execution_count": 6,
   "id": "33a0fbde",
   "metadata": {},
   "outputs": [
    {
     "data": {
      "text/plain": [
       "Point(x=0, y=-1)"
      ]
     },
     "execution_count": 6,
     "metadata": {},
     "output_type": "execute_result"
    }
   ],
   "source": [
    "p"
   ]
  },
  {
   "cell_type": "code",
   "execution_count": null,
   "id": "f368968a",
   "metadata": {},
   "outputs": [],
   "source": []
  }
 ],
 "metadata": {
  "kernelspec": {
   "display_name": "Python 3 (ipykernel)",
   "language": "python",
   "name": "python3"
  },
  "language_info": {
   "codemirror_mode": {
    "name": "ipython",
    "version": 3
   },
   "file_extension": ".py",
   "mimetype": "text/x-python",
   "name": "python",
   "nbconvert_exporter": "python",
   "pygments_lexer": "ipython3",
   "version": "3.10.4"
  }
 },
 "nbformat": 4,
 "nbformat_minor": 5
}
