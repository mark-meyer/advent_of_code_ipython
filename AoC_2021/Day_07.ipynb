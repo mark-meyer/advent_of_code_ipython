{
 "cells": [
  {
   "cell_type": "code",
   "execution_count": 282,
   "id": "795ce8c7",
   "metadata": {},
   "outputs": [
    {
     "name": "stdout",
     "output_type": "stream",
     "text": [
      "Solution one: 344138\n",
      "Solution two: 94862124\n"
     ]
    }
   ],
   "source": [
    "import numpy as np\n",
    "import os\n",
    "from pathlib import Path\n",
    "from collections import deque\n",
    "\n",
    "FOLDER = Path(os.path.dirname(os.path.realpath(\"__file__\"))) / 'data'\n",
    "in_file = 'day7.txt'\n",
    "\n",
    "with open(FOLDER / in_file) as f:\n",
    "    # reshape as column vector to allow broadcasting to work easier later\n",
    "    data = np.loadtxt(f, delimiter=',', dtype=int).reshape(-1, 1)\n",
    "\n",
    "\n",
    "def solution_one(data):\n",
    "    positions = np.arange(data.max())\n",
    "    return np.absolute(data - positions).sum(axis=0).min()\n",
    "\n",
    "\n",
    "def solution_two(data):\n",
    "    positions = np.arange(data.max())\n",
    "    difs = np.absolute(data - positions)\n",
    "    return ((np.square(difs) + difs) // 2).sum(axis=0).min()\n",
    "\n",
    "\n",
    "print(\"Solution one:\", solution_one(data))\n",
    "print(\"Solution two:\", solution_two(data))"
   ]
  },
  {
   "cell_type": "code",
   "execution_count": 158,
   "id": "543bc42a",
   "metadata": {},
   "outputs": [
    {
     "name": "stdout",
     "output_type": "stream",
     "text": [
      "7.55 ms ± 41.5 µs per loop (mean ± std. dev. of 7 runs, 100 loops each)\n"
     ]
    }
   ],
   "source": [
    "%timeit solution_one(data)"
   ]
  },
  {
   "cell_type": "code",
   "execution_count": 159,
   "id": "a8238c76",
   "metadata": {},
   "outputs": [
    {
     "name": "stdout",
     "output_type": "stream",
     "text": [
      "32.6 ms ± 218 µs per loop (mean ± std. dev. of 7 runs, 10 loops each)\n"
     ]
    }
   ],
   "source": [
    "%timeit solution_two(data)"
   ]
  },
  {
   "cell_type": "code",
   "execution_count": 203,
   "id": "60835faf",
   "metadata": {},
   "outputs": [
    {
     "data": {
      "image/png": "[encoded data removed]",
      "text/plain": [
       "<Figure size 432x288 with 1 Axes>"
      ]
     },
     "metadata": {
      "needs_background": "light"
     },
     "output_type": "display_data"
    }
   ],
   "source": [
    "%matplotlib inline\n",
    "\n",
    "import matplotlib.pyplot as plt\n",
    "\n",
    "def plot(data):\n",
    "    positions = np.arange(data.max())\n",
    "    difs = np.absolute(data - positions)\n",
    "    costs = ((np.square(difs) + difs) // 2).sum(axis=0)\n",
    "    min_dist = np.argmin(costs)\n",
    "    plt.plot(positions, costs)\n",
    "    plt.title('Escaping Whale Treachery')\n",
    "    plt.ylabel('Total Cost --->')\n",
    "    plt.xlabel('Position --->')\n",
    "    plt.annotate(\n",
    "        f\"Min crab cost, dist: {min_dist}\",\n",
    "        (min_dist, costs[min_dist]),\n",
    "        xycoords='data',\n",
    "        xytext=(0.4, 0.25),\n",
    "        textcoords='axes fraction', \n",
    "        arrowprops=dict(arrowstyle=\"->\",facecolor='black'),\n",
    "        horizontalalignment='right', verticalalignment='top'\n",
    "    )\n",
    "    plt.show()\n",
    "\n",
    "plot(data)\n"
   ]
  },
  {
   "cell_type": "code",
   "execution_count": 283,
   "id": "9474f79b",
   "metadata": {},
   "outputs": [
    {
     "data": {
      "text/plain": [
       "array([482.596])"
      ]
     },
     "execution_count": 283,
     "metadata": {},
     "output_type": "execute_result"
    }
   ],
   "source": [
    "def solution_two(data):\n",
    "    return sum(data)/len(data)\n",
    "solution_two(data)"
   ]
  },
  {
   "cell_type": "code",
   "execution_count": 280,
   "id": "1f2d908a",
   "metadata": {},
   "outputs": [
    {
     "data": {
      "text/plain": [
       "array([46])"
      ]
     },
     "execution_count": 280,
     "metadata": {},
     "output_type": "execute_result"
    }
   ],
   "source": [
    "def cost(p, data):\n",
    "    return np.absolute(data - p).sum(axis=0) \n",
    "\n",
    "cost(8, data)"
   ]
  },
  {
   "cell_type": "code",
   "execution_count": null,
   "id": "414453a9",
   "metadata": {},
   "outputs": [],
   "source": []
  }
 ],
 "metadata": {
  "kernelspec": {
   "display_name": "Python 3",
   "language": "python",
   "name": "python3"
  },
  "language_info": {
   "codemirror_mode": {
    "name": "ipython",
    "version": 3
   },
   "file_extension": ".py",
   "mimetype": "text/x-python",
   "name": "python",
   "nbconvert_exporter": "python",
   "pygments_lexer": "ipython3",
   "version": "3.8.5"
  }
 },
 "nbformat": 4,
 "nbformat_minor": 5
}
