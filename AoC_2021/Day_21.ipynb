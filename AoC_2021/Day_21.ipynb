{
 "cells": [
  {
   "cell_type": "code",
   "execution_count": 58,
   "id": "8075fa27",
   "metadata": {},
   "outputs": [],
   "source": [
    "from collections import namedtuple\n",
    "from itertools import cycle, count, islice\n"
   ]
  },
  {
   "cell_type": "code",
   "execution_count": 59,
   "id": "8b5c597d",
   "metadata": {},
   "outputs": [],
   "source": [
    "class Player:\n",
    "    def __init__(self, starting_pos, num, score=0):\n",
    "        self.score = 0\n",
    "        self.pos = starting_pos\n",
    "        self.num = num\n",
    "\n",
    "    def update(self, roll):\n",
    "        self.pos = (self.pos - 1  + roll) % 10 +1\n",
    "        self.score += self.pos\n",
    "\n",
    "    def __lt__(self, other):\n",
    "        return self.score < other.score\n",
    "        \n",
    "    def __repr__(self):\n",
    "        return f\"Player({self.pos}, {self.num}, {self.score})\"\n",
    "\n",
    "def game(starting_positions, die_sides, winning_score):\n",
    "        players = [\n",
    "            Player(starting_positions[0], 1),\n",
    "            Player(starting_positions[1], 2)\n",
    "        ]\n",
    "        turn = cycle(players)\n",
    "        plays = count(1)\n",
    "        die = cycle(range(1, die_sides + 1))\n",
    "        \n",
    "        while all(player.score < winning_score for player in players):\n",
    "            roll = sum(islice(die, 3))\n",
    "            play_count = next(plays) * 3\n",
    "            current_player = next(turn)\n",
    "            current_player.update(roll)\n",
    "\n",
    "        return players, play_count\n"
   ]
  },
  {
   "cell_type": "code",
   "execution_count": 60,
   "id": "61e53bd2",
   "metadata": {},
   "outputs": [
    {
     "name": "stdout",
     "output_type": "stream",
     "text": [
      "Solution 1:\n"
     ]
    },
    {
     "data": {
      "text/plain": [
       "906093"
      ]
     },
     "execution_count": 60,
     "metadata": {},
     "output_type": "execute_result"
    }
   ],
   "source": [
    "starting_positions = (10, 7)\n",
    "\n",
    "players, final_count = game(starting_positions, 100, 1000)\n",
    "\n",
    "print(\"Solution 1:\")\n",
    "min(players).score * final_count"
   ]
  },
  {
   "cell_type": "code",
   "execution_count": 61,
   "id": "a450aa5a",
   "metadata": {},
   "outputs": [],
   "source": [
    "from functools import lru_cache\n",
    "\n",
    "def update(pos, score, roll):\n",
    "    pos = (pos - 1  + roll) % 10 + 1\n",
    "    score += pos\n",
    "    return pos, score\n",
    "\n",
    "\n",
    "die_permutations = [(3, 1), (4, 3), (5, 6), (6, 7), (7, 6), (8, 3), (9, 1)]\n",
    "\n",
    "@lru_cache(maxsize=None)\n",
    "def game(p1, p2):\n",
    "    p1_wins = 0\n",
    "    p2_wins = 0\n",
    "\n",
    "    for roll, count in die_permutations:              \n",
    "        pos, score = update(p1[0], p1[1], roll)\n",
    "        if score >= 21:\n",
    "            p1_wins += count\n",
    "        else:\n",
    "            # swap for turn taking\n",
    "            win2, win1 = game(p2, (pos, score))\n",
    "            p1_wins += win1 * count\n",
    "            p2_wins += win2 * count\n",
    "\n",
    "    \n",
    "    return p1_wins, p2_wins\n"
   ]
  },
  {
   "cell_type": "code",
   "execution_count": 62,
   "id": "3fb0f447",
   "metadata": {},
   "outputs": [
    {
     "name": "stdout",
     "output_type": "stream",
     "text": [
      "(274291038026362, 135620348907779)\n",
      "Solution 2:  274291038026362\n"
     ]
    }
   ],
   "source": [
    "wins = game((10,0),(7,0))\n",
    "print(wins)\n",
    "print(\"Solution 2: \", max(wins))\n"
   ]
  },
  {
   "cell_type": "code",
   "execution_count": 63,
   "id": "9e3e4ff7",
   "metadata": {},
   "outputs": [
    {
     "data": {
      "text/plain": [
       "CacheInfo(hits=57466, misses=17307, maxsize=None, currsize=17307)"
      ]
     },
     "execution_count": 63,
     "metadata": {},
     "output_type": "execute_result"
    }
   ],
   "source": [
    "game.cache_info()"
   ]
  },
  {
   "cell_type": "code",
   "execution_count": null,
   "id": "cda4e98e",
   "metadata": {},
   "outputs": [],
   "source": []
  }
 ],
 "metadata": {
  "kernelspec": {
   "display_name": "Python 3 (ipykernel)",
   "language": "python",
   "name": "python3"
  },
  "language_info": {
   "codemirror_mode": {
    "name": "ipython",
    "version": 3
   },
   "file_extension": ".py",
   "mimetype": "text/x-python",
   "name": "python",
   "nbconvert_exporter": "python",
   "pygments_lexer": "ipython3",
   "version": "3.8.5"
  }
 },
 "nbformat": 4,
 "nbformat_minor": 5
}
