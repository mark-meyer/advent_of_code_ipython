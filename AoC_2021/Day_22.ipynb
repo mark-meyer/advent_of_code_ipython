{
 "cells": [
  {
   "cell_type": "code",
   "execution_count": 1,
   "id": "0b3de375",
   "metadata": {},
   "outputs": [],
   "source": [
    "from pathlib import Path\n",
    "import os\n",
    "import re\n",
    "\n",
    "\n",
    "FOLDER = Path(os.path.dirname(os.path.realpath(\"__file__\"))) / 'data'\n",
    "in_file = 'day22.txt'\n",
    "\n",
    "regex = r'(on|off).+?(-?\\d+)..(-?\\d+).+?(-?\\d+)..(-?\\d+).+?(-?\\d+)..(-?\\d+)'\n",
    "\n",
    "with open(FOLDER / in_file) as f:\n",
    "    data = re.findall(regex, f.read(), flags=re.MULTILINE)"
   ]
  },
  {
   "cell_type": "code",
   "execution_count": 2,
   "id": "f09cf2c6",
   "metadata": {},
   "outputs": [],
   "source": [
    "class Cube():\n",
    "    def __init__(self,x1, x2, y1, y2, z1, z2,on=True):\n",
    "        self.turn_on = on\n",
    "        self.x1 = min(x1, x2)\n",
    "        self.x2 = max(x1, x2)\n",
    "        self.y1 = min(y1, y2)\n",
    "        self.y2 = max(y1, y2)\n",
    "        self.z1 = min(z1, z2)\n",
    "        self.z2 = max(z1, z2)\n",
    "        \n",
    "    @property\n",
    "    def area(self):\n",
    "        return abs(self.x1 - self.x2) * abs(self.y1 - self.y2) * abs(self.z1 - self.z2)\n",
    "\n",
    "    def overlaps(self, other):\n",
    "        return all([\n",
    "           self.x2 > other.x1,\n",
    "           self.x1 < other.x2,\n",
    "           self.y2 > other.y1,\n",
    "           self.y1 < other.y2,\n",
    "           self.z2 > other.z1,\n",
    "           self.z1 < other.z2\n",
    "        ])\n",
    "        \n",
    "    def __or__(self, other):\n",
    "        x_min = max(self.x1, other.x1) \n",
    "        x_max = min(self.x2, other.x2)\n",
    "        y_min = max(self.y1, other.y1)\n",
    "        y_max = min(self.y2, other.y2)\n",
    "        z_min = max(self.z1, other.z1)\n",
    "        z_max = min(self.z2, other.z2)\n",
    "        if self.overlaps(other):\n",
    "            return Cube(x_min, x_max, y_min, y_max, z_min, z_max)\n",
    "\n",
    "    def __eq__(self, other):\n",
    "        return all([\n",
    "            self.x1 == other.x1,\n",
    "            self.x2 == other.x2,\n",
    "            self.y1 == other.y1,\n",
    "            self.y2 == other.y2,\n",
    "            self.z1 == other.z1,\n",
    "            self.z2 == other.z2\n",
    "        ])\n",
    "    \n",
    "    def __ge__(self, other):\n",
    "        return all([\n",
    "            self.x1 <= other.x1,\n",
    "            self.x2 >= other.x2,\n",
    "            self.y1 <= other.y1,\n",
    "            self.y2 >= other.y2,\n",
    "            self.z1 <= other.z1,\n",
    "            self.z2 >= other.z2\n",
    "        ])\n",
    "\n",
    "\n",
    "    def __hash__(self):\n",
    "        return hash((\n",
    "            self.x1,\n",
    "            self.x2,\n",
    "            self.y1,\n",
    "            self.y2,\n",
    "            self.z1,\n",
    "            self.z2\n",
    "        ))\n",
    "        \n",
    "    def __repr__(self):\n",
    "        return f\"{self.__class__.__name__}({self.x1}, {self.x2}, {self.y1}, {self.y2}, {self.z1}, {self.z2})\"\n"
   ]
  },
  {
   "cell_type": "code",
   "execution_count": 3,
   "id": "63bf8181",
   "metadata": {},
   "outputs": [
    {
     "data": {
      "text/plain": [
       "420"
      ]
     },
     "execution_count": 3,
     "metadata": {},
     "output_type": "execute_result"
    }
   ],
   "source": [
    "data_list = [[l[0] == 'on'] + [int(n) for n in l[1:]] for l in data]\n",
    "\n",
    "cubes = []\n",
    "\n",
    "for (on, x1, x2, y1, y2, z1, z2) in  data_list:\n",
    "    cubes.append(Cube(x1, x2+1, y1, y2+1, z1, z2+1, on))\n",
    "\n",
    "len(cubes)"
   ]
  },
  {
   "cell_type": "code",
   "execution_count": 4,
   "id": "affd8419",
   "metadata": {},
   "outputs": [
    {
     "name": "stdout",
     "output_type": "stream",
     "text": [
      "Solution 1:  590467\n",
      "Solution 2:  1225064738333321\n"
     ]
    }
   ],
   "source": [
    "def count_on(data):\n",
    "    count = 0\n",
    "    seen = set()\n",
    "    for c in reversed(data):\n",
    "        if c.turn_on:\n",
    "            intersections = [c|cut for cut in seen if c|cut]\n",
    "            count += c.area\n",
    "            intersection_count = count_on(intersections)\n",
    "            count -= intersection_count\n",
    "        seen.add(c)\n",
    "    return count\n",
    "\n",
    "\n",
    "bounds = Cube(-50, 50, -50, 50, -50, 50)\n",
    "limited_counts = count_on([c for c in cubes if bounds >= c])\n",
    "print(\"Solution 1: \", limited_counts)\n",
    "\n",
    "all_counts = count_on(cubes)\n",
    "print(\"Solution 2: \", all_counts)\n",
    "\n",
    "\n"
   ]
  },
  {
   "cell_type": "code",
   "execution_count": null,
   "id": "77cc1f67",
   "metadata": {},
   "outputs": [],
   "source": []
  }
 ],
 "metadata": {
  "kernelspec": {
   "display_name": "Python 3 (ipykernel)",
   "language": "python",
   "name": "python3"
  },
  "language_info": {
   "codemirror_mode": {
    "name": "ipython",
    "version": 3
   },
   "file_extension": ".py",
   "mimetype": "text/x-python",
   "name": "python",
   "nbconvert_exporter": "python",
   "pygments_lexer": "ipython3",
   "version": "3.8.5"
  }
 },
 "nbformat": 4,
 "nbformat_minor": 5
}
