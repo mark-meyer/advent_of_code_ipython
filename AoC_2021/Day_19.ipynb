{
 "cells": [
  {
   "cell_type": "code",
   "execution_count": 31,
   "id": "7875fc2f",
   "metadata": {},
   "outputs": [],
   "source": [
    "import os\n",
    "from pathlib import Path\n",
    "import numpy as np\n",
    "from itertools import product, combinations\n",
    "from collections import defaultdict\n",
    "from scipy.spatial import distance_matrix\n",
    "from scipy.spatial.transform import Rotation #align_vectors"
   ]
  },
  {
   "cell_type": "code",
   "execution_count": 32,
   "id": "7c3d6f53",
   "metadata": {},
   "outputs": [],
   "source": [
    "FOLDER = Path(os.path.dirname(os.path.realpath(\"__file__\"))) / 'data'\n",
    "in_file = 'day19.txt'\n",
    "\n",
    "with open(FOLDER / in_file) as f:\n",
    "    raw = f.read().split('\\n\\n')\n",
    "    scanners = []\n",
    "    for sc in raw:\n",
    "        l = [line.split(',') for line in sc.split('\\n')[1:]]\n",
    "        scanners.append(np.array(l, dtype=int))\n"
   ]
  },
  {
   "cell_type": "code",
   "execution_count": 33,
   "id": "f3e1fe29",
   "metadata": {},
   "outputs": [
    {
     "data": {
      "text/plain": [
       "2231.102418088"
      ]
     },
     "execution_count": 33,
     "metadata": {},
     "output_type": "execute_result"
    }
   ],
   "source": [
    "# Distance matrix for each scanner\n",
    "distances = [np.around(distance_matrix(s, s), decimals=9) for s in scanners]\n",
    "\n",
    "# So in matrix 0, the distance between the 4th beacon and 7th is:\n",
    "distances[0][3][6]"
   ]
  },
  {
   "cell_type": "code",
   "execution_count": 34,
   "id": "0da9e16e",
   "metadata": {},
   "outputs": [
    {
     "data": {
      "text/plain": [
       "(66,)"
      ]
     },
     "execution_count": 34,
     "metadata": {},
     "output_type": "execute_result"
    }
   ],
   "source": [
    "# The scanners we are interested in see 66 pairs of points\n",
    "# with the same distance (not counting 0 distance with self. \n",
    "# 66 is 12 choose 2, so this corresponds to 12 shared points\n",
    "\n",
    "# for example, scanners 0 and 2 see 12 points with the same distances between them\n",
    "a_b_shared_distances = np.intersect1d(distances[0], distances[2])[1:]\n",
    "a_b_shared_distances.shape"
   ]
  },
  {
   "cell_type": "code",
   "execution_count": 35,
   "id": "98c1058d",
   "metadata": {},
   "outputs": [],
   "source": [
    "# Get the pairs we need to examine:\n",
    "\n",
    "pairs_12 = defaultdict(list)\n",
    "\n",
    "for i_1, i_2 in combinations(range(len(distances)), r=2):\n",
    "    a_b_shared_distances = np.intersect1d(distances[i_1], distances[i_2])[1:]\n",
    "    if a_b_shared_distances.shape[0] == 66:\n",
    "        pairs_12[i_1].append(i_2)\n",
    "        pairs_12[i_2].append(i_1)\n"
   ]
  },
  {
   "cell_type": "code",
   "execution_count": 43,
   "id": "40c54962",
   "metadata": {},
   "outputs": [],
   "source": [
    "def get_transform(points_1, points_2):\n",
    "    '''\n",
    "    Normalize to the mean first. The take the easy course with scipy!\n",
    "    This will give us the rotation function and the translation matrix\n",
    "    '''\n",
    "\n",
    "    rot, rmsd = Rotation.align_vectors(\n",
    "        points_1 - np.mean(points_1, axis=0), \n",
    "        points_2 - np.mean(points_2, axis=0)\n",
    "    )\n",
    "    points_2 = rot.apply(points_2)\n",
    "\n",
    "    return (points_1 - points_2)[0], rot\n",
    "    \n",
    "def find_scanner_locations(points1, points2):\n",
    "    distances = [np.around(distance_matrix(s, s), decimals=9) for s in [points1, points2]]\n",
    "\n",
    "    shared_distances = np.intersect1d(distances[0], distances[1])[1:] # remove zero for self distance\n",
    "\n",
    "    #indices from where these points are in the distance matrix\n",
    "    ind_1 = np.argwhere(np.isin(distances[0], shared_distances))\n",
    "    ind_2 = np.argwhere(np.isin(distances[1], shared_distances))\n",
    "\n",
    "    # the 12 indexes from set of observations\n",
    "    # but the orders do not necessarily correspond\n",
    "    ind_1 = np.unique(ind_1.ravel())\n",
    "    ind_2 = np.unique(ind_2.ravel())\n",
    "\n",
    "    a_points = points1[ind_1]\n",
    "    b_points = points2[ind_2]\n",
    "\n",
    "    a_mean = a_points.mean(axis=0)\n",
    "    b_mean = b_points.mean(axis=0)\n",
    "\n",
    "    # sort by distance from local mean\n",
    "    a_sorted_indices = np.argsort(np.linalg.norm(a_points - a_mean, axis=1))\n",
    "    b_sorted_indices = np.argsort(np.linalg.norm(b_points - b_mean, axis=1))\n",
    "\n",
    "    points_1 = a_points[a_sorted_indices]\n",
    "    points_2 = b_points[b_sorted_indices]\n",
    "\n",
    "    return get_transform(points_1, points_2)\n",
    "\n",
    "def transform_points(sensor_number, scanners, scanner_data):\n",
    "    '''Just apply rotation and translation. No scaling needed'''\n",
    "    loc, rot = scanner_data[sensor_number]\n",
    "    return loc + rot.apply(scanners[sensor_number])\n",
    "\n",
    "def get_unique(pair_dict):\n",
    "    references = {\n",
    "        0: scanners[0].copy()\n",
    "    }\n",
    "    scanner_data = {\n",
    "        0: ([0,0,0], Rotation.from_matrix(np.zeros([3, 3])))\n",
    "    }\n",
    "    \n",
    "    keys_seen = set()\n",
    "    to_find = [0]\n",
    "    \n",
    "    while to_find:\n",
    "        '''do a simple graph search to find the right order to lookup'''\n",
    "        reference = to_find.pop(0)\n",
    "\n",
    "        if reference in keys_seen:\n",
    "            continue\n",
    "\n",
    "        keys_seen.add(reference)\n",
    "\n",
    "        for sensor in pair_dict[reference]:\n",
    "            if sensor in scanner_data:\n",
    "                continue\n",
    "            to_find.append(sensor)\n",
    "        \n",
    "            points = references[reference] # these should already be transformed\n",
    "            loc, rot = find_scanner_locations(references[reference], scanners[sensor])            \n",
    "\n",
    "            loc = np.rint(loc).astype(np.int32) # careful to rount before casting\n",
    "\n",
    "            scanner_data[sensor] = (loc, rot)\n",
    "            translated = transform_points(sensor,scanners,scanner_data)\n",
    "\n",
    "            references[sensor] = translated\n",
    "        \n",
    "    return references, scanner_data\n",
    "\n",
    "references, scanner_data = get_unique(pairs_12)\n"
   ]
  },
  {
   "cell_type": "code",
   "execution_count": 38,
   "id": "2d5af637",
   "metadata": {},
   "outputs": [
    {
     "name": "stdout",
     "output_type": "stream",
     "text": [
      "Solution 1:  405\n"
     ]
    }
   ],
   "source": [
    "# Make a set of unique points\n",
    "\n",
    "known = set(tuple(l) for l in scanners[0])\n",
    "\n",
    "for k, l in pairs_12.items():\n",
    "    for sensor in l:\n",
    "        if sensor == 0: # don't add 0...already started with it\n",
    "            continue\n",
    "        translated = transform_points(sensor,scanners,scanner_data)\n",
    "        for t in translated:\n",
    "            known.add(tuple(np.rint(t).astype(int)))\n",
    "\n",
    "print(\"Solution 1: \", len(known) )"
   ]
  },
  {
   "cell_type": "code",
   "execution_count": 39,
   "id": "4c773a8d",
   "metadata": {},
   "outputs": [
    {
     "name": "stdout",
     "output_type": "stream",
     "text": [
      "Solution 2:  12306\n"
     ]
    }
   ],
   "source": [
    "# Minkowski p-norm of 1 corresponds to Manhattan Distance\n",
    "# We can just make another distance matrix\n",
    "\n",
    "locations = [s[0] for s in scanner_data.values()]\n",
    "largest = distance_matrix(locations, locations, p=1).max()\n",
    "\n",
    "print(\"Solution 2: \", int(largest))"
   ]
  },
  {
   "cell_type": "code",
   "execution_count": null,
   "id": "7b0b0373",
   "metadata": {},
   "outputs": [],
   "source": []
  }
 ],
 "metadata": {
  "kernelspec": {
   "display_name": "Python 3",
   "language": "python",
   "name": "python3"
  },
  "language_info": {
   "codemirror_mode": {
    "name": "ipython",
    "version": 3
   },
   "file_extension": ".py",
   "mimetype": "text/x-python",
   "name": "python",
   "nbconvert_exporter": "python",
   "pygments_lexer": "ipython3",
   "version": "3.8.5"
  }
 },
 "nbformat": 4,
 "nbformat_minor": 5
}
