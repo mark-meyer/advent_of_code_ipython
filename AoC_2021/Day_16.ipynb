{
 "cells": [
  {
   "cell_type": "code",
   "execution_count": 1,
   "id": "39732384",
   "metadata": {},
   "outputs": [],
   "source": [
    "import os\n",
    "from pathlib import Path\n",
    "\n",
    "\n",
    "FOLDER = Path(os.path.dirname(os.path.realpath(\"__file__\"))) / 'data'\n",
    "in_file = 'day16.txt'\n",
    "\n",
    "with open(FOLDER / in_file) as f:\n",
    "    data = f.read().strip()"
   ]
  },
  {
   "cell_type": "code",
   "execution_count": 2,
   "id": "17cec6e2",
   "metadata": {},
   "outputs": [],
   "source": [
    "from functools import reduce \n",
    "\n",
    "def process_results(subs, i):\n",
    "    procs = {\n",
    "        0: sum,\n",
    "        1: lambda l: reduce(lambda a, n: a * n,l, 1),\n",
    "        2: min,\n",
    "        3: max,\n",
    "        5: lambda l: int(l[0] > l[1]),\n",
    "        6: lambda l: int(l[0] < l[1]),\n",
    "        7: lambda l: int(l[0] == l[1]),\n",
    "    }\n",
    "    return procs[i](subs)\n",
    "\n",
    "class Bitreader:\n",
    "    def __init__(self, s, stats):\n",
    "        self.stats = stats\n",
    "        self.s = s\n",
    "        self.i = 0\n",
    "        \n",
    "    def read(self, n):\n",
    "        j = self.i\n",
    "        self.i += n\n",
    "        return self.s[j:n+j]\n",
    "\n",
    "    def remaining(self):\n",
    "        return len(self.s) - self.i > 0\n",
    "\n",
    "    def operator(self, NODE_TYPE):\n",
    "        type_id = self.read(1)\n",
    "        results = []\n",
    "\n",
    "        if type_id == '0':\n",
    "            length = int(self.read(15),2)\n",
    "            subs = self.read(length)   \n",
    "            sub_reader = Bitreader(subs, stats)\n",
    "\n",
    "            while sub_reader.remaining():\n",
    "                results.append(sub_reader.packet_dispatch())\n",
    "\n",
    "        elif type_id == '1':\n",
    "            length = int(self.read(11),2)\n",
    "            for _ in range(length):\n",
    "                results.append(self.packet_dispatch())\n",
    "\n",
    "        return process_results(results, NODE_TYPE)\n",
    "\n",
    "\n",
    "    def literal(self, NODE_TYPE):\n",
    "        group = self.read(5)\n",
    "        acc = group[1:]\n",
    "\n",
    "        while group[0]  != '0':\n",
    "            group = self.read(5)\n",
    "            acc += group[1:]\n",
    "        return int(acc, 2)\n",
    "\n",
    "\n",
    "    def packet_dispatch(self):\n",
    "        types = { 4: self.literal }   \n",
    "        version = int(self.read(3), 2)\n",
    "\n",
    "        self.stats['versions'] += version\n",
    "        packet_type = int(self.read(3), 2)\n",
    "        packet_class = types.get(packet_type, self.operator)\n",
    "        return packet_class(packet_type)\n",
    "  "
   ]
  },
  {
   "cell_type": "code",
   "execution_count": 3,
   "id": "524ad2f0",
   "metadata": {},
   "outputs": [],
   "source": [
    "lookup = {\n",
    "    '0': '0000',\n",
    "    '1': '0001',\n",
    "    '2': '0010',\n",
    "    '3': '0011',\n",
    "    '4': '0100',\n",
    "    '5': '0101',\n",
    "    '6': '0110',\n",
    "    '7': '0111',\n",
    "    '8': '1000',\n",
    "    '9': '1001',\n",
    "    'A': '1010',\n",
    "    'B': '1011',\n",
    "    'C': '1100',\n",
    "    'D': '1101',\n",
    "    'E': '1110',\n",
    "    'F': '1111'\n",
    "}\n",
    "\n",
    " \n",
    "def hex_to_b_string(hex_str):\n",
    "    return ''.join(lookup[char] for char in hex_str)\n",
    "\n",
    "s = hex_to_b_string(data)\n",
    "stats = {'versions': 0}\n",
    "b = Bitreader(s, stats)\n",
    "\n",
    "solution_2 = b.packet_dispatch()\n",
    "solution_1 = stats['versions']"
   ]
  },
  {
   "cell_type": "code",
   "execution_count": 4,
   "id": "b2140074",
   "metadata": {},
   "outputs": [
    {
     "name": "stdout",
     "output_type": "stream",
     "text": [
      "Solution 1: 847\n",
      "Solution 2: 333794664059\n"
     ]
    }
   ],
   "source": [
    "print(f\"Solution 1:\", solution_1)\n",
    "print(f\"Solution 2:\", solution_2)"
   ]
  },
  {
   "cell_type": "code",
   "execution_count": null,
   "id": "5d888e9b",
   "metadata": {},
   "outputs": [],
   "source": []
  }
 ],
 "metadata": {
  "kernelspec": {
   "display_name": "Python 3",
   "language": "python",
   "name": "python3"
  },
  "language_info": {
   "codemirror_mode": {
    "name": "ipython",
    "version": 3
   },
   "file_extension": ".py",
   "mimetype": "text/x-python",
   "name": "python",
   "nbconvert_exporter": "python",
   "pygments_lexer": "ipython3",
   "version": "3.8.5"
  }
 },
 "nbformat": 4,
 "nbformat_minor": 5
}
