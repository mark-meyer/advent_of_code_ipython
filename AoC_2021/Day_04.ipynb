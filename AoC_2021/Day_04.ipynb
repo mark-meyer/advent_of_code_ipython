{
 "cells": [
  {
   "cell_type": "code",
   "execution_count": 3,
   "metadata": {},
   "outputs": [],
   "source": [
    "import numpy as np"
   ]
  },
  {
   "cell_type": "markdown",
   "metadata": {},
   "source": [
    "## Example data "
   ]
  },
  {
   "cell_type": "code",
   "execution_count": 53,
   "metadata": {},
   "outputs": [],
   "source": [
    "numbers = (7,4,9,5,11,17,23,2,0,14,21,24,10,16,13,6,15,25,12,22,18,20,8,19,3,26,1)\n",
    "\n",
    "boards = np.ma.array([\n",
    "    [22, 13, 17, 11,  0,  8,  2, 23,  4, 24, 21,  9, 14, 16,  7,  6, 10,  3, 18,  5,  1, 12, 20, 15, 19],\n",
    "    [3, 15,  0,  2, 22,  9, 18, 13, 17,  5, 19,  8,  7, 25, 23, 20, 11, 10, 24,  4, 14, 21, 16, 12,  6],\n",
    "    [14, 21, 17, 24,  4, 10, 16, 15,  9, 19, 18,  8, 23, 26, 20, 22, 11, 13,  6,  5,  2,  0, 12,  3,  7]\n",
    "], mask=False).reshape([-1, 5, 5])\n"
   ]
  },
  {
   "cell_type": "markdown",
   "metadata": {},
   "source": [
    "## Masked Arrays\n",
    "\n",
    "See: https://numpy.org/doc/stable/reference/maskedarray.html\n",
    "\n",
    "`board` is a numpy masked array, with the maks initially set to all False values. This means no values are masked"
   ]
  },
  {
   "cell_type": "code",
   "execution_count": 54,
   "metadata": {},
   "outputs": [
    {
     "name": "stdout",
     "output_type": "stream",
     "text": [
      "[[[22 13 17 11 0]\n",
      "  [8 2 23 4 24]\n",
      "  [21 9 14 16 7]\n",
      "  [6 10 3 18 5]\n",
      "  [1 12 20 15 19]]\n",
      "\n",
      " [[3 15 0 2 22]\n",
      "  [9 18 13 17 5]\n",
      "  [19 8 7 25 23]\n",
      "  [20 11 10 24 4]\n",
      "  [14 21 16 12 6]]\n",
      "\n",
      " [[14 21 17 24 4]\n",
      "  [10 16 15 9 19]\n",
      "  [18 8 23 26 20]\n",
      "  [22 11 13 6 5]\n",
      "  [2 0 12 3 7]]]\n"
     ]
    }
   ],
   "source": [
    "print(boards)"
   ]
  },
  {
   "cell_type": "markdown",
   "metadata": {},
   "source": [
    "Given a number we can mask all values with that number in one call. The default for `copy` is True, but here we'll make the modification to the array in place to mark the cells with values from `[7, 4, 9, 5, 11)]`:"
   ]
  },
  {
   "cell_type": "code",
   "execution_count": 55,
   "metadata": {},
   "outputs": [
    {
     "name": "stdout",
     "output_type": "stream",
     "text": [
      "[[[22 13 17 -- 0]\n",
      "  [8 2 23 -- 24]\n",
      "  [21 -- 14 16 --]\n",
      "  [6 10 3 18 --]\n",
      "  [1 12 20 15 19]]\n",
      "\n",
      " [[3 15 0 2 22]\n",
      "  [-- 18 13 17 --]\n",
      "  [19 8 -- 25 23]\n",
      "  [20 -- 10 24 --]\n",
      "  [14 21 16 12 6]]\n",
      "\n",
      " [[14 21 17 24 --]\n",
      "  [10 16 15 -- 19]\n",
      "  [18 8 23 26 20]\n",
      "  [22 -- 13 6 --]\n",
      "  [2 0 12 3 --]]]\n"
     ]
    }
   ],
   "source": [
    "for n in numbers[:5]:\n",
    "    np.ma.masked_equal(boards, n, copy=False)\n",
    "\n",
    "print(boards)"
   ]
  },
  {
   "cell_type": "markdown",
   "metadata": {},
   "source": [
    "Once enough numbers are called we will have a winner which is noted by the entire row being masked:"
   ]
  },
  {
   "cell_type": "code",
   "execution_count": 56,
   "metadata": {},
   "outputs": [
    {
     "name": "stdout",
     "output_type": "stream",
     "text": [
      "[[[22 13 -- -- --]\n",
      "  [8 -- -- -- --]\n",
      "  [-- -- -- 16 --]\n",
      "  [6 10 3 18 --]\n",
      "  [1 12 20 15 19]]\n",
      "\n",
      " [[3 15 -- -- 22]\n",
      "  [-- 18 13 -- --]\n",
      "  [19 8 -- 25 --]\n",
      "  [20 -- 10 -- --]\n",
      "  [-- -- 16 12 6]]\n",
      "\n",
      " [[-- -- -- -- --]\n",
      "  [10 16 15 -- 19]\n",
      "  [18 8 -- 26 20]\n",
      "  [22 -- 13 6 --]\n",
      "  [-- -- 12 3 --]]]\n"
     ]
    }
   ],
   "source": [
    "for n in numbers[5:12]:\n",
    "    np.ma.masked_equal(boards, n, copy=False)\n",
    "\n",
    "print(boards)"
   ]
  },
  {
   "cell_type": "markdown",
   "metadata": {},
   "source": [
    "To find this board, we can ask where `all()` numbers are masked on a certain axis (2 for rows, 1 for columns), and discover that board at index 3 (row 0) is the winnder. The `mask` on a masked array is simply a booleans array, so we can pass it to `argwhere` to find where the True value is. It's possible more than one board wins, which is why this returns a 2-dimensional array. We are assuming for this that won't happen, so we grab the board with `boards[row_win[0][0]]`"
   ]
  },
  {
   "cell_type": "code",
   "execution_count": 57,
   "metadata": {},
   "outputs": [
    {
     "name": "stdout",
     "output_type": "stream",
     "text": [
      "[[True True True True True]\n",
      " [True True True True True]\n",
      " [-- True True True True]]\n",
      "Winning index: [[2 0]]\n",
      "Winning board:\n",
      "[[-- -- -- -- --]\n",
      " [10 16 15 -- 19]\n",
      " [18 8 -- 26 20]\n",
      " [22 -- 13 6 --]\n",
      " [-- -- 12 3 --]]\n"
     ]
    }
   ],
   "source": [
    "print(boards.all(axis=2))\n",
    "\n",
    "row_win = np.argwhere(boards.all(axis=2).mask)\n",
    "print(\"Winning index:\", row_win)\n",
    "winning_board = boards[row_win[0][0]]\n",
    "print(\"Winning board:\", winning_board, sep=\"\\n\")"
   ]
  },
  {
   "cell_type": "markdown",
   "metadata": {},
   "source": [
    "Now the payoff with masked arrays. Since we masked the values as they were called, we can just call `sum()` to get the sum of unmasked values, which is conveneiently what the problem asks for:"
   ]
  },
  {
   "cell_type": "code",
   "execution_count": 29,
   "metadata": {},
   "outputs": [
    {
     "data": {
      "text/plain": [
       "188"
      ]
     },
     "execution_count": 29,
     "metadata": {},
     "output_type": "execute_result"
    }
   ],
   "source": [
    "winning_board.sum()"
   ]
  },
  {
   "cell_type": "markdown",
   "metadata": {},
   "source": [
    "## Main Solution"
   ]
  },
  {
   "cell_type": "code",
   "execution_count": 255,
   "metadata": {},
   "outputs": [
    {
     "data": {
      "text/plain": [
       "masked_array(\n",
       "  data=[[57, 7, 8, 38, 31],\n",
       "        [17, 96, 5, 12, 18],\n",
       "        [58, 45, 81, 89, 4],\n",
       "        [73, 51, 93, 32, 10],\n",
       "        [74, 50, 26, 0, 24]],\n",
       "  mask=[[False, False, False, False, False],\n",
       "        [False, False, False, False, False],\n",
       "        [False, False, False, False, False],\n",
       "        [False, False, False, False, False],\n",
       "        [False, False, False, False, False]],\n",
       "  fill_value=999999)"
      ]
     },
     "execution_count": 255,
     "metadata": {},
     "output_type": "execute_result"
    }
   ],
   "source": [
    "import os\n",
    "from pathlib import Path\n",
    "import numpy as np\n",
    "\n",
    "\n",
    "FOLDER = Path(os.path.dirname(os.path.realpath(\"__file__\"))) / 'data'\n",
    "in_file = 'day4.txt'\n",
    "\n",
    "with open(FOLDER / in_file) as f:\n",
    "    numbers = np.loadtxt([next(f)], delimiter=',', dtype=int)\n",
    "    boards = np.ma.array(np.loadtxt(f, dtype=int).reshape(-1, 5, 5), mask=False)\n",
    "\n",
    "boards[0]"
   ]
  },
  {
   "cell_type": "markdown",
   "metadata": {},
   "source": [
    "## Part One"
   ]
  },
  {
   "cell_type": "code",
   "execution_count": 285,
   "metadata": {},
   "outputs": [
    {
     "name": "stdout",
     "output_type": "stream",
     "text": [
      "winning board\n",
      "[[[86 -- 77 -- 87]\n",
      "  [79 -- 52 17 20]\n",
      "  [30 -- 48 -- --]\n",
      "  [25 -- 13 9 47]\n",
      "  [45 -- 97 15 59]]]\n",
      "Solution 1: 58838\n"
     ]
    }
   ],
   "source": [
    "def solution_one(boards, numbers):\n",
    "    for n in numbers:\n",
    "        np.ma.masked_equal(boards, n, copy=False)\n",
    "\n",
    "        win, *_ = np.where(\n",
    "            np.any(\n",
    "                boards.all(axis=1).mask | boards.all(axis=2).mask,\n",
    "                axis = 1\n",
    "            )\n",
    "        )\n",
    "        if win.size:\n",
    "            board = boards[win]\n",
    "            print(\"winning board\", board, sep='\\n')\n",
    "            return board.sum() * n\n",
    "\n",
    "print(\"Solution 1:\", solution_one(boards.copy(), numbers))"
   ]
  },
  {
   "cell_type": "markdown",
   "metadata": {},
   "source": [
    "## Part Two\n",
    "\n",
    "This is the same idea. The difference is that we now keep track of the boards still playing. This makes it possible to only ask for winners from currently active players by using `playing` as a mask:\n",
    "\n",
    "`np.argwhere(boards.all(axis=1).mask & playing[:, np.newaxis])`\n",
    "\n",
    "Then keep track of the last solution.\n",
    "\n",
    "Since it's possible for more than board to win in a round, mark more than one board as no longer playing. `numpy.put()` is good for this passing it the flattened winning indices:\n",
    "\n",
    "`np.put(playing, win.ravel(), False)`\n",
    "\n",
    "The problem doesn't make sense if more than one board can be the *last* board to win, so this ignores that possibility.\n"
   ]
  },
  {
   "cell_type": "code",
   "execution_count": 286,
   "metadata": {},
   "outputs": [
    {
     "name": "stdout",
     "output_type": "stream",
     "text": [
      "Last place:\n",
      "[[[17 -- -- -- 76]\n",
      "  [-- -- -- 29 --]\n",
      "  [1 -- -- -- --]\n",
      "  [-- 13 -- -- --]\n",
      "  [-- -- -- -- --]]]\n"
     ]
    },
    {
     "data": {
      "text/plain": [
       "6256"
      ]
     },
     "execution_count": 286,
     "metadata": {},
     "output_type": "execute_result"
    }
   ],
   "source": [
    "def solution_two(boards, numbers):\n",
    "    playing = np.ones(boards.shape[0], dtype=bool)\n",
    "    last_solution = None\n",
    "\n",
    "    for n in numbers:\n",
    "        np.ma.masked_equal(boards, n, copy=False)\n",
    "        win, *_ = np.where(\n",
    "            np.any(\n",
    "                playing[:, np.newaxis] & (boards.all(axis=1).mask | boards.all(axis=2).mask),\n",
    "                axis = 1\n",
    "            )\n",
    "        )\n",
    "        if win.size:\n",
    "            board = boards[win]\n",
    "            np.put(playing, win.ravel(), False)\n",
    "            last_solution = board.copy(), n\n",
    "        \n",
    "    board, n = last_solution\n",
    "    print(f\"Last place:\", board, sep=\"\\n\")\n",
    "    return board.sum() * n\n",
    "\n",
    "solution_two(boards.copy(), numbers)\n"
   ]
  },
  {
   "cell_type": "markdown",
   "metadata": {},
   "source": [
    "## Part Two Working Backward \n",
    "\n",
    "Since the number list has all 100 numbers, you can work backward through the list until a board is discovered that is not a winner. However, the logic of `all(any, any)` with the inversed mask is little mind warping (at least for me). Before summing the numbers invert the mask and subtract the last number because this is the state right before playing."
   ]
  },
  {
   "cell_type": "code",
   "execution_count": 287,
   "metadata": {},
   "outputs": [
    {
     "name": "stdout",
     "output_type": "stream",
     "text": [
      "Last place before 46 is drawn:\n",
      "[[[17 -- -- -- 76]\n",
      "  [-- -- -- 29 --]\n",
      "  [1 -- -- -- --]\n",
      "  [-- 13 -- -- --]\n",
      "  [-- -- 46 -- --]]]\n"
     ]
    },
    {
     "data": {
      "text/plain": [
       "6256"
      ]
     },
     "execution_count": 287,
     "metadata": {},
     "output_type": "execute_result"
    }
   ],
   "source": [
    "def solution_two(boards, numbers):\n",
    "    for n in reversed(numbers):\n",
    "        np.ma.masked_equal(boards, n, copy=False)\n",
    "        non_winner = np.all(\n",
    "            np.any(np.ma.getmask(boards), axis=1) & \\\n",
    "            np.any(np.ma.getmask(boards), axis=2), \n",
    "            axis=1\n",
    "        )\n",
    "        found, *_ = np.where(non_winner)\n",
    "        if found.size:\n",
    "            last_board = boards[found]\n",
    "            last_board.mask = ~last_board.mask\n",
    "            solution = (last_board.sum() - n) * n\n",
    "            print(f\"Last place before {n} is drawn:\", last_board, sep=\"\\n\")\n",
    "            return solution\n",
    "\n",
    "solution_two(boards.copy(), numbers)"
   ]
  },
  {
   "cell_type": "code",
   "execution_count": null,
   "metadata": {},
   "outputs": [],
   "source": []
  }
 ],
 "metadata": {
  "kernelspec": {
   "display_name": "Python 3",
   "language": "python",
   "name": "python3"
  },
  "language_info": {
   "codemirror_mode": {
    "name": "ipython",
    "version": 3
   },
   "file_extension": ".py",
   "mimetype": "text/x-python",
   "name": "python",
   "nbconvert_exporter": "python",
   "pygments_lexer": "ipython3",
   "version": "3.8.5"
  }
 },
 "nbformat": 4,
 "nbformat_minor": 2
}
