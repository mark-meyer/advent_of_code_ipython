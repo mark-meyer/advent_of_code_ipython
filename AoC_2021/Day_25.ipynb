{
 "cells": [
  {
   "cell_type": "code",
   "execution_count": 617,
   "id": "190be68b",
   "metadata": {},
   "outputs": [],
   "source": [
    "import numpy as np"
   ]
  },
  {
   "cell_type": "code",
   "execution_count": 618,
   "id": "cccc73b1",
   "metadata": {},
   "outputs": [
    {
     "data": {
      "text/plain": [
       "array([[2, 1, 0, ..., 1, 0, 0],\n",
       "       [2, 1, 0, ..., 0, 2, 2],\n",
       "       [0, 0, 0, ..., 0, 0, 1],\n",
       "       ...,\n",
       "       [0, 0, 1, ..., 1, 1, 0],\n",
       "       [2, 1, 2, ..., 1, 0, 1],\n",
       "       [0, 1, 0, ..., 2, 0, 0]])"
      ]
     },
     "execution_count": 618,
     "metadata": {},
     "output_type": "execute_result"
    }
   ],
   "source": [
    "with open('data_25.txt') as f:\n",
    "    lines = []\n",
    "    for line in map(str.strip, f):\n",
    "        line = line.replace('.', '0').replace('>', '1').replace('v','2')\n",
    "        lines.append(list(line))\n",
    "        \n",
    "grid = np.array(lines, dtype=int)\n",
    "grid"
   ]
  },
  {
   "cell_type": "code",
   "execution_count": 619,
   "id": "d602e965",
   "metadata": {},
   "outputs": [
    {
     "name": "stdout",
     "output_type": "stream",
     "text": [
      "Solution:  513\n"
     ]
    }
   ],
   "source": [
    "def move(grid):\n",
    "    can_move_east = (grid == 1) & (np.roll(grid, -1, axis=1) == 0)\n",
    "    grid = grid + np.roll(can_move_east, 1, axis=1)\n",
    "    grid = grid - can_move_east\n",
    "    \n",
    "    can_move_south = (grid == 2) & (np.roll(grid, -1, axis=0) == 0) \n",
    "    grid = grid + np.roll(can_move_south, 1, axis=0) * 2\n",
    "    grid = grid - can_move_south * 2\n",
    "\n",
    "    return grid\n",
    "\n",
    "def moves_until_stable(grid):\n",
    "    i = 1\n",
    "    while True:   \n",
    "        next_grid = move(grid)\n",
    "\n",
    "        if np.array_equal(next_grid, grid):\n",
    "            return i\n",
    "        grid = next_grid\n",
    "        i += 1\n",
    "\n",
    "moves = moves_until_stable(grid)\n",
    "print(\"Solution: \", moves)"
   ]
  },
  {
   "cell_type": "code",
   "execution_count": null,
   "id": "6789a900",
   "metadata": {},
   "outputs": [],
   "source": []
  }
 ],
 "metadata": {
  "kernelspec": {
   "display_name": "Python 3 (ipykernel)",
   "language": "python",
   "name": "python3"
  },
  "language_info": {
   "codemirror_mode": {
    "name": "ipython",
    "version": 3
   },
   "file_extension": ".py",
   "mimetype": "text/x-python",
   "name": "python",
   "nbconvert_exporter": "python",
   "pygments_lexer": "ipython3",
   "version": "3.8.5"
  }
 },
 "nbformat": 4,
 "nbformat_minor": 5
}
