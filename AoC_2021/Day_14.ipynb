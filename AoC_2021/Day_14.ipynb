{
 "cells": [
  {
   "cell_type": "code",
   "execution_count": 1,
   "id": "62cbad8e",
   "metadata": {},
   "outputs": [
    {
     "data": {
      "text/plain": [
       "('VPPHOPVVSFSVFOCOSBKF', 'B')"
      ]
     },
     "execution_count": 1,
     "metadata": {},
     "output_type": "execute_result"
    }
   ],
   "source": [
    "import os\n",
    "from pathlib import Path\n",
    "from collections import Counter\n",
    "\n",
    "FOLDER = Path(os.path.dirname(os.path.realpath(\"__file__\"))) / 'data'\n",
    "in_file = 'day14.txt'\n",
    "\n",
    "with open(FOLDER / in_file) as f:\n",
    "    template = f.readline().strip()\n",
    "    next(f)\n",
    "    subs = dict(s.strip().split(' -> ') for s in f)\n",
    "    \n",
    "template, subs['CO']"
   ]
  },
  {
   "cell_type": "markdown",
   "id": "49d866f1",
   "metadata": {},
   "source": [
    "#### Keeping track of count of each pair\n",
    "\n",
    "The input string is divided into pairs: `VP`, `PP`, `PH`, etc.\n",
    "\n",
    "On each iteratation each of those pairs contributes two new pairs. The goal is to track only the counts of the pairs. For example, if our initial data has 2 `VP -> B` pairs, the next iteration will have 2 `VB` and 2 `BP` pairs. The counts will go from `{VP: 2}` to `{VB: 2, BP: 2}`. \n",
    "\n",
    "At the end be mindful that the second letter in each pair occurs twice. So `{VB: 2, BP: 2}` only represents 2 B characters not 4 becuase each`VP` was transformed into `VBP`. When counting letters, just count the first of each pair. This will leave the final letter uncounted, so add it back."
   ]
  },
  {
   "cell_type": "code",
   "execution_count": 24,
   "id": "1b32a87a",
   "metadata": {},
   "outputs": [],
   "source": [
    "# The last character of the template is always the last character after \n",
    "# substitutions. This character will be counted one too few times in the code below\n",
    "\n",
    "LAST_CHAR = template[-1]\n",
    "\n",
    "# initial pair counts\n",
    "initial_counts = Counter(''.join(p) for p in zip(template, template[1:]))\n",
    "\n",
    "# map each letter pair to the two pairs it creates\n",
    "# i.e: {'CO': ('CB', 'BO'),...}\n",
    "pair_lookup = {k: (k[0]+v, v+k[1]) for k,v in subs.items()}\n",
    "\n",
    "def increase_counts(current_counts, lookup):\n",
    "    ''''\n",
    "    On each iteration the counts of the values will increase by\n",
    "    the number of times we have that pair in current_counts.\n",
    "    '''\n",
    "    counter = Counter()\n",
    "    \n",
    "    for pair,current_count in current_counts.items():\n",
    "        for new_pair in lookup[pair]:\n",
    "            counter[new_pair] += current_count\n",
    "    \n",
    "    return counter\n",
    "\n",
    "\n",
    "def run_substitutions(n, counts, lookup):\n",
    "    '''Iterate n times updating counts'''\n",
    "    for _ in range(n):\n",
    "        counts = increase_counts(counts, lookup)\n",
    "    return counts\n",
    "\n",
    "\n",
    "def count_leters_from_pairs(counts, LAST_CHAR):\n",
    "    '''\n",
    "    The count of the letters will be the first of each pair \n",
    "    because the second in each pair is repeated. This leaves\n",
    "    the final letter uncounted, so add it back\n",
    "    '''\n",
    "    total_counts = Counter()\n",
    "\n",
    "    for (letter1, letter2), total in counts.items():\n",
    "        total_counts[letter1] += total\n",
    "    total_counts[LAST_CHAR] += 1\n",
    "    \n",
    "    return total_counts.most_common(1)[0][1], total_counts.most_common()[-1][1]\n",
    "\n"
   ]
  },
  {
   "cell_type": "markdown",
   "id": "0effb4dc",
   "metadata": {},
   "source": [
    "### Problem One\n",
    "Run 10 times"
   ]
  },
  {
   "cell_type": "code",
   "execution_count": 25,
   "id": "f48cac68",
   "metadata": {},
   "outputs": [
    {
     "data": {
      "text/plain": [
       "2233"
      ]
     },
     "execution_count": 25,
     "metadata": {},
     "output_type": "execute_result"
    }
   ],
   "source": [
    "pair_counts = run_substitutions(10, initial_counts, pair_lookup)\n",
    "most, least = count_leters_from_pairs(pair_counts, LAST_CHAR)\n",
    "most - least"
   ]
  },
  {
   "cell_type": "markdown",
   "id": "067c3441",
   "metadata": {},
   "source": [
    "### Problem Two\n",
    "Run 40 times"
   ]
  },
  {
   "cell_type": "code",
   "execution_count": 36,
   "id": "5a3ef9e3",
   "metadata": {},
   "outputs": [
    {
     "data": {
      "text/plain": [
       "2884513602164"
      ]
     },
     "execution_count": 36,
     "metadata": {},
     "output_type": "execute_result"
    }
   ],
   "source": [
    "pair_counts = run_substitutions(40, initial_counts, pair_lookup)\n",
    "most, least = count_leters_from_pairs(pair_counts, LAST_CHAR)\n",
    "most - least"
   ]
  },
  {
   "cell_type": "code",
   "execution_count": null,
   "id": "13404d14",
   "metadata": {},
   "outputs": [],
   "source": []
  }
 ],
 "metadata": {
  "kernelspec": {
   "display_name": "Python 3",
   "language": "python",
   "name": "python3"
  },
  "language_info": {
   "codemirror_mode": {
    "name": "ipython",
    "version": 3
   },
   "file_extension": ".py",
   "mimetype": "text/x-python",
   "name": "python",
   "nbconvert_exporter": "python",
   "pygments_lexer": "ipython3",
   "version": "3.8.5"
  }
 },
 "nbformat": 4,
 "nbformat_minor": 5
}
