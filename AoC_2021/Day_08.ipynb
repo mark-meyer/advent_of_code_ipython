{
 "cells": [
  {
   "cell_type": "code",
   "execution_count": 1,
   "id": "6d952c6d",
   "metadata": {},
   "outputs": [],
   "source": [
    "import os\n",
    "from pathlib import Path\n",
    "from collections import Counter\n",
    "\n",
    "FOLDER = Path(os.path.dirname(os.path.realpath(\"__file__\"))) / 'data'\n",
    "in_file = 'day8.txt'\n",
    "\n",
    "with open(FOLDER / in_file) as f:\n",
    "    data = [s.strip().split(' | ') for s in f]\n"
   ]
  },
  {
   "cell_type": "code",
   "execution_count": 2,
   "id": "4a8f55c1",
   "metadata": {},
   "outputs": [],
   "source": [
    "from collections import Counter\n",
    "\n",
    "'''\n",
    "Each display digit expressed as an 8 bit int based \n",
    "on which segment is lit up\n",
    "'''\n",
    "bits = {\n",
    "    0b1110111: '0',\n",
    "    0b0010010: '1',\n",
    "    0b1011101: '2',\n",
    "    0b1011011: '3',\n",
    "    0b0111010: '4',\n",
    "    0b1101011: '5',\n",
    "    0b1101111: '6',\n",
    "    0b1010010: '7',\n",
    "    0b1111111: '8',\n",
    "    0b1111011: '9'\n",
    "}\n",
    "\n",
    "def rev_dict(l):\n",
    "    '''Map character counts to lists of characters'''\n",
    "    counts = Counter(''.join(l))\n",
    "    res = {}\n",
    "    for k, v in counts.items():\n",
    "        res.setdefault(v, []).append(k)\n",
    "    return res\n",
    "\n",
    "def map_wires(l):\n",
    "    '''\n",
    "    Determine which input character lights up which segment.\n",
    "    Return a dict mapping character to the bit representing\n",
    "    segment.\n",
    "\n",
    "    The info from two sets of letter counts is enough to decode\n",
    "    all letter to wire mappings\n",
    "    '''\n",
    "    l = l.split()\n",
    "    \n",
    "    # letter counts for all tokens\n",
    "    counts = rev_dict(l)\n",
    "    # letter counts for tokens except '4'\n",
    "    counts_no_4 = rev_dict([s for s in l if len(s) != 4])\n",
    "\n",
    "    # segments b, d, e, f have unique counts in one of the dicts\n",
    "    bits = {\n",
    "        64: None,              #a\n",
    "        32: counts[6][0],      #b\n",
    "        16: None,              #c\n",
    "        8:  counts_no_4[6][0], #d\n",
    "        4:  counts[4][0],      #e\n",
    "        2:  counts[9][0],      #f\n",
    "        1:  None               #g\n",
    "    }\n",
    "    # deduce remaining three\n",
    "    bits[64] = next(c for c in counts_no_4[8] if c != bits[2])  #a\n",
    "    bits[16] = next(c for c in counts[8] if c != bits[64])      #c\n",
    "    bits[1]  = next(c for c in counts_no_4[7] if c != bits[16]) #g \n",
    "\n",
    "    return {v:k for k, v in bits.items()}\n",
    "\n",
    "def word_to_digit(word, wires):\n",
    "    '''\n",
    "    Given a 'word' from the cypher text, produce the digit it represents.\n",
    "    `wires` is the mapping of bits to segments from map_wires.\n",
    "    '''\n",
    "    segment_total = sum(wires[c] for c in word)\n",
    "    return bits[segment_total]\n",
    "\n",
    "def decode_input(s, wires):\n",
    "    '''\n",
    "    For each token in s get the digit it represents. Assemble\n",
    "    them and return the str -> int conversion\n",
    "    '''\n",
    "    tokens = s.split()\n",
    "    s = ''.join([word_to_digit(t, wires) for t in tokens])\n",
    "    return int(s)"
   ]
  },
  {
   "cell_type": "code",
   "execution_count": 3,
   "id": "38782dde",
   "metadata": {},
   "outputs": [
    {
     "data": {
      "text/plain": [
       "548"
      ]
     },
     "execution_count": 3,
     "metadata": {},
     "output_type": "execute_result"
    }
   ],
   "source": [
    "def solution_one(data):\n",
    "    count = 0\n",
    "    for key, cypher in data:\n",
    "        count += len([s for s in cypher.split() if len(s) in [2, 3, 4, 7]])\n",
    "    \n",
    "    return count\n",
    "\n",
    "solution_one(data)"
   ]
  },
  {
   "cell_type": "code",
   "execution_count": 4,
   "id": "dbeeba30",
   "metadata": {},
   "outputs": [
    {
     "name": "stdout",
     "output_type": "stream",
     "text": [
      "1074888\n"
     ]
    }
   ],
   "source": [
    "def solution_two(data):\n",
    "    total = 0\n",
    "    for key, cypher in data:\n",
    "        wires = map_wires(key)\n",
    "        total += decode_input(cypher, wires)\n",
    "    return total\n",
    "\n",
    "print(solution_two(data))\n"
   ]
  },
  {
   "cell_type": "code",
   "execution_count": 34,
   "id": "4404d6a7",
   "metadata": {},
   "outputs": [
    {
     "name": "stdout",
     "output_type": "stream",
     "text": [
      "4.58 ms ± 26.6 µs per loop (mean ± std. dev. of 7 runs, 100 loops each)\n"
     ]
    }
   ],
   "source": [
    "%timeit solution_two(data)"
   ]
  },
  {
   "cell_type": "code",
   "execution_count": null,
   "id": "5d3d0462",
   "metadata": {},
   "outputs": [],
   "source": []
  }
 ],
 "metadata": {
  "kernelspec": {
   "display_name": "Python 3",
   "language": "python",
   "name": "python3"
  },
  "language_info": {
   "codemirror_mode": {
    "name": "ipython",
    "version": 3
   },
   "file_extension": ".py",
   "mimetype": "text/x-python",
   "name": "python",
   "nbconvert_exporter": "python",
   "pygments_lexer": "ipython3",
   "version": "3.8.5"
  }
 },
 "nbformat": 4,
 "nbformat_minor": 5
}
