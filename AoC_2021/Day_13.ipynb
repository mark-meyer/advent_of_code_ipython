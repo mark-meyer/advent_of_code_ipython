{
 "cells": [
  {
   "cell_type": "code",
   "execution_count": 3,
   "id": "10beabf1",
   "metadata": {},
   "outputs": [],
   "source": [
    "%matplotlib inline\n",
    "import os\n",
    "from pathlib import Path\n",
    "import numpy as np\n",
    "import re\n",
    "import matplotlib.pyplot as plt\n",
    "\n",
    "FOLDER = Path(os.path.dirname(os.path.realpath(\"__file__\"))) / 'data'\n",
    "in_file = 'day13.txt'\n",
    "\n",
    "with open(FOLDER / in_file) as f:\n",
    "    data = f.read()\n",
    "\n",
    "dots = np.array(re.findall(r\"(\\d+),(\\d+)\", data), dtype=int)\n",
    "flips = np.array([[b, 0] if a=='x' else [0,b] for a, b in re.findall(r\"(\\w+)=(\\d+)\", data)], dtype=int)\n"
   ]
  },
  {
   "cell_type": "code",
   "execution_count": 4,
   "id": "7536965e",
   "metadata": {},
   "outputs": [
    {
     "name": "stdout",
     "output_type": "stream",
     "text": [
      "solution one: 701\n"
     ]
    },
    {
     "data": {
      "text/plain": [
       "<matplotlib.image.AxesImage at 0x7feff0466250>"
      ]
     },
     "execution_count": 4,
     "metadata": {},
     "output_type": "execute_result"
    },
    {
     "data": {
      "image/png": "[encoded data removed]",
      "text/plain": [
       "<Figure size 432x288 with 1 Axes>"
      ]
     },
     "metadata": {
      "needs_background": "light"
     },
     "output_type": "display_data"
    }
   ],
   "source": [
    "def flip_coords(dots, flips):\n",
    "    dots = dots.copy()\n",
    "    for p in flips:\n",
    "        dots = np.abs(np.abs(p - dots) - p)\n",
    "    return dots\n",
    "\n",
    "def make_matrix(dots):\n",
    "    matrix = np.zeros(np.max(dots, axis=0)+1).T\n",
    "    matrix[dots[:, 1], dots[:, 0]] = 1\n",
    "    return matrix\n",
    "\n",
    "# Do a single flip and count the unique points\n",
    "# after the transform.\n",
    "first = flip_coords(dots, flips[:1])\n",
    "print(\"solution one:\", np.unique(first, axis=0).shape[0])\n",
    "\n",
    "# flip all the input coordinates \n",
    "# for each fold instruction\n",
    "flipped = flip_coords(dots, flips)\n",
    "\n",
    "# arange them into a matrix\n",
    "M = make_matrix(flipped)\n",
    "plt.imshow(M)"
   ]
  },
  {
   "cell_type": "code",
   "execution_count": 6,
   "id": "db2a3297",
   "metadata": {},
   "outputs": [
    {
     "data": {
      "text/plain": [
       "(6, 39)"
      ]
     },
     "execution_count": 6,
     "metadata": {},
     "output_type": "execute_result"
    }
   ],
   "source": [
    "M.shape"
   ]
  },
  {
   "cell_type": "code",
   "execution_count": null,
   "id": "d5298192",
   "metadata": {},
   "outputs": [],
   "source": []
  }
 ],
 "metadata": {
  "kernelspec": {
   "display_name": "Python 3",
   "language": "python",
   "name": "python3"
  },
  "language_info": {
   "codemirror_mode": {
    "name": "ipython",
    "version": 3
   },
   "file_extension": ".py",
   "mimetype": "text/x-python",
   "name": "python",
   "nbconvert_exporter": "python",
   "pygments_lexer": "ipython3",
   "version": "3.8.5"
  }
 },
 "nbformat": 4,
 "nbformat_minor": 5
}
