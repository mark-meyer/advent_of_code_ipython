{
 "cells": [
  {
   "cell_type": "code",
   "execution_count": 1,
   "id": "c91250e5",
   "metadata": {},
   "outputs": [],
   "source": [
    "import os\n",
    "from pathlib import Path\n",
    "from collections import defaultdict\n",
    "\n",
    "FOLDER = Path(os.path.dirname(os.path.realpath(\"__file__\"))) / 'data'\n",
    "\n",
    "in_file = 'day12.txt'\n",
    "\n",
    "with open(FOLDER / in_file) as f:\n",
    "    data = f.read().splitlines()  "
   ]
  },
  {
   "cell_type": "code",
   "execution_count": 2,
   "id": "796b4f38",
   "metadata": {},
   "outputs": [],
   "source": [
    "'''\n",
    "It's a non-directed graph, need to add \n",
    "edge for both direction. But don't bother\n",
    "going back to start or starting at end.\n",
    "'''\n",
    "\n",
    "graph = defaultdict(set)\n",
    "\n",
    "for line in data:\n",
    "    source, dest = line.split('-')\n",
    "    \n",
    "    if dest != 'start' and source != 'end':\n",
    "        graph[source].add(dest)\n",
    "\n",
    "    if source !='start' and dest!='end':\n",
    "        graph[dest].add(source)"
   ]
  },
  {
   "cell_type": "markdown",
   "id": "7b91effa",
   "metadata": {},
   "source": [
    "### Problem One"
   ]
  },
  {
   "cell_type": "code",
   "execution_count": 3,
   "id": "bc459ce0",
   "metadata": {
    "scrolled": true
   },
   "outputs": [
    {
     "name": "stdout",
     "output_type": "stream",
     "text": [
      "solution 1: 3410\n"
     ]
    }
   ],
   "source": [
    "def problem_one(graph, symbol, seen=None):\n",
    "    if seen is None:\n",
    "        seen = set()\n",
    "    if symbol == 'end':\n",
    "        yield 1\n",
    "        return\n",
    "    \n",
    "    for node in graph[symbol] - seen:\n",
    "        local_seen = set() if node.isupper() else set([node])\n",
    "        yield sum(problem_one(graph, node, seen | local_seen))\n",
    "        \n",
    "paths = problem_one(graph, 'start')  \n",
    "print(f\"solution 1: {sum(paths)}\")\n"
   ]
  },
  {
   "cell_type": "markdown",
   "id": "8d514a93",
   "metadata": {},
   "source": [
    "### Problem Two"
   ]
  },
  {
   "cell_type": "code",
   "execution_count": 18,
   "id": "83f9ceaf",
   "metadata": {},
   "outputs": [
    {
     "name": "stdout",
     "output_type": "stream",
     "text": [
      "solution 2: 98796\n"
     ]
    }
   ],
   "source": [
    "def problem_two(graph, symbol, seen=None, twice=False):\n",
    "    if seen is None:\n",
    "        seen = set()\n",
    "    if symbol == 'end':\n",
    "        yield 1\n",
    "        return\n",
    "\n",
    "    for node in graph[symbol]:\n",
    "        local_twice = twice\n",
    "        local_seen = set()\n",
    "        if node.islower():\n",
    "            local_seen.add(node)\n",
    "            if node in seen:\n",
    "                if local_twice:\n",
    "                    continue\n",
    "                local_twice = True\n",
    "            \n",
    "        yield sum(problem_two(graph, node, seen | local_seen, local_twice))\n",
    "        \n",
    "paths = problem_two(graph, 'start')\n",
    "print(f\"solution 2: {sum(paths)}\")"
   ]
  },
  {
   "cell_type": "code",
   "execution_count": 7,
   "id": "432aa88f",
   "metadata": {},
   "outputs": [
    {
     "name": "stdout",
     "output_type": "stream",
     "text": [
      "527 ms ± 2.93 ms per loop (mean ± std. dev. of 7 runs, 1 loop each)\n"
     ]
    }
   ],
   "source": [
    "%timeit sum(problem_two(graph, 'start')) #... hmm let's try a cache"
   ]
  },
  {
   "cell_type": "markdown",
   "id": "ae88f9d1",
   "metadata": {},
   "source": [
    "### Problem Two with lru_cache"
   ]
  },
  {
   "cell_type": "code",
   "execution_count": 38,
   "id": "83b7b6bf",
   "metadata": {},
   "outputs": [],
   "source": [
    "from functools import lru_cache\n",
    "\n",
    "# graph can't be in the args since \n",
    "# a dict isn't hashable\n",
    "graph = graph\n",
    "\n",
    "@lru_cache\n",
    "def problem_two_cache(symbol, seen=None, twice=False):\n",
    "    if seen is None:\n",
    "        seen = frozenset()\n",
    "    if symbol == 'end':\n",
    "        return 1\n",
    "\n",
    "    total = 0\n",
    "    for node in graph[symbol]:\n",
    "        local_twice = twice\n",
    "        local_seen = set()\n",
    "        if node.islower():\n",
    "            local_seen.add(node)\n",
    "            if node in seen:\n",
    "                if local_twice:\n",
    "                    continue\n",
    "                local_twice = True\n",
    "            \n",
    "        total += problem_two_cache(node, frozenset(seen | local_seen), local_twice)\n",
    "    return total"
   ]
  },
  {
   "cell_type": "code",
   "execution_count": 41,
   "id": "06fc7067",
   "metadata": {},
   "outputs": [
    {
     "name": "stdout",
     "output_type": "stream",
     "text": [
      "72.7 ns ± 0.607 ns per loop (mean ± std. dev. of 7 runs, 10000000 loops each)\n"
     ]
    }
   ],
   "source": [
    "%timeit problem_two_cache('start') # ...better...but too good. lru_cache is probably not cleared betweeen runs"
   ]
  },
  {
   "cell_type": "code",
   "execution_count": 39,
   "id": "01ae7418",
   "metadata": {},
   "outputs": [
    {
     "data": {
      "text/plain": [
       "98796"
      ]
     },
     "execution_count": 39,
     "metadata": {},
     "output_type": "execute_result"
    }
   ],
   "source": [
    "problem_two_cache('start')"
   ]
  },
  {
   "cell_type": "code",
   "execution_count": 42,
   "id": "1bd73137",
   "metadata": {},
   "outputs": [
    {
     "data": {
      "text/plain": [
       "CacheInfo(hits=81116644, misses=4674, maxsize=128, currsize=128)"
      ]
     },
     "execution_count": 42,
     "metadata": {},
     "output_type": "execute_result"
    }
   ],
   "source": [
    "problem_two_cache.cache_info() # all those hits are from the timeit test"
   ]
  },
  {
   "cell_type": "code",
   "execution_count": 43,
   "id": "01fb8116",
   "metadata": {},
   "outputs": [
    {
     "data": {
      "text/plain": [
       "98796"
      ]
     },
     "execution_count": 43,
     "metadata": {},
     "output_type": "execute_result"
    }
   ],
   "source": [
    "def run_and_clear():\n",
    "    problem_two_cache.cache_clear()\n",
    "    return problem_two_cache('start')\n"
   ]
  },
  {
   "cell_type": "code",
   "execution_count": 44,
   "id": "053f5cbf",
   "metadata": {},
   "outputs": [
    {
     "name": "stdout",
     "output_type": "stream",
     "text": [
      "10.3 ms ± 114 µs per loop (mean ± std. dev. of 7 runs, 100 loops each)\n"
     ]
    }
   ],
   "source": [
    "%timeit run_and_clear() # maybe closer to the truth?"
   ]
  }
 ],
 "metadata": {
  "kernelspec": {
   "display_name": "Python 3",
   "language": "python",
   "name": "python3"
  },
  "language_info": {
   "codemirror_mode": {
    "name": "ipython",
    "version": 3
   },
   "file_extension": ".py",
   "mimetype": "text/x-python",
   "name": "python",
   "nbconvert_exporter": "python",
   "pygments_lexer": "ipython3",
   "version": "3.8.5"
  }
 },
 "nbformat": 4,
 "nbformat_minor": 5
}
