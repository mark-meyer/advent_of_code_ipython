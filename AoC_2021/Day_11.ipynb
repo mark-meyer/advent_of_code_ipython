{
 "cells": [
  {
   "cell_type": "code",
   "execution_count": 1,
   "id": "32d43c61",
   "metadata": {},
   "outputs": [],
   "source": [
    "import os\n",
    "from pathlib import Path\n",
    "from collections import namedtuple\n",
    "import threading, queue\n",
    "\n",
    "FOLDER = Path(os.path.dirname(os.path.realpath(\"__file__\"))) / 'data'\n",
    "in_file = 'day11.txt'"
   ]
  },
  {
   "cell_type": "code",
   "execution_count": 2,
   "id": "c9965d77",
   "metadata": {},
   "outputs": [],
   "source": [
    "Flash = namedtuple(\"flash\", ('destination', 'name'), defaults=('flash',))\n",
    "Tick = namedtuple(\"tick\", ('destination', 'name'), defaults=('tick', ))\n",
    "\n",
    "q = queue.Queue()\n",
    "\n",
    "def task_runner():\n",
    "    while True:\n",
    "        event = q.get()\n",
    "        event.destination.send(event)\n",
    "        q.task_done()\n",
    "\n",
    "\n",
    "class Listener:\n",
    "    def __init__(self):\n",
    "        self.events = {}\n",
    "        \n",
    "    def register_event(self, name, func):\n",
    "        self.events[name] = func\n",
    "        \n",
    "    def send(self, event):\n",
    "        name = event.name\n",
    "        if name in self.events:\n",
    "            self.events[name]()\n",
    "    \n",
    "            \n",
    "class Octo(Listener):\n",
    "    def __init__(self, energy, scheduler):\n",
    "        super().__init__()\n",
    "        self.energy = int(energy)\n",
    "        self.flashcount = 0\n",
    "        self.scheduler = scheduler\n",
    "        self.flashing = False\n",
    "        self.subscribers = []\n",
    "        self.register_event('tick', self.tick)\n",
    "        self.register_event('flash', self.receive_flash)\n",
    "    \n",
    "    def subscribe(self, other):\n",
    "        self.subscribers.append(other)\n",
    "    \n",
    "    def increase_energy(self):\n",
    "        if self.energy == 9:\n",
    "            self.flash()\n",
    "            self.energy = -1\n",
    "        self.energy += 1\n",
    "   \n",
    "    def flash(self):\n",
    "        if not self.flashing:\n",
    "            self.flashcount += 1\n",
    "            self.flashing = True\n",
    "            for octo in self.subscribers:\n",
    "                self.scheduler.put(Flash(octo))\n",
    "\n",
    "    def receive_flash(self):\n",
    "        if not self.flashing:\n",
    "            self.increase_energy()\n",
    "\n",
    "    def tick(self):\n",
    "        self.flashing = False\n",
    "        self.increase_energy()\n",
    "        \n",
    "    def __repr__(self):\n",
    "        return f\"{self.energy}\""
   ]
  },
  {
   "cell_type": "code",
   "execution_count": 5,
   "id": "2673f5c5",
   "metadata": {},
   "outputs": [],
   "source": [
    "with open(FOLDER / in_file) as f:            \n",
    "    data = [[Octo(n, q) for n in line] for line in f.read().splitlines()]\n",
    "    \n",
    "    \n",
    "def subscribe_neighbors(data):\n",
    "    '''\n",
    "    Mutually Subscribe to neighboring cells. \n",
    "    Returns flattened list of cephalopods\n",
    "    '''\n",
    "    all_octos = []\n",
    "    shifts = [(-1, -1), (-1, 0), (0, -1), (-1, 1)]\n",
    "    max_w = len(data[0])\n",
    "    max_h = len(data) \n",
    "    for row, line in enumerate(data):\n",
    "        for col, octo1 in enumerate(line):\n",
    "            all_octos.append(octo1)\n",
    "            for row_s, col_s in shifts:\n",
    "                row_s += row\n",
    "                col_s += col\n",
    "                if 0 <= row_s < max_h and 0 <= col_s < max_w:\n",
    "                    octo2 = data[row_s][col_s]\n",
    "                    octo2.subscribe(octo1)\n",
    "                    octo1.subscribe(octo2)\n",
    "    return all_octos\n",
    "\n",
    "\n",
    "def get_solutions(all_octos):\n",
    "    threading.Thread(target=task_runner, daemon=True).start()    \n",
    "    step = 0\n",
    "    while True:\n",
    "        step += 1\n",
    "        for d in all_octos:\n",
    "            q.put(Tick(d))\n",
    "        q.join()\n",
    "        if step == 100:\n",
    "            solution1 = sum(o.flashcount for o in all_octos)\n",
    "        if all(o.flashing for o in all_octos):\n",
    "            solution2 = step\n",
    "            break\n",
    "            \n",
    "    return solution1, solution2"
   ]
  },
  {
   "cell_type": "code",
   "execution_count": 6,
   "id": "d112aa13",
   "metadata": {},
   "outputs": [
    {
     "data": {
      "text/plain": [
       "(1601, 368)"
      ]
     },
     "execution_count": 6,
     "metadata": {},
     "output_type": "execute_result"
    }
   ],
   "source": [
    "all_octos = subscribe_neighbors(data)\n",
    "get_solutions(all_octos)"
   ]
  },
  {
   "cell_type": "code",
   "execution_count": null,
   "id": "d4f00995",
   "metadata": {},
   "outputs": [],
   "source": []
  }
 ],
 "metadata": {
  "kernelspec": {
   "display_name": "Python 3",
   "language": "python",
   "name": "python3"
  },
  "language_info": {
   "codemirror_mode": {
    "name": "ipython",
    "version": 3
   },
   "file_extension": ".py",
   "mimetype": "text/x-python",
   "name": "python",
   "nbconvert_exporter": "python",
   "pygments_lexer": "ipython3",
   "version": "3.8.5"
  }
 },
 "nbformat": 4,
 "nbformat_minor": 5
}
