{
 "cells": [
  {
   "cell_type": "code",
   "execution_count": 3,
   "id": "db985b97",
   "metadata": {},
   "outputs": [],
   "source": [
    "import os\n",
    "from pathlib import Path\n",
    "from collections import namedtuple\n",
    "from operator import add, mul, floordiv as div, eq as eql, mod, sub\n"
   ]
  },
  {
   "cell_type": "code",
   "execution_count": 4,
   "id": "7f0d1c5f",
   "metadata": {},
   "outputs": [],
   "source": [
    "FOLDER = Path(os.path.dirname(os.path.realpath(\"__file__\"))) / 'data'\n",
    "in_file = 'day24.txt'"
   ]
  },
  {
   "cell_type": "code",
   "execution_count": 5,
   "id": "6e1291c7",
   "metadata": {},
   "outputs": [
    {
     "name": "stdout",
     "output_type": "stream",
     "text": [
      "('mul', ['x', 0])     ('mul', ['x', 0])    \n",
      "('add', ['x', 'z'])   ('add', ['x', 'z'])  \n",
      "('mod', ['x', 26])    ('mod', ['x', 26])   \n",
      "('div', ['z', 1])     ('div', ['z', 26])   <====\n",
      "('add', ['x', 15])    ('add', ['x', -1])   <====\n",
      "('eql', ['x', 'w'])   ('eql', ['x', 'w'])  \n",
      "('eql', ['x', 0])     ('eql', ['x', 0])    \n",
      "('mul', ['y', 0])     ('mul', ['y', 0])    \n",
      "('add', ['y', 25])    ('add', ['y', 25])   \n",
      "('mul', ['y', 'x'])   ('mul', ['y', 'x'])  \n",
      "('add', ['y', 1])     ('add', ['y', 1])    \n",
      "('mul', ['z', 'y'])   ('mul', ['z', 'y'])  \n",
      "('mul', ['y', 0])     ('mul', ['y', 0])    \n",
      "('add', ['y', 'w'])   ('add', ['y', 'w'])  \n",
      "('add', ['y', 2])     ('add', ['y', 7])    <====\n",
      "('mul', ['y', 'x'])   ('mul', ['y', 'x'])  \n",
      "('add', ['z', 'y'])   ('add', ['z', 'y'])  \n"
     ]
    }
   ],
   "source": [
    "instructions = []\n",
    "\n",
    "# break up the instructions into the 14 functions\n",
    "# each one is a function of `w` and the registers\n",
    "\n",
    "with open(FOLDER / in_file) as f:\n",
    "    for line in f:\n",
    "        op, *args = line.split()\n",
    "        if op == 'inp':\n",
    "            instructions.append([])\n",
    "            continue\n",
    "        args = [int(a) if a.lstrip('-').isdigit() else a for a in args]\n",
    "        instructions[-1].append((op, args))\n",
    "\n",
    "# the instructions are the same except:\n",
    "for a,b in zip(instructions[4], instructions[11]):\n",
    "    arrow =  \"\" if a==b else \"<====\"\n",
    "    print(f\"{str(a):<20}  {str(b):<20} {arrow}\")"
   ]
  },
  {
   "cell_type": "markdown",
   "id": "ddc6fb43",
   "metadata": {},
   "source": [
    "For the three different 'parameters' that change from instruction only the second two seem to make a difference in out imput.\n",
    " "
   ]
  },
  {
   "cell_type": "code",
   "execution_count": 6,
   "id": "c3712d61",
   "metadata": {},
   "outputs": [
    {
     "data": {
      "text/plain": [
       "[Params(a=11, b=8),\n",
       " Params(a=12, b=8),\n",
       " Params(a=10, b=12),\n",
       " Params(a=-8, b=10),\n",
       " Params(a=15, b=2),\n",
       " Params(a=15, b=8),\n",
       " Params(a=-11, b=4),\n",
       " Params(a=10, b=9),\n",
       " Params(a=-3, b=10),\n",
       " Params(a=15, b=3),\n",
       " Params(a=-3, b=7),\n",
       " Params(a=-1, b=7),\n",
       " Params(a=-10, b=2),\n",
       " Params(a=-16, b=2)]"
      ]
     },
     "execution_count": 6,
     "metadata": {},
     "output_type": "execute_result"
    }
   ],
   "source": [
    "# each set of the 14 instruction sets is the same except for\n",
    "# three parameters parameters. We don't need the first one for this\n",
    "\n",
    "params = namedtuple('Params', list('ab'), defaults=[0, 0])\n",
    "functionParams = []\n",
    "\n",
    "for instruction_set in instructions:\n",
    "    p = params(instruction_set[4][1][1],instruction_set[14][1][1])\n",
    "    functionParams.append(p)\n",
    "\n",
    "functionParams"
   ]
  },
  {
   "cell_type": "markdown",
   "id": "a1f740c4",
   "metadata": {},
   "source": [
    "#### Part One"
   ]
  },
  {
   "cell_type": "code",
   "execution_count": 7,
   "id": "fa411c6f",
   "metadata": {},
   "outputs": [
    {
     "name": "stdout",
     "output_type": "stream",
     "text": [
      "Part one:  99598963999971\n"
     ]
    }
   ],
   "source": [
    "stack = []\n",
    "digits = [None] * 14\n",
    "\n",
    "for i, params in enumerate(functionParams):\n",
    "\n",
    "    if params.a > 9:\n",
    "        stack.append((i, params.b))\n",
    "    else:\n",
    "        last_i, last_b = stack.pop()\n",
    "        interval = last_b + params.a      \n",
    "        possible = filter(lambda digit: digit + interval < 10, range(1, 10))\n",
    "        last_digit = max(possible)\n",
    "        \n",
    "        digits[last_i] = last_digit\n",
    "        digits[i] = last_digit + interval\n",
    "\n",
    "s = ''.join(map(str, digits))\n",
    "\n",
    "print(\"Part one: \", s) "
   ]
  },
  {
   "cell_type": "markdown",
   "id": "1e947b7f",
   "metadata": {},
   "source": [
    "### Part Two\n",
    "Basically the same, but take the min"
   ]
  },
  {
   "cell_type": "code",
   "execution_count": 8,
   "id": "2caf15ee",
   "metadata": {},
   "outputs": [
    {
     "name": "stdout",
     "output_type": "stream",
     "text": [
      "Part Two:  93151411711211\n"
     ]
    }
   ],
   "source": [
    "stack = []\n",
    "digits = [None] * 14\n",
    "\n",
    "for i, params in enumerate(functionParams):\n",
    "\n",
    "    if params.a > 9:\n",
    "        stack.append((i, params.b))\n",
    "    else:\n",
    "        last_i, last_b = stack.pop()\n",
    "        interval = last_b + params.a       \n",
    "        ### need to add zero as lower bound\n",
    "        possible = filter(lambda digit: 0 < digit + interval < 10, range(1, 10))\n",
    "        ### now just take the min\n",
    "        last_digit = min(possible)\n",
    "        digits[last_i] = last_digit\n",
    "        digits[i] = last_digit + interval\n",
    "\n",
    "s = ''.join(map(str, digits))\n",
    "\n",
    "print(\"Part Two: \", s) "
   ]
  },
  {
   "cell_type": "markdown",
   "id": "4a76ffd9",
   "metadata": {},
   "source": [
    "### Less-than-useful work, but makes a nice validator"
   ]
  },
  {
   "cell_type": "code",
   "execution_count": 9,
   "id": "928d5402",
   "metadata": {},
   "outputs": [],
   "source": [
    "Register = namedtuple(\"Register\", list('wxyz'), defaults=[0,0,0,0]) \n",
    "\n",
    "def dec(f):\n",
    "    def inst(registers, *args):\n",
    "        register = args[0]\n",
    "        args = [a if isinstance(a, int) else getattr(registers,a) for a in args] \n",
    "        return registers._replace(**{register: f(*args)})\n",
    "    return inst\n",
    "\n",
    "# the decorated will create functions that\n",
    "# accept  registers and args arguments\n",
    "operators = {\n",
    "        'add': dec(add),\n",
    "        'mul': dec(mul),\n",
    "        'div': dec(div),\n",
    "        'eql': dec(eql),\n",
    "        'mod': dec(mod),\n",
    "}\n",
    "\n",
    "\n",
    "# create 14 functions from those instructions:\n",
    "# registers are represented as a tuple\n",
    "# (w, x, y, z)\n",
    "\n",
    "def make_function(instuction_set):\n",
    "    def f(w, reg):\n",
    "        reg = reg._replace(w=w)\n",
    "        for op, args in instuction_set:\n",
    "            reg = operators[op](reg, *args)\n",
    "        return reg\n",
    "    return f\n",
    "\n",
    "\n",
    "registers = Register()\n",
    "funcs = [make_function(i) for i in instructions]\n"
   ]
  },
  {
   "cell_type": "code",
   "execution_count": 10,
   "id": "735c54d7",
   "metadata": {},
   "outputs": [
    {
     "name": "stdout",
     "output_type": "stream",
     "text": [
      "Register(w=1, x=False, y=0, z=0)\n",
      "Register(w=1, x=False, y=0, z=0)\n"
     ]
    }
   ],
   "source": [
    "# compose all 14 functions for a validator:\n",
    "def validate(data):\n",
    "    registers = Register()\n",
    "    for f, w in zip(funcs, data):\n",
    "        registers = f(w, registers)\n",
    "  \n",
    "    return registers\n",
    "    \n",
    "part_one = 99598963999971\n",
    "part_two = 93151411711211\n",
    "\n",
    "part_one = map(int, str(part_one))\n",
    "part_two = map(int, str(part_two))\n",
    "\n",
    "print(validate(part_one))\n",
    "print(validate(part_two))\n"
   ]
  },
  {
   "cell_type": "code",
   "execution_count": null,
   "id": "908973d9",
   "metadata": {},
   "outputs": [],
   "source": []
  }
 ],
 "metadata": {
  "kernelspec": {
   "display_name": "Python 3 (ipykernel)",
   "language": "python",
   "name": "python3"
  },
  "language_info": {
   "codemirror_mode": {
    "name": "ipython",
    "version": 3
   },
   "file_extension": ".py",
   "mimetype": "text/x-python",
   "name": "python",
   "nbconvert_exporter": "python",
   "pygments_lexer": "ipython3",
   "version": "3.8.13"
  }
 },
 "nbformat": 4,
 "nbformat_minor": 5
}
