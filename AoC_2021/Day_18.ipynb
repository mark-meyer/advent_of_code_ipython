{
 "cells": [
  {
   "cell_type": "code",
   "execution_count": 6,
   "id": "f4a5087b",
   "metadata": {},
   "outputs": [],
   "source": [
    "from pathlib import Path\n",
    "import os\n",
    "import math\n",
    "import ast\n",
    "\n",
    "FOLDER = Path(os.path.dirname(os.path.realpath(\"__file__\"))) / 'data'\n",
    "in_file = 'day18.txt'\n",
    "\n",
    "with open(FOLDER / in_file) as f:\n",
    "    data = f.readlines()"
   ]
  },
  {
   "cell_type": "code",
   "execution_count": 19,
   "id": "e3e5b4aa",
   "metadata": {},
   "outputs": [],
   "source": [
    "class TreeNode():\n",
    "    @classmethod\n",
    "    def from_list(cls, n, parent=None):\n",
    "        if isinstance(n, int):\n",
    "            t = cls(val=n, parent=parent)\n",
    "            return t\n",
    "        else:\n",
    "            T = cls(parent=parent)\n",
    "            T.left = cls.from_list(n[0], parent=T)\n",
    "            T.right = cls.from_list(n[1], parent=T)\n",
    "        return T\n",
    "    \n",
    "    def __init__(self, val=None, left=None, right=None, parent=None):\n",
    "        self.val = val\n",
    "        self.left = left\n",
    "        self.right = right\n",
    "        self.parent = parent\n",
    "\n",
    "    def is_leaf(self):\n",
    "        return self.val is not None\n",
    "\n",
    "    def to_zero(self):\n",
    "        self.val = 0\n",
    "        self.left = None\n",
    "        self.right = None\n",
    "\n",
    "    def magnitude(self):\n",
    "        if self.is_leaf(): return self.val\n",
    "        return 3 * self.left.magnitude()  + 2 * self.right.magnitude()\n",
    "        \n",
    "    def to_list(self):\n",
    "        if self.is_leaf(): return self.val \n",
    "        return  [self.left.to_list(),self.right.to_list()]\n",
    "\n",
    "    def post_add(self):\n",
    "        explode = True\n",
    "        split = True\n",
    "        \n",
    "        while explode:\n",
    "            while explode:\n",
    "                explode = self.explode()\n",
    "            explode = self.split()\n",
    "    \n",
    "    def explode(self):\n",
    "        \"Returns True unless it makes if through without exploding\"\n",
    "        left_neighbor = None\n",
    "        nodes = self.traverse()\n",
    "        # Depth-first traversal will line up the nodes\n",
    "        # While traversing keep track of the last node seen\n",
    "        # Level four nodes will come in pairs, when you see one\n",
    "        # grab the next. That will make the \"exploding pair\". \n",
    "        # The left-closest wil be in left-neighbor. To get right closest\n",
    "        # then grab one more...unless you're at the edge of the tree\n",
    "        # that will be the next right value\n",
    "        for n in nodes:\n",
    "            current, level = n\n",
    "            \n",
    "            if level == 4:             \n",
    "                left = current\n",
    "                # grab next from traversal\n",
    "                right, level = next(nodes)\n",
    "                right_neighbor = next(nodes, None)\n",
    "                if left_neighbor:\n",
    "                    left_neighbor.val += left.val\n",
    "                if right_neighbor:\n",
    "                    right_neighbor[0].val +=  right.val\n",
    "                \n",
    "                # the exploding pair's parent becomes zero\n",
    "                left.parent.to_zero()\n",
    "                \n",
    "                # might be more to explode\n",
    "                return True\n",
    "            left_neighbor = current\n",
    "        return False\n",
    "    \n",
    "    def split(self):\n",
    "        '''Returns True if exploding is required'''\n",
    "        for n in self.traverse():\n",
    "            node, level = n\n",
    "            if node.val > 9:\n",
    "                node.left = TreeNode(val = math.floor(node.val / 2), parent=node)\n",
    "                node.right = TreeNode(val = math.ceil(node.val / 2), parent=node)\n",
    "                node.val = None\n",
    "                return True\n",
    "        return False\n",
    "    \n",
    "    def traverse(self, level=-1, child=None):\n",
    "        if self.is_leaf():\n",
    "            yield (self, level)\n",
    "        else:\n",
    "            yield from self.left.traverse(level + 1, self.left)\n",
    "            yield from self.right.traverse(level + 1, self.right)\n",
    "     \n",
    "    def __repr__(self):\n",
    "        if self.is_leaf():\n",
    "            return f\"{self.__class__.__name__}({self.val})\"\n",
    "        return f\"{self.__class__.__name__}({self.left} | {self.right})\"\n",
    "        \n",
    "    def __add__(self, other):\n",
    "        t = TreeNode(left=self, right=other)\n",
    "        self.parent = t\n",
    "        other.parent = t\n",
    "        t.post_add()\n",
    "        return t\n",
    "    \n",
    "    def __radd__(self, other):\n",
    "        t = TreeNode(left=other, right=self)\n",
    "        self.parent = t\n",
    "        other.parent = t\n",
    "        t.post_add()\n",
    "        return t\n"
   ]
  },
  {
   "cell_type": "markdown",
   "id": "18d2db56",
   "metadata": {},
   "source": [
    "### Part One"
   ]
  },
  {
   "cell_type": "code",
   "execution_count": 26,
   "id": "351c9e92",
   "metadata": {
    "scrolled": true
   },
   "outputs": [
    {
     "name": "stdout",
     "output_type": "stream",
     "text": [
      "Solution 1:  3359\n"
     ]
    }
   ],
   "source": [
    "raw_lists = [ast.literal_eval(line) for line in data]\n",
    "\n",
    "t = TreeNode.from_list(raw_lists[0])\n",
    "t = sum(map(TreeNode.from_list, raw_lists[1:]), t)\n",
    "\n",
    "total_magnitude = t.magnitude()\n",
    "\n",
    "print(\"Solution 1: \", total_magnitude)"
   ]
  },
  {
   "cell_type": "markdown",
   "id": "228bed61",
   "metadata": {},
   "source": [
    "### Part Two"
   ]
  },
  {
   "cell_type": "code",
   "execution_count": 21,
   "id": "61411d14",
   "metadata": {},
   "outputs": [
    {
     "name": "stdout",
     "output_type": "stream",
     "text": [
      "Solution 2:  4616\n"
     ]
    }
   ],
   "source": [
    "from itertools import permutations\n",
    "\n",
    "# well...the tree node code mutates the trees, so we can't reuse the trees here :(\n",
    "solution = max(\n",
    "    (TreeNode.from_list(a) + TreeNode.from_list(b)).magnitude()\n",
    "    for a, b in permutations(raw_lists, r=2))\n",
    "\n",
    "print(\"Solution 2: \", solution)\n"
   ]
  },
  {
   "cell_type": "code",
   "execution_count": null,
   "id": "27c8343f",
   "metadata": {},
   "outputs": [],
   "source": []
  }
 ],
 "metadata": {
  "kernelspec": {
   "display_name": "Python 3",
   "language": "python",
   "name": "python3"
  },
  "language_info": {
   "codemirror_mode": {
    "name": "ipython",
    "version": 3
   },
   "file_extension": ".py",
   "mimetype": "text/x-python",
   "name": "python",
   "nbconvert_exporter": "python",
   "pygments_lexer": "ipython3",
   "version": "3.8.5"
  }
 },
 "nbformat": 4,
 "nbformat_minor": 5
}
