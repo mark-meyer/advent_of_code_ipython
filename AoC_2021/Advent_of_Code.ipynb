{
 "cells": [
  {
   "cell_type": "code",
   "execution_count": 1,
   "id": "ae9c0785",
   "metadata": {},
   "outputs": [],
   "source": [
    "import re\n",
    "import os\n",
    "from pathlib import Path\n",
    "\n",
    "FOLDER = Path(os.path.dirname(os.path.realpath(\"__file__\"))) / 'data'"
   ]
  },
  {
   "cell_type": "markdown",
   "id": "efed6548",
   "metadata": {},
   "source": [
    "### Day 01"
   ]
  },
  {
   "cell_type": "code",
   "execution_count": 2,
   "id": "e79f6dcc",
   "metadata": {},
   "outputs": [
    {
     "name": "stdout",
     "output_type": "stream",
     "text": [
      "solution 1: 1722\n",
      "solution 2: 1748\n"
     ]
    }
   ],
   "source": [
    "in_file = 'day1.txt'\n",
    "\n",
    "with open(FOLDER / in_file) as f:\n",
    "    data = list(map(int, f))\n",
    "\n",
    "answer1 = sum(a < b for a, b in zip(data, data[1:]))\n",
    "    \n",
    "trio_sums = [sum(trio) for trio in zip(data, data[1:], data[2:])]\n",
    "answer2 = sum(a < b for a, b in zip(trio_sums, trio_sums[1:]))\n",
    "\n",
    "print(\"solution 1:\", answer1)\n",
    "print(\"solution 2:\", answer2)"
   ]
  },
  {
   "cell_type": "markdown",
   "id": "e2a98858",
   "metadata": {},
   "source": [
    "### Day 02"
   ]
  },
  {
   "cell_type": "code",
   "execution_count": 3,
   "id": "43c290d7",
   "metadata": {},
   "outputs": [
    {
     "name": "stdout",
     "output_type": "stream",
     "text": [
      "solution 1: 2272262\n",
      "solution 2: 2134882034\n"
     ]
    }
   ],
   "source": [
    "in_file = 'day2.txt'\n",
    "\n",
    "import numpy as np\n",
    "\n",
    "with open(FOLDER / in_file) as f:\n",
    "    data = [line.split() for line in f]\n",
    "\n",
    "directions = {\n",
    "    'forward': np.array([0, 1]),\n",
    "    'down':    np.array([1, 0]),\n",
    "    'up':      np.array([-1, 0])\n",
    "}\n",
    "\n",
    "# locations is an array of depth/horiz vectors\n",
    "location = np.array([directions[com] * int(unit) for com, unit in data])\n",
    "\n",
    "def solution_2_1(data):\n",
    "    # depth, horiz displacement is the sum of the vectors\n",
    "    return location.sum(axis=0).prod()\n",
    "\n",
    "\n",
    "def solution_2_2(data):\n",
    "    # depth is the horizontal displacement * cummulative sum of depth\n",
    "    location[:, 0] = location[:, 1] * location[:, 0].cumsum()\n",
    "    return location.sum(axis=0).prod()\n",
    "\n",
    "\n",
    "print(\"solution 1:\", solution_2_1(data))\n",
    "print(\"solution 2:\", solution_2_2(data))\n"
   ]
  },
  {
   "cell_type": "markdown",
   "id": "5f75466e",
   "metadata": {},
   "source": [
    "### Day 03"
   ]
  },
  {
   "cell_type": "code",
   "execution_count": 4,
   "id": "9d0a637b",
   "metadata": {},
   "outputs": [
    {
     "data": {
      "text/plain": [
       "1108"
      ]
     },
     "execution_count": 4,
     "metadata": {},
     "output_type": "execute_result"
    }
   ],
   "source": [
    "import numpy as np\n",
    "\n",
    "in_file = 'day3.txt'\n",
    "\n",
    "with open(FOLDER / in_file) as f:\n",
    "    data = np.array([list(line.strip()) for line in f], dtype=int)\n",
    "\n",
    "def most_common(data):\n",
    "    return (data.sum(axis=0) >= data.shape[0]/2).astype(int)\n",
    "\n",
    "def least_common(data):\n",
    "    return (data.sum(axis=0) < data.shape[0]/2).astype(int)\n",
    "\n",
    "def bin_array_to_int(arr):\n",
    "    mutilplies_12bit = 1 << np.arange(11, -1, -1)\n",
    "    return arr @ mutilplies_12bit\n",
    "\n",
    "bin_array_to_int(least_common(data))"
   ]
  },
  {
   "cell_type": "code",
   "execution_count": 5,
   "id": "e7e222e7",
   "metadata": {},
   "outputs": [
    {
     "data": {
      "text/plain": [
       "3309596"
      ]
     },
     "execution_count": 5,
     "metadata": {},
     "output_type": "execute_result"
    }
   ],
   "source": [
    "def solution_one(data):\n",
    "    gamma = bin_array_to_int(most_common(data))\n",
    "    epsilon = bin_array_to_int(least_common(data))\n",
    "\n",
    "    return gamma * epsilon\n",
    "\n",
    "solution_one(data)"
   ]
  },
  {
   "cell_type": "code",
   "execution_count": 6,
   "id": "3cd8f3e2",
   "metadata": {},
   "outputs": [
    {
     "data": {
      "text/plain": [
       "2981085"
      ]
     },
     "execution_count": 6,
     "metadata": {},
     "output_type": "execute_result"
    }
   ],
   "source": [
    "def solution_two(data):\n",
    "    bit_length = data.shape[1]\n",
    "    filtered = data\n",
    "\n",
    "    for idx in range(bit_length):\n",
    "        most = most_common(filtered)[idx]\n",
    "        filtered = filtered[np.where(filtered[:,idx] == most)]\n",
    "        if len(filtered) == 1:\n",
    "            break\n",
    "\n",
    "    oxygen = bin_array_to_int(filtered[0])\n",
    "    \n",
    "    filtered = data\n",
    "    for idx in range(bit_length):\n",
    "        least = least_common(filtered)[idx]\n",
    "        filtered = filtered[np.where(filtered[:,idx] == least)]\n",
    "        if len(filtered) == 1:\n",
    "            break\n",
    "    CO2 = bin_array_to_int(filtered[0])\n",
    "\n",
    "    return oxygen * CO2\n",
    "     \n",
    "\n",
    "solution_two(data)\n",
    "    "
   ]
  },
  {
   "cell_type": "code",
   "execution_count": null,
   "id": "e92f2426",
   "metadata": {},
   "outputs": [],
   "source": []
  }
 ],
 "metadata": {
  "kernelspec": {
   "display_name": "Python 3 (ipykernel)",
   "language": "python",
   "name": "python3"
  },
  "language_info": {
   "codemirror_mode": {
    "name": "ipython",
    "version": 3
   },
   "file_extension": ".py",
   "mimetype": "text/x-python",
   "name": "python",
   "nbconvert_exporter": "python",
   "pygments_lexer": "ipython3",
   "version": "3.8.13"
  }
 },
 "nbformat": 4,
 "nbformat_minor": 5
}
