{
 "cells": [
  {
   "cell_type": "code",
   "execution_count": 518,
   "id": "1b071cbb",
   "metadata": {},
   "outputs": [
    {
     "data": {
      "text/plain": [
       "41"
      ]
     },
     "execution_count": 518,
     "metadata": {},
     "output_type": "execute_result"
    }
   ],
   "source": [
    "%matplotlib inline\n",
    "\n",
    "import matplotlib.pyplot as plt\n",
    "import numpy as np\n"
   ]
  },
  {
   "cell_type": "code",
   "execution_count": 589,
   "id": "da79e3b7",
   "metadata": {},
   "outputs": [],
   "source": [
    "x_range = np.array([277, 319])\n",
    "y_range = np.array([-92, -52])\n",
    "\n",
    "max_x_velocity = x_range[1] \n"
   ]
  },
  {
   "cell_type": "markdown",
   "id": "596369f1",
   "metadata": {},
   "source": [
    "### Part One"
   ]
  },
  {
   "cell_type": "code",
   "execution_count": 590,
   "id": "06ece50f",
   "metadata": {},
   "outputs": [
    {
     "name": "stdout",
     "output_type": "stream",
     "text": [
      "Problem 1: 4186\n"
     ]
    }
   ],
   "source": [
    "max_y = np.max(y_range * (y_range + 1) // 2) # assumes negative y (otherwise min)\n",
    "print(\"Problem 1:\", max_y)"
   ]
  },
  {
   "cell_type": "markdown",
   "id": "5e8fbc67",
   "metadata": {},
   "source": [
    "### Part Two"
   ]
  },
  {
   "cell_type": "code",
   "execution_count": 612,
   "id": "8d5168c5",
   "metadata": {},
   "outputs": [
    {
     "name": "stdout",
     "output_type": "stream",
     "text": [
      "Problem 2:  2709\n"
     ]
    }
   ],
   "source": [
    "from itertools import product\n",
    "\n",
    "def in_box(x, y, x_range, y_range):\n",
    "    return x in x_range and y in y_range\n",
    "\n",
    "def simulate(v, x_min, x_max, y_min, y_max):\n",
    "    vel_x, vel_y = v\n",
    "    x = 0 \n",
    "    y = 0\n",
    "    \n",
    "    while abs(x) <= x_max and y >= y_min:\n",
    "        if x in range(x_min, x_max+1) and y in range(y_min, y_max+1):\n",
    "            return 1\n",
    "        x += vel_x\n",
    "        y += vel_y\n",
    "        vel_x -= 0 if vel_x == 0 else (-1 if vel_x < 0 else 1)\n",
    "        vel_y -= 1\n",
    "    return 0\n",
    "\n",
    "def run_sim(x_range, y_range):\n",
    "    x_min, x_max = x_range\n",
    "    y_min, y_max = y_range\n",
    "\n",
    "    points = product(range(x_max + 1), range(y_min, 2 * abs(y_max) + 1))\n",
    "\n",
    "    return sum(simulate(p, x_min, x_max, y_min, y_max) for p in points)\n",
    "    \n",
    "x_range = (277, 318)\n",
    "y_range = (-92, -53)\n",
    "\n",
    "res = run_sim(x_range,y_range)\n",
    "print(\"Problem 2: \", res)\n"
   ]
  },
  {
   "cell_type": "markdown",
   "id": "08993a6f",
   "metadata": {},
   "source": [
    "### Don't do it this way!\n",
    "\n",
    "Well that was fun, but it didn't work and it's hard and it's complex\n",
    "...need to figure out how to account for x motion as velocity approaches 0"
   ]
  },
  {
   "cell_type": "code",
   "execution_count": 567,
   "id": "fbd7d889",
   "metadata": {},
   "outputs": [
    {
     "name": "stdout",
     "output_type": "stream",
     "text": [
      "number of possible starting x velocities: 156\n"
     ]
    },
    {
     "data": {
      "text/plain": [
       "<matplotlib.image.AxesImage at 0x7fca9113a2e0>"
      ]
     },
     "execution_count": 567,
     "metadata": {},
     "output_type": "execute_result"
    },
    {
     "data": {
      "image/png": "[encoded data removed]",
      "text/plain": [
       "<Figure size 432x288 with 1 Axes>"
      ]
     },
     "metadata": {
      "needs_background": "light"
     },
     "output_type": "display_data"
    }
   ],
   "source": [
    "\n",
    "def position_x(t, v):\n",
    "    '''Position a time t given velocity v'''\n",
    "    # dt/dv--don't include results that change direction-- but how?\n",
    "    s = v - t >= 0\n",
    "    return s*(v * t + (t * (1-t)/2)).astype(int)\n",
    "\n",
    "def in_xrange(x, xrange):\n",
    "    return np.logical_and((xrange[0] <= x), (x <= xrange[1]))\n",
    "\n",
    "def in_yrange(x, xrange):\n",
    "    return np.logical_and((xrange[0] <= x), (x <= xrange[1]))\n",
    "\n",
    "def velocity(t, pos):\n",
    "    return t*(1-t)/(-2 * t) + pos/t\n",
    "    \n",
    "#all possible x velocities\n",
    "x_velocities = np.arange(max_x_velocity).reshape(-1, 1) \n",
    "\n",
    "# times - more than needed\n",
    "times = np.arange(100)\n",
    "\n",
    "# grid of velocity on axis 0, time on axis 1\n",
    "ps = position_x(times, x_velocities)\n",
    "\n",
    "# Boolean indicating whether this velocity appears in \n",
    "# the box\n",
    "x_sucess = in_xrange(ps, x_range)\n",
    "\n",
    "print(\"number of possible starting x velocities:\", np.count_nonzero(x_sucess))\n",
    "\n",
    "plt.imshow(x_sucess)\n"
   ]
  },
  {
   "cell_type": "code",
   "execution_count": 568,
   "id": "a9d77cf6",
   "metadata": {},
   "outputs": [
    {
     "data": {
      "text/plain": [
       "2692"
      ]
     },
     "execution_count": 568,
     "metadata": {},
     "output_type": "execute_result"
    }
   ],
   "source": [
    "# pairs of successful x [x velocity, time]\n",
    "x_success = np.argwhere(x_sucess.T)\n",
    "\n",
    "def vel_y(t, pos):\n",
    "    return pos/t - (1-t)/2\n",
    "\n",
    "\n",
    "y_positions = np.arange(y_range[0], y_range[1]+1).reshape(-1, 1)\n",
    "times = x_success[:,0]\n",
    "\n",
    "vel_floats = vel_y(times, y_positions)\n",
    "vel_ints = vel_floats.astype(int)\n",
    "ans = vel_floats[np.isclose(vel_floats, vel_ints)]\n",
    "\n",
    "len(ans)"
   ]
  },
  {
   "cell_type": "code",
   "execution_count": null,
   "id": "c6f181dc",
   "metadata": {},
   "outputs": [],
   "source": []
  }
 ],
 "metadata": {
  "kernelspec": {
   "display_name": "Python 3",
   "language": "python",
   "name": "python3"
  },
  "language_info": {
   "codemirror_mode": {
    "name": "ipython",
    "version": 3
   },
   "file_extension": ".py",
   "mimetype": "text/x-python",
   "name": "python",
   "nbconvert_exporter": "python",
   "pygments_lexer": "ipython3",
   "version": "3.8.5"
  }
 },
 "nbformat": 4,
 "nbformat_minor": 5
}
