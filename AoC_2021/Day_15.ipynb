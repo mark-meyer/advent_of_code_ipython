{
 "cells": [
  {
   "cell_type": "code",
   "execution_count": 1,
   "id": "59063ebd",
   "metadata": {},
   "outputs": [],
   "source": [
    "import networkx as nx\n",
    "import os\n",
    "from pathlib import Path\n",
    "from itertools import product\n",
    "import numpy as np\n",
    "\n",
    "FOLDER = Path(os.path.dirname(os.path.realpath(\"__file__\"))) / 'data'\n",
    "in_file = 'day15.txt'\n",
    "\n",
    "with open(FOLDER / in_file) as f:\n",
    "    data = np.array([list(line.strip()) for line in f], dtype=int)"
   ]
  },
  {
   "cell_type": "markdown",
   "id": "53f34143",
   "metadata": {},
   "source": [
    "### Part One"
   ]
  },
  {
   "cell_type": "code",
   "execution_count": 4,
   "id": "f9a87059",
   "metadata": {},
   "outputs": [
    {
     "name": "stdout",
     "output_type": "stream",
     "text": [
      "Soluition 1:  435\n"
     ]
    }
   ],
   "source": [
    "def make_graph(data):\n",
    "    max_w = len(data[0])\n",
    "    max_h = len(data)\n",
    "    G = nx.generators.lattice.grid_2d_graph(\n",
    "        max_w, \n",
    "        max_h, \n",
    "        create_using=nx.DiGraph\n",
    "    )\n",
    "    for e in G.edges():\n",
    "        nx.set_edge_attributes(G, {e: {\"weight\": data[e[1]]}})\n",
    "\n",
    "    return G   \n",
    "\n",
    "\n",
    "def least_cost_path(G, source, target):\n",
    "    distance, path = nx.single_source_dijkstra(\n",
    "        G,\n",
    "        source=source,\n",
    "        target=target,\n",
    "        weight=\"weight\"\n",
    "    )\n",
    "    return distance\n",
    "\n",
    "\n",
    "G = make_graph(data)\n",
    "\n",
    "cost = least_cost_path(G, (0, 0), (data.shape[0] - 1, data.shape[1] - 1))\n",
    "print(\"Solution 1: \", cost )\n"
   ]
  },
  {
   "cell_type": "markdown",
   "id": "7b92aea2",
   "metadata": {},
   "source": [
    "### Part 2 "
   ]
  },
  {
   "cell_type": "code",
   "execution_count": 8,
   "id": "a4cce59d",
   "metadata": {},
   "outputs": [
    {
     "name": "stdout",
     "output_type": "stream",
     "text": [
      "Soluition 2:  2842\n"
     ]
    }
   ],
   "source": [
    "with open(FOLDER / in_file) as f:\n",
    "    data = np.array([list(line.strip()) for line in f], dtype=int)\n",
    "\n",
    "def expand_data(data):    \n",
    "    d = np.concatenate([(data - 1  + n) % 9 + 1 for n in range(5)], axis=1)\n",
    "    return np.concatenate([(d - 1  + n) % 9 + 1 for n in range(5)], axis=0)\n",
    "\n",
    "expanded_data = expand_data(data)\n",
    "\n",
    "G = make_graph(expanded_data)\n",
    "\n",
    "cost = least_cost_path(\n",
    "    G, \n",
    "    (0, 0), \n",
    "    (expanded_data.shape[0] - 1, expanded_data.shape[1] - 1)\n",
    ")\n",
    "\n",
    "print(\"Solution 2: \", cost )\n"
   ]
  },
  {
   "cell_type": "code",
   "execution_count": null,
   "id": "9db8d117",
   "metadata": {},
   "outputs": [],
   "source": []
  }
 ],
 "metadata": {
  "kernelspec": {
   "display_name": "Python 3",
   "language": "python",
   "name": "python3"
  },
  "language_info": {
   "codemirror_mode": {
    "name": "ipython",
    "version": 3
   },
   "file_extension": ".py",
   "mimetype": "text/x-python",
   "name": "python",
   "nbconvert_exporter": "python",
   "pygments_lexer": "ipython3",
   "version": "3.8.5"
  }
 },
 "nbformat": 4,
 "nbformat_minor": 5
}
