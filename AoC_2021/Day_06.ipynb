{
 "cells": [
  {
   "cell_type": "code",
   "execution_count": 110,
   "id": "2a90d626",
   "metadata": {},
   "outputs": [
    {
     "name": "stdout",
     "output_type": "stream",
     "text": [
      "solution1: 383160\n",
      "solution2: 1721148811504\n"
     ]
    }
   ],
   "source": [
    "import os\n",
    "from pathlib import Path\n",
    "from collections import deque\n",
    "\n",
    "FOLDER = Path(os.path.dirname(os.path.realpath(\"__file__\"))) / 'data'\n",
    "in_file = 'day6.txt'\n",
    "\n",
    "with open(FOLDER / in_file) as f:\n",
    "    fish = [int(n) for n in f.read().split(',')]\n",
    "\n",
    "def count_fish(days, fish):\n",
    "    '''\n",
    "    Keep track of a histogram of fish population\n",
    "    Each day the lower bin count becomes the one above it\n",
    "    except for bins 7 (tomorrow's bin 6) which recieve new fish \n",
    "    (and 8 which gets the zero's bin wrapped around)\n",
    "    '''\n",
    "    bins = deque([0] * 9)\n",
    "    for f in fish:\n",
    "        bins[f] += 1\n",
    "\n",
    "    for day in range(days):\n",
    "        bins[7] += bins[0]\n",
    "        bins.rotate(-1)\n",
    "        \n",
    "    return sum(bins)\n",
    "\n",
    "\n",
    "print(f\"solution1: {count_fish(80, fish)}\")\n",
    "print(f\"solution2: {count_fish(256, fish)}\")"
   ]
  },
  {
   "cell_type": "code",
   "execution_count": 111,
   "id": "c7383b3d",
   "metadata": {},
   "outputs": [
    {
     "name": "stdout",
     "output_type": "stream",
     "text": [
      "solution1: 383160\n"
     ]
    }
   ],
   "source": [
    "def count_fish(days, fish):\n",
    "    '''\n",
    "    Keep track of a histogram of fish population\n",
    "    Each day the lower bin count becomes the one above it\n",
    "    except for bins 7 (tomorrow's bin 6) which recieve new fish \n",
    "    (and 8 which gets the zero's bin wrapped around)\n",
    "    '''\n",
    "    bins = [0] * 9\n",
    "    for f in fish:\n",
    "        bins[f] += 1\n",
    "    \n",
    "    breeder_index = 0\n",
    "    \n",
    "    for day in range(days):\n",
    "        #print(bins, sum(bins), breeder_index)\n",
    "        into = (breeder_index + 7) % 9\n",
    "        bins[into] += bins[breeder_index]\n",
    "        breeder_index = (breeder_index + 1) % 9\n",
    "        \n",
    "    return sum(bins)\n",
    "\n",
    "print(f\"solution1: {count_fish(80, [3,4,3,1,2])}\")\n",
    "\n"
   ]
  },
  {
   "cell_type": "code",
   "execution_count": null,
   "id": "7cdf5636",
   "metadata": {},
   "outputs": [],
   "source": []
  }
 ],
 "metadata": {
  "kernelspec": {
   "display_name": "Python 3",
   "language": "python",
   "name": "python3"
  },
  "language_info": {
   "codemirror_mode": {
    "name": "ipython",
    "version": 3
   },
   "file_extension": ".py",
   "mimetype": "text/x-python",
   "name": "python",
   "nbconvert_exporter": "python",
   "pygments_lexer": "ipython3",
   "version": "3.8.5"
  }
 },
 "nbformat": 4,
 "nbformat_minor": 5
}
